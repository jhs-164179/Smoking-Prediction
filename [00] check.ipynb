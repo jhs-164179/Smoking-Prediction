{
 "cells": [
  {
   "cell_type": "code",
   "execution_count": 1,
   "id": "a2d6c50f",
   "metadata": {},
   "outputs": [],
   "source": [
    "import warnings\n",
    "import numpy as np\n",
    "import pandas as pd\n",
    "\n",
    "warnings.filterwarnings('ignore')"
   ]
  },
  {
   "cell_type": "markdown",
   "id": "16641f84",
   "metadata": {},
   "source": [
    "# Check and handling variables"
   ]
  },
  {
   "cell_type": "code",
   "execution_count": 2,
   "id": "f3fb3761",
   "metadata": {},
   "outputs": [],
   "source": [
    "df = pd.read_excel('./250328_survey.xlsx')\n",
    "df.drop('번호', axis=1, inplace=True)\n",
    "variables = [ # BS5_1(1개월 내 금연계획 여부 제외)\n",
    "    'FEV1', 'FEV1FVC', 'age', 'sex', 'occp', 'Edu', 'BS3_1', 'BS6_3', 'BS6_2_1',\n",
    "    'BD1', 'EC1_1', '금연지지가족친구여부', 'marri_1', '손자손녀동거여부', '건강문해력',\n",
    "    'HE_PFThs', 'HE_cough1', 'HE_sput1', '가래양상', 'BH9_11', 'DI1_dg', 'DE1_dg',\n",
    "    'DC6_dg', 'BP1', 'BP5', 'D_1_1', 'Total_slp_wk', 'EQ_5D', 'BS5_1', '자기효능감',\n",
    "    'N_DUSUAL', 'BE3_31', 'BE5_1', 'LQ4_05', 'BH1_1', 'BO2_1', 'BO1_1', '질환유병기간',\n",
    "    'DI1_pt', 'DI1_2', 'DE1_pt', 'DE1_3', '심한금단증상경험여부', '전문가의금연권유'\n",
    "]\n",
    "df.columns = variables\n",
    "df.drop('BS5_1', axis=1, inplace=True)"
   ]
  },
  {
   "cell_type": "code",
   "execution_count": 3,
   "id": "358051de",
   "metadata": {},
   "outputs": [
    {
     "name": "stdout",
     "output_type": "stream",
     "text": [
      "가래양상 --> nan: 82\n",
      "[2 nan 1 3 0 4 '3, 4' '2, 4']\n",
      "BO1_1 --> nan: 1\n",
      "[1 2 3 4 '2,3' nan]\n",
      "전문가의금연권유 --> nan: 1\n",
      "[4 1 '1,2' 3 2 '1, 2, 3' '1, 2' '1, 3 ' '1, 3' nan '1,2,3' '1,3' '2,3']\n",
      "EC1_1 --> nan: 0\n",
      "[ 1  2 22  3]\n",
      "질환유병기간 --> nan: 0\n",
      "[  11    1   14    7    5    8   21   34   22    6   64    3    9   47\n",
      "   20   10    4    2   15   24    0   30   32   44   16   17   53   18\n",
      "   23   13   54   41   12   63   19   27 2024   28   25   52   31]\n",
      "Total_slp_wk --> nan: 0\n",
      "[7 6 4 8 5 1.5 10 3 9 15 12 2 '4~5' '5~6' 11 1 3.5 7.5 5.5 6.5 13 9.5]\n"
     ]
    }
   ],
   "source": [
    "c_name = ['가래양상', 'BO1_1', '전문가의금연권유', 'EC1_1', '질환유병기간', 'Total_slp_wk']\n",
    "for c in c_name:\n",
    "    print(f'{c} --> nan: {df[c].isna().sum()}')\n",
    "    print(df[c].unique())"
   ]
  },
  {
   "cell_type": "code",
   "execution_count": 4,
   "id": "edc5ab31",
   "metadata": {},
   "outputs": [
    {
     "name": "stdout",
     "output_type": "stream",
     "text": [
      "가래양상 --> nan: 82\n",
      "[ 2. nan  1.  3.  0.  4.]\n",
      "BO1_1 --> nan: 1\n",
      "[ 1.  2.  3.  4. nan]\n",
      "전문가의금연권유 --> nan: 1\n",
      "[ 4.  1.  3.  2. nan]\n",
      "EC1_1 --> nan: 1\n",
      "[ 1.  2. nan  3.]\n",
      "질환유병기간 --> nan: 0\n",
      "[11  1 14  7  5  8 21 34 22  6 64  3  9 47 20 10  4  2 15 24  0 30 32 44\n",
      " 16 17 53 18 23 13 54 41 12 63 19 27 28 25 52 31]\n",
      "Total_slp_wk --> nan: 0\n",
      "[ 7.   6.   4.   8.   5.   1.5 10.   3.   9.  15.  12.   2.   4.5  5.5\n",
      " 11.   1.   3.5  7.5  6.5 13.   9.5]\n"
     ]
    }
   ],
   "source": [
    "df['가래양상'].replace(['3, 4', '2, 4'], [3, 2], inplace=True)\n",
    "df['BO1_1'].replace('2,3', 2, inplace=True)\n",
    "df['전문가의금연권유'].replace(['1,2', '1, 2, 3', '1, 2', '1, 3 ', '1, 3', '1,2,3', '1,3', '2,3'], 1, inplace=True)\n",
    "df['EC1_1'].replace(22, np.nan, inplace=True)\n",
    "df.loc[df['질환유병기간']==2024, '질환유병기간'] = 1\n",
    "df['Total_slp_wk'].replace({'4~5':4.5, '5~6':5.5}, inplace=True)\n",
    "c_name = ['가래양상', 'BO1_1', '전문가의금연권유', 'EC1_1', '질환유병기간', 'Total_slp_wk']\n",
    "for c in c_name:\n",
    "    print(f'{c} --> nan: {df[c].isna().sum()}')\n",
    "    print(df[c].unique())"
   ]
  },
  {
   "cell_type": "markdown",
   "id": "be63bb34",
   "metadata": {},
   "source": [
    "### sex"
   ]
  },
  {
   "cell_type": "code",
   "execution_count": 5,
   "id": "4debed49",
   "metadata": {},
   "outputs": [
    {
     "data": {
      "text/plain": [
       "array([1, 2])"
      ]
     },
     "execution_count": 5,
     "metadata": {},
     "output_type": "execute_result"
    }
   ],
   "source": [
    "# 1: 남자 2: 여자\n",
    "df['sex'].unique()"
   ]
  },
  {
   "cell_type": "code",
   "execution_count": 6,
   "id": "65c53e90",
   "metadata": {},
   "outputs": [
    {
     "data": {
      "text/plain": [
       "array([0, 1])"
      ]
     },
     "execution_count": 6,
     "metadata": {},
     "output_type": "execute_result"
    }
   ],
   "source": [
    "# (변경) 0: 남자 1: 여자\n",
    "df['sex'] = df['sex']-1\n",
    "df['sex'].unique()"
   ]
  },
  {
   "cell_type": "markdown",
   "id": "c19b10e5",
   "metadata": {},
   "source": [
    "### occp"
   ]
  },
  {
   "cell_type": "code",
   "execution_count": 7,
   "id": "7f98ea42",
   "metadata": {},
   "outputs": [
    {
     "data": {
      "text/plain": [
       "array([1, 2, 0])"
      ]
     },
     "execution_count": 7,
     "metadata": {},
     "output_type": "execute_result"
    }
   ],
   "source": [
    "# 1: 있다 2: 없다 0: ??\n",
    "df['occp'].unique()"
   ]
  },
  {
   "cell_type": "code",
   "execution_count": 8,
   "id": "ca184b24",
   "metadata": {},
   "outputs": [
    {
     "data": {
      "text/plain": [
       "array([ 1.,  0., nan])"
      ]
     },
     "execution_count": 8,
     "metadata": {},
     "output_type": "execute_result"
    }
   ],
   "source": [
    "# (변경) 기존0 --> NaN, 0: 없다 1: 있다\n",
    "df['occp'].replace({0:np.nan, 2:0}, inplace=True)\n",
    "df['occp'].unique()"
   ]
  },
  {
   "cell_type": "markdown",
   "id": "18d96c28",
   "metadata": {},
   "source": [
    "### Edu"
   ]
  },
  {
   "cell_type": "code",
   "execution_count": 9,
   "id": "c150d325",
   "metadata": {},
   "outputs": [
    {
     "data": {
      "text/plain": [
       "array([1, 3, 2, 4])"
      ]
     },
     "execution_count": 9,
     "metadata": {},
     "output_type": "execute_result"
    }
   ],
   "source": [
    "# 1: 초졸이하 2: 중졸 3: 고졸 4: 대졸이상\n",
    "df['Edu'].unique()"
   ]
  },
  {
   "cell_type": "code",
   "execution_count": 10,
   "id": "f66e5e18",
   "metadata": {},
   "outputs": [
    {
     "data": {
      "text/plain": [
       "array([0, 1])"
      ]
     },
     "execution_count": 10,
     "metadata": {},
     "output_type": "execute_result"
    }
   ],
   "source": [
    "# (변경) 0: 초졸이하, 1: 나머지 (중졸~대졸이상)\n",
    "df['Edu'].replace(\n",
    "    {1:0, 2:1, 3:1, 4:1}, inplace=True)\n",
    "df['Edu'].unique()"
   ]
  },
  {
   "cell_type": "markdown",
   "id": "b4aebdc1",
   "metadata": {},
   "source": [
    "### BS3_1 (흡연여부, Target)"
   ]
  },
  {
   "cell_type": "code",
   "execution_count": 11,
   "id": "92b0afd3",
   "metadata": {},
   "outputs": [
    {
     "data": {
      "text/plain": [
       "array([4, 3, 1, 2])"
      ]
     },
     "execution_count": 11,
     "metadata": {},
     "output_type": "execute_result"
    }
   ],
   "source": [
    "# 1: 매일피움 2: 가끔피움 3: 현재 안피움(과거피움) 4: 평생 비흡연\n",
    "df['BS3_1'].unique()"
   ]
  },
  {
   "cell_type": "code",
   "execution_count": 12,
   "id": "9e2a0f6d",
   "metadata": {},
   "outputs": [
    {
     "data": {
      "text/plain": [
       "array([0, 1])"
      ]
     },
     "execution_count": 12,
     "metadata": {},
     "output_type": "execute_result"
    }
   ],
   "source": [
    "# (변경) 0: 비흡연 (3~4) 1: 흡연 (1~2)\n",
    "df['BS3_1'].replace({2:1, 3:0, 4:0}, inplace=True)\n",
    "df['BS3_1'].unique()"
   ]
  },
  {
   "cell_type": "markdown",
   "id": "53a9e1d1",
   "metadata": {},
   "source": [
    "### EC1_1"
   ]
  },
  {
   "cell_type": "code",
   "execution_count": 13,
   "id": "f7e19e1e",
   "metadata": {},
   "outputs": [
    {
     "data": {
      "text/plain": [
       "array([ 1.,  2., nan,  3.])"
      ]
     },
     "execution_count": 13,
     "metadata": {},
     "output_type": "execute_result"
    }
   ],
   "source": [
    "# 1: 유 2: 무 3, 22: ?? (NaN으로 변경됨)\n",
    "df['EC1_1'].unique()"
   ]
  },
  {
   "cell_type": "code",
   "execution_count": 14,
   "id": "4b7f4e9b",
   "metadata": {},
   "outputs": [
    {
     "data": {
      "text/plain": [
       "array([ 1.,  0., nan])"
      ]
     },
     "execution_count": 14,
     "metadata": {},
     "output_type": "execute_result"
    }
   ],
   "source": [
    "# (변경) 0: 무 1: 유 기존 22 --> NaN\n",
    "df['EC1_1'].replace({2:0, 3:np.nan}, inplace=True)\n",
    "df['EC1_1'].unique()"
   ]
  },
  {
   "cell_type": "code",
   "execution_count": 15,
   "id": "33863db0",
   "metadata": {},
   "outputs": [],
   "source": [
    "# 엑셀에서 확인 결과 (occp와 EC1_1은 동일한 의미)\n",
    "# occp의 error value(1건) --> EC1_1에서 경제활동x\n",
    "# EC1_1의 error value(2건) --> occp의 직업x\n",
    "df['occp'].fillna(0, inplace=True)\n",
    "df['EC1_1'].fillna(0, inplace=True)\n",
    "# 350건 중 320건이 동일, 30건이 상이함...\n",
    "# 경제활동상태 유지, occp(직업 유무)는 제거 (취소)\n",
    "# df.drop('occp', axis=1, inplace=True)"
   ]
  },
  {
   "cell_type": "markdown",
   "id": "44e20d9d",
   "metadata": {},
   "source": [
    "### 금연지지가족친구여부"
   ]
  },
  {
   "cell_type": "code",
   "execution_count": 16,
   "id": "2f343982",
   "metadata": {},
   "outputs": [
    {
     "data": {
      "text/plain": [
       "array([2, 1, 0])"
      ]
     },
     "execution_count": 16,
     "metadata": {},
     "output_type": "execute_result"
    }
   ],
   "source": [
    "# 1: 유 2: 무 0: ??\n",
    "df['금연지지가족친구여부'].unique()"
   ]
  },
  {
   "cell_type": "code",
   "execution_count": 17,
   "id": "216afb92",
   "metadata": {},
   "outputs": [
    {
     "data": {
      "text/plain": [
       "array([ 0.,  1., nan])"
      ]
     },
     "execution_count": 17,
     "metadata": {},
     "output_type": "execute_result"
    }
   ],
   "source": [
    "# (변경) 기존 0 --> NaN, 0: 무 1: 유\n",
    "df['금연지지가족친구여부'].replace({2:0, 0:np.nan}, inplace=True)\n",
    "df['금연지지가족친구여부'].unique()"
   ]
  },
  {
   "cell_type": "markdown",
   "id": "d1b9107b",
   "metadata": {},
   "source": [
    "### marri_1"
   ]
  },
  {
   "cell_type": "code",
   "execution_count": 18,
   "id": "b44aa7b7",
   "metadata": {},
   "outputs": [
    {
     "data": {
      "text/plain": [
       "array([1, 3, 2])"
      ]
     },
     "execution_count": 18,
     "metadata": {},
     "output_type": "execute_result"
    }
   ],
   "source": [
    "# 1: 기혼 2: 미혼 3: ??\n",
    "df['marri_1'].unique()"
   ]
  },
  {
   "cell_type": "code",
   "execution_count": 19,
   "id": "b9fd42c7",
   "metadata": {},
   "outputs": [
    {
     "data": {
      "text/plain": [
       "array([ 1., nan,  0.])"
      ]
     },
     "execution_count": 19,
     "metadata": {},
     "output_type": "execute_result"
    }
   ],
   "source": [
    "# (변경) 기존 3-->NaN, 0: 미혼 1:기혼\n",
    "df['marri_1'].replace({3:np.nan, 2:0}, inplace=True)\n",
    "df['marri_1'].unique()"
   ]
  },
  {
   "cell_type": "markdown",
   "id": "8bbfbf23",
   "metadata": {},
   "source": [
    "### 손자손녀동거여부"
   ]
  },
  {
   "cell_type": "code",
   "execution_count": 20,
   "id": "426005a5",
   "metadata": {},
   "outputs": [
    {
     "data": {
      "text/plain": [
       "array([2, 1, 0])"
      ]
     },
     "execution_count": 20,
     "metadata": {},
     "output_type": "execute_result"
    }
   ],
   "source": [
    "# 1: 예 2: 아니오 0: ??\n",
    "df['손자손녀동거여부'].unique()"
   ]
  },
  {
   "cell_type": "code",
   "execution_count": 21,
   "id": "e758c86b",
   "metadata": {},
   "outputs": [
    {
     "data": {
      "text/plain": [
       "array([ 0.,  1., nan])"
      ]
     },
     "execution_count": 21,
     "metadata": {},
     "output_type": "execute_result"
    }
   ],
   "source": [
    "# (변경) 0: 아니오 1: 예 기존0 --> NaN\n",
    "df['손자손녀동거여부'].replace({2:0, 0:np.nan}, inplace=True)\n",
    "df['손자손녀동거여부'].unique()"
   ]
  },
  {
   "cell_type": "markdown",
   "id": "dc647981",
   "metadata": {},
   "source": [
    "### HE_PFThs"
   ]
  },
  {
   "cell_type": "code",
   "execution_count": 22,
   "id": "8db1c22b",
   "metadata": {},
   "outputs": [
    {
     "data": {
      "text/plain": [
       "array([ 0.,  1.,  2., nan])"
      ]
     },
     "execution_count": 22,
     "metadata": {},
     "output_type": "execute_result"
    }
   ],
   "source": [
    "# 0: 아니오 1: 예 2: ???? NaN\n",
    "df['HE_PFThs'].unique()"
   ]
  },
  {
   "cell_type": "code",
   "execution_count": 23,
   "id": "07a7ecee",
   "metadata": {},
   "outputs": [
    {
     "data": {
      "text/plain": [
       "array([ 0.,  1., nan])"
      ]
     },
     "execution_count": 23,
     "metadata": {},
     "output_type": "execute_result"
    }
   ],
   "source": [
    "# (변경) 2 --> NaN\n",
    "df['HE_PFThs'].replace(2, np.nan, inplace=True)\n",
    "df['HE_PFThs'].unique()"
   ]
  },
  {
   "cell_type": "markdown",
   "id": "cb504c7f",
   "metadata": {},
   "source": [
    "### 가래양상"
   ]
  },
  {
   "cell_type": "code",
   "execution_count": 24,
   "id": "b54c8af7",
   "metadata": {},
   "outputs": [
    {
     "data": {
      "text/plain": [
       "array([ 2., nan,  1.,  3.,  0.,  4.])"
      ]
     },
     "execution_count": 24,
     "metadata": {},
     "output_type": "execute_result"
    }
   ],
   "source": [
    "# 0,1,2,3,4: ??? --> 0은 없음, 1234는 가래유형으로 추정\n",
    "df['가래양상'].unique()"
   ]
  },
  {
   "cell_type": "markdown",
   "id": "68e15e99",
   "metadata": {},
   "source": [
    "### BH9_11"
   ]
  },
  {
   "cell_type": "code",
   "execution_count": 25,
   "id": "fbfd41fe",
   "metadata": {},
   "outputs": [
    {
     "data": {
      "text/plain": [
       "array([1, 2])"
      ]
     },
     "execution_count": 25,
     "metadata": {},
     "output_type": "execute_result"
    }
   ],
   "source": [
    "# 1: 예 2: 아니오\n",
    "df['BH9_11'].unique()"
   ]
  },
  {
   "cell_type": "code",
   "execution_count": 26,
   "id": "12a9112f",
   "metadata": {},
   "outputs": [
    {
     "data": {
      "text/plain": [
       "array([1, 0])"
      ]
     },
     "execution_count": 26,
     "metadata": {},
     "output_type": "execute_result"
    }
   ],
   "source": [
    "# (변경) 0:아니오 1: 예\n",
    "df['BH9_11'].replace(2, 0, inplace=True)\n",
    "df['BH9_11'].unique()"
   ]
  },
  {
   "cell_type": "markdown",
   "id": "0d83a34a",
   "metadata": {},
   "source": [
    "### BP1"
   ]
  },
  {
   "cell_type": "code",
   "execution_count": 27,
   "id": "ac71cf96",
   "metadata": {},
   "outputs": [
    {
     "data": {
      "text/plain": [
       "array([ 4.,  3.,  1.,  2.,  0., nan])"
      ]
     },
     "execution_count": 27,
     "metadata": {},
     "output_type": "execute_result"
    }
   ],
   "source": [
    "# 0: ?? ,1: 대단히 많이 느낀다, 2: 많이 느끼는 편이다, 3: 조금 느끼는 편이다, 4: 거의 느끼지 않는다\n",
    "df['BP1'].unique()"
   ]
  },
  {
   "cell_type": "code",
   "execution_count": 28,
   "id": "3fe4fd8d",
   "metadata": {},
   "outputs": [
    {
     "data": {
      "text/plain": [
       "array([ 0.,  1., nan])"
      ]
     },
     "execution_count": 28,
     "metadata": {},
     "output_type": "execute_result"
    }
   ],
   "source": [
    "# (변경) 기존0-->NaN, 0: 약한스트레스(3~4) 1: 많은스트레스(1~2)\n",
    "df['BP1'].replace(\n",
    "    {0:np.nan, 3:0, 4:0, 2:1}, inplace=True)\n",
    "df['BP1'].unique()"
   ]
  },
  {
   "cell_type": "markdown",
   "id": "f792bd0a",
   "metadata": {},
   "source": [
    "### BP5"
   ]
  },
  {
   "cell_type": "code",
   "execution_count": 29,
   "id": "3f4f01ff",
   "metadata": {},
   "outputs": [
    {
     "data": {
      "text/plain": [
       "array([2, 1, 3])"
      ]
     },
     "execution_count": 29,
     "metadata": {},
     "output_type": "execute_result"
    }
   ],
   "source": [
    "# 1: 예 2: 아니오 3:???\n",
    "df['BP5'].unique()"
   ]
  },
  {
   "cell_type": "code",
   "execution_count": 30,
   "id": "44bbd695",
   "metadata": {},
   "outputs": [
    {
     "data": {
      "text/plain": [
       "array([ 0.,  1., nan])"
      ]
     },
     "execution_count": 30,
     "metadata": {},
     "output_type": "execute_result"
    }
   ],
   "source": [
    "df['BP5'].replace({2:0, 3:np.nan}, inplace=True)\n",
    "df['BP5'].unique()"
   ]
  },
  {
   "cell_type": "markdown",
   "id": "20883fc6",
   "metadata": {},
   "source": [
    "### D_1_1"
   ]
  },
  {
   "cell_type": "code",
   "execution_count": 31,
   "id": "3cfb44b5",
   "metadata": {},
   "outputs": [
    {
     "data": {
      "text/plain": [
       "array([3, 4, 2, 5, 1, 7])"
      ]
     },
     "execution_count": 31,
     "metadata": {},
     "output_type": "execute_result"
    }
   ],
   "source": [
    "# 1: 매우좋음 2: 좋음 3: 보통 4: 나쁨 5: 매우나쁨 7: ????\n",
    "df['D_1_1'].unique()"
   ]
  },
  {
   "cell_type": "code",
   "execution_count": 32,
   "id": "fff58314",
   "metadata": {},
   "outputs": [
    {
     "data": {
      "text/plain": [
       "array([ 1.,  0.,  2., nan])"
      ]
     },
     "execution_count": 32,
     "metadata": {},
     "output_type": "execute_result"
    }
   ],
   "source": [
    "# (변경) 0: 나쁨 (4~5), 1: 보통(3), 2:좋음(1~2), 기존 7-->NaN\n",
    "df['D_1_1'].replace(\n",
    "    {4:0, 5:0, 3:1, 1:2, 7:np.nan}, inplace=True)\n",
    "df['D_1_1'].unique()"
   ]
  },
  {
   "cell_type": "markdown",
   "id": "5db650c6",
   "metadata": {},
   "source": [
    "### N_DUSUAL"
   ]
  },
  {
   "cell_type": "code",
   "execution_count": 33,
   "id": "935f76eb",
   "metadata": {},
   "outputs": [
    {
     "data": {
      "text/plain": [
       "array([ 1.,  3.,  2., nan])"
      ]
     },
     "execution_count": 33,
     "metadata": {},
     "output_type": "execute_result"
    }
   ],
   "source": [
    "# 1: 많이 섭취(식욕많음) 2: 평소와 비슷 3: 적게 섭취(식욕낮음)\n",
    "df['N_DUSUAL'].unique()"
   ]
  },
  {
   "cell_type": "code",
   "execution_count": 34,
   "id": "744395c3",
   "metadata": {},
   "outputs": [
    {
     "data": {
      "text/plain": [
       "array([ 2.,  0.,  1., nan])"
      ]
     },
     "execution_count": 34,
     "metadata": {},
     "output_type": "execute_result"
    }
   ],
   "source": [
    "# (변경) 0: 식욕 낮음 1: 보통 2: 식욕많음\n",
    "df['N_DUSUAL'].replace({3:0, 2:1, 1:2}, inplace=True)\n",
    "df['N_DUSUAL'].unique()"
   ]
  },
  {
   "cell_type": "markdown",
   "id": "e0e1e41f",
   "metadata": {},
   "source": [
    "### BH1_1"
   ]
  },
  {
   "cell_type": "code",
   "execution_count": 35,
   "id": "c26b377b",
   "metadata": {},
   "outputs": [
    {
     "data": {
      "text/plain": [
       "array([ 1.,  0.,  2., nan])"
      ]
     },
     "execution_count": 35,
     "metadata": {},
     "output_type": "execute_result"
    }
   ],
   "source": [
    "# 0: 아니오 1: 예 2:????\n",
    "df['BH1_1'].unique()"
   ]
  },
  {
   "cell_type": "code",
   "execution_count": 36,
   "id": "fdd52c88",
   "metadata": {},
   "outputs": [
    {
     "data": {
      "text/plain": [
       "array([ 1.,  0., nan])"
      ]
     },
     "execution_count": 36,
     "metadata": {},
     "output_type": "execute_result"
    }
   ],
   "source": [
    "# (변경) 기존2-->NaN\n",
    "df['BH1_1'].replace(2, np.nan, inplace=True)\n",
    "df['BH1_1'].unique()"
   ]
  },
  {
   "cell_type": "markdown",
   "id": "57cf3816",
   "metadata": {},
   "source": [
    "### BO2_1"
   ]
  },
  {
   "cell_type": "code",
   "execution_count": 37,
   "id": "a42d93fe",
   "metadata": {},
   "outputs": [
    {
     "data": {
      "text/plain": [
       "array([ 4.,  2.,  1.,  3.,  5., nan])"
      ]
     },
     "execution_count": 37,
     "metadata": {},
     "output_type": "execute_result"
    }
   ],
   "source": [
    "# 1: 체중감소노력 2: 체중유지노력 3: 체중증가노력 4: 노력x 5: ???\n",
    "df['BO2_1'].unique()"
   ]
  },
  {
   "cell_type": "code",
   "execution_count": 38,
   "id": "9f396015",
   "metadata": {},
   "outputs": [
    {
     "data": {
      "text/plain": [
       "array([ 0.,  2.,  1.,  3., nan])"
      ]
     },
     "execution_count": 38,
     "metadata": {},
     "output_type": "execute_result"
    }
   ],
   "source": [
    "# (변경) 0: 노력 x 1: 감소노력 2: 유지노력 3: 증가노력 기존5-->NaN\n",
    "df['BO2_1'].replace({4:0, 5:np.nan}, inplace=True)\n",
    "df['BO2_1'].unique()"
   ]
  },
  {
   "cell_type": "markdown",
   "id": "7d3396ec",
   "metadata": {},
   "source": [
    "### BO1_1"
   ]
  },
  {
   "cell_type": "code",
   "execution_count": 39,
   "id": "96621a93",
   "metadata": {},
   "outputs": [
    {
     "data": {
      "text/plain": [
       "array([ 1.,  2.,  3.,  4., nan])"
      ]
     },
     "execution_count": 39,
     "metadata": {},
     "output_type": "execute_result"
    }
   ],
   "source": [
    "# 1: 변화없음 2: 체중감소 3: 체중증가 4: ????\n",
    "df['BO1_1'].unique()"
   ]
  },
  {
   "cell_type": "code",
   "execution_count": 40,
   "id": "9a528318",
   "metadata": {},
   "outputs": [
    {
     "data": {
      "text/plain": [
       "array([ 0.,  1.,  2., nan])"
      ]
     },
     "execution_count": 40,
     "metadata": {},
     "output_type": "execute_result"
    }
   ],
   "source": [
    "# (변경) 0: 없음 1: 감소 2: 증가 기존4-->NaN\n",
    "df['BO1_1'].replace(4, np.nan, inplace=True)\n",
    "df['BO1_1'] = df['BO1_1']-1\n",
    "df['BO1_1'].unique()"
   ]
  },
  {
   "cell_type": "markdown",
   "id": "51af7410",
   "metadata": {},
   "source": [
    "### DI1_pt"
   ]
  },
  {
   "cell_type": "code",
   "execution_count": 41,
   "id": "277131a8",
   "metadata": {},
   "outputs": [
    {
     "data": {
      "text/plain": [
       "array([ 0.,  1.,  2., nan])"
      ]
     },
     "execution_count": 41,
     "metadata": {},
     "output_type": "execute_result"
    }
   ],
   "source": [
    "# 0: 아니오 1: 예 2:?????\n",
    "df['DI1_pt'].unique()"
   ]
  },
  {
   "cell_type": "code",
   "execution_count": 42,
   "id": "359c53c4",
   "metadata": {},
   "outputs": [
    {
     "data": {
      "text/plain": [
       "array([ 0.,  1., nan])"
      ]
     },
     "execution_count": 42,
     "metadata": {},
     "output_type": "execute_result"
    }
   ],
   "source": [
    "# (변경) 기존2-->NaN\n",
    "df['DI1_pt'].replace(2, np.nan, inplace=True)\n",
    "df['DI1_pt'].unique()"
   ]
  },
  {
   "cell_type": "markdown",
   "id": "0fa52678",
   "metadata": {},
   "source": [
    "### DI1_2"
   ]
  },
  {
   "cell_type": "code",
   "execution_count": 43,
   "id": "32854113",
   "metadata": {},
   "outputs": [
    {
     "data": {
      "text/plain": [
       "array([ 6.,  1.,  4.,  7.,  5.,  2., nan])"
      ]
     },
     "execution_count": 43,
     "metadata": {},
     "output_type": "execute_result"
    }
   ],
   "source": [
    "# 1: 매일 복용 2: 20일 이상 복용 3: 15일 이상 복용 4: 복용하지 않음 5: 15일 미만 복용 6: 비해당 7: 모름, 무응답\n",
    "df['DI1_2'].unique()"
   ]
  },
  {
   "cell_type": "code",
   "execution_count": 44,
   "id": "8a714a73",
   "metadata": {},
   "outputs": [
    {
     "data": {
      "text/plain": [
       "array([ 0.,  4., nan,  1.,  3.])"
      ]
     },
     "execution_count": 44,
     "metadata": {},
     "output_type": "execute_result"
    }
   ],
   "source": [
    "# (변경) 7-->NaN, 0 (복용x, 비해당), 1 (15일 미만복용), 2(15일이상 복용), 3(20일 이상 복용), 4(매일 복용)\n",
    "df['DI1_2'].replace(\n",
    "    {7:np.nan, 1:4, 2:3, 3:2, 4:0, 5:1, 6:0}, inplace=True)\n",
    "df['DI1_2'].unique()"
   ]
  },
  {
   "cell_type": "markdown",
   "id": "e8b2720b",
   "metadata": {},
   "source": [
    "### 심한금단증상경험여부"
   ]
  },
  {
   "cell_type": "code",
   "execution_count": 45,
   "id": "83e0a2d1",
   "metadata": {},
   "outputs": [
    {
     "data": {
      "text/plain": [
       "array([ 2.,  1.,  0., nan])"
      ]
     },
     "execution_count": 45,
     "metadata": {},
     "output_type": "execute_result"
    }
   ],
   "source": [
    "# 1: 예 2: 아니오 0: ????\n",
    "df['심한금단증상경험여부'].unique()"
   ]
  },
  {
   "cell_type": "code",
   "execution_count": 46,
   "id": "a3c4caff",
   "metadata": {},
   "outputs": [
    {
     "data": {
      "text/plain": [
       "array([ 0.,  1., nan])"
      ]
     },
     "execution_count": 46,
     "metadata": {},
     "output_type": "execute_result"
    }
   ],
   "source": [
    "# (변경) 기존0-->NaN, 0: 아니오 1: 예\n",
    "df['심한금단증상경험여부'].replace({0:np.nan, 2:0}, inplace=True)\n",
    "df['심한금단증상경험여부'].unique()"
   ]
  },
  {
   "cell_type": "markdown",
   "id": "3aecec32",
   "metadata": {},
   "source": [
    "### 전문가의금연권유"
   ]
  },
  {
   "cell_type": "code",
   "execution_count": 47,
   "id": "b9eae291",
   "metadata": {},
   "outputs": [
    {
     "data": {
      "text/plain": [
       "array([ 4.,  1.,  3.,  2., nan])"
      ]
     },
     "execution_count": 47,
     "metadata": {},
     "output_type": "execute_result"
    }
   ],
   "source": [
    "# 1: 전문가권유 2: 전문가 상담 3: 약복용(껌, 패치 포함), 4: 없음\n",
    "df['전문가의금연권유'].unique()"
   ]
  },
  {
   "cell_type": "code",
   "execution_count": 48,
   "id": "520d5d7e",
   "metadata": {},
   "outputs": [
    {
     "data": {
      "text/plain": [
       "array([ 0.,  1., nan])"
      ]
     },
     "execution_count": 48,
     "metadata": {},
     "output_type": "execute_result"
    }
   ],
   "source": [
    "# (변경) 0: 없음, 1: 있음(1~3)\n",
    "df['전문가의금연권유'].replace({4:0, 2:1, 3:1}, inplace=True)\n",
    "df['전문가의금연권유'].unique()"
   ]
  },
  {
   "cell_type": "code",
   "execution_count": 49,
   "id": "d21786c3",
   "metadata": {},
   "outputs": [],
   "source": [
    "df.to_csv('./survey.csv', index=False)"
   ]
  }
 ],
 "metadata": {
  "kernelspec": {
   "display_name": "jhs_torch",
   "language": "python",
   "name": "python3"
  },
  "language_info": {
   "codemirror_mode": {
    "name": "ipython",
    "version": 3
   },
   "file_extension": ".py",
   "mimetype": "text/x-python",
   "name": "python",
   "nbconvert_exporter": "python",
   "pygments_lexer": "ipython3",
   "version": "3.11.9"
  }
 },
 "nbformat": 4,
 "nbformat_minor": 5
}
