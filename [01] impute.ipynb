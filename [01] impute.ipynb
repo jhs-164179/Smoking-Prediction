{
 "cells": [
  {
   "cell_type": "code",
   "execution_count": 1,
   "id": "881a8c1f",
   "metadata": {},
   "outputs": [],
   "source": [
    "import warnings\n",
    "\n",
    "warnings.filterwarnings('ignore')\n",
    "\n",
    "import os\n",
    "import random\n",
    "import numpy as np\n",
    "import pandas as pd\n",
    "import sklearn.neighbors._base\n",
    "import sys\n",
    "sys.modules['sklearn.neighbors.base'] = sklearn.neighbors._base\n",
    "from missingpy import MissForest\n",
    "from statsmodels.imputation.mice import MICEData\n",
    "from sklearn.experimental import enable_iterative_imputer\n",
    "# KNN Imputer는 범주형 변수 대체 불가, 통계값으로 변환\n",
    "from sklearn.impute import IterativeImputer, KNNImputer\n",
    "from sklearn.ensemble import RandomForestClassifier, RandomForestRegressor"
   ]
  },
  {
   "cell_type": "code",
   "execution_count": 2,
   "id": "2be85bcc",
   "metadata": {},
   "outputs": [],
   "source": [
    "def seed_everything(seed: int = 42):\n",
    "    random.seed(seed)\n",
    "    np.random.seed(seed)\n",
    "    os.environ[\"PYTHONHASHSEED\"] = str(seed)\n",
    "\n",
    "seed_everything()"
   ]
  },
  {
   "cell_type": "code",
   "execution_count": 3,
   "id": "3301b6ab",
   "metadata": {},
   "outputs": [],
   "source": [
    "df = pd.read_csv('./survey.csv')\n",
    "cat_col = []\n",
    "num_col = [\n",
    "    'FEV1', 'FEV1FVC', 'age', 'BS6_3', 'BS6_2_1', 'BD1',\n",
    "    '건강문해력', 'Total_slp_wk', 'EQ_5D', 'BE3_31', 'BE5_1', '질환유병기간'\n",
    "]\n",
    "for col in df.columns:\n",
    "    if col not in num_col and col != 'BS3_1':\n",
    "        cat_col.append(col)"
   ]
  },
  {
   "cell_type": "code",
   "execution_count": 4,
   "id": "2394340f",
   "metadata": {},
   "outputs": [
    {
     "data": {
      "text/plain": [
       "가래양상          82\n",
       "BS6_3         73\n",
       "BS6_2_1       73\n",
       "FEV1          29\n",
       "FEV1FVC       29\n",
       "심한금단증상경험여부     4\n",
       "DI1_2          3\n",
       "BH1_1          2\n",
       "dtype: int64"
      ]
     },
     "execution_count": 4,
     "metadata": {},
     "output_type": "execute_result"
    }
   ],
   "source": [
    "na_values = df.isna().sum()\n",
    "na_values = na_values[na_values!=0].sort_values(ascending=False)\n",
    "na_values[:8]"
   ]
  },
  {
   "cell_type": "code",
   "execution_count": 5,
   "id": "8411f263",
   "metadata": {},
   "outputs": [
    {
     "data": {
      "text/plain": [
       "가래양상          23.428571\n",
       "BS6_3         20.857143\n",
       "BS6_2_1       20.857143\n",
       "FEV1           8.285714\n",
       "FEV1FVC        8.285714\n",
       "심한금단증상경험여부     1.142857\n",
       "DI1_2          0.857143\n",
       "BH1_1          0.571429\n",
       "dtype: float64"
      ]
     },
     "execution_count": 5,
     "metadata": {},
     "output_type": "execute_result"
    }
   ],
   "source": [
    "na_ratio = na_values/len(df)*100\n",
    "na_ratio[:8]"
   ]
  },
  {
   "cell_type": "markdown",
   "id": "70f2d067",
   "metadata": {},
   "source": [
    "### Fill 0"
   ]
  },
  {
   "cell_type": "code",
   "execution_count": 6,
   "id": "df12fde7",
   "metadata": {},
   "outputs": [],
   "source": [
    "imp0 = df.copy()\n",
    "imp0.fillna(0, inplace=True)\n",
    "imp0.to_csv('./impute_set/imp0.csv', index=False)"
   ]
  },
  {
   "cell_type": "markdown",
   "id": "85253913",
   "metadata": {},
   "source": [
    "### Fill median(numeric) and mode(categorical)"
   ]
  },
  {
   "cell_type": "code",
   "execution_count": 7,
   "id": "215cfc15",
   "metadata": {},
   "outputs": [],
   "source": [
    "imp1 = df.copy()\n",
    "for col in imp1.columns:\n",
    "    if col in num_col:\n",
    "        imp1[col] = imp1[col].fillna(imp1[col].median())\n",
    "    elif col in cat_col:\n",
    "        imp1[col] = imp1[col].fillna(imp1[col].mode()[0])\n",
    "imp1.to_csv('./impute_set/imp1.csv', index=False)"
   ]
  },
  {
   "cell_type": "markdown",
   "id": "d93eef5c",
   "metadata": {},
   "source": [
    "### Fill median(numeric) and mode(categorical) per cage"
   ]
  },
  {
   "cell_type": "code",
   "execution_count": 8,
   "id": "f7ea0feb",
   "metadata": {},
   "outputs": [],
   "source": [
    "imp2 = df.copy()\n",
    "imp2['cage'] = imp2['age']//10\n",
    "age_groups = {age:imp2['cage']==age for age in range(4, 10)}\n",
    "for col in imp2.columns:\n",
    "    if col in num_col:\n",
    "        for age, mask in age_groups.items():\n",
    "            median_value = imp2.loc[mask, col].median()\n",
    "            imp2.loc[mask, col] = imp2.loc[mask, col].fillna(median_value)\n",
    "    elif col in cat_col:\n",
    "        for age, mask in age_groups.items():\n",
    "            mode_value = imp2.loc[mask, col].mode()\n",
    "            if not mode_value.empty:\n",
    "                imp2.loc[mask, col] = imp2.loc[mask, col].fillna(mode_value[0])\n",
    "imp2.drop('cage', axis=1, inplace=True)\n",
    "imp2.to_csv('./impute_set/imp2.csv', index=False)"
   ]
  },
  {
   "cell_type": "markdown",
   "id": "dfe53fcb",
   "metadata": {},
   "source": [
    "### MICE Imputation"
   ]
  },
  {
   "cell_type": "code",
   "execution_count": 9,
   "id": "0acc1430",
   "metadata": {},
   "outputs": [],
   "source": [
    "imp3 = df.copy()\n",
    "mice = MICEData(imp3)\n",
    "for i in range(10):\n",
    "    mice.update_all()\n",
    "imp3 = mice.data\n",
    "imp3.to_csv('./impute_set/imp3.csv', index=False)"
   ]
  },
  {
   "cell_type": "markdown",
   "id": "189ac7b4",
   "metadata": {},
   "source": [
    "### Iterative Imputer"
   ]
  },
  {
   "cell_type": "code",
   "execution_count": 10,
   "id": "a30a1c74",
   "metadata": {},
   "outputs": [],
   "source": [
    "imp4 = df.copy()\n",
    "imp4_num = imp4[num_col]\n",
    "imp4_cat = imp4[cat_col]\n",
    "\n",
    "num_iter = IterativeImputer(estimator=RandomForestRegressor(random_state=42), random_state=42)\n",
    "cat_iter = IterativeImputer(estimator=RandomForestClassifier(random_state=42), random_state=42)\n",
    "\n",
    "imp4_num = pd.DataFrame(num_iter.fit_transform(imp4_num), columns=imp4_num.columns)\n",
    "imp4_cat = pd.DataFrame(cat_iter.fit_transform(imp4_cat), columns=imp4_cat.columns)\n",
    "\n",
    "imp4[num_col] = imp4_num\n",
    "imp4[cat_col] = imp4_cat\n",
    "\n",
    "imp4.to_csv('./impute_set/imp4.csv', index=False)"
   ]
  },
  {
   "cell_type": "markdown",
   "id": "11fe5489",
   "metadata": {},
   "source": [
    "### KNN Imputer"
   ]
  },
  {
   "cell_type": "code",
   "execution_count": 11,
   "id": "a3a1f263",
   "metadata": {},
   "outputs": [],
   "source": [
    "imp5 = df.copy()\n",
    "\n",
    "imputer = KNNImputer(weights='distance')\n",
    "imp5 = pd.DataFrame(imputer.fit_transform(imp5), columns=imp5.columns)\n",
    "\n",
    "for col in imp5.columns:\n",
    "    if col in cat_col:\n",
    "        imp5[col] = np.round(imp5[col])\n",
    "\n",
    "imp5.to_csv('./impute_set/imp5.csv', index=False)"
   ]
  },
  {
   "cell_type": "markdown",
   "id": "9987b2d7",
   "metadata": {},
   "source": [
    "### MissForest"
   ]
  },
  {
   "cell_type": "code",
   "execution_count": 12,
   "id": "d2fcfeaf",
   "metadata": {},
   "outputs": [
    {
     "name": "stdout",
     "output_type": "stream",
     "text": [
      "Iteration: 0\n",
      "Iteration: 1\n",
      "Iteration: 2\n",
      "Iteration: 3\n",
      "Iteration: 4\n"
     ]
    }
   ],
   "source": [
    "imp6 = df.copy()\n",
    "\n",
    "imputer = MissForest(random_state=42)\n",
    "imp6 = pd.DataFrame(imputer.fit_transform(imp6), columns=imp6.columns)\n",
    "\n",
    "for col in imp6.columns:\n",
    "    if col in cat_col:\n",
    "        imp6[col] = np.round(imp6[col])\n",
    "\n",
    "imp6.to_csv('./impute_set/imp6.csv', index=False)        "
   ]
  }
 ],
 "metadata": {
  "kernelspec": {
   "display_name": "jhs_impute",
   "language": "python",
   "name": "python3"
  },
  "language_info": {
   "codemirror_mode": {
    "name": "ipython",
    "version": 3
   },
   "file_extension": ".py",
   "mimetype": "text/x-python",
   "name": "python",
   "nbconvert_exporter": "python",
   "pygments_lexer": "ipython3",
   "version": "3.9.13"
  }
 },
 "nbformat": 4,
 "nbformat_minor": 5
}
