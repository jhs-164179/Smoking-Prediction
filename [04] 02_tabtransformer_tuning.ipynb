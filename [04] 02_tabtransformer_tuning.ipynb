{
 "cells": [
  {
   "cell_type": "code",
   "execution_count": 1,
   "id": "fabe7885",
   "metadata": {},
   "outputs": [
    {
     "name": "stdout",
     "output_type": "stream",
     "text": [
      "Couldn't import dot_parser, loading of dot files will not be possible.\n"
     ]
    }
   ],
   "source": [
    "import warnings\n",
    "\n",
    "warnings.filterwarnings('ignore')\n",
    "\n",
    "import os\n",
    "import random\n",
    "import optuna\n",
    "import numpy as np\n",
    "import pandas as pd\n",
    "from tab_transformer_pytorch import TabTransformer\n",
    "import scipy.stats as st\n",
    "from sklearn.metrics import f1_score, classification_report\n",
    "from sklearn.model_selection import train_test_split, StratifiedKFold\n",
    "from sklearn.preprocessing import MinMaxScaler, OrdinalEncoder, StandardScaler, OneHotEncoder\n",
    "import torch\n",
    "from torch import nn\n",
    "from torch.optim import Adam\n",
    "from torch.utils.data import Dataset, DataLoader"
   ]
  },
  {
   "cell_type": "code",
   "execution_count": 2,
   "id": "b80d2498",
   "metadata": {},
   "outputs": [],
   "source": [
    "def seed_everything(seed: int = 42):\n",
    "    random.seed(seed)\n",
    "    np.random.seed(seed)\n",
    "    os.environ[\"PYTHONHASHSEED\"] = str(seed)\n",
    "    torch.manual_seed(seed)\n",
    "    torch.cuda.manual_seed(seed)  # type: ignore\n",
    "    torch.backends.cudnn.deterministic = True  # type: ignore\n",
    "    torch.backends.cudnn.benchmark = False  # type: ignore\n",
    "\n",
    "seed_everything()   "
   ]
  },
  {
   "cell_type": "code",
   "execution_count": 3,
   "id": "ebff7e5e",
   "metadata": {},
   "outputs": [],
   "source": [
    "df = pd.read_csv('./impute_set/imp3.csv')\n",
    "\n",
    "class CustomDataset(Dataset):\n",
    "    def __init__(self, x, y, cat_col, numeric_col):\n",
    "        self.X_cat = np.array(x[cat_col]).astype(np.int32)\n",
    "        self.X_num = np.array(x[numeric_col]).astype(np.float32)\n",
    "        self.y = np.array(y).astype(np.float32)\n",
    "        \n",
    "    def __len__(self):\n",
    "        return len(self.X_cat)\n",
    "    \n",
    "    def __getitem__(self, idx):\n",
    "        X_cat = torch.from_numpy(self.X_cat[idx])\n",
    "        X_num = torch.from_numpy(self.X_num[idx])\n",
    "        y = torch.from_numpy(self.y[idx])\n",
    "        return X_cat, X_num, y\n",
    "\n",
    "\n",
    "def preprocessing(df, numeric='minmax', category='label'):\n",
    "    X = df.drop('BS3_1', axis=1)\n",
    "    y = df[['BS3_1']]\n",
    "    numeric_col = [\n",
    "        'FEV1', 'FEV1FVC', 'age', 'BS6_3', 'BS6_2_1', 'BD1',\n",
    "        '건강문해력', 'Total_slp_wk', 'EQ_5D', 'BE3_31', 'BE5_1', '질환유병기간'\n",
    "    ]\n",
    "    cat_col = []\n",
    "    for col in X.columns:\n",
    "        if col not in numeric_col:\n",
    "            cat_col.append(col)\n",
    "\n",
    "    df_num, df_cat = X[numeric_col], X[cat_col]\n",
    "    if numeric == 'minmax':\n",
    "        n_pre = MinMaxScaler()\n",
    "    else:\n",
    "        n_pre = StandardScaler()\n",
    "    df_num = pd.DataFrame(n_pre.fit_transform(df_num), columns=df_num.columns)\n",
    "\n",
    "    if category == 'label':\n",
    "        c_pre = OrdinalEncoder()\n",
    "        df_cat = pd.DataFrame(c_pre.fit_transform(df_cat), columns=df_cat.columns)\n",
    "    else:\n",
    "        c_pre = OneHotEncoder(sparse_output=False)\n",
    "        df_cat = pd.DataFrame(c_pre.fit_transform(df_cat))\n",
    "\n",
    "    X = pd.concat([df_num, df_cat], axis=1)\n",
    "    uniques = []\n",
    "    for col in cat_col:\n",
    "        uniques.append(len(X[col].unique()))\n",
    "\n",
    "    return X, y, uniques, numeric_col, cat_col\n",
    "\n",
    "\n",
    "# def test_with_imputations(model, train_loader, test_loader, train_X, test_y, numeric_col, uniques):\n",
    "def test_with_imputations(model, train_loader, test_loader, test_y):\n",
    "    # combined_array = np.column_stack((train_X[numeric_col].mean().values, train_X[numeric_col].std().values))\n",
    "\n",
    "    # class_counts = torch.tensor([test_y.value_counts()[0], test_y.value_counts()[1]])\n",
    "    # class_weights = 1.0 / class_counts\n",
    "    # class_weights /= class_weights.sum()\n",
    "\n",
    "    # device = torch.device('cuda')\n",
    "\n",
    "    device = torch.device('cuda' if torch.cuda.is_available() else 'cpu')\n",
    "    num_negatives = (test_y == 0).sum()\n",
    "    num_positives = (test_y == 1).sum()\n",
    "    class_weights = torch.tensor(num_negatives / num_positives, dtype=torch.float32).to(device)    \n",
    "    # model = TabTransformer(\n",
    "    #     categories=tuple(uniques),\n",
    "    #     num_continuous=len(numeric_col),\n",
    "    #     dim=64,dim_out=1,depth=6,heads=8,attn_dropout=.1,ff_dropout=.1,mlp_hidden_mults=(4,2),\n",
    "    #     mlp_act=nn.ReLU(inplace=True),\n",
    "    #     continuous_mean_std=torch.tensor(combined_array, dtype=torch.float32)\n",
    "    # )\n",
    "    model = model.to(device)\n",
    "    optim = Adam(model.parameters(), lr=.0001)\n",
    "    # criterion = nn.BCEWithLogitsLoss(pos_weight=class_weights[1])\n",
    "    criterion = nn.BCEWithLogitsLoss(pos_weight=class_weights)\n",
    "    best_f1 = 0.0\n",
    "    best_epoch = 0\n",
    "    epochs = 50\n",
    "    for epoch in range(epochs):\n",
    "        running_loss = 0.0\n",
    "        model.train()\n",
    "        for x_cat, x_num, yy in train_loader:\n",
    "            optim.zero_grad()\n",
    "            x_cat, x_num, yy = x_cat.to(device), x_num.to(device), yy.to(device)\n",
    "            preds = model(x_cat, x_num)\n",
    "            loss = criterion(preds.squeeze(), yy.squeeze())\n",
    "            loss.backward()\n",
    "            optim.step()\n",
    "            running_loss += loss.item()\n",
    "        # print(f'{epoch+1} Epoch | Loss: {running_loss/len(train_loader):.4f}')\n",
    "\n",
    "        model.eval()\n",
    "        val_loss = 0.0\n",
    "        correct = 0\n",
    "        val_preds = []\n",
    "        val_targets = []\n",
    "        with torch.no_grad():\n",
    "            for x_cat, x_num, yy in test_loader:\n",
    "                x_cat, x_num, yy = x_cat.to(device), x_num.to(device), yy.to(device)\n",
    "                preds = model(x_cat, x_num)\n",
    "                val_loss += criterion(preds.squeeze(), yy.squeeze()).item()\n",
    "                yy = yy.detach().cpu().numpy().squeeze()\n",
    "                preds = torch.sigmoid(preds).detach().cpu().numpy().squeeze()\n",
    "                pred_labels = np.where(preds>=.5, 1, 0)\n",
    "                correct += (pred_labels == yy).sum().item()\n",
    "                \n",
    "                val_preds.extend(pred_labels.tolist())\n",
    "                val_targets.extend(yy.tolist())\n",
    "        val_loss /= len(test_loader)\n",
    "        val_f1 = f1_score(val_targets, val_preds, average='macro')\n",
    "        if val_f1 > best_f1:\n",
    "            best_f1 = val_f1\n",
    "            best_epoch = epoch+1\n",
    "            torch.save(model.state_dict(), 'bestTabTransformer.pth')\n",
    "            \n",
    "    print(f'Best Epoch: {best_epoch} | Best F1 : {best_f1:.4f}')  \n",
    "    return best_f1  \n",
    "\n",
    "\n",
    "def test_with_5fold(df, numeric, category, shuffle=True):\n",
    "    f1s = []\n",
    "    X, y, uniques, numeric_col, cat_col = preprocessing(df, numeric, category)\n",
    "    if shuffle:\n",
    "        skf = StratifiedKFold(n_splits=5, shuffle=shuffle, random_state=42)\n",
    "    else:\n",
    "        skf = StratifiedKFold(n_splits=5, shuffle=shuffle)\n",
    "    \n",
    "    for fold, (train_idx, test_idx) in enumerate(skf.split(X, y)):\n",
    "        train_X, train_y = X.iloc[train_idx], y.iloc[train_idx]\n",
    "        test_X, test_y = X.iloc[test_idx], y.iloc[test_idx]\n",
    "\n",
    "        train_set = CustomDataset(train_X, train_y, cat_col, numeric_col)\n",
    "        test_set = CustomDataset(test_X, test_y, cat_col, numeric_col)\n",
    "        train_loader = DataLoader(train_set, batch_size=64, shuffle=True, pin_memory=True)\n",
    "        test_loader = DataLoader(test_set, batch_size=64, shuffle=True, pin_memory=True)\n",
    "\n",
    "        f1_value = test_with_imputations(\n",
    "            train_loader, test_loader, train_X, test_y, numeric_col, uniques\n",
    "        )\n",
    "        f1s.append(f1_value)\n",
    "\n",
    "    return f1s\n",
    "\n",
    "\n",
    "def get_cv_results(f1s:list):\n",
    "    f1s = np.array(f1s)\n",
    "    mean_f1 = np.mean(f1s)\n",
    "    std_f1 = np.std(f1s)\n",
    "    ci95 = st.t.interval(.95, df=len(f1s)-1, loc=mean_f1, scale=std_f1/np.sqrt(len(f1s)))\n",
    "    return mean_f1, std_f1, ci95"
   ]
  },
  {
   "cell_type": "code",
   "execution_count": 4,
   "id": "332919f4",
   "metadata": {},
   "outputs": [],
   "source": [
    "def objective(trial:optuna.Trial, df):\n",
    "    X, y, uniques, numeric_col, cat_col = preprocessing(df, 'standard', 'label')\n",
    "\n",
    "    scores = []\n",
    "    param = {\n",
    "        'dim' : trial.suggest_int('dim', 32, 128),\n",
    "        'depth' : trial.suggest_int('depth', 2, 8),\n",
    "        'heads' : trial.suggest_int('heads', 2, 8),\n",
    "        'dropout' : trial.suggest_float('dropout', 0, 0.5),\n",
    "        'mlp_hidden_mults' : trial.suggest_categorical('mlp_hidden_mults', [(4,2),(2,1),(4,1),(2,2)]),\n",
    "        'mlp_act' : trial.suggest_categorical('mlp_act', [nn.ReLU, nn.GELU, nn.LeakyReLU, nn.SiLU]),\n",
    "    }\n",
    "\n",
    "    skf = StratifiedKFold(n_splits=5, shuffle=True, random_state=42)\n",
    "    for fold, (train_idx, test_idx) in enumerate(skf.split(X, y)):\n",
    "        train_X, train_y = X.iloc[train_idx], y.iloc[train_idx]\n",
    "        test_X, test_y = X.iloc[test_idx], y.iloc[test_idx]\n",
    "\n",
    "        train_set = CustomDataset(train_X, train_y, cat_col, numeric_col)\n",
    "        test_set = CustomDataset(test_X, test_y, cat_col, numeric_col)\n",
    "        train_loader = DataLoader(train_set, batch_size=64, shuffle=True, pin_memory=True)\n",
    "        test_loader = DataLoader(test_set, batch_size=64, shuffle=True, pin_memory=True)\n",
    "\n",
    "        combined_array = np.column_stack((train_X[numeric_col].mean().values, train_X[numeric_col].std().values))\n",
    "\n",
    "        model = TabTransformer(\n",
    "            categories=tuple(uniques),\n",
    "            num_continuous=len(numeric_col),\n",
    "            dim=param['dim'],dim_out=1,depth=param['depth'],heads=param['heads'],attn_dropout=param['dropout'],ff_dropout=param['dropout'],mlp_hidden_mults=param['mlp_hidden_mults'],\n",
    "            mlp_act=param['mlp_act'](),\n",
    "            continuous_mean_std=torch.tensor(combined_array, dtype=torch.float32)\n",
    "        )\n",
    "\n",
    "        f1_value = test_with_imputations(\n",
    "            model, train_loader, test_loader, test_y\n",
    "        )\n",
    "        scores.append(f1_value)\n",
    "\n",
    "    return np.mean(scores)"
   ]
  },
  {
   "cell_type": "code",
   "execution_count": 5,
   "id": "990455ea",
   "metadata": {},
   "outputs": [
    {
     "name": "stderr",
     "output_type": "stream",
     "text": [
      "[I 2025-05-19 14:56:52,617] A new study created in memory with name: no-name-d9680918-3751-492a-8d88-8213f9afb86c\n"
     ]
    },
    {
     "name": "stdout",
     "output_type": "stream",
     "text": [
      "Best Epoch: 7 | Best F1 : 0.7809\n",
      "Best Epoch: 8 | Best F1 : 0.7843\n",
      "Best Epoch: 6 | Best F1 : 0.7657\n",
      "Best Epoch: 1 | Best F1 : 0.7177\n"
     ]
    },
    {
     "name": "stderr",
     "output_type": "stream",
     "text": [
      "[I 2025-05-19 14:57:25,258] Trial 0 finished with value: 0.7719247006319827 and parameters: {'dim': 50, 'depth': 8, 'heads': 3, 'dropout': 0.2248903113692915, 'mlp_hidden_mults': (4, 2), 'mlp_act': <class 'torch.nn.modules.activation.GELU'>}. Best is trial 0 with value: 0.7719247006319827.\n"
     ]
    },
    {
     "name": "stdout",
     "output_type": "stream",
     "text": [
      "Best Epoch: 4 | Best F1 : 0.8111\n",
      "Best Epoch: 5 | Best F1 : 0.7989\n",
      "Best Epoch: 29 | Best F1 : 0.7869\n",
      "Best Epoch: 2 | Best F1 : 0.7304\n",
      "Best Epoch: 34 | Best F1 : 0.6919\n"
     ]
    },
    {
     "name": "stderr",
     "output_type": "stream",
     "text": [
      "[I 2025-05-19 14:58:05,805] Trial 1 finished with value: 0.7589618848966527 and parameters: {'dim': 96, 'depth': 5, 'heads': 3, 'dropout': 0.49454350556452215, 'mlp_hidden_mults': (2, 2), 'mlp_act': <class 'torch.nn.modules.activation.LeakyReLU'>}. Best is trial 0 with value: 0.7719247006319827.\n"
     ]
    },
    {
     "name": "stdout",
     "output_type": "stream",
     "text": [
      "Best Epoch: 2 | Best F1 : 0.7869\n",
      "Best Epoch: 7 | Best F1 : 0.7843\n",
      "Best Epoch: 9 | Best F1 : 0.7809\n",
      "Best Epoch: 1 | Best F1 : 0.7450\n",
      "Best Epoch: 16 | Best F1 : 0.6919\n"
     ]
    },
    {
     "name": "stderr",
     "output_type": "stream",
     "text": [
      "[I 2025-05-19 14:59:50,211] Trial 2 finished with value: 0.755761287166467 and parameters: {'dim': 124, 'depth': 7, 'heads': 5, 'dropout': 0.06366593193176245, 'mlp_hidden_mults': (4, 2), 'mlp_act': <class 'torch.nn.modules.activation.GELU'>}. Best is trial 0 with value: 0.7719247006319827.\n"
     ]
    },
    {
     "name": "stdout",
     "output_type": "stream",
     "text": [
      "Best Epoch: 3 | Best F1 : 0.7768\n",
      "Best Epoch: 3 | Best F1 : 0.8111\n",
      "Best Epoch: 25 | Best F1 : 0.7843\n",
      "Best Epoch: 2 | Best F1 : 0.7260\n",
      "Best Epoch: 2 | Best F1 : 0.6694\n"
     ]
    },
    {
     "name": "stderr",
     "output_type": "stream",
     "text": [
      "[I 2025-05-19 15:00:25,006] Trial 3 finished with value: 0.7543105478519159 and parameters: {'dim': 72, 'depth': 2, 'heads': 4, 'dropout': 0.0225779314446789, 'mlp_hidden_mults': (4, 2), 'mlp_act': <class 'torch.nn.modules.activation.SiLU'>}. Best is trial 0 with value: 0.7719247006319827.\n"
     ]
    },
    {
     "name": "stdout",
     "output_type": "stream",
     "text": [
      "Best Epoch: 11 | Best F1 : 0.7809\n",
      "Best Epoch: 2 | Best F1 : 0.7768\n",
      "Best Epoch: 12 | Best F1 : 0.7843\n",
      "Best Epoch: 2 | Best F1 : 0.7486\n",
      "Best Epoch: 2 | Best F1 : 0.6764\n"
     ]
    },
    {
     "name": "stderr",
     "output_type": "stream",
     "text": [
      "[I 2025-05-19 15:01:06,961] Trial 4 finished with value: 0.74997807479774 and parameters: {'dim': 81, 'depth': 8, 'heads': 8, 'dropout': 0.42141834399521794, 'mlp_hidden_mults': (4, 1), 'mlp_act': <class 'torch.nn.modules.activation.GELU'>}. Best is trial 0 with value: 0.7719247006319827.\n"
     ]
    },
    {
     "name": "stdout",
     "output_type": "stream",
     "text": [
      "Best Epoch: 5 | Best F1 : 0.7638\n",
      "Best Epoch: 5 | Best F1 : 0.7809\n",
      "Best Epoch: 16 | Best F1 : 0.7843\n",
      "Best Epoch: 2 | Best F1 : 0.8087\n",
      "Best Epoch: 26 | Best F1 : 0.6651\n"
     ]
    },
    {
     "name": "stderr",
     "output_type": "stream",
     "text": [
      "[I 2025-05-19 15:02:09,780] Trial 5 finished with value: 0.7609708611347434 and parameters: {'dim': 120, 'depth': 2, 'heads': 3, 'dropout': 0.15615896394141116, 'mlp_hidden_mults': (4, 1), 'mlp_act': <class 'torch.nn.modules.activation.SiLU'>}. Best is trial 0 with value: 0.7719247006319827.\n"
     ]
    },
    {
     "name": "stdout",
     "output_type": "stream",
     "text": [
      "Best Epoch: 4 | Best F1 : 0.7659\n",
      "Best Epoch: 5 | Best F1 : 0.7809\n",
      "Best Epoch: 16 | Best F1 : 0.7869\n",
      "Best Epoch: 2 | Best F1 : 0.7476\n",
      "Best Epoch: 14 | Best F1 : 0.6651\n"
     ]
    },
    {
     "name": "stderr",
     "output_type": "stream",
     "text": [
      "[I 2025-05-19 15:02:55,247] Trial 6 finished with value: 0.7514429267224297 and parameters: {'dim': 126, 'depth': 7, 'heads': 3, 'dropout': 0.2930607816218359, 'mlp_hidden_mults': (2, 1), 'mlp_act': <class 'torch.nn.modules.activation.LeakyReLU'>}. Best is trial 0 with value: 0.7719247006319827.\n"
     ]
    },
    {
     "name": "stdout",
     "output_type": "stream",
     "text": [
      "Best Epoch: 5 | Best F1 : 0.7768\n",
      "Best Epoch: 2 | Best F1 : 0.8250\n",
      "Best Epoch: 16 | Best F1 : 0.7869\n",
      "Best Epoch: 6 | Best F1 : 0.7321\n",
      "Best Epoch: 10 | Best F1 : 0.6651\n"
     ]
    },
    {
     "name": "stderr",
     "output_type": "stream",
     "text": [
      "[I 2025-05-19 15:03:34,796] Trial 7 finished with value: 0.7482442676940285 and parameters: {'dim': 80, 'depth': 6, 'heads': 5, 'dropout': 0.054340651735419465, 'mlp_hidden_mults': (4, 1), 'mlp_act': <class 'torch.nn.modules.activation.LeakyReLU'>}. Best is trial 0 with value: 0.7719247006319827.\n"
     ]
    },
    {
     "name": "stdout",
     "output_type": "stream",
     "text": [
      "Best Epoch: 7 | Best F1 : 0.7321\n",
      "Best Epoch: 5 | Best F1 : 0.7768\n",
      "Best Epoch: 21 | Best F1 : 0.7869\n",
      "Best Epoch: 3 | Best F1 : 0.7809\n",
      "Best Epoch: 14 | Best F1 : 0.6651\n"
     ]
    },
    {
     "name": "stderr",
     "output_type": "stream",
     "text": [
      "[I 2025-05-19 15:04:13,124] Trial 8 finished with value: 0.7510090898284159 and parameters: {'dim': 80, 'depth': 6, 'heads': 6, 'dropout': 0.07484630655118818, 'mlp_hidden_mults': (4, 1), 'mlp_act': <class 'torch.nn.modules.activation.ReLU'>}. Best is trial 0 with value: 0.7719247006319827.\n"
     ]
    },
    {
     "name": "stdout",
     "output_type": "stream",
     "text": [
      "Best Epoch: 3 | Best F1 : 0.7455\n",
      "Best Epoch: 1 | Best F1 : 0.8179\n",
      "Best Epoch: 2 | Best F1 : 0.7869\n",
      "Best Epoch: 3 | Best F1 : 0.7843\n",
      "Best Epoch: 9 | Best F1 : 0.6812\n"
     ]
    },
    {
     "name": "stderr",
     "output_type": "stream",
     "text": [
      "[I 2025-05-19 15:04:48,083] Trial 9 finished with value: 0.7694166507878247 and parameters: {'dim': 97, 'depth': 4, 'heads': 6, 'dropout': 0.2851803278636386, 'mlp_hidden_mults': (2, 2), 'mlp_act': <class 'torch.nn.modules.activation.GELU'>}. Best is trial 0 with value: 0.7719247006319827.\n"
     ]
    },
    {
     "name": "stdout",
     "output_type": "stream",
     "text": [
      "Best Epoch: 9 | Best F1 : 0.7768\n",
      "Best Epoch: 9 | Best F1 : 0.8179\n",
      "Best Epoch: 5 | Best F1 : 0.7869\n",
      "Best Epoch: 1 | Best F1 : 0.7809\n",
      "Best Epoch: 36 | Best F1 : 0.6500\n"
     ]
    },
    {
     "name": "stderr",
     "output_type": "stream",
     "text": [
      "[I 2025-05-19 15:05:12,324] Trial 10 finished with value: 0.7668991101643052 and parameters: {'dim': 32, 'depth': 8, 'heads': 2, 'dropout': 0.20907362110245728, 'mlp_hidden_mults': (4, 2), 'mlp_act': <class 'torch.nn.modules.activation.ReLU'>}. Best is trial 0 with value: 0.7719247006319827.\n"
     ]
    },
    {
     "name": "stdout",
     "output_type": "stream",
     "text": [
      "Best Epoch: 5 | Best F1 : 0.7989\n",
      "Best Epoch: 2 | Best F1 : 0.8491\n",
      "Best Epoch: 16 | Best F1 : 0.7659\n",
      "Best Epoch: 3 | Best F1 : 0.7638\n",
      "Best Epoch: 4 | Best F1 : 0.6429\n"
     ]
    },
    {
     "name": "stderr",
     "output_type": "stream",
     "text": [
      "[I 2025-05-19 15:05:28,235] Trial 11 finished with value: 0.7596999468744517 and parameters: {'dim': 44, 'depth': 4, 'heads': 7, 'dropout': 0.3144320178338672, 'mlp_hidden_mults': (2, 2), 'mlp_act': <class 'torch.nn.modules.activation.GELU'>}. Best is trial 0 with value: 0.7719247006319827.\n"
     ]
    },
    {
     "name": "stdout",
     "output_type": "stream",
     "text": [
      "Best Epoch: 6 | Best F1 : 0.7768\n",
      "Best Epoch: 19 | Best F1 : 0.8039\n",
      "Best Epoch: 41 | Best F1 : 0.8087\n",
      "Best Epoch: 9 | Best F1 : 0.7322\n",
      "Best Epoch: 15 | Best F1 : 0.6359\n"
     ]
    },
    {
     "name": "stderr",
     "output_type": "stream",
     "text": [
      "[I 2025-05-19 15:05:49,205] Trial 12 finished with value: 0.7456633445462292 and parameters: {'dim': 59, 'depth': 4, 'heads': 6, 'dropout': 0.3538293478907311, 'mlp_hidden_mults': (2, 2), 'mlp_act': <class 'torch.nn.modules.activation.GELU'>}. Best is trial 0 with value: 0.7719247006319827.\n"
     ]
    },
    {
     "name": "stdout",
     "output_type": "stream",
     "text": [
      "Best Epoch: 10 | Best F1 : 0.7476\n",
      "Best Epoch: 8 | Best F1 : 0.7809\n",
      "Best Epoch: 3 | Best F1 : 0.7883\n",
      "Best Epoch: 6 | Best F1 : 0.6919\n",
      "Best Epoch: 23 | Best F1 : 0.6919\n"
     ]
    },
    {
     "name": "stderr",
     "output_type": "stream",
     "text": [
      "[I 2025-05-19 15:06:16,505] Trial 13 finished with value: 0.7492879685429261 and parameters: {'dim': 96, 'depth': 4, 'heads': 6, 'dropout': 0.20372556986128926, 'mlp_hidden_mults': (2, 1), 'mlp_act': <class 'torch.nn.modules.activation.GELU'>}. Best is trial 0 with value: 0.7719247006319827.\n"
     ]
    },
    {
     "name": "stdout",
     "output_type": "stream",
     "text": [
      "Best Epoch: 3 | Best F1 : 0.7935\n",
      "Best Epoch: 19 | Best F1 : 0.7869\n",
      "Best Epoch: 7 | Best F1 : 0.8039\n",
      "Best Epoch: 4 | Best F1 : 0.7486\n",
      "Best Epoch: 16 | Best F1 : 0.6651\n"
     ]
    },
    {
     "name": "stderr",
     "output_type": "stream",
     "text": [
      "[I 2025-05-19 15:07:21,723] Trial 14 finished with value: 0.7536506139544369 and parameters: {'dim': 103, 'depth': 3, 'heads': 4, 'dropout': 0.1393817096803977, 'mlp_hidden_mults': (4, 2), 'mlp_act': <class 'torch.nn.modules.activation.GELU'>}. Best is trial 0 with value: 0.7719247006319827.\n"
     ]
    },
    {
     "name": "stdout",
     "output_type": "stream",
     "text": [
      "Best Epoch: 3 | Best F1 : 0.7638\n",
      "Best Epoch: 8 | Best F1 : 0.7809\n",
      "Best Epoch: 4 | Best F1 : 0.7869\n",
      "Best Epoch: 18 | Best F1 : 0.7083\n",
      "Best Epoch: 4 | Best F1 : 0.6559\n"
     ]
    },
    {
     "name": "stderr",
     "output_type": "stream",
     "text": [
      "[I 2025-05-19 15:07:41,913] Trial 15 finished with value: 0.7391499903552036 and parameters: {'dim': 54, 'depth': 5, 'heads': 2, 'dropout': 0.27728408841899027, 'mlp_hidden_mults': (2, 2), 'mlp_act': <class 'torch.nn.modules.activation.GELU'>}. Best is trial 0 with value: 0.7719247006319827.\n"
     ]
    },
    {
     "name": "stdout",
     "output_type": "stream",
     "text": [
      "Best Epoch: 2 | Best F1 : 0.7638\n",
      "Best Epoch: 4 | Best F1 : 0.8111\n",
      "Best Epoch: 10 | Best F1 : 0.7843\n",
      "Best Epoch: 1 | Best F1 : 0.7486\n",
      "Best Epoch: 1 | Best F1 : 0.7083\n"
     ]
    },
    {
     "name": "stderr",
     "output_type": "stream",
     "text": [
      "[I 2025-05-19 15:08:21,897] Trial 16 finished with value: 0.7691513032321173 and parameters: {'dim': 108, 'depth': 3, 'heads': 8, 'dropout': 0.36875240870351034, 'mlp_hidden_mults': (2, 2), 'mlp_act': <class 'torch.nn.modules.activation.GELU'>}. Best is trial 0 with value: 0.7719247006319827.\n"
     ]
    },
    {
     "name": "stdout",
     "output_type": "stream",
     "text": [
      "Best Epoch: 4 | Best F1 : 0.7935\n",
      "Best Epoch: 4 | Best F1 : 0.8179\n",
      "Best Epoch: 14 | Best F1 : 0.7883\n",
      "Best Epoch: 41 | Best F1 : 0.7304\n",
      "Best Epoch: 34 | Best F1 : 0.6919\n"
     ]
    },
    {
     "name": "stderr",
     "output_type": "stream",
     "text": [
      "[I 2025-05-19 15:09:00,301] Trial 17 finished with value: 0.7643918950420583 and parameters: {'dim': 66, 'depth': 6, 'heads': 4, 'dropout': 0.22624433407907601, 'mlp_hidden_mults': (4, 2), 'mlp_act': <class 'torch.nn.modules.activation.SiLU'>}. Best is trial 0 with value: 0.7719247006319827.\n"
     ]
    },
    {
     "name": "stdout",
     "output_type": "stream",
     "text": [
      "Best Epoch: 1 | Best F1 : 0.7935\n",
      "Best Epoch: 3 | Best F1 : 0.8382\n",
      "Best Epoch: 11 | Best F1 : 0.7667\n",
      "Best Epoch: 4 | Best F1 : 0.7476\n",
      "Best Epoch: 11 | Best F1 : 0.6429\n"
     ]
    },
    {
     "name": "stderr",
     "output_type": "stream",
     "text": [
      "[I 2025-05-19 15:09:21,331] Trial 18 finished with value: 0.755245947897724 and parameters: {'dim': 43, 'depth': 7, 'heads': 7, 'dropout': 0.15547176515881736, 'mlp_hidden_mults': (2, 1), 'mlp_act': <class 'torch.nn.modules.activation.ReLU'>}. Best is trial 0 with value: 0.7719247006319827.\n"
     ]
    },
    {
     "name": "stdout",
     "output_type": "stream",
     "text": [
      "Best Epoch: 6 | Best F1 : 0.7809\n",
      "Best Epoch: 2 | Best F1 : 0.7638\n",
      "Best Epoch: 5 | Best F1 : 0.7667\n",
      "Best Epoch: 4 | Best F1 : 0.7608\n",
      "Best Epoch: 47 | Best F1 : 0.6764\n"
     ]
    },
    {
     "name": "stderr",
     "output_type": "stream",
     "text": [
      "[I 2025-05-19 15:10:07,613] Trial 19 finished with value: 0.74687730791702 and parameters: {'dim': 90, 'depth': 3, 'heads': 7, 'dropout': 0.41613892292924454, 'mlp_hidden_mults': (4, 2), 'mlp_act': <class 'torch.nn.modules.activation.GELU'>}. Best is trial 0 with value: 0.7719247006319827.\n"
     ]
    },
    {
     "name": "stdout",
     "output_type": "stream",
     "text": [
      "Best Epoch: 1 | Best F1 : 0.7667\n",
      "Best Epoch: 3 | Best F1 : 0.8179\n",
      "Best Epoch: 24 | Best F1 : 0.7657\n",
      "Best Epoch: 5 | Best F1 : 0.7173\n",
      "Best Epoch: 43 | Best F1 : 0.6651\n"
     ]
    },
    {
     "name": "stderr",
     "output_type": "stream",
     "text": [
      "[I 2025-05-19 15:10:51,446] Trial 20 finished with value: 0.7427696719907445 and parameters: {'dim': 108, 'depth': 5, 'heads': 5, 'dropout': 0.24222564302212848, 'mlp_hidden_mults': (2, 2), 'mlp_act': <class 'torch.nn.modules.activation.GELU'>}. Best is trial 0 with value: 0.7719247006319827.\n"
     ]
    },
    {
     "name": "stdout",
     "output_type": "stream",
     "text": [
      "Best Epoch: 2 | Best F1 : 0.7479\n",
      "Best Epoch: 4 | Best F1 : 0.7989\n",
      "Best Epoch: 7 | Best F1 : 0.8039\n",
      "Best Epoch: 4 | Best F1 : 0.7139\n",
      "Best Epoch: 29 | Best F1 : 0.7083\n"
     ]
    },
    {
     "name": "stderr",
     "output_type": "stream",
     "text": [
      "[I 2025-05-19 15:11:40,019] Trial 21 finished with value: 0.7647634139189832 and parameters: {'dim': 112, 'depth': 3, 'heads': 8, 'dropout': 0.3584078801385333, 'mlp_hidden_mults': (2, 2), 'mlp_act': <class 'torch.nn.modules.activation.GELU'>}. Best is trial 0 with value: 0.7719247006319827.\n"
     ]
    },
    {
     "name": "stdout",
     "output_type": "stream",
     "text": [
      "Best Epoch: 2 | Best F1 : 0.7989\n",
      "Best Epoch: 3 | Best F1 : 0.8382\n",
      "Best Epoch: 12 | Best F1 : 0.7843\n",
      "Best Epoch: 7 | Best F1 : 0.7173\n",
      "Best Epoch: 3 | Best F1 : 0.7260\n"
     ]
    },
    {
     "name": "stderr",
     "output_type": "stream",
     "text": [
      "[I 2025-05-19 15:12:24,799] Trial 22 finished with value: 0.7595820655123814 and parameters: {'dim': 115, 'depth': 4, 'heads': 8, 'dropout': 0.3419072803450743, 'mlp_hidden_mults': (2, 2), 'mlp_act': <class 'torch.nn.modules.activation.GELU'>}. Best is trial 0 with value: 0.7719247006319827.\n"
     ]
    },
    {
     "name": "stdout",
     "output_type": "stream",
     "text": [
      "Best Epoch: 12 | Best F1 : 0.7321\n",
      "Best Epoch: 2 | Best F1 : 0.8382\n",
      "Best Epoch: 10 | Best F1 : 0.7486\n",
      "Best Epoch: 2 | Best F1 : 0.7164\n",
      "Best Epoch: 2 | Best F1 : 0.6764\n"
     ]
    },
    {
     "name": "stderr",
     "output_type": "stream",
     "text": [
      "[I 2025-05-19 15:12:56,436] Trial 23 finished with value: 0.7419981398831486 and parameters: {'dim': 92, 'depth': 3, 'heads': 7, 'dropout': 0.42824665147822055, 'mlp_hidden_mults': (2, 2), 'mlp_act': <class 'torch.nn.modules.activation.GELU'>}. Best is trial 0 with value: 0.7719247006319827.\n"
     ]
    },
    {
     "name": "stdout",
     "output_type": "stream",
     "text": [
      "Best Epoch: 9 | Best F1 : 0.7304\n",
      "Best Epoch: 5 | Best F1 : 0.8179\n",
      "Best Epoch: 10 | Best F1 : 0.7843\n",
      "Best Epoch: 2 | Best F1 : 0.7659\n",
      "Best Epoch: 14 | Best F1 : 0.6812\n"
     ]
    },
    {
     "name": "stderr",
     "output_type": "stream",
     "text": [
      "[I 2025-05-19 15:13:33,466] Trial 24 finished with value: 0.7626305263997656 and parameters: {'dim': 105, 'depth': 2, 'heads': 6, 'dropout': 0.38784747414669785, 'mlp_hidden_mults': (2, 2), 'mlp_act': <class 'torch.nn.modules.activation.GELU'>}. Best is trial 0 with value: 0.7719247006319827.\n"
     ]
    },
    {
     "name": "stdout",
     "output_type": "stream",
     "text": [
      "Best Epoch: 4 | Best F1 : 0.7638\n",
      "Best Epoch: 6 | Best F1 : 0.7809\n",
      "Best Epoch: 10 | Best F1 : 0.8039\n",
      "Best Epoch: 2 | Best F1 : 0.7177\n",
      "Best Epoch: 10 | Best F1 : 0.6812\n"
     ]
    },
    {
     "name": "stderr",
     "output_type": "stream",
     "text": [
      "[I 2025-05-19 15:14:11,916] Trial 25 finished with value: 0.7431829084272832 and parameters: {'dim': 100, 'depth': 4, 'heads': 5, 'dropout': 0.26279992248846185, 'mlp_hidden_mults': (2, 2), 'mlp_act': <class 'torch.nn.modules.activation.GELU'>}. Best is trial 0 with value: 0.7719247006319827.\n"
     ]
    },
    {
     "name": "stdout",
     "output_type": "stream",
     "text": [
      "Best Epoch: 7 | Best F1 : 0.7321\n",
      "Best Epoch: 2 | Best F1 : 0.8382\n",
      "Best Epoch: 10 | Best F1 : 0.7843\n",
      "Best Epoch: 27 | Best F1 : 0.7479\n",
      "Best Epoch: 17 | Best F1 : 0.7177\n"
     ]
    },
    {
     "name": "stderr",
     "output_type": "stream",
     "text": [
      "[I 2025-05-19 15:15:10,845] Trial 26 finished with value: 0.7703939803274228 and parameters: {'dim': 88, 'depth': 3, 'heads': 8, 'dropout': 0.4863091964485983, 'mlp_hidden_mults': (4, 2), 'mlp_act': <class 'torch.nn.modules.activation.LeakyReLU'>}. Best is trial 0 with value: 0.7719247006319827.\n"
     ]
    },
    {
     "name": "stdout",
     "output_type": "stream",
     "text": [
      "Best Epoch: 2 | Best F1 : 0.7638\n",
      "Best Epoch: 4 | Best F1 : 0.8179\n",
      "Best Epoch: 16 | Best F1 : 0.7843\n",
      "Best Epoch: 9 | Best F1 : 0.7659\n",
      "Best Epoch: 24 | Best F1 : 0.6651\n"
     ]
    },
    {
     "name": "stderr",
     "output_type": "stream",
     "text": [
      "[I 2025-05-19 15:16:03,808] Trial 27 finished with value: 0.7598078831449657 and parameters: {'dim': 87, 'depth': 5, 'heads': 4, 'dropout': 0.48148831472714915, 'mlp_hidden_mults': (4, 2), 'mlp_act': <class 'torch.nn.modules.activation.LeakyReLU'>}. Best is trial 0 with value: 0.7719247006319827.\n"
     ]
    },
    {
     "name": "stdout",
     "output_type": "stream",
     "text": [
      "Best Epoch: 17 | Best F1 : 0.7659\n",
      "Best Epoch: 18 | Best F1 : 0.7667\n",
      "Best Epoch: 4 | Best F1 : 0.8087\n",
      "Best Epoch: 4 | Best F1 : 0.7322\n",
      "Best Epoch: 2 | Best F1 : 0.6812\n"
     ]
    },
    {
     "name": "stderr",
     "output_type": "stream",
     "text": [
      "[I 2025-05-19 15:16:43,027] Trial 28 finished with value: 0.7433804551967329 and parameters: {'dim': 70, 'depth': 6, 'heads': 7, 'dropout': 0.10261396321919611, 'mlp_hidden_mults': (4, 2), 'mlp_act': <class 'torch.nn.modules.activation.LeakyReLU'>}. Best is trial 0 with value: 0.7719247006319827.\n"
     ]
    },
    {
     "name": "stdout",
     "output_type": "stream",
     "text": [
      "Best Epoch: 2 | Best F1 : 0.7281\n",
      "Best Epoch: 4 | Best F1 : 0.7989\n",
      "Best Epoch: 1 | Best F1 : 0.7883\n",
      "Best Epoch: 4 | Best F1 : 0.7479\n",
      "Best Epoch: 12 | Best F1 : 0.6651\n"
     ]
    },
    {
     "name": "stderr",
     "output_type": "stream",
     "text": [
      "[I 2025-05-19 15:17:30,569] Trial 29 finished with value: 0.7587276561616233 and parameters: {'dim': 86, 'depth': 4, 'heads': 3, 'dropout': 0.49342455817028325, 'mlp_hidden_mults': (4, 2), 'mlp_act': <class 'torch.nn.modules.activation.LeakyReLU'>}. Best is trial 0 with value: 0.7719247006319827.\n"
     ]
    },
    {
     "name": "stdout",
     "output_type": "stream",
     "text": [
      "Best Epoch: 7 | Best F1 : 0.7935\n",
      "Best Epoch: 3 | Best F1 : 0.8250\n",
      "Best Epoch: 11 | Best F1 : 0.7659\n",
      "Best Epoch: 2 | Best F1 : 0.7387\n",
      "Best Epoch: 2 | Best F1 : 0.6500\n"
     ]
    },
    {
     "name": "stderr",
     "output_type": "stream",
     "text": [
      "[I 2025-05-19 15:18:01,659] Trial 30 finished with value: 0.7454353368433398 and parameters: {'dim': 61, 'depth': 5, 'heads': 2, 'dropout': 0.18981250570134892, 'mlp_hidden_mults': (4, 2), 'mlp_act': <class 'torch.nn.modules.activation.LeakyReLU'>}. Best is trial 0 with value: 0.7719247006319827.\n"
     ]
    },
    {
     "name": "stdout",
     "output_type": "stream",
     "text": [
      "Best Epoch: 7 | Best F1 : 0.7476\n",
      "Best Epoch: 2 | Best F1 : 0.7869\n",
      "Best Epoch: 9 | Best F1 : 0.7843\n",
      "Best Epoch: 4 | Best F1 : 0.7486\n",
      "Best Epoch: 11 | Best F1 : 0.6651\n"
     ]
    },
    {
     "name": "stderr",
     "output_type": "stream",
     "text": [
      "[I 2025-05-19 15:18:33,590] Trial 31 finished with value: 0.7502898044677944 and parameters: {'dim': 94, 'depth': 3, 'heads': 8, 'dropout': 0.4503078168650322, 'mlp_hidden_mults': (2, 2), 'mlp_act': <class 'torch.nn.modules.activation.LeakyReLU'>}. Best is trial 0 with value: 0.7719247006319827.\n"
     ]
    },
    {
     "name": "stdout",
     "output_type": "stream",
     "text": [
      "Best Epoch: 2 | Best F1 : 0.7667\n",
      "Best Epoch: 5 | Best F1 : 0.7809\n",
      "Best Epoch: 7 | Best F1 : 0.7843\n",
      "Best Epoch: 3 | Best F1 : 0.7476\n",
      "Best Epoch: 13 | Best F1 : 0.6919\n"
     ]
    },
    {
     "name": "stderr",
     "output_type": "stream",
     "text": [
      "[I 2025-05-19 15:20:03,052] Trial 32 finished with value: 0.7553550977008638 and parameters: {'dim': 116, 'depth': 3, 'heads': 8, 'dropout': 0.3017512986473526, 'mlp_hidden_mults': (4, 2), 'mlp_act': <class 'torch.nn.modules.activation.ReLU'>}. Best is trial 0 with value: 0.7719247006319827.\n"
     ]
    },
    {
     "name": "stdout",
     "output_type": "stream",
     "text": [
      "Best Epoch: 5 | Best F1 : 0.7721\n",
      "Best Epoch: 28 | Best F1 : 0.7667\n",
      "Best Epoch: 27 | Best F1 : 0.8087\n",
      "Best Epoch: 2 | Best F1 : 0.7667\n",
      "Best Epoch: 28 | Best F1 : 0.6651\n"
     ]
    },
    {
     "name": "stderr",
     "output_type": "stream",
     "text": [
      "[I 2025-05-19 15:20:26,180] Trial 33 finished with value: 0.7535887102207652 and parameters: {'dim': 99, 'depth': 2, 'heads': 7, 'dropout': 0.32885070967336094, 'mlp_hidden_mults': (2, 1), 'mlp_act': <class 'torch.nn.modules.activation.GELU'>}. Best is trial 0 with value: 0.7719247006319827.\n"
     ]
    },
    {
     "name": "stdout",
     "output_type": "stream",
     "text": [
      "Best Epoch: 9 | Best F1 : 0.7608\n",
      "Best Epoch: 1 | Best F1 : 0.7869\n",
      "Best Epoch: 14 | Best F1 : 0.7843\n",
      "Best Epoch: 30 | Best F1 : 0.7479\n",
      "Best Epoch: 3 | Best F1 : 0.6559\n"
     ]
    },
    {
     "name": "stderr",
     "output_type": "stream",
     "text": [
      "[I 2025-05-19 15:21:04,617] Trial 34 finished with value: 0.7481566710084298 and parameters: {'dim': 75, 'depth': 2, 'heads': 8, 'dropout': 0.3857449211715759, 'mlp_hidden_mults': (4, 2), 'mlp_act': <class 'torch.nn.modules.activation.SiLU'>}. Best is trial 0 with value: 0.7719247006319827.\n"
     ]
    },
    {
     "name": "stdout",
     "output_type": "stream",
     "text": [
      "Best Epoch: 8 | Best F1 : 0.7659\n",
      "Best Epoch: 3 | Best F1 : 0.8039\n",
      "Best Epoch: 9 | Best F1 : 0.8039\n",
      "Best Epoch: 3 | Best F1 : 0.7173\n",
      "Best Epoch: 3 | Best F1 : 0.6500\n"
     ]
    },
    {
     "name": "stderr",
     "output_type": "stream",
     "text": [
      "[I 2025-05-19 15:21:42,523] Trial 35 finished with value: 0.7558867386656434 and parameters: {'dim': 110, 'depth': 3, 'heads': 5, 'dropout': 0.45442452517597814, 'mlp_hidden_mults': (2, 2), 'mlp_act': <class 'torch.nn.modules.activation.SiLU'>}. Best is trial 0 with value: 0.7719247006319827.\n"
     ]
    },
    {
     "name": "stdout",
     "output_type": "stream",
     "text": [
      "Best Epoch: 2 | Best F1 : 0.8043\n",
      "Best Epoch: 5 | Best F1 : 0.8111\n",
      "Best Epoch: 7 | Best F1 : 0.7883\n",
      "Best Epoch: 23 | Best F1 : 0.7479\n",
      "Best Epoch: 28 | Best F1 : 0.6812\n"
     ]
    },
    {
     "name": "stderr",
     "output_type": "stream",
     "text": [
      "[I 2025-05-19 15:22:21,506] Trial 36 finished with value: 0.7625587733788575 and parameters: {'dim': 76, 'depth': 8, 'heads': 6, 'dropout': 0.25328183470816684, 'mlp_hidden_mults': (4, 1), 'mlp_act': <class 'torch.nn.modules.activation.GELU'>}. Best is trial 0 with value: 0.7719247006319827.\n"
     ]
    },
    {
     "name": "stdout",
     "output_type": "stream",
     "text": [
      "Best Epoch: 3 | Best F1 : 0.7843\n",
      "Best Epoch: 2 | Best F1 : 0.8111\n",
      "Best Epoch: 9 | Best F1 : 0.7486\n",
      "Best Epoch: 5 | Best F1 : 0.7304\n",
      "Best Epoch: 11 | Best F1 : 0.6651\n"
     ]
    },
    {
     "name": "stderr",
     "output_type": "stream",
     "text": [
      "[I 2025-05-19 15:23:43,991] Trial 37 finished with value: 0.7478678040099493 and parameters: {'dim': 120, 'depth': 4, 'heads': 8, 'dropout': 0.377084156336162, 'mlp_hidden_mults': (4, 2), 'mlp_act': <class 'torch.nn.modules.activation.LeakyReLU'>}. Best is trial 0 with value: 0.7719247006319827.\n"
     ]
    },
    {
     "name": "stdout",
     "output_type": "stream",
     "text": [
      "Best Epoch: 1 | Best F1 : 0.7843\n",
      "Best Epoch: 14 | Best F1 : 0.7843\n",
      "Best Epoch: 36 | Best F1 : 0.8087\n",
      "Best Epoch: 2 | Best F1 : 0.7304\n",
      "Best Epoch: 4 | Best F1 : 0.6983\n"
     ]
    },
    {
     "name": "stderr",
     "output_type": "stream",
     "text": [
      "[I 2025-05-19 15:24:24,552] Trial 38 finished with value: 0.7596885300444001 and parameters: {'dim': 84, 'depth': 7, 'heads': 3, 'dropout': 0.28039958999565195, 'mlp_hidden_mults': (4, 1), 'mlp_act': <class 'torch.nn.modules.activation.GELU'>}. Best is trial 0 with value: 0.7719247006319827.\n"
     ]
    },
    {
     "name": "stdout",
     "output_type": "stream",
     "text": [
      "Best Epoch: 5 | Best F1 : 0.7768\n",
      "Best Epoch: 2 | Best F1 : 0.8111\n",
      "Best Epoch: 40 | Best F1 : 0.7869\n",
      "Best Epoch: 5 | Best F1 : 0.7322\n",
      "Best Epoch: 46 | Best F1 : 0.6359\n"
     ]
    },
    {
     "name": "stderr",
     "output_type": "stream",
     "text": [
      "[I 2025-05-19 15:24:34,490] Trial 39 finished with value: 0.757477361382769 and parameters: {'dim': 34, 'depth': 2, 'heads': 7, 'dropout': 0.18988568839021672, 'mlp_hidden_mults': (2, 2), 'mlp_act': <class 'torch.nn.modules.activation.LeakyReLU'>}. Best is trial 0 with value: 0.7719247006319827.\n"
     ]
    },
    {
     "name": "stdout",
     "output_type": "stream",
     "text": [
      "Best Epoch: 3 | Best F1 : 0.8214\n",
      "Best Epoch: 21 | Best F1 : 0.7869\n",
      "Best Epoch: 5 | Best F1 : 0.7667\n",
      "Best Epoch: 4 | Best F1 : 0.7476\n",
      "Best Epoch: 9 | Best F1 : 0.6738\n"
     ]
    },
    {
     "name": "stderr",
     "output_type": "stream",
     "text": [
      "[I 2025-05-19 15:24:47,249] Trial 40 finished with value: 0.7572064240147284 and parameters: {'dim': 47, 'depth': 3, 'heads': 8, 'dropout': 0.31573434476182205, 'mlp_hidden_mults': (2, 1), 'mlp_act': <class 'torch.nn.modules.activation.ReLU'>}. Best is trial 0 with value: 0.7719247006319827.\n"
     ]
    },
    {
     "name": "stdout",
     "output_type": "stream",
     "text": [
      "Best Epoch: 6 | Best F1 : 0.8111\n",
      "Best Epoch: 12 | Best F1 : 0.8179\n",
      "Best Epoch: 30 | Best F1 : 0.8326\n",
      "Best Epoch: 4 | Best F1 : 0.7166\n",
      "Best Epoch: 37 | Best F1 : 0.6651\n"
     ]
    },
    {
     "name": "stderr",
     "output_type": "stream",
     "text": [
      "[I 2025-05-19 15:25:11,022] Trial 41 finished with value: 0.7592062298896753 and parameters: {'dim': 33, 'depth': 8, 'heads': 2, 'dropout': 0.2253891872345207, 'mlp_hidden_mults': (4, 2), 'mlp_act': <class 'torch.nn.modules.activation.ReLU'>}. Best is trial 0 with value: 0.7719247006319827.\n"
     ]
    },
    {
     "name": "stdout",
     "output_type": "stream",
     "text": [
      "Best Epoch: 7 | Best F1 : 0.7638\n",
      "Best Epoch: 12 | Best F1 : 0.7989\n",
      "Best Epoch: 4 | Best F1 : 0.7869\n",
      "Best Epoch: 2 | Best F1 : 0.7659\n",
      "Best Epoch: 36 | Best F1 : 0.7083\n"
     ]
    },
    {
     "name": "stderr",
     "output_type": "stream",
     "text": [
      "[I 2025-05-19 15:25:36,372] Trial 42 finished with value: 0.770688874800934 and parameters: {'dim': 38, 'depth': 8, 'heads': 2, 'dropout': 0.1987106273910546, 'mlp_hidden_mults': (4, 2), 'mlp_act': <class 'torch.nn.modules.activation.ReLU'>}. Best is trial 0 with value: 0.7719247006319827.\n"
     ]
    },
    {
     "name": "stdout",
     "output_type": "stream",
     "text": [
      "Best Epoch: 2 | Best F1 : 0.7935\n",
      "Best Epoch: 2 | Best F1 : 0.8250\n",
      "Best Epoch: 10 | Best F1 : 0.7659\n",
      "Best Epoch: 2 | Best F1 : 0.7304\n",
      "Best Epoch: 3 | Best F1 : 0.6359\n"
     ]
    },
    {
     "name": "stderr",
     "output_type": "stream",
     "text": [
      "[I 2025-05-19 15:26:01,858] Trial 43 finished with value: 0.7445962616717742 and parameters: {'dim': 40, 'depth': 8, 'heads': 3, 'dropout': 0.16673559558980858, 'mlp_hidden_mults': (4, 2), 'mlp_act': <class 'torch.nn.modules.activation.ReLU'>}. Best is trial 0 with value: 0.7719247006319827.\n"
     ]
    },
    {
     "name": "stdout",
     "output_type": "stream",
     "text": [
      "Best Epoch: 4 | Best F1 : 0.7659\n",
      "Best Epoch: 2 | Best F1 : 0.8179\n",
      "Best Epoch: 24 | Best F1 : 0.8039\n",
      "Best Epoch: 5 | Best F1 : 0.7322\n",
      "Best Epoch: 15 | Best F1 : 0.6651\n"
     ]
    },
    {
     "name": "stderr",
     "output_type": "stream",
     "text": [
      "[I 2025-05-19 15:26:29,915] Trial 44 finished with value: 0.752906670900479 and parameters: {'dim': 51, 'depth': 7, 'heads': 2, 'dropout': 0.10848577300826956, 'mlp_hidden_mults': (4, 2), 'mlp_act': <class 'torch.nn.modules.activation.ReLU'>}. Best is trial 0 with value: 0.7719247006319827.\n"
     ]
    },
    {
     "name": "stdout",
     "output_type": "stream",
     "text": [
      "Best Epoch: 1 | Best F1 : 0.7455\n",
      "Best Epoch: 5 | Best F1 : 0.7809\n",
      "Best Epoch: 8 | Best F1 : 0.8039\n",
      "Best Epoch: 1 | Best F1 : 0.7768\n",
      "Best Epoch: 2 | Best F1 : 0.7139\n"
     ]
    },
    {
     "name": "stderr",
     "output_type": "stream",
     "text": [
      "[I 2025-05-19 15:28:13,571] Trial 45 finished with value: 0.7611584515421483 and parameters: {'dim': 128, 'depth': 8, 'heads': 2, 'dropout': 0.004023593444826945, 'mlp_hidden_mults': (4, 2), 'mlp_act': <class 'torch.nn.modules.activation.GELU'>}. Best is trial 0 with value: 0.7719247006319827.\n"
     ]
    },
    {
     "name": "stdout",
     "output_type": "stream",
     "text": [
      "Best Epoch: 8 | Best F1 : 0.7304\n",
      "Best Epoch: 7 | Best F1 : 0.7989\n",
      "Best Epoch: 38 | Best F1 : 0.7869\n",
      "Best Epoch: 3 | Best F1 : 0.7450\n",
      "Best Epoch: 3 | Best F1 : 0.6694\n"
     ]
    },
    {
     "name": "stderr",
     "output_type": "stream",
     "text": [
      "[I 2025-05-19 15:29:01,318] Trial 46 finished with value: 0.7561881216617424 and parameters: {'dim': 103, 'depth': 7, 'heads': 4, 'dropout': 0.2317120115867736, 'mlp_hidden_mults': (4, 1), 'mlp_act': <class 'torch.nn.modules.activation.SiLU'>}. Best is trial 0 with value: 0.7719247006319827.\n"
     ]
    },
    {
     "name": "stdout",
     "output_type": "stream",
     "text": [
      "Best Epoch: 2 | Best F1 : 0.7809\n",
      "Best Epoch: 7 | Best F1 : 0.8179\n",
      "Best Epoch: 14 | Best F1 : 0.7843\n",
      "Best Epoch: 2 | Best F1 : 0.7322\n",
      "Best Epoch: 5 | Best F1 : 0.6429\n"
     ]
    },
    {
     "name": "stderr",
     "output_type": "stream",
     "text": [
      "[I 2025-05-19 15:29:19,627] Trial 47 finished with value: 0.7516191382514155 and parameters: {'dim': 39, 'depth': 4, 'heads': 3, 'dropout': 0.28606383350543535, 'mlp_hidden_mults': (4, 2), 'mlp_act': <class 'torch.nn.modules.activation.ReLU'>}. Best is trial 0 with value: 0.7719247006319827.\n"
     ]
    },
    {
     "name": "stdout",
     "output_type": "stream",
     "text": [
      "Best Epoch: 1 | Best F1 : 0.7809\n",
      "Best Epoch: 3 | Best F1 : 0.7768\n",
      "Best Epoch: 4 | Best F1 : 0.7869\n",
      "Best Epoch: 5 | Best F1 : 0.7083\n",
      "Best Epoch: 4 | Best F1 : 0.6835\n"
     ]
    },
    {
     "name": "stderr",
     "output_type": "stream",
     "text": [
      "[I 2025-05-19 15:30:04,525] Trial 48 finished with value: 0.7344120705243027 and parameters: {'dim': 98, 'depth': 8, 'heads': 6, 'dropout': 0.17326033280534597, 'mlp_hidden_mults': (2, 2), 'mlp_act': <class 'torch.nn.modules.activation.GELU'>}. Best is trial 0 with value: 0.7719247006319827.\n"
     ]
    },
    {
     "name": "stdout",
     "output_type": "stream",
     "text": [
      "Best Epoch: 10 | Best F1 : 0.7166\n",
      "Best Epoch: 3 | Best F1 : 0.7809\n",
      "Best Epoch: 20 | Best F1 : 0.7667\n",
      "Best Epoch: 2 | Best F1 : 0.7476\n",
      "Best Epoch: 7 | Best F1 : 0.6606\n"
     ]
    },
    {
     "name": "stderr",
     "output_type": "stream",
     "text": [
      "[I 2025-05-19 15:30:32,947] Trial 49 finished with value: 0.7433122600902781 and parameters: {'dim': 51, 'depth': 7, 'heads': 4, 'dropout': 0.1335218819683247, 'mlp_hidden_mults': (4, 2), 'mlp_act': <class 'torch.nn.modules.activation.GELU'>}. Best is trial 0 with value: 0.7719247006319827.\n"
     ]
    },
    {
     "name": "stdout",
     "output_type": "stream",
     "text": [
      "Best Epoch: 4 | Best F1 : 0.7608\n",
      "Best Epoch: 3 | Best F1 : 0.8179\n",
      "Best Epoch: 28 | Best F1 : 0.8039\n",
      "Best Epoch: 7 | Best F1 : 0.7659\n",
      "Best Epoch: 16 | Best F1 : 0.6500\n"
     ]
    },
    {
     "name": "stderr",
     "output_type": "stream",
     "text": [
      "[I 2025-05-19 15:30:50,620] Trial 50 finished with value: 0.7711261940673706 and parameters: {'dim': 59, 'depth': 5, 'heads': 5, 'dropout': 0.4059299426745726, 'mlp_hidden_mults': (2, 1), 'mlp_act': <class 'torch.nn.modules.activation.ReLU'>}. Best is trial 0 with value: 0.7719247006319827.\n"
     ]
    },
    {
     "name": "stdout",
     "output_type": "stream",
     "text": [
      "Best Epoch: 3 | Best F1 : 0.8179\n",
      "Best Epoch: 4 | Best F1 : 0.7989\n",
      "Best Epoch: 22 | Best F1 : 0.8250\n",
      "Best Epoch: 3 | Best F1 : 0.7809\n",
      "Best Epoch: 27 | Best F1 : 0.6651\n"
     ]
    },
    {
     "name": "stderr",
     "output_type": "stream",
     "text": [
      "[I 2025-05-19 15:31:08,625] Trial 51 finished with value: 0.767291715386326 and parameters: {'dim': 58, 'depth': 5, 'heads': 5, 'dropout': 0.4088448945267765, 'mlp_hidden_mults': (2, 1), 'mlp_act': <class 'torch.nn.modules.activation.ReLU'>}. Best is trial 0 with value: 0.7719247006319827.\n"
     ]
    },
    {
     "name": "stdout",
     "output_type": "stream",
     "text": [
      "Best Epoch: 3 | Best F1 : 0.7667\n",
      "Best Epoch: 3 | Best F1 : 0.7935\n",
      "Best Epoch: 13 | Best F1 : 0.7843\n",
      "Best Epoch: 4 | Best F1 : 0.7476\n",
      "Best Epoch: 1 | Best F1 : 0.6825\n"
     ]
    },
    {
     "name": "stderr",
     "output_type": "stream",
     "text": [
      "[I 2025-05-19 15:31:29,626] Trial 52 finished with value: 0.7480200214376005 and parameters: {'dim': 63, 'depth': 6, 'heads': 5, 'dropout': 0.4500504878513102, 'mlp_hidden_mults': (2, 1), 'mlp_act': <class 'torch.nn.modules.activation.ReLU'>}. Best is trial 0 with value: 0.7719247006319827.\n"
     ]
    },
    {
     "name": "stdout",
     "output_type": "stream",
     "text": [
      "Best Epoch: 6 | Best F1 : 0.7321\n",
      "Best Epoch: 6 | Best F1 : 0.7989\n",
      "Best Epoch: 10 | Best F1 : 0.7843\n",
      "Best Epoch: 2 | Best F1 : 0.7659\n",
      "Best Epoch: 1 | Best F1 : 0.7177\n"
     ]
    },
    {
     "name": "stderr",
     "output_type": "stream",
     "text": [
      "[I 2025-05-19 15:31:43,928] Trial 53 finished with value: 0.7629322941165742 and parameters: {'dim': 47, 'depth': 4, 'heads': 7, 'dropout': 0.3652378073450793, 'mlp_hidden_mults': (2, 1), 'mlp_act': <class 'torch.nn.modules.activation.ReLU'>}. Best is trial 0 with value: 0.7719247006319827.\n"
     ]
    },
    {
     "name": "stdout",
     "output_type": "stream",
     "text": [
      "Best Epoch: 13 | Best F1 : 0.7479\n",
      "Best Epoch: 3 | Best F1 : 0.8382\n",
      "Best Epoch: 19 | Best F1 : 0.8039\n",
      "Best Epoch: 4 | Best F1 : 0.7476\n",
      "Best Epoch: 40 | Best F1 : 0.6480\n"
     ]
    },
    {
     "name": "stderr",
     "output_type": "stream",
     "text": [
      "[I 2025-05-19 15:31:59,177] Trial 54 finished with value: 0.7629064306815423 and parameters: {'dim': 38, 'depth': 5, 'heads': 6, 'dropout': 0.4048420465882371, 'mlp_hidden_mults': (2, 1), 'mlp_act': <class 'torch.nn.modules.activation.ReLU'>}. Best is trial 0 with value: 0.7719247006319827.\n"
     ]
    },
    {
     "name": "stdout",
     "output_type": "stream",
     "text": [
      "Best Epoch: 2 | Best F1 : 0.7768\n",
      "Best Epoch: 31 | Best F1 : 0.7869\n",
      "Best Epoch: 17 | Best F1 : 0.7843\n",
      "Best Epoch: 3 | Best F1 : 0.7166\n",
      "Best Epoch: 36 | Best F1 : 0.6618\n"
     ]
    },
    {
     "name": "stderr",
     "output_type": "stream",
     "text": [
      "[I 2025-05-19 15:32:20,782] Trial 55 finished with value: 0.7460903742479269 and parameters: {'dim': 56, 'depth': 6, 'heads': 3, 'dropout': 0.476845717914343, 'mlp_hidden_mults': (2, 2), 'mlp_act': <class 'torch.nn.modules.activation.GELU'>}. Best is trial 0 with value: 0.7719247006319827.\n"
     ]
    },
    {
     "name": "stdout",
     "output_type": "stream",
     "text": [
      "Best Epoch: 3 | Best F1 : 0.7809\n",
      "Best Epoch: 4 | Best F1 : 0.7989\n",
      "Best Epoch: 46 | Best F1 : 0.8326\n",
      "Best Epoch: 12 | Best F1 : 0.7657\n",
      "Best Epoch: 23 | Best F1 : 0.6500\n"
     ]
    },
    {
     "name": "stderr",
     "output_type": "stream",
     "text": [
      "[I 2025-05-19 15:32:39,341] Trial 56 finished with value: 0.7621923138013356 and parameters: {'dim': 67, 'depth': 4, 'heads': 2, 'dropout': 0.4375242970127506, 'mlp_hidden_mults': (2, 1), 'mlp_act': <class 'torch.nn.modules.activation.LeakyReLU'>}. Best is trial 0 with value: 0.7719247006319827.\n"
     ]
    },
    {
     "name": "stdout",
     "output_type": "stream",
     "text": [
      "Best Epoch: 1 | Best F1 : 0.7638\n",
      "Best Epoch: 4 | Best F1 : 0.8179\n",
      "Best Epoch: 9 | Best F1 : 0.7659\n",
      "Best Epoch: 7 | Best F1 : 0.7139\n",
      "Best Epoch: 31 | Best F1 : 0.6764\n"
     ]
    },
    {
     "name": "stderr",
     "output_type": "stream",
     "text": [
      "[I 2025-05-19 15:33:08,244] Trial 57 finished with value: 0.7570300518754927 and parameters: {'dim': 80, 'depth': 5, 'heads': 4, 'dropout': 0.20774017422759458, 'mlp_hidden_mults': (2, 2), 'mlp_act': <class 'torch.nn.modules.activation.GELU'>}. Best is trial 0 with value: 0.7719247006319827.\n"
     ]
    },
    {
     "name": "stdout",
     "output_type": "stream",
     "text": [
      "Best Epoch: 2 | Best F1 : 0.8111\n",
      "Best Epoch: 3 | Best F1 : 0.8179\n",
      "Best Epoch: 6 | Best F1 : 0.7843\n",
      "Best Epoch: 4 | Best F1 : 0.7166\n",
      "Best Epoch: 4 | Best F1 : 0.6694\n"
     ]
    },
    {
     "name": "stderr",
     "output_type": "stream",
     "text": [
      "[I 2025-05-19 15:34:00,860] Trial 58 finished with value: 0.7563340613807085 and parameters: {'dim': 89, 'depth': 3, 'heads': 7, 'dropout': 0.26542223240064855, 'mlp_hidden_mults': (4, 2), 'mlp_act': <class 'torch.nn.modules.activation.ReLU'>}. Best is trial 0 with value: 0.7719247006319827.\n"
     ]
    },
    {
     "name": "stdout",
     "output_type": "stream",
     "text": [
      "Best Epoch: 5 | Best F1 : 0.7935\n",
      "Best Epoch: 6 | Best F1 : 0.8296\n",
      "Best Epoch: 5 | Best F1 : 0.7869\n",
      "Best Epoch: 44 | Best F1 : 0.7479\n",
      "Best Epoch: 11 | Best F1 : 0.6500\n"
     ]
    },
    {
     "name": "stderr",
     "output_type": "stream",
     "text": [
      "[I 2025-05-19 15:34:16,022] Trial 59 finished with value: 0.7664479575893323 and parameters: {'dim': 44, 'depth': 3, 'heads': 6, 'dropout': 0.3406310470519893, 'mlp_hidden_mults': (4, 1), 'mlp_act': <class 'torch.nn.modules.activation.GELU'>}. Best is trial 0 with value: 0.7719247006319827.\n"
     ]
    },
    {
     "name": "stdout",
     "output_type": "stream",
     "text": [
      "Best Epoch: 31 | Best F1 : 0.8179\n",
      "Best Epoch: 2 | Best F1 : 0.7989\n",
      "Best Epoch: 14 | Best F1 : 0.7843\n",
      "Best Epoch: 6 | Best F1 : 0.7486\n",
      "Best Epoch: 40 | Best F1 : 0.6500\n"
     ]
    },
    {
     "name": "stderr",
     "output_type": "stream",
     "text": [
      "[I 2025-05-19 15:35:05,011] Trial 60 finished with value: 0.7495167187651879 and parameters: {'dim': 107, 'depth': 6, 'heads': 8, 'dropout': 0.30414279631383867, 'mlp_hidden_mults': (2, 2), 'mlp_act': <class 'torch.nn.modules.activation.SiLU'>}. Best is trial 0 with value: 0.7719247006319827.\n"
     ]
    },
    {
     "name": "stdout",
     "output_type": "stream",
     "text": [
      "Best Epoch: 3 | Best F1 : 0.7659\n",
      "Best Epoch: 9 | Best F1 : 0.7989\n",
      "Best Epoch: 19 | Best F1 : 0.7843\n",
      "Best Epoch: 3 | Best F1 : 0.7809\n",
      "Best Epoch: 22 | Best F1 : 0.6651\n"
     ]
    },
    {
     "name": "stderr",
     "output_type": "stream",
     "text": [
      "[I 2025-05-19 15:35:22,724] Trial 61 finished with value: 0.76117222752955 and parameters: {'dim': 55, 'depth': 5, 'heads': 5, 'dropout': 0.40559846599324423, 'mlp_hidden_mults': (2, 1), 'mlp_act': <class 'torch.nn.modules.activation.ReLU'>}. Best is trial 0 with value: 0.7719247006319827.\n"
     ]
    },
    {
     "name": "stdout",
     "output_type": "stream",
     "text": [
      "Best Epoch: 4 | Best F1 : 0.7768\n",
      "Best Epoch: 13 | Best F1 : 0.7935\n",
      "Best Epoch: 12 | Best F1 : 0.7843\n",
      "Best Epoch: 6 | Best F1 : 0.7476\n",
      "Best Epoch: 1 | Best F1 : 0.7387\n"
     ]
    },
    {
     "name": "stderr",
     "output_type": "stream",
     "text": [
      "[I 2025-05-19 15:35:39,952] Trial 62 finished with value: 0.762396678767199 and parameters: {'dim': 52, 'depth': 5, 'heads': 5, 'dropout': 0.4047665578066503, 'mlp_hidden_mults': (2, 1), 'mlp_act': <class 'torch.nn.modules.activation.ReLU'>}. Best is trial 0 with value: 0.7719247006319827.\n"
     ]
    },
    {
     "name": "stdout",
     "output_type": "stream",
     "text": [
      "Best Epoch: 2 | Best F1 : 0.7479\n",
      "Best Epoch: 2 | Best F1 : 0.7935\n",
      "Best Epoch: 20 | Best F1 : 0.8087\n",
      "Best Epoch: 9 | Best F1 : 0.7322\n",
      "Best Epoch: 4 | Best F1 : 0.6987\n"
     ]
    },
    {
     "name": "stderr",
     "output_type": "stream",
     "text": [
      "[I 2025-05-19 15:35:56,746] Trial 63 finished with value: 0.7599605650772456 and parameters: {'dim': 60, 'depth': 4, 'heads': 5, 'dropout': 0.499062380930596, 'mlp_hidden_mults': (2, 1), 'mlp_act': <class 'torch.nn.modules.activation.ReLU'>}. Best is trial 0 with value: 0.7719247006319827.\n"
     ]
    },
    {
     "name": "stdout",
     "output_type": "stream",
     "text": [
      "Best Epoch: 4 | Best F1 : 0.7667\n",
      "Best Epoch: 9 | Best F1 : 0.7935\n",
      "Best Epoch: 12 | Best F1 : 0.7843\n",
      "Best Epoch: 5 | Best F1 : 0.7173\n",
      "Best Epoch: 32 | Best F1 : 0.6919\n"
     ]
    },
    {
     "name": "stderr",
     "output_type": "stream",
     "text": [
      "[I 2025-05-19 15:36:15,810] Trial 64 finished with value: 0.743829602346313 and parameters: {'dim': 65, 'depth': 5, 'heads': 4, 'dropout': 0.37773867477422746, 'mlp_hidden_mults': (2, 1), 'mlp_act': <class 'torch.nn.modules.activation.ReLU'>}. Best is trial 0 with value: 0.7719247006319827.\n"
     ]
    },
    {
     "name": "stdout",
     "output_type": "stream",
     "text": [
      "Best Epoch: 5 | Best F1 : 0.7322\n",
      "Best Epoch: 1 | Best F1 : 0.8250\n",
      "Best Epoch: 19 | Best F1 : 0.8039\n",
      "Best Epoch: 2 | Best F1 : 0.7843\n",
      "Best Epoch: 19 | Best F1 : 0.7083\n"
     ]
    },
    {
     "name": "stderr",
     "output_type": "stream",
     "text": [
      "[I 2025-05-19 15:36:39,571] Trial 65 finished with value: 0.7707362544401428 and parameters: {'dim': 93, 'depth': 4, 'heads': 5, 'dropout': 0.4676336726080028, 'mlp_hidden_mults': (2, 1), 'mlp_act': <class 'torch.nn.modules.activation.LeakyReLU'>}. Best is trial 0 with value: 0.7719247006319827.\n"
     ]
    },
    {
     "name": "stdout",
     "output_type": "stream",
     "text": [
      "Best Epoch: 3 | Best F1 : 0.7321\n",
      "Best Epoch: 14 | Best F1 : 0.7869\n",
      "Best Epoch: 10 | Best F1 : 0.7843\n",
      "Best Epoch: 7 | Best F1 : 0.7139\n",
      "Best Epoch: 20 | Best F1 : 0.6500\n"
     ]
    },
    {
     "name": "stderr",
     "output_type": "stream",
     "text": [
      "[I 2025-05-19 15:37:46,303] Trial 66 finished with value: 0.746771791973612 and parameters: {'dim': 93, 'depth': 4, 'heads': 3, 'dropout': 0.46336499841691076, 'mlp_hidden_mults': (4, 2), 'mlp_act': <class 'torch.nn.modules.activation.LeakyReLU'>}. Best is trial 0 with value: 0.7719247006319827.\n"
     ]
    },
    {
     "name": "stdout",
     "output_type": "stream",
     "text": [
      "Best Epoch: 5 | Best F1 : 0.7989\n",
      "Best Epoch: 17 | Best F1 : 0.7869\n",
      "Best Epoch: 14 | Best F1 : 0.7843\n",
      "Best Epoch: 5 | Best F1 : 0.7476\n",
      "Best Epoch: 18 | Best F1 : 0.6812\n"
     ]
    },
    {
     "name": "stderr",
     "output_type": "stream",
     "text": [
      "[I 2025-05-19 15:38:19,934] Trial 67 finished with value: 0.7553590853643494 and parameters: {'dim': 96, 'depth': 3, 'heads': 6, 'dropout': 0.47522059150417967, 'mlp_hidden_mults': (2, 2), 'mlp_act': <class 'torch.nn.modules.activation.LeakyReLU'>}. Best is trial 0 with value: 0.7719247006319827.\n"
     ]
    },
    {
     "name": "stdout",
     "output_type": "stream",
     "text": [
      "Best Epoch: 4 | Best F1 : 0.7768\n",
      "Best Epoch: 12 | Best F1 : 0.7869\n",
      "Best Epoch: 11 | Best F1 : 0.7659\n",
      "Best Epoch: 3 | Best F1 : 0.7809\n",
      "Best Epoch: 19 | Best F1 : 0.6651\n"
     ]
    },
    {
     "name": "stderr",
     "output_type": "stream",
     "text": [
      "[I 2025-05-19 15:39:14,299] Trial 68 finished with value: 0.751897351012779 and parameters: {'dim': 83, 'depth': 4, 'heads': 4, 'dropout': 0.43736860655584886, 'mlp_hidden_mults': (4, 2), 'mlp_act': <class 'torch.nn.modules.activation.LeakyReLU'>}. Best is trial 0 with value: 0.7719247006319827.\n"
     ]
    },
    {
     "name": "stdout",
     "output_type": "stream",
     "text": [
      "Best Epoch: 5 | Best F1 : 0.7608\n",
      "Best Epoch: 6 | Best F1 : 0.7989\n",
      "Best Epoch: 17 | Best F1 : 0.7843\n",
      "Best Epoch: 8 | Best F1 : 0.6987\n",
      "Best Epoch: 11 | Best F1 : 0.6651\n"
     ]
    },
    {
     "name": "stderr",
     "output_type": "stream",
     "text": [
      "[I 2025-05-19 15:39:36,378] Trial 69 finished with value: 0.7415419775949404 and parameters: {'dim': 91, 'depth': 2, 'heads': 8, 'dropout': 0.4329637685273656, 'mlp_hidden_mults': (2, 1), 'mlp_act': <class 'torch.nn.modules.activation.LeakyReLU'>}. Best is trial 0 with value: 0.7719247006319827.\n"
     ]
    },
    {
     "name": "stdout",
     "output_type": "stream",
     "text": [
      "Best Epoch: 5 | Best F1 : 0.7608\n",
      "Best Epoch: 5 | Best F1 : 0.7935\n",
      "Best Epoch: 9 | Best F1 : 0.8039\n",
      "Best Epoch: 14 | Best F1 : 0.7177\n",
      "Best Epoch: 32 | Best F1 : 0.6651\n"
     ]
    },
    {
     "name": "stderr",
     "output_type": "stream",
     "text": [
      "[I 2025-05-19 15:40:10,719] Trial 70 finished with value: 0.7529058224054198 and parameters: {'dim': 101, 'depth': 3, 'heads': 2, 'dropout': 0.24656060201589663, 'mlp_hidden_mults': (2, 2), 'mlp_act': <class 'torch.nn.modules.activation.GELU'>}. Best is trial 0 with value: 0.7719247006319827.\n"
     ]
    },
    {
     "name": "stdout",
     "output_type": "stream",
     "text": [
      "Best Epoch: 2 | Best F1 : 0.7843\n",
      "Best Epoch: 1 | Best F1 : 0.8725\n",
      "Best Epoch: 9 | Best F1 : 0.7843\n",
      "Best Epoch: 6 | Best F1 : 0.7322\n",
      "Best Epoch: 24 | Best F1 : 0.6812\n"
     ]
    },
    {
     "name": "stderr",
     "output_type": "stream",
     "text": [
      "[I 2025-05-19 15:40:28,686] Trial 71 finished with value: 0.7727403625110221 and parameters: {'dim': 57, 'depth': 5, 'heads': 5, 'dropout': 0.4174687450263009, 'mlp_hidden_mults': (2, 1), 'mlp_act': <class 'torch.nn.modules.activation.LeakyReLU'>}. Best is trial 71 with value: 0.7727403625110221.\n"
     ]
    },
    {
     "name": "stdout",
     "output_type": "stream",
     "text": [
      "Best Epoch: 1 | Best F1 : 0.7935\n",
      "Best Epoch: 3 | Best F1 : 0.7809\n",
      "Best Epoch: 2 | Best F1 : 0.7619\n",
      "Best Epoch: 4 | Best F1 : 0.7638\n",
      "Best Epoch: 15 | Best F1 : 0.6429\n"
     ]
    },
    {
     "name": "stderr",
     "output_type": "stream",
     "text": [
      "[I 2025-05-19 15:40:44,822] Trial 72 finished with value: 0.7507502348430306 and parameters: {'dim': 47, 'depth': 5, 'heads': 5, 'dropout': 0.42162927198348854, 'mlp_hidden_mults': (2, 1), 'mlp_act': <class 'torch.nn.modules.activation.LeakyReLU'>}. Best is trial 71 with value: 0.7727403625110221.\n"
     ]
    },
    {
     "name": "stdout",
     "output_type": "stream",
     "text": [
      "Best Epoch: 4 | Best F1 : 0.8043\n",
      "Best Epoch: 5 | Best F1 : 0.8179\n",
      "Best Epoch: 7 | Best F1 : 0.8087\n",
      "Best Epoch: 7 | Best F1 : 0.7450\n",
      "Best Epoch: 19 | Best F1 : 0.6651\n"
     ]
    },
    {
     "name": "stderr",
     "output_type": "stream",
     "text": [
      "[I 2025-05-19 15:41:05,454] Trial 73 finished with value: 0.7695567032326609 and parameters: {'dim': 77, 'depth': 4, 'heads': 5, 'dropout': 0.4638579831706921, 'mlp_hidden_mults': (2, 1), 'mlp_act': <class 'torch.nn.modules.activation.LeakyReLU'>}. Best is trial 71 with value: 0.7727403625110221.\n"
     ]
    },
    {
     "name": "stdout",
     "output_type": "stream",
     "text": [
      "Best Epoch: 4 | Best F1 : 0.8111\n",
      "Best Epoch: 4 | Best F1 : 0.7935\n",
      "Best Epoch: 42 | Best F1 : 0.8087\n",
      "Best Epoch: 11 | Best F1 : 0.7638\n",
      "Best Epoch: 16 | Best F1 : 0.6651\n"
     ]
    },
    {
     "name": "stderr",
     "output_type": "stream",
     "text": [
      "[I 2025-05-19 15:41:25,932] Trial 74 finished with value: 0.7589981162713225 and parameters: {'dim': 71, 'depth': 4, 'heads': 5, 'dropout': 0.47329754052020345, 'mlp_hidden_mults': (2, 1), 'mlp_act': <class 'torch.nn.modules.activation.LeakyReLU'>}. Best is trial 71 with value: 0.7727403625110221.\n"
     ]
    },
    {
     "name": "stdout",
     "output_type": "stream",
     "text": [
      "Best Epoch: 6 | Best F1 : 0.7638\n",
      "Best Epoch: 1 | Best F1 : 0.8599\n",
      "Best Epoch: 13 | Best F1 : 0.8039\n",
      "Best Epoch: 21 | Best F1 : 0.7479\n",
      "Best Epoch: 9 | Best F1 : 0.6559\n"
     ]
    },
    {
     "name": "stderr",
     "output_type": "stream",
     "text": [
      "[I 2025-05-19 15:41:48,205] Trial 75 finished with value: 0.7668563826710625 and parameters: {'dim': 74, 'depth': 5, 'heads': 5, 'dropout': 0.4584930354093183, 'mlp_hidden_mults': (2, 1), 'mlp_act': <class 'torch.nn.modules.activation.LeakyReLU'>}. Best is trial 71 with value: 0.7727403625110221.\n"
     ]
    },
    {
     "name": "stdout",
     "output_type": "stream",
     "text": [
      "Best Epoch: 19 | Best F1 : 0.7667\n",
      "Best Epoch: 4 | Best F1 : 0.8382\n",
      "Best Epoch: 3 | Best F1 : 0.7869\n",
      "Best Epoch: 3 | Best F1 : 0.7321\n",
      "Best Epoch: 32 | Best F1 : 0.6764\n"
     ]
    },
    {
     "name": "stderr",
     "output_type": "stream",
     "text": [
      "[I 2025-05-19 15:42:10,305] Trial 76 finished with value: 0.7599061806172376 and parameters: {'dim': 86, 'depth': 4, 'heads': 6, 'dropout': 0.49065230898885637, 'mlp_hidden_mults': (2, 1), 'mlp_act': <class 'torch.nn.modules.activation.LeakyReLU'>}. Best is trial 71 with value: 0.7727403625110221.\n"
     ]
    },
    {
     "name": "stdout",
     "output_type": "stream",
     "text": [
      "Best Epoch: 1 | Best F1 : 0.7659\n",
      "Best Epoch: 4 | Best F1 : 0.7935\n",
      "Best Epoch: 10 | Best F1 : 0.8039\n",
      "Best Epoch: 16 | Best F1 : 0.7450\n",
      "Best Epoch: 15 | Best F1 : 0.6812\n"
     ]
    },
    {
     "name": "stderr",
     "output_type": "stream",
     "text": [
      "[I 2025-05-19 15:42:39,396] Trial 77 finished with value: 0.7634343451583449 and parameters: {'dim': 78, 'depth': 8, 'heads': 4, 'dropout': 0.4439031395301809, 'mlp_hidden_mults': (2, 1), 'mlp_act': <class 'torch.nn.modules.activation.LeakyReLU'>}. Best is trial 71 with value: 0.7727403625110221.\n"
     ]
    },
    {
     "name": "stdout",
     "output_type": "stream",
     "text": [
      "Best Epoch: 4 | Best F1 : 0.7935\n",
      "Best Epoch: 8 | Best F1 : 0.7989\n",
      "Best Epoch: 13 | Best F1 : 0.7843\n",
      "Best Epoch: 10 | Best F1 : 0.7638\n",
      "Best Epoch: 32 | Best F1 : 0.6500\n"
     ]
    },
    {
     "name": "stderr",
     "output_type": "stream",
     "text": [
      "[I 2025-05-19 15:42:56,937] Trial 78 finished with value: 0.7521598809897435 and parameters: {'dim': 43, 'depth': 6, 'heads': 5, 'dropout': 0.18764055381251432, 'mlp_hidden_mults': (2, 1), 'mlp_act': <class 'torch.nn.modules.activation.LeakyReLU'>}. Best is trial 71 with value: 0.7727403625110221.\n"
     ]
    },
    {
     "name": "stdout",
     "output_type": "stream",
     "text": [
      "Best Epoch: 5 | Best F1 : 0.7638\n",
      "Best Epoch: 2 | Best F1 : 0.8599\n",
      "Best Epoch: 22 | Best F1 : 0.8039\n",
      "Best Epoch: 21 | Best F1 : 0.7479\n",
      "Best Epoch: 22 | Best F1 : 0.6651\n"
     ]
    },
    {
     "name": "stderr",
     "output_type": "stream",
     "text": [
      "[I 2025-05-19 15:43:14,405] Trial 79 finished with value: 0.7775805206145763 and parameters: {'dim': 36, 'depth': 4, 'heads': 5, 'dropout': 0.39153463752779954, 'mlp_hidden_mults': (4, 2), 'mlp_act': <class 'torch.nn.modules.activation.LeakyReLU'>}. Best is trial 79 with value: 0.7775805206145763.\n"
     ]
    },
    {
     "name": "stdout",
     "output_type": "stream",
     "text": [
      "Best Epoch: 3 | Best F1 : 0.8111\n",
      "Best Epoch: 8 | Best F1 : 0.7935\n",
      "Best Epoch: 6 | Best F1 : 0.8039\n",
      "Best Epoch: 19 | Best F1 : 0.7260\n",
      "Best Epoch: 24 | Best F1 : 0.6651\n"
     ]
    },
    {
     "name": "stderr",
     "output_type": "stream",
     "text": [
      "[I 2025-05-19 15:43:30,704] Trial 80 finished with value: 0.746785204198583 and parameters: {'dim': 34, 'depth': 4, 'heads': 4, 'dropout': 0.3935024860902008, 'mlp_hidden_mults': (4, 2), 'mlp_act': <class 'torch.nn.modules.activation.LeakyReLU'>}. Best is trial 79 with value: 0.7775805206145763.\n"
     ]
    },
    {
     "name": "stdout",
     "output_type": "stream",
     "text": [
      "Best Epoch: 4 | Best F1 : 0.7455\n",
      "Best Epoch: 1 | Best F1 : 0.8087\n",
      "Best Epoch: 6 | Best F1 : 0.7479\n",
      "Best Epoch: 12 | Best F1 : 0.7479\n",
      "Best Epoch: 36 | Best F1 : 0.6651\n"
     ]
    },
    {
     "name": "stderr",
     "output_type": "stream",
     "text": [
      "[I 2025-05-19 15:43:48,014] Trial 81 finished with value: 0.7472559851456466 and parameters: {'dim': 36, 'depth': 4, 'heads': 5, 'dropout': 0.4229130902501077, 'mlp_hidden_mults': (4, 2), 'mlp_act': <class 'torch.nn.modules.activation.LeakyReLU'>}. Best is trial 79 with value: 0.7775805206145763.\n"
     ]
    },
    {
     "name": "stdout",
     "output_type": "stream",
     "text": [
      "Best Epoch: 2 | Best F1 : 0.7667\n",
      "Best Epoch: 2 | Best F1 : 0.8478\n",
      "Best Epoch: 15 | Best F1 : 0.7843\n",
      "Best Epoch: 7 | Best F1 : 0.7321\n",
      "Best Epoch: 15 | Best F1 : 0.6500\n"
     ]
    },
    {
     "name": "stderr",
     "output_type": "stream",
     "text": [
      "[I 2025-05-19 15:44:06,796] Trial 82 finished with value: 0.7615393180660982 and parameters: {'dim': 41, 'depth': 4, 'heads': 5, 'dropout': 0.4635176524148144, 'mlp_hidden_mults': (4, 2), 'mlp_act': <class 'torch.nn.modules.activation.LeakyReLU'>}. Best is trial 79 with value: 0.7775805206145763.\n"
     ]
    },
    {
     "name": "stdout",
     "output_type": "stream",
     "text": [
      "Best Epoch: 4 | Best F1 : 0.7935\n",
      "Best Epoch: 13 | Best F1 : 0.8087\n",
      "Best Epoch: 11 | Best F1 : 0.7843\n",
      "Best Epoch: 3 | Best F1 : 0.7476\n",
      "Best Epoch: 18 | Best F1 : 0.6651\n"
     ]
    },
    {
     "name": "stderr",
     "output_type": "stream",
     "text": [
      "[I 2025-05-19 15:44:31,853] Trial 83 finished with value: 0.7543216940761882 and parameters: {'dim': 49, 'depth': 5, 'heads': 6, 'dropout': 0.21627647728824706, 'mlp_hidden_mults': (4, 2), 'mlp_act': <class 'torch.nn.modules.activation.LeakyReLU'>}. Best is trial 79 with value: 0.7775805206145763.\n"
     ]
    },
    {
     "name": "stdout",
     "output_type": "stream",
     "text": [
      "Best Epoch: 5 | Best F1 : 0.7659\n",
      "Best Epoch: 5 | Best F1 : 0.7989\n",
      "Best Epoch: 4 | Best F1 : 0.7869\n",
      "Best Epoch: 9 | Best F1 : 0.7177\n",
      "Best Epoch: 10 | Best F1 : 0.6651\n"
     ]
    },
    {
     "name": "stderr",
     "output_type": "stream",
     "text": [
      "[I 2025-05-19 15:45:03,987] Trial 84 finished with value: 0.7498795399196668 and parameters: {'dim': 68, 'depth': 4, 'heads': 5, 'dropout': 0.4848653021782273, 'mlp_hidden_mults': (4, 2), 'mlp_act': <class 'torch.nn.modules.activation.LeakyReLU'>}. Best is trial 79 with value: 0.7775805206145763.\n"
     ]
    },
    {
     "name": "stdout",
     "output_type": "stream",
     "text": [
      "Best Epoch: 4 | Best F1 : 0.7809\n",
      "Best Epoch: 2 | Best F1 : 0.7989\n",
      "Best Epoch: 14 | Best F1 : 0.7659\n",
      "Best Epoch: 6 | Best F1 : 0.7166\n",
      "Best Epoch: 5 | Best F1 : 0.6812\n"
     ]
    },
    {
     "name": "stderr",
     "output_type": "stream",
     "text": [
      "[I 2025-05-19 15:45:37,031] Trial 85 finished with value: 0.7389497162659572 and parameters: {'dim': 95, 'depth': 7, 'heads': 6, 'dropout': 0.4654856462966822, 'mlp_hidden_mults': (2, 1), 'mlp_act': <class 'torch.nn.modules.activation.LeakyReLU'>}. Best is trial 79 with value: 0.7775805206145763.\n"
     ]
    },
    {
     "name": "stdout",
     "output_type": "stream",
     "text": [
      "Best Epoch: 12 | Best F1 : 0.7322\n",
      "Best Epoch: 2 | Best F1 : 0.8382\n",
      "Best Epoch: 30 | Best F1 : 0.7843\n",
      "Best Epoch: 5 | Best F1 : 0.7476\n",
      "Best Epoch: 24 | Best F1 : 0.6651\n"
     ]
    },
    {
     "name": "stderr",
     "output_type": "stream",
     "text": [
      "[I 2025-05-19 15:46:31,442] Trial 86 finished with value: 0.7706206410442823 and parameters: {'dim': 88, 'depth': 5, 'heads': 5, 'dropout': 0.2360075976775725, 'mlp_hidden_mults': (4, 2), 'mlp_act': <class 'torch.nn.modules.activation.LeakyReLU'>}. Best is trial 79 with value: 0.7775805206145763.\n"
     ]
    },
    {
     "name": "stdout",
     "output_type": "stream",
     "text": [
      "Best Epoch: 4 | Best F1 : 0.8179\n",
      "Best Epoch: 3 | Best F1 : 0.7935\n",
      "Best Epoch: 13 | Best F1 : 0.7659\n",
      "Best Epoch: 6 | Best F1 : 0.7322\n",
      "Best Epoch: 11 | Best F1 : 0.6651\n"
     ]
    },
    {
     "name": "stderr",
     "output_type": "stream",
     "text": [
      "[I 2025-05-19 15:47:33,602] Trial 87 finished with value: 0.740853205082443 and parameters: {'dim': 88, 'depth': 5, 'heads': 5, 'dropout': 0.2615027316647116, 'mlp_hidden_mults': (4, 2), 'mlp_act': <class 'torch.nn.modules.activation.LeakyReLU'>}. Best is trial 79 with value: 0.7775805206145763.\n"
     ]
    },
    {
     "name": "stdout",
     "output_type": "stream",
     "text": [
      "Best Epoch: 4 | Best F1 : 0.7476\n",
      "Best Epoch: 7 | Best F1 : 0.7989\n",
      "Best Epoch: 11 | Best F1 : 0.7667\n",
      "Best Epoch: 1 | Best F1 : 0.7486\n",
      "Best Epoch: 3 | Best F1 : 0.6987\n"
     ]
    },
    {
     "name": "stderr",
     "output_type": "stream",
     "text": [
      "[I 2025-05-19 15:48:01,908] Trial 88 finished with value: 0.7587317553561814 and parameters: {'dim': 57, 'depth': 5, 'heads': 5, 'dropout': 0.2332121718613037, 'mlp_hidden_mults': (4, 2), 'mlp_act': <class 'torch.nn.modules.activation.LeakyReLU'>}. Best is trial 79 with value: 0.7775805206145763.\n"
     ]
    },
    {
     "name": "stdout",
     "output_type": "stream",
     "text": [
      "Best Epoch: 4 | Best F1 : 0.7809\n",
      "Best Epoch: 4 | Best F1 : 0.8250\n",
      "Best Epoch: 16 | Best F1 : 0.7667\n",
      "Best Epoch: 2 | Best F1 : 0.7083\n",
      "Best Epoch: 13 | Best F1 : 0.6651\n"
     ]
    },
    {
     "name": "stderr",
     "output_type": "stream",
     "text": [
      "[I 2025-05-19 15:48:47,101] Trial 89 finished with value: 0.746347687400319 and parameters: {'dim': 81, 'depth': 6, 'heads': 4, 'dropout': 0.21888482311779997, 'mlp_hidden_mults': (4, 2), 'mlp_act': <class 'torch.nn.modules.activation.LeakyReLU'>}. Best is trial 79 with value: 0.7775805206145763.\n"
     ]
    },
    {
     "name": "stdout",
     "output_type": "stream",
     "text": [
      "Best Epoch: 12 | Best F1 : 0.7667\n",
      "Best Epoch: 1 | Best F1 : 0.8599\n",
      "Best Epoch: 10 | Best F1 : 0.7657\n",
      "Best Epoch: 5 | Best F1 : 0.7486\n",
      "Best Epoch: 4 | Best F1 : 0.6694\n"
     ]
    },
    {
     "name": "stderr",
     "output_type": "stream",
     "text": [
      "[I 2025-05-19 15:49:12,231] Trial 90 finished with value: 0.7763495830615849 and parameters: {'dim': 37, 'depth': 8, 'heads': 5, 'dropout': 0.1970993517635358, 'mlp_hidden_mults': (4, 2), 'mlp_act': <class 'torch.nn.modules.activation.LeakyReLU'>}. Best is trial 79 with value: 0.7775805206145763.\n"
     ]
    },
    {
     "name": "stdout",
     "output_type": "stream",
     "text": [
      "Best Epoch: 2 | Best F1 : 0.8382\n",
      "Best Epoch: 14 | Best F1 : 0.8039\n",
      "Best Epoch: 4 | Best F1 : 0.7869\n",
      "Best Epoch: 6 | Best F1 : 0.7659\n",
      "Best Epoch: 25 | Best F1 : 0.6618\n"
     ]
    },
    {
     "name": "stderr",
     "output_type": "stream",
     "text": [
      "[I 2025-05-19 15:49:35,825] Trial 91 finished with value: 0.7501362743876234 and parameters: {'dim': 32, 'depth': 8, 'heads': 5, 'dropout': 0.18632811702594926, 'mlp_hidden_mults': (4, 2), 'mlp_act': <class 'torch.nn.modules.activation.LeakyReLU'>}. Best is trial 79 with value: 0.7775805206145763.\n"
     ]
    },
    {
     "name": "stdout",
     "output_type": "stream",
     "text": [
      "Best Epoch: 9 | Best F1 : 0.7322\n",
      "Best Epoch: 4 | Best F1 : 0.8111\n",
      "Best Epoch: 13 | Best F1 : 0.7843\n",
      "Best Epoch: 5 | Best F1 : 0.7476\n",
      "Best Epoch: 27 | Best F1 : 0.6500\n"
     ]
    },
    {
     "name": "stderr",
     "output_type": "stream",
     "text": [
      "[I 2025-05-19 15:50:00,895] Trial 92 finished with value: 0.7517719315005411 and parameters: {'dim': 37, 'depth': 8, 'heads': 5, 'dropout': 0.1769781450851108, 'mlp_hidden_mults': (4, 2), 'mlp_act': <class 'torch.nn.modules.activation.LeakyReLU'>}. Best is trial 79 with value: 0.7775805206145763.\n"
     ]
    },
    {
     "name": "stdout",
     "output_type": "stream",
     "text": [
      "Best Epoch: 3 | Best F1 : 0.7659\n",
      "Best Epoch: 8 | Best F1 : 0.7935\n",
      "Best Epoch: 19 | Best F1 : 0.8250\n",
      "Best Epoch: 13 | Best F1 : 0.7304\n",
      "Best Epoch: 1 | Best F1 : 0.6812\n"
     ]
    },
    {
     "name": "stderr",
     "output_type": "stream",
     "text": [
      "[I 2025-05-19 15:50:26,002] Trial 93 finished with value: 0.7621945793474707 and parameters: {'dim': 35, 'depth': 8, 'heads': 5, 'dropout': 0.1517658126761175, 'mlp_hidden_mults': (4, 2), 'mlp_act': <class 'torch.nn.modules.activation.LeakyReLU'>}. Best is trial 79 with value: 0.7775805206145763.\n"
     ]
    },
    {
     "name": "stdout",
     "output_type": "stream",
     "text": [
      "Best Epoch: 11 | Best F1 : 0.7809\n",
      "Best Epoch: 2 | Best F1 : 0.7989\n",
      "Best Epoch: 18 | Best F1 : 0.8039\n",
      "Best Epoch: 3 | Best F1 : 0.7659\n",
      "Best Epoch: 2 | Best F1 : 0.6987\n"
     ]
    },
    {
     "name": "stderr",
     "output_type": "stream",
     "text": [
      "[I 2025-05-19 15:50:51,928] Trial 94 finished with value: 0.7662399682656827 and parameters: {'dim': 41, 'depth': 8, 'heads': 5, 'dropout': 0.1986785011855604, 'mlp_hidden_mults': (4, 2), 'mlp_act': <class 'torch.nn.modules.activation.SiLU'>}. Best is trial 79 with value: 0.7775805206145763.\n"
     ]
    },
    {
     "name": "stdout",
     "output_type": "stream",
     "text": [
      "Best Epoch: 4 | Best F1 : 0.7638\n",
      "Best Epoch: 14 | Best F1 : 0.7869\n",
      "Best Epoch: 6 | Best F1 : 0.7869\n",
      "Best Epoch: 4 | Best F1 : 0.7173\n",
      "Best Epoch: 16 | Best F1 : 0.6812\n"
     ]
    },
    {
     "name": "stderr",
     "output_type": "stream",
     "text": [
      "[I 2025-05-19 15:51:17,563] Trial 95 finished with value: 0.7476312242792442 and parameters: {'dim': 63, 'depth': 5, 'heads': 4, 'dropout': 0.23564728634126403, 'mlp_hidden_mults': (4, 1), 'mlp_act': <class 'torch.nn.modules.activation.LeakyReLU'>}. Best is trial 79 with value: 0.7775805206145763.\n"
     ]
    },
    {
     "name": "stdout",
     "output_type": "stream",
     "text": [
      "Best Epoch: 15 | Best F1 : 0.7659\n",
      "Best Epoch: 9 | Best F1 : 0.8179\n",
      "Best Epoch: 14 | Best F1 : 0.8087\n",
      "Best Epoch: 11 | Best F1 : 0.7139\n",
      "Best Epoch: 17 | Best F1 : 0.6651\n"
     ]
    },
    {
     "name": "stderr",
     "output_type": "stream",
     "text": [
      "[I 2025-05-19 15:51:45,334] Trial 96 finished with value: 0.7501156815033095 and parameters: {'dim': 45, 'depth': 8, 'heads': 5, 'dropout': 0.44880972949987, 'mlp_hidden_mults': (4, 2), 'mlp_act': <class 'torch.nn.modules.activation.LeakyReLU'>}. Best is trial 79 with value: 0.7775805206145763.\n"
     ]
    },
    {
     "name": "stdout",
     "output_type": "stream",
     "text": [
      "Best Epoch: 2 | Best F1 : 0.7450\n",
      "Best Epoch: 2 | Best F1 : 0.8039\n",
      "Best Epoch: 8 | Best F1 : 0.7843\n",
      "Best Epoch: 2 | Best F1 : 0.7479\n",
      "Best Epoch: 23 | Best F1 : 0.6500\n"
     ]
    },
    {
     "name": "stderr",
     "output_type": "stream",
     "text": [
      "[I 2025-05-19 15:52:14,575] Trial 97 finished with value: 0.7468006802104509 and parameters: {'dim': 52, 'depth': 7, 'heads': 5, 'dropout': 0.1981483458681506, 'mlp_hidden_mults': (4, 2), 'mlp_act': <class 'torch.nn.modules.activation.LeakyReLU'>}. Best is trial 79 with value: 0.7775805206145763.\n"
     ]
    },
    {
     "name": "stdout",
     "output_type": "stream",
     "text": [
      "Best Epoch: 16 | Best F1 : 0.7479\n",
      "Best Epoch: 7 | Best F1 : 0.7843\n",
      "Best Epoch: 4 | Best F1 : 0.7883\n",
      "Best Epoch: 8 | Best F1 : 0.7322\n",
      "Best Epoch: 24 | Best F1 : 0.6651\n"
     ]
    },
    {
     "name": "stderr",
     "output_type": "stream",
     "text": [
      "[I 2025-05-19 15:52:40,300] Trial 98 finished with value: 0.7526691945144317 and parameters: {'dim': 84, 'depth': 6, 'heads': 2, 'dropout': 0.2548321299268963, 'mlp_hidden_mults': (2, 1), 'mlp_act': <class 'torch.nn.modules.activation.LeakyReLU'>}. Best is trial 79 with value: 0.7775805206145763.\n"
     ]
    },
    {
     "name": "stdout",
     "output_type": "stream",
     "text": [
      "Best Epoch: 3 | Best F1 : 0.7935\n",
      "Best Epoch: 11 | Best F1 : 0.7989\n",
      "Best Epoch: 39 | Best F1 : 0.7869\n",
      "Best Epoch: 5 | Best F1 : 0.7659\n",
      "Best Epoch: 1 | Best F1 : 0.6812\n"
     ]
    },
    {
     "name": "stderr",
     "output_type": "stream",
     "text": [
      "[I 2025-05-19 15:52:59,931] Trial 99 finished with value: 0.7627417794139596 and parameters: {'dim': 39, 'depth': 5, 'heads': 6, 'dropout': 0.2082675143610535, 'mlp_hidden_mults': (4, 2), 'mlp_act': <class 'torch.nn.modules.activation.LeakyReLU'>}. Best is trial 79 with value: 0.7775805206145763.\n"
     ]
    },
    {
     "name": "stdout",
     "output_type": "stream",
     "text": [
      "Best Epoch: 3 | Best F1 : 0.7809\n",
      "Best trial: FrozenTrial(number=79, state=1, values=[0.7775805206145763], datetime_start=datetime.datetime(2025, 5, 19, 15, 42, 56, 938026), datetime_complete=datetime.datetime(2025, 5, 19, 15, 43, 14, 404827), params={'dim': 36, 'depth': 4, 'heads': 5, 'dropout': 0.39153463752779954, 'mlp_hidden_mults': (4, 2), 'mlp_act': <class 'torch.nn.modules.activation.LeakyReLU'>}, user_attrs={}, system_attrs={}, intermediate_values={}, distributions={'dim': IntDistribution(high=128, log=False, low=32, step=1), 'depth': IntDistribution(high=8, log=False, low=2, step=1), 'heads': IntDistribution(high=8, log=False, low=2, step=1), 'dropout': FloatDistribution(high=0.5, log=False, low=0.0, step=None), 'mlp_hidden_mults': CategoricalDistribution(choices=((4, 2), (2, 1), (4, 1), (2, 2))), 'mlp_act': CategoricalDistribution(choices=(<class 'torch.nn.modules.activation.ReLU'>, <class 'torch.nn.modules.activation.GELU'>, <class 'torch.nn.modules.activation.LeakyReLU'>, <class 'torch.nn.modules.activation.SiLU'>))}, trial_id=79, value=None)\n",
      "Best value: 0.7775805206145763\n",
      "Best params: {'dim': 36, 'depth': 4, 'heads': 5, 'dropout': 0.39153463752779954, 'mlp_hidden_mults': (4, 2), 'mlp_act': <class 'torch.nn.modules.activation.LeakyReLU'>}\n"
     ]
    }
   ],
   "source": [
    "study = optuna.create_study(direction='maximize')\n",
    "study.optimize(lambda trial:objective(trial, df), n_trials=100)\n",
    "print(f'Best trial: {study.best_trial}')\n",
    "print(f'Best value: {study.best_value}')\n",
    "print(f'Best params: {study.best_params}')"
   ]
  },
  {
   "cell_type": "code",
   "execution_count": null,
   "id": "5d80ba33",
   "metadata": {},
   "outputs": [],
   "source": [
    "# Best Epoch: 5 | Best F1 : 0.7638\n",
    "# Best Epoch: 2 | Best F1 : 0.8599\n",
    "# Best Epoch: 22 | Best F1 : 0.8039\n",
    "# Best Epoch: 21 | Best F1 : 0.7479\n",
    "# Best Epoch: 22 | Best F1 : 0.6651\n",
    "# [I 2025-05-19 15:43:14,405] Trial 79 finished with value: 0.7775805206145763 and parameters: \n",
    "# # {'dim': 36, \n",
    "# 'depth': 4, \n",
    "# 'heads': 5, \n",
    "# 'dropout': 0.39153463752779954, \n",
    "# 'mlp_hidden_mults': (4, 2), \n",
    "# 'mlp_act': <class 'torch.nn.modules.activation.LeakyReLU'>}. Best is trial 79 with value: 0.7775805206145763."
   ]
  },
  {
   "cell_type": "code",
   "execution_count": 1,
   "id": "bc171b78",
   "metadata": {},
   "outputs": [],
   "source": [
    "def get_cv_results(f1s:list):\n",
    "    import numpy as np\n",
    "    import scipy.stats as st\n",
    "    f1s = np.array(f1s)\n",
    "    mean_f1 = np.mean(f1s)\n",
    "    std_f1 = np.std(f1s)\n",
    "    ci95 = st.t.interval(.95, df=len(f1s)-1, loc=mean_f1, scale=std_f1/np.sqrt(len(f1s)))\n",
    "    return mean_f1, std_f1, ci95"
   ]
  },
  {
   "cell_type": "code",
   "execution_count": 2,
   "id": "83f1b528",
   "metadata": {},
   "outputs": [
    {
     "name": "stdout",
     "output_type": "stream",
     "text": [
      "CV Results: Mean 0.77 | Std 0.06 | CI95% 0.69~0.85\n"
     ]
    }
   ],
   "source": [
    "mean_f1, std_f1, ci95 = get_cv_results([0.7638, 0.8599, 0.8039, 0.7479, 0.6651])\n",
    "print(f'CV Results: Mean {mean_f1:.2f} | Std {std_f1:.2f} | CI95% {ci95[0]:.2f}~{ci95[1]:.2f}')"
   ]
  }
 ],
 "metadata": {
  "kernelspec": {
   "display_name": "jhs_torch",
   "language": "python",
   "name": "python3"
  },
  "language_info": {
   "codemirror_mode": {
    "name": "ipython",
    "version": 3
   },
   "file_extension": ".py",
   "mimetype": "text/x-python",
   "name": "python",
   "nbconvert_exporter": "python",
   "pygments_lexer": "ipython3",
   "version": "3.11.9"
  }
 },
 "nbformat": 4,
 "nbformat_minor": 5
}
