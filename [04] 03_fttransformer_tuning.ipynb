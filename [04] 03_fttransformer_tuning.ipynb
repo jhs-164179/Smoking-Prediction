{
 "cells": [
  {
   "cell_type": "code",
   "execution_count": 2,
   "id": "230c86f5",
   "metadata": {},
   "outputs": [
    {
     "name": "stdout",
     "output_type": "stream",
     "text": [
      "Couldn't import dot_parser, loading of dot files will not be possible.\n"
     ]
    }
   ],
   "source": [
    "import warnings\n",
    "\n",
    "warnings.filterwarnings('ignore')\n",
    "\n",
    "import os\n",
    "import random\n",
    "import optuna\n",
    "import numpy as np\n",
    "import pandas as pd\n",
    "from tab_transformer_pytorch import FTTransformer\n",
    "import scipy.stats as st\n",
    "from sklearn.metrics import f1_score\n",
    "from sklearn.model_selection import train_test_split, StratifiedKFold\n",
    "from sklearn.preprocessing import MinMaxScaler, OrdinalEncoder, StandardScaler, OneHotEncoder\n",
    "import torch\n",
    "from torch import nn\n",
    "from torch.optim import Adam\n",
    "from torch.utils.data import Dataset, DataLoader"
   ]
  },
  {
   "cell_type": "code",
   "execution_count": 3,
   "id": "3e54b620",
   "metadata": {},
   "outputs": [],
   "source": [
    "def seed_everything(seed: int = 42):\n",
    "    random.seed(seed)\n",
    "    np.random.seed(seed)\n",
    "    os.environ[\"PYTHONHASHSEED\"] = str(seed)\n",
    "    torch.manual_seed(seed)\n",
    "    torch.cuda.manual_seed(seed)  # type: ignore\n",
    "    torch.backends.cudnn.deterministic = True  # type: ignore\n",
    "    torch.backends.cudnn.benchmark = False  # type: ignore\n",
    "\n",
    "seed_everything()   "
   ]
  },
  {
   "cell_type": "code",
   "execution_count": 4,
   "id": "aed3e22a",
   "metadata": {},
   "outputs": [],
   "source": [
    "df = pd.read_csv('./impute_set/imp3.csv')\n",
    "\n",
    "class CustomDataset(Dataset):\n",
    "    def __init__(self, x, y, cat_col, numeric_col):\n",
    "        self.X_cat = np.array(x[cat_col]).astype(np.int32)\n",
    "        self.X_num = np.array(x[numeric_col]).astype(np.float32)\n",
    "        self.y = np.array(y).astype(np.float32)\n",
    "        \n",
    "    def __len__(self):\n",
    "        return len(self.X_cat)\n",
    "    \n",
    "    def __getitem__(self, idx):\n",
    "        X_cat = torch.from_numpy(self.X_cat[idx])\n",
    "        X_num = torch.from_numpy(self.X_num[idx])\n",
    "        y = torch.from_numpy(self.y[idx])\n",
    "        return X_cat, X_num, y\n",
    "    \n",
    "\n",
    "\n",
    "def preprocessing(df, numeric='minmax', category='label'):\n",
    "    X = df.drop('BS3_1', axis=1)\n",
    "    y = df[['BS3_1']]\n",
    "    numeric_col = [\n",
    "        'FEV1', 'FEV1FVC', 'age', 'BS6_3', 'BS6_2_1', 'BD1',\n",
    "        '건강문해력', 'Total_slp_wk', 'EQ_5D', 'BE3_31', 'BE5_1', '질환유병기간'\n",
    "    ]\n",
    "    cat_col = []\n",
    "    for col in X.columns:\n",
    "        if col not in numeric_col:\n",
    "            cat_col.append(col)\n",
    "\n",
    "    df_num, df_cat = X[numeric_col], X[cat_col]\n",
    "    if numeric == 'minmax':\n",
    "        n_pre = MinMaxScaler()\n",
    "    else:\n",
    "        n_pre = StandardScaler()\n",
    "    df_num = pd.DataFrame(n_pre.fit_transform(df_num), columns=df_num.columns)\n",
    "\n",
    "    if category == 'label':\n",
    "        c_pre = OrdinalEncoder()\n",
    "        df_cat = pd.DataFrame(c_pre.fit_transform(df_cat), columns=df_cat.columns)\n",
    "    else:\n",
    "        c_pre = OneHotEncoder(sparse_output=False)\n",
    "        df_cat = pd.DataFrame(c_pre.fit_transform(df_cat))\n",
    "\n",
    "    X = pd.concat([df_num, df_cat], axis=1)\n",
    "    uniques = []\n",
    "    for col in cat_col:\n",
    "        uniques.append(len(X[col].unique()))\n",
    "\n",
    "    return X, y, uniques, numeric_col, cat_col    \n",
    "\n",
    "def test_with_imputations(model, train_loader, test_loader, test_y):\n",
    "\n",
    "    # class_counts = torch.tensor([test_y.value_counts()[0], test_y.value_counts()[1]])\n",
    "    # class_weights = 1.0 / class_counts\n",
    "    # class_weights /= class_weights.sum()\n",
    "\n",
    "    # device = torch.device('cuda')\n",
    "    # # model = FTTransformer(\n",
    "    # #     categories=tuple(uniques),\n",
    "    # #     num_continuous=len(numeric_col),\n",
    "    # #     dim=64,dim_out=1,depth=6,heads=8,attn_dropout=.2,ff_dropout=.2\n",
    "    # # )\n",
    "    device = torch.device('cuda' if torch.cuda.is_available() else 'cpu')\n",
    "    num_negatives = (test_y == 0).sum()\n",
    "    num_positives = (test_y == 1).sum()\n",
    "    class_weights = torch.tensor(num_negatives / num_positives, dtype=torch.float32).to(device)    \n",
    "\n",
    "    model = model.to(device)\n",
    "    optim = Adam(model.parameters(), lr=.0001)\n",
    "    # criterion = nn.BCEWithLogitsLoss(pos_weight=class_weights[1])\n",
    "    criterion = nn.BCEWithLogitsLoss(pos_weight=class_weights)\n",
    "    best_f1 = 0.0\n",
    "    best_epoch = 0\n",
    "    epochs = 200\n",
    "    for epoch in range(epochs):\n",
    "        running_loss = 0.0\n",
    "        model.train()\n",
    "        for x_cat, x_num, yy in train_loader:\n",
    "            optim.zero_grad()\n",
    "            x_cat, x_num, yy = x_cat.to(device), x_num.to(device), yy.to(device)\n",
    "            preds = model(x_cat, x_num)\n",
    "            loss = criterion(preds.squeeze(), yy.squeeze())\n",
    "            loss.backward()\n",
    "            optim.step()\n",
    "            running_loss += loss.item()\n",
    "        # print(f'{epoch+1} Epoch | Loss: {running_loss/len(train_loader):.4f}')\n",
    "\n",
    "        model.eval()\n",
    "        val_loss = 0.0\n",
    "        correct = 0\n",
    "        val_preds = []\n",
    "        val_targets = []\n",
    "        with torch.no_grad():\n",
    "            for x_cat, x_num, yy in test_loader:\n",
    "                x_cat, x_num, yy = x_cat.to(device), x_num.to(device), yy.to(device)\n",
    "                preds = model(x_cat, x_num)\n",
    "                val_loss += criterion(preds.squeeze(), yy.squeeze()).item()\n",
    "                yy = yy.detach().cpu().numpy().squeeze()\n",
    "                preds = torch.sigmoid(preds).detach().cpu().numpy().squeeze()\n",
    "                pred_labels = np.where(preds>=.5, 1, 0)\n",
    "                correct += (pred_labels == yy).sum().item()\n",
    "                \n",
    "                val_preds.extend(pred_labels.tolist())\n",
    "                val_targets.extend(yy.tolist())\n",
    "        val_loss /= len(test_loader)\n",
    "        val_f1 = f1_score(val_targets, val_preds, average='macro')\n",
    "        # print(f'{epoch+1} Epoch | TestLoss: {val_loss:.4f} | TestF1: {val_f1:.4f}')\n",
    "        if val_f1 > best_f1:\n",
    "            best_f1 = val_f1\n",
    "            best_epoch = epoch+1\n",
    "            torch.save(model.state_dict(), 'bestFTTransformer.pth')\n",
    "            \n",
    "    print(f'Best Epoch: {best_epoch} | Best F1 : {best_f1:.4f}')  \n",
    "    return best_f1\n",
    "\n",
    "\n",
    "def test_with_5fold(df, numeric, category, shuffle=True):\n",
    "    f1s = []\n",
    "    X, y, uniques, numeric_col, cat_col = preprocessing(df, numeric, category)\n",
    "    if shuffle:\n",
    "        skf = StratifiedKFold(n_splits=5, shuffle=shuffle, random_state=42)\n",
    "    else:\n",
    "        skf = StratifiedKFold(n_splits=5, shuffle=shuffle)\n",
    "    \n",
    "    for fold, (train_idx, test_idx) in enumerate(skf.split(X, y)):\n",
    "        train_X, train_y = X.iloc[train_idx], y.iloc[train_idx]\n",
    "        test_X, test_y = X.iloc[test_idx], y.iloc[test_idx]\n",
    "\n",
    "        train_set = CustomDataset(train_X, train_y, cat_col, numeric_col)\n",
    "        test_set = CustomDataset(test_X, test_y, cat_col, numeric_col)\n",
    "        train_loader = DataLoader(train_set, batch_size=64, shuffle=True, pin_memory=True)\n",
    "        test_loader = DataLoader(test_set, batch_size=64, shuffle=True, pin_memory=True)\n",
    "\n",
    "        f1_value = test_with_imputations(\n",
    "            train_loader, test_loader, test_y, uniques, numeric_col\n",
    "        )\n",
    "        f1s.append(f1_value)\n",
    "\n",
    "    return f1s\n",
    "\n",
    "\n",
    "def get_cv_results(f1s:list):\n",
    "    f1s = np.array(f1s)\n",
    "    mean_f1 = np.mean(f1s)\n",
    "    std_f1 = np.std(f1s)\n",
    "    ci95 = st.t.interval(.95, df=len(f1s)-1, loc=mean_f1, scale=std_f1/np.sqrt(len(f1s)))\n",
    "    return mean_f1, std_f1, ci95"
   ]
  },
  {
   "cell_type": "code",
   "execution_count": null,
   "id": "ad1c08e1",
   "metadata": {},
   "outputs": [],
   "source": []
  },
  {
   "cell_type": "code",
   "execution_count": 6,
   "id": "37c5c05c",
   "metadata": {},
   "outputs": [
    {
     "name": "stderr",
     "output_type": "stream",
     "text": [
      "[I 2025-05-19 16:12:30,573] A new study created in memory with name: no-name-b5e71980-d213-45a6-90c9-31e7869c2eb6\n"
     ]
    },
    {
     "name": "stdout",
     "output_type": "stream",
     "text": [
      "Best Epoch: 163 | Best F1 : 0.9220\n",
      "Best Epoch: 88 | Best F1 : 0.8039\n",
      "Best Epoch: 7 | Best F1 : 0.8326\n",
      "Best Epoch: 36 | Best F1 : 0.7017\n"
     ]
    },
    {
     "name": "stderr",
     "output_type": "stream",
     "text": [
      "[I 2025-05-19 16:13:12,720] Trial 0 finished with value: 0.8260347199090331 and parameters: {'dim': 89, 'depth': 3, 'heads': 8, 'dropout': 0.40935237527898183}. Best is trial 0 with value: 0.8260347199090331.\n"
     ]
    },
    {
     "name": "stdout",
     "output_type": "stream",
     "text": [
      "Best Epoch: 137 | Best F1 : 0.8699\n",
      "Best Epoch: 97 | Best F1 : 0.8994\n",
      "Best Epoch: 126 | Best F1 : 0.7177\n",
      "Best Epoch: 55 | Best F1 : 0.7479\n",
      "Best Epoch: 44 | Best F1 : 0.6983\n"
     ]
    },
    {
     "name": "stderr",
     "output_type": "stream",
     "text": [
      "[I 2025-05-19 16:14:08,291] Trial 1 finished with value: 0.7658457064396883 and parameters: {'dim': 36, 'depth': 5, 'heads': 7, 'dropout': 0.4899431176522623}. Best is trial 0 with value: 0.8260347199090331.\n"
     ]
    },
    {
     "name": "stdout",
     "output_type": "stream",
     "text": [
      "Best Epoch: 25 | Best F1 : 0.7659\n",
      "Best Epoch: 179 | Best F1 : 0.8599\n",
      "Best Epoch: 29 | Best F1 : 0.8039\n",
      "Best Epoch: 159 | Best F1 : 0.7479\n",
      "Best Epoch: 23 | Best F1 : 0.6606\n"
     ]
    },
    {
     "name": "stderr",
     "output_type": "stream",
     "text": [
      "[I 2025-05-19 16:15:06,285] Trial 2 finished with value: 0.7821166802622436 and parameters: {'dim': 100, 'depth': 5, 'heads': 6, 'dropout': 0.49660530574478684}. Best is trial 0 with value: 0.8260347199090331.\n"
     ]
    },
    {
     "name": "stdout",
     "output_type": "stream",
     "text": [
      "Best Epoch: 26 | Best F1 : 0.8382\n",
      "Best Epoch: 86 | Best F1 : 0.8382\n",
      "Best Epoch: 45 | Best F1 : 0.8326\n",
      "Best Epoch: 39 | Best F1 : 0.7843\n",
      "Best Epoch: 19 | Best F1 : 0.6983\n"
     ]
    },
    {
     "name": "stderr",
     "output_type": "stream",
     "text": [
      "[I 2025-05-19 16:15:53,820] Trial 3 finished with value: 0.7965906401197405 and parameters: {'dim': 57, 'depth': 4, 'heads': 8, 'dropout': 0.3459137073448264}. Best is trial 0 with value: 0.8260347199090331.\n"
     ]
    },
    {
     "name": "stdout",
     "output_type": "stream",
     "text": [
      "Best Epoch: 158 | Best F1 : 0.8296\n",
      "Best Epoch: 74 | Best F1 : 0.9160\n",
      "Best Epoch: 8 | Best F1 : 0.7989\n",
      "Best Epoch: 2 | Best F1 : 0.8326\n",
      "Best Epoch: 142 | Best F1 : 0.6606\n"
     ]
    },
    {
     "name": "stderr",
     "output_type": "stream",
     "text": [
      "[I 2025-05-19 16:16:53,389] Trial 4 finished with value: 0.811435385225273 and parameters: {'dim': 89, 'depth': 5, 'heads': 8, 'dropout': 0.0690469406838986}. Best is trial 0 with value: 0.8260347199090331.\n"
     ]
    },
    {
     "name": "stdout",
     "output_type": "stream",
     "text": [
      "Best Epoch: 36 | Best F1 : 0.8491\n",
      "Best Epoch: 127 | Best F1 : 0.8699\n",
      "Best Epoch: 83 | Best F1 : 0.7869\n",
      "Best Epoch: 82 | Best F1 : 0.7989\n",
      "Best Epoch: 198 | Best F1 : 0.7017\n"
     ]
    },
    {
     "name": "stderr",
     "output_type": "stream",
     "text": [
      "[I 2025-05-19 16:17:23,557] Trial 5 finished with value: 0.8013052642841292 and parameters: {'dim': 63, 'depth': 2, 'heads': 5, 'dropout': 0.2927252509451472}. Best is trial 0 with value: 0.8260347199090331.\n"
     ]
    },
    {
     "name": "stdout",
     "output_type": "stream",
     "text": [
      "Best Epoch: 77 | Best F1 : 0.8491\n",
      "Best Epoch: 140 | Best F1 : 0.8921\n",
      "Best Epoch: 162 | Best F1 : 0.8382\n",
      "Best Epoch: 8 | Best F1 : 0.8087\n",
      "Best Epoch: 61 | Best F1 : 0.6630\n"
     ]
    },
    {
     "name": "stderr",
     "output_type": "stream",
     "text": [
      "[I 2025-05-19 16:17:53,743] Trial 6 finished with value: 0.8063295536498691 and parameters: {'dim': 105, 'depth': 2, 'heads': 3, 'dropout': 0.24396304273695985}. Best is trial 0 with value: 0.8260347199090331.\n"
     ]
    },
    {
     "name": "stdout",
     "output_type": "stream",
     "text": [
      "Best Epoch: 21 | Best F1 : 0.8296\n",
      "Best Epoch: 172 | Best F1 : 0.8491\n",
      "Best Epoch: 37 | Best F1 : 0.7869\n",
      "Best Epoch: 46 | Best F1 : 0.8111\n",
      "Best Epoch: 54 | Best F1 : 0.6504\n"
     ]
    },
    {
     "name": "stderr",
     "output_type": "stream",
     "text": [
      "[I 2025-05-19 16:18:58,201] Trial 7 finished with value: 0.7781933386986118 and parameters: {'dim': 36, 'depth': 6, 'heads': 3, 'dropout': 0.1067392278988849}. Best is trial 0 with value: 0.8260347199090331.\n"
     ]
    },
    {
     "name": "stdout",
     "output_type": "stream",
     "text": [
      "Best Epoch: 31 | Best F1 : 0.7935\n",
      "Best Epoch: 53 | Best F1 : 0.8699\n",
      "Best Epoch: 13 | Best F1 : 0.7869\n",
      "Best Epoch: 91 | Best F1 : 0.7869\n",
      "Best Epoch: 12 | Best F1 : 0.6606\n"
     ]
    },
    {
     "name": "stderr",
     "output_type": "stream",
     "text": [
      "[I 2025-05-19 16:20:23,905] Trial 8 finished with value: 0.7928429144709324 and parameters: {'dim': 96, 'depth': 8, 'heads': 7, 'dropout': 0.0011681662767599188}. Best is trial 0 with value: 0.8260347199090331.\n"
     ]
    },
    {
     "name": "stdout",
     "output_type": "stream",
     "text": [
      "Best Epoch: 3 | Best F1 : 0.8599\n",
      "Best Epoch: 173 | Best F1 : 0.8833\n",
      "Best Epoch: 19 | Best F1 : 0.7869\n",
      "Best Epoch: 25 | Best F1 : 0.7989\n",
      "Best Epoch: 14 | Best F1 : 0.6429\n"
     ]
    },
    {
     "name": "stderr",
     "output_type": "stream",
     "text": [
      "[I 2025-05-19 16:21:29,270] Trial 9 finished with value: 0.7922085671574204 and parameters: {'dim': 120, 'depth': 6, 'heads': 3, 'dropout': 0.3836588821753485}. Best is trial 0 with value: 0.8260347199090331.\n"
     ]
    },
    {
     "name": "stdout",
     "output_type": "stream",
     "text": [
      "Best Epoch: 19 | Best F1 : 0.8491\n",
      "Best Epoch: 127 | Best F1 : 0.9160\n",
      "Best Epoch: 47 | Best F1 : 0.7667\n",
      "Best Epoch: 17 | Best F1 : 0.8250\n",
      "Best Epoch: 20 | Best F1 : 0.7173\n"
     ]
    },
    {
     "name": "stderr",
     "output_type": "stream",
     "text": [
      "[I 2025-05-19 16:22:08,292] Trial 10 finished with value: 0.8169761082438567 and parameters: {'dim': 70, 'depth': 3, 'heads': 5, 'dropout': 0.18035476931576716}. Best is trial 0 with value: 0.8260347199090331.\n"
     ]
    },
    {
     "name": "stdout",
     "output_type": "stream",
     "text": [
      "Best Epoch: 13 | Best F1 : 0.8599\n",
      "Best Epoch: 62 | Best F1 : 0.8699\n",
      "Best Epoch: 23 | Best F1 : 0.7486\n",
      "Best Epoch: 44 | Best F1 : 0.7989\n",
      "Best Epoch: 17 | Best F1 : 0.6875\n"
     ]
    },
    {
     "name": "stderr",
     "output_type": "stream",
     "text": [
      "[I 2025-05-19 16:22:47,083] Trial 11 finished with value: 0.7993984752221099 and parameters: {'dim': 72, 'depth': 3, 'heads': 5, 'dropout': 0.1818512886572207}. Best is trial 0 with value: 0.8260347199090331.\n"
     ]
    },
    {
     "name": "stdout",
     "output_type": "stream",
     "text": [
      "Best Epoch: 28 | Best F1 : 0.8921\n",
      "Best Epoch: 104 | Best F1 : 0.8583\n",
      "Best Epoch: 25 | Best F1 : 0.8589\n",
      "Best Epoch: 43 | Best F1 : 0.8039\n",
      "Best Epoch: 85 | Best F1 : 0.6738\n"
     ]
    },
    {
     "name": "stderr",
     "output_type": "stream",
     "text": [
      "[I 2025-05-19 16:23:26,079] Trial 12 finished with value: 0.808808361064566 and parameters: {'dim': 79, 'depth': 3, 'heads': 4, 'dropout': 0.193384285217454}. Best is trial 0 with value: 0.8260347199090331.\n"
     ]
    },
    {
     "name": "stdout",
     "output_type": "stream",
     "text": [
      "Best Epoch: 106 | Best F1 : 0.8491\n",
      "Best Epoch: 77 | Best F1 : 0.8699\n",
      "Best Epoch: 81 | Best F1 : 0.7479\n",
      "Best Epoch: 29 | Best F1 : 0.7659\n",
      "Best Epoch: 176 | Best F1 : 0.6480\n"
     ]
    },
    {
     "name": "stderr",
     "output_type": "stream",
     "text": [
      "[I 2025-05-19 16:24:04,847] Trial 13 finished with value: 0.7685553812701152 and parameters: {'dim': 57, 'depth': 3, 'heads': 5, 'dropout': 0.40709082651489453}. Best is trial 0 with value: 0.8260347199090331.\n"
     ]
    },
    {
     "name": "stdout",
     "output_type": "stream",
     "text": [
      "Best Epoch: 132 | Best F1 : 0.8111\n",
      "Best Epoch: 139 | Best F1 : 0.8491\n",
      "Best Epoch: 23 | Best F1 : 0.7869\n",
      "Best Epoch: 30 | Best F1 : 0.7809\n",
      "Best Epoch: 18 | Best F1 : 0.6875\n"
     ]
    },
    {
     "name": "stderr",
     "output_type": "stream",
     "text": [
      "[I 2025-05-19 16:24:52,685] Trial 14 finished with value: 0.7907018562271713 and parameters: {'dim': 82, 'depth': 4, 'heads': 6, 'dropout': 0.289199826568995}. Best is trial 0 with value: 0.8260347199090331.\n"
     ]
    },
    {
     "name": "stdout",
     "output_type": "stream",
     "text": [
      "Best Epoch: 130 | Best F1 : 0.8491\n",
      "Best Epoch: 166 | Best F1 : 0.8491\n",
      "Best Epoch: 11 | Best F1 : 0.8478\n",
      "Best Epoch: 54 | Best F1 : 0.8382\n",
      "Best Epoch: 60 | Best F1 : 0.6759\n"
     ]
    },
    {
     "name": "stderr",
     "output_type": "stream",
     "text": [
      "[I 2025-05-19 16:25:23,170] Trial 15 finished with value: 0.8120348636848963 and parameters: {'dim': 115, 'depth': 2, 'heads': 2, 'dropout': 0.15307913176877436}. Best is trial 0 with value: 0.8260347199090331.\n"
     ]
    },
    {
     "name": "stdout",
     "output_type": "stream",
     "text": [
      "Best Epoch: 57 | Best F1 : 0.8491\n",
      "Best Epoch: 77 | Best F1 : 0.8583\n",
      "Best Epoch: 13 | Best F1 : 0.8087\n",
      "Best Epoch: 32 | Best F1 : 0.7989\n",
      "Best Epoch: 23 | Best F1 : 0.6694\n"
     ]
    },
    {
     "name": "stderr",
     "output_type": "stream",
     "text": [
      "[I 2025-05-19 16:26:10,794] Trial 16 finished with value: 0.796879398457007 and parameters: {'dim': 67, 'depth': 4, 'heads': 6, 'dropout': 0.4245343252452247}. Best is trial 0 with value: 0.8260347199090331.\n"
     ]
    },
    {
     "name": "stdout",
     "output_type": "stream",
     "text": [
      "Best Epoch: 116 | Best F1 : 0.8491\n",
      "Best Epoch: 105 | Best F1 : 0.8699\n",
      "Best Epoch: 24 | Best F1 : 0.7657\n",
      "Best Epoch: 13 | Best F1 : 0.7486\n",
      "Best Epoch: 18 | Best F1 : 0.6893\n"
     ]
    },
    {
     "name": "stderr",
     "output_type": "stream",
     "text": [
      "[I 2025-05-19 16:27:32,821] Trial 17 finished with value: 0.7931122681166751 and parameters: {'dim': 86, 'depth': 8, 'heads': 4, 'dropout': 0.2483146969672192}. Best is trial 0 with value: 0.8260347199090331.\n"
     ]
    },
    {
     "name": "stdout",
     "output_type": "stream",
     "text": [
      "Best Epoch: 26 | Best F1 : 0.8921\n",
      "Best Epoch: 119 | Best F1 : 0.8833\n",
      "Best Epoch: 111 | Best F1 : 0.7667\n",
      "Best Epoch: 13 | Best F1 : 0.8478\n",
      "Best Epoch: 27 | Best F1 : 0.6835\n"
     ]
    },
    {
     "name": "stderr",
     "output_type": "stream",
     "text": [
      "[I 2025-05-19 16:28:10,470] Trial 18 finished with value: 0.7984608566663902 and parameters: {'dim': 54, 'depth': 3, 'heads': 7, 'dropout': 0.32527904262496965}. Best is trial 0 with value: 0.8260347199090331.\n"
     ]
    },
    {
     "name": "stdout",
     "output_type": "stream",
     "text": [
      "Best Epoch: 45 | Best F1 : 0.8111\n",
      "Best Epoch: 90 | Best F1 : 0.8833\n",
      "Best Epoch: 50 | Best F1 : 0.8833\n",
      "Best Epoch: 40 | Best F1 : 0.8179\n",
      "Best Epoch: 67 | Best F1 : 0.7017\n"
     ]
    },
    {
     "name": "stderr",
     "output_type": "stream",
     "text": [
      "[I 2025-05-19 16:28:56,759] Trial 19 finished with value: 0.8231761152930834 and parameters: {'dim': 107, 'depth': 4, 'heads': 4, 'dropout': 0.10491142701687742}. Best is trial 0 with value: 0.8260347199090331.\n"
     ]
    },
    {
     "name": "stdout",
     "output_type": "stream",
     "text": [
      "Best Epoch: 29 | Best F1 : 0.8296\n",
      "Best Epoch: 82 | Best F1 : 0.8382\n",
      "Best Epoch: 18 | Best F1 : 0.8087\n",
      "Best Epoch: 19 | Best F1 : 0.8039\n",
      "Best Epoch: 6 | Best F1 : 0.7304\n"
     ]
    },
    {
     "name": "stderr",
     "output_type": "stream",
     "text": [
      "[I 2025-05-19 16:29:59,131] Trial 20 finished with value: 0.8082351483623078 and parameters: {'dim': 109, 'depth': 6, 'heads': 2, 'dropout': 0.004746506912778392}. Best is trial 0 with value: 0.8260347199090331.\n"
     ]
    },
    {
     "name": "stdout",
     "output_type": "stream",
     "text": [
      "Best Epoch: 78 | Best F1 : 0.8599\n",
      "Best Epoch: 102 | Best F1 : 0.9087\n",
      "Best Epoch: 128 | Best F1 : 0.7177\n",
      "Best Epoch: 25 | Best F1 : 0.8179\n",
      "Best Epoch: 5 | Best F1 : 0.6919\n"
     ]
    },
    {
     "name": "stderr",
     "output_type": "stream",
     "text": [
      "[I 2025-05-19 16:30:45,364] Trial 21 finished with value: 0.8012246014097559 and parameters: {'dim': 124, 'depth': 4, 'heads': 4, 'dropout': 0.10581361993652044}. Best is trial 0 with value: 0.8260347199090331.\n"
     ]
    },
    {
     "name": "stdout",
     "output_type": "stream",
     "text": [
      "Best Epoch: 16 | Best F1 : 0.8699\n",
      "Best Epoch: 126 | Best F1 : 0.9087\n",
      "Best Epoch: 28 | Best F1 : 0.7608\n",
      "Best Epoch: 38 | Best F1 : 0.8179\n",
      "Best Epoch: 74 | Best F1 : 0.6606\n"
     ]
    },
    {
     "name": "stderr",
     "output_type": "stream",
     "text": [
      "[I 2025-05-19 16:31:22,545] Trial 22 finished with value: 0.797236293574317 and parameters: {'dim': 94, 'depth': 3, 'heads': 5, 'dropout': 0.20739226016078618}. Best is trial 0 with value: 0.8260347199090331.\n"
     ]
    },
    {
     "name": "stdout",
     "output_type": "stream",
     "text": [
      "Best Epoch: 23 | Best F1 : 0.8382\n",
      "Best Epoch: 146 | Best F1 : 0.8921\n",
      "Best Epoch: 20 | Best F1 : 0.7843\n",
      "Best Epoch: 6 | Best F1 : 0.8087\n",
      "Best Epoch: 151 | Best F1 : 0.6764\n"
     ]
    },
    {
     "name": "stderr",
     "output_type": "stream",
     "text": [
      "[I 2025-05-19 16:32:07,498] Trial 23 finished with value: 0.8063061070297379 and parameters: {'dim': 76, 'depth': 4, 'heads': 4, 'dropout': 0.1382706748558148}. Best is trial 0 with value: 0.8260347199090331.\n"
     ]
    },
    {
     "name": "stdout",
     "output_type": "stream",
     "text": [
      "Best Epoch: 20 | Best F1 : 0.8699\n",
      "Best Epoch: 64 | Best F1 : 0.9417\n",
      "Best Epoch: 11 | Best F1 : 0.7667\n",
      "Best Epoch: 195 | Best F1 : 0.7843\n",
      "Best Epoch: 23 | Best F1 : 0.7017\n"
     ]
    },
    {
     "name": "stderr",
     "output_type": "stream",
     "text": [
      "[I 2025-05-19 16:32:37,502] Trial 24 finished with value: 0.8086983825660685 and parameters: {'dim': 114, 'depth': 2, 'heads': 6, 'dropout': 0.06462617558780581}. Best is trial 0 with value: 0.8260347199090331.\n"
     ]
    },
    {
     "name": "stdout",
     "output_type": "stream",
     "text": [
      "Best Epoch: 118 | Best F1 : 0.8491\n",
      "Best Epoch: 33 | Best F1 : 0.8111\n",
      "Best Epoch: 36 | Best F1 : 0.7659\n",
      "Best Epoch: 72 | Best F1 : 0.8039\n",
      "Best Epoch: 39 | Best F1 : 0.6875\n"
     ]
    },
    {
     "name": "stderr",
     "output_type": "stream",
     "text": [
      "[I 2025-05-19 16:33:14,236] Trial 25 finished with value: 0.787662161913407 and parameters: {'dim': 45, 'depth': 3, 'heads': 5, 'dropout': 0.06528646653752668}. Best is trial 0 with value: 0.8260347199090331.\n"
     ]
    },
    {
     "name": "stdout",
     "output_type": "stream",
     "text": [
      "Best Epoch: 34 | Best F1 : 0.8699\n",
      "Best Epoch: 200 | Best F1 : 0.8599\n",
      "Best Epoch: 12 | Best F1 : 0.7479\n",
      "Best Epoch: 148 | Best F1 : 0.7869\n",
      "Best Epoch: 17 | Best F1 : 0.6875\n"
     ]
    },
    {
     "name": "stderr",
     "output_type": "stream",
     "text": [
      "[I 2025-05-19 16:33:59,409] Trial 26 finished with value: 0.7840839251854412 and parameters: {'dim': 104, 'depth': 4, 'heads': 4, 'dropout': 0.45547575826534104}. Best is trial 0 with value: 0.8260347199090331.\n"
     ]
    },
    {
     "name": "stdout",
     "output_type": "stream",
     "text": [
      "Best Epoch: 149 | Best F1 : 0.8382\n",
      "Best Epoch: 50 | Best F1 : 0.8583\n",
      "Best Epoch: 14 | Best F1 : 0.8326\n",
      "Best Epoch: 70 | Best F1 : 0.7667\n",
      "Best Epoch: 3 | Best F1 : 0.6983\n"
     ]
    },
    {
     "name": "stderr",
     "output_type": "stream",
     "text": [
      "[I 2025-05-19 16:35:16,023] Trial 27 finished with value: 0.7988141463837385 and parameters: {'dim': 91, 'depth': 7, 'heads': 8, 'dropout': 0.21405714274113888}. Best is trial 0 with value: 0.8260347199090331.\n"
     ]
    },
    {
     "name": "stdout",
     "output_type": "stream",
     "text": [
      "Best Epoch: 18 | Best F1 : 0.8382\n",
      "Best Epoch: 72 | Best F1 : 0.8599\n",
      "Best Epoch: 18 | Best F1 : 0.7768\n",
      "Best Epoch: 34 | Best F1 : 0.8111\n",
      "Best Epoch: 132 | Best F1 : 0.6875\n"
     ]
    },
    {
     "name": "stderr",
     "output_type": "stream",
     "text": [
      "[I 2025-05-19 16:35:52,835] Trial 28 finished with value: 0.8054875150561775 and parameters: {'dim': 71, 'depth': 3, 'heads': 3, 'dropout': 0.15052389618362996}. Best is trial 0 with value: 0.8260347199090331.\n"
     ]
    },
    {
     "name": "stdout",
     "output_type": "stream",
     "text": [
      "Best Epoch: 14 | Best F1 : 0.8921\n",
      "Best Epoch: 58 | Best F1 : 0.8783\n",
      "Best Epoch: 21 | Best F1 : 0.8589\n",
      "Best Epoch: 16 | Best F1 : 0.8179\n",
      "Best Epoch: 1 | Best F1 : 0.6987\n"
     ]
    },
    {
     "name": "stderr",
     "output_type": "stream",
     "text": [
      "[I 2025-05-19 16:36:50,479] Trial 29 finished with value: 0.8247377945202221 and parameters: {'dim': 99, 'depth': 5, 'heads': 7, 'dropout': 0.28576539711858673}. Best is trial 0 with value: 0.8260347199090331.\n"
     ]
    },
    {
     "name": "stdout",
     "output_type": "stream",
     "text": [
      "Best Epoch: 26 | Best F1 : 0.8699\n",
      "Best Epoch: 4 | Best F1 : 0.8833\n",
      "Best Epoch: 30 | Best F1 : 0.8039\n",
      "Best Epoch: 27 | Best F1 : 0.8296\n",
      "Best Epoch: 48 | Best F1 : 0.6694\n"
     ]
    },
    {
     "name": "stderr",
     "output_type": "stream",
     "text": [
      "[I 2025-05-19 16:37:48,128] Trial 30 finished with value: 0.8048796952344389 and parameters: {'dim': 99, 'depth': 5, 'heads': 7, 'dropout': 0.34946809304251625}. Best is trial 0 with value: 0.8260347199090331.\n"
     ]
    },
    {
     "name": "stdout",
     "output_type": "stream",
     "text": [
      "Best Epoch: 132 | Best F1 : 0.8382\n",
      "Best Epoch: 128 | Best F1 : 0.8783\n",
      "Best Epoch: 29 | Best F1 : 0.8039\n",
      "Best Epoch: 8 | Best F1 : 0.8087\n",
      "Best Epoch: 37 | Best F1 : 0.6478\n"
     ]
    },
    {
     "name": "stderr",
     "output_type": "stream",
     "text": [
      "[I 2025-05-19 16:38:35,459] Trial 31 finished with value: 0.7975776677725629 and parameters: {'dim': 83, 'depth': 4, 'heads': 8, 'dropout': 0.2787397446562295}. Best is trial 0 with value: 0.8260347199090331.\n"
     ]
    },
    {
     "name": "stdout",
     "output_type": "stream",
     "text": [
      "Best Epoch: 120 | Best F1 : 0.8491\n",
      "Best Epoch: 83 | Best F1 : 0.8599\n",
      "Best Epoch: 6 | Best F1 : 0.7809\n",
      "Best Epoch: 34 | Best F1 : 0.8111\n",
      "Best Epoch: 16 | Best F1 : 0.7017\n"
     ]
    },
    {
     "name": "stderr",
     "output_type": "stream",
     "text": [
      "[I 2025-05-19 16:39:34,189] Trial 32 finished with value: 0.8027121565241038 and parameters: {'dim': 128, 'depth': 5, 'heads': 7, 'dropout': 0.4477443394467113}. Best is trial 0 with value: 0.8260347199090331.\n"
     ]
    },
    {
     "name": "stdout",
     "output_type": "stream",
     "text": [
      "Best Epoch: 7 | Best F1 : 0.8599\n",
      "Best Epoch: 103 | Best F1 : 0.8994\n",
      "Best Epoch: 23 | Best F1 : 0.7479\n",
      "Best Epoch: 26 | Best F1 : 0.7935\n",
      "Best Epoch: 47 | Best F1 : 0.6478\n"
     ]
    },
    {
     "name": "stderr",
     "output_type": "stream",
     "text": [
      "[I 2025-05-19 16:40:30,846] Trial 33 finished with value: 0.791719279639857 and parameters: {'dim': 109, 'depth': 5, 'heads': 6, 'dropout': 0.472842327336131}. Best is trial 0 with value: 0.8260347199090331.\n"
     ]
    },
    {
     "name": "stdout",
     "output_type": "stream",
     "text": [
      "Best Epoch: 12 | Best F1 : 0.8699\n",
      "Best Epoch: 120 | Best F1 : 0.8921\n",
      "Best Epoch: 19 | Best F1 : 0.7843\n",
      "Best Epoch: 11 | Best F1 : 0.8111\n",
      "Best Epoch: 54 | Best F1 : 0.6429\n"
     ]
    },
    {
     "name": "stderr",
     "output_type": "stream",
     "text": [
      "[I 2025-05-19 16:41:28,417] Trial 34 finished with value: 0.7919827513499312 and parameters: {'dim': 102, 'depth': 5, 'heads': 7, 'dropout': 0.3786808874188043}. Best is trial 0 with value: 0.8260347199090331.\n"
     ]
    },
    {
     "name": "stdout",
     "output_type": "stream",
     "text": [
      "Best Epoch: 65 | Best F1 : 0.8296\n",
      "Best Epoch: 52 | Best F1 : 0.8583\n",
      "Best Epoch: 15 | Best F1 : 0.7083\n",
      "Best Epoch: 26 | Best F1 : 0.7809\n",
      "Best Epoch: 36 | Best F1 : 0.6875\n"
     ]
    },
    {
     "name": "stderr",
     "output_type": "stream",
     "text": [
      "[I 2025-05-19 16:42:16,578] Trial 35 finished with value: 0.7746430257030459 and parameters: {'dim': 90, 'depth': 4, 'heads': 8, 'dropout': 0.11250561648820134}. Best is trial 0 with value: 0.8260347199090331.\n"
     ]
    },
    {
     "name": "stdout",
     "output_type": "stream",
     "text": [
      "Best Epoch: 12 | Best F1 : 0.8382\n",
      "Best Epoch: 185 | Best F1 : 0.8833\n",
      "Best Epoch: 60 | Best F1 : 0.7667\n",
      "Best Epoch: 82 | Best F1 : 0.7989\n",
      "Best Epoch: 5 | Best F1 : 0.7387\n"
     ]
    },
    {
     "name": "stderr",
     "output_type": "stream",
     "text": [
      "[I 2025-05-19 16:42:46,386] Trial 36 finished with value: 0.8131556221889055 and parameters: {'dim': 96, 'depth': 2, 'heads': 8, 'dropout': 0.3298790194308436}. Best is trial 0 with value: 0.8260347199090331.\n"
     ]
    },
    {
     "name": "stdout",
     "output_type": "stream",
     "text": [
      "Best Epoch: 17 | Best F1 : 0.8783\n",
      "Best Epoch: 123 | Best F1 : 0.8783\n",
      "Best Epoch: 49 | Best F1 : 0.7657\n",
      "Best Epoch: 10 | Best F1 : 0.8039\n",
      "Best Epoch: 51 | Best F1 : 0.6478\n"
     ]
    },
    {
     "name": "stderr",
     "output_type": "stream",
     "text": [
      "[I 2025-05-19 16:43:47,625] Trial 37 finished with value: 0.7850469636653414 and parameters: {'dim': 62, 'depth': 6, 'heads': 6, 'dropout': 0.49937921063544016}. Best is trial 0 with value: 0.8260347199090331.\n"
     ]
    },
    {
     "name": "stdout",
     "output_type": "stream",
     "text": [
      "Best Epoch: 118 | Best F1 : 0.8296\n",
      "Best Epoch: 162 | Best F1 : 0.9087\n",
      "Best Epoch: 39 | Best F1 : 0.7486\n",
      "Best Epoch: 169 | Best F1 : 0.8087\n",
      "Best Epoch: 105 | Best F1 : 0.6875\n"
     ]
    },
    {
     "name": "stderr",
     "output_type": "stream",
     "text": [
      "[I 2025-05-19 16:44:25,749] Trial 38 finished with value: 0.8046798303224698 and parameters: {'dim': 111, 'depth': 3, 'heads': 5, 'dropout': 0.22487346420268506}. Best is trial 0 with value: 0.8260347199090331.\n"
     ]
    },
    {
     "name": "stdout",
     "output_type": "stream",
     "text": [
      "Best Epoch: 71 | Best F1 : 0.8699\n",
      "Best Epoch: 152 | Best F1 : 0.8725\n",
      "Best Epoch: 24 | Best F1 : 0.7869\n",
      "Best Epoch: 18 | Best F1 : 0.8039\n",
      "Best Epoch: 24 | Best F1 : 0.6694\n"
     ]
    },
    {
     "name": "stderr",
     "output_type": "stream",
     "text": [
      "[I 2025-05-19 16:45:21,578] Trial 39 finished with value: 0.7963569043549344 and parameters: {'dim': 76, 'depth': 5, 'heads': 8, 'dropout': 0.03913726843461607}. Best is trial 0 with value: 0.8260347199090331.\n"
     ]
    },
    {
     "name": "stdout",
     "output_type": "stream",
     "text": [
      "Best Epoch: 28 | Best F1 : 0.8491\n",
      "Best Epoch: 136 | Best F1 : 0.8921\n",
      "Best Epoch: 54 | Best F1 : 0.7989\n",
      "Best Epoch: 189 | Best F1 : 0.8478\n",
      "Best Epoch: 87 | Best F1 : 0.6875\n"
     ]
    },
    {
     "name": "stderr",
     "output_type": "stream",
     "text": [
      "[I 2025-05-19 16:45:50,862] Trial 40 finished with value: 0.811163488851854 and parameters: {'dim': 87, 'depth': 2, 'heads': 7, 'dropout': 0.171428584876107}. Best is trial 0 with value: 0.8260347199090331.\n"
     ]
    },
    {
     "name": "stdout",
     "output_type": "stream",
     "text": [
      "Best Epoch: 16 | Best F1 : 0.8296\n",
      "Best Epoch: 163 | Best F1 : 0.8921\n",
      "Best Epoch: 45 | Best F1 : 0.7667\n",
      "Best Epoch: 9 | Best F1 : 0.8326\n",
      "Best Epoch: 21 | Best F1 : 0.6875\n"
     ]
    },
    {
     "name": "stderr",
     "output_type": "stream",
     "text": [
      "[I 2025-05-19 16:46:20,717] Trial 41 finished with value: 0.8056124654936483 and parameters: {'dim': 96, 'depth': 2, 'heads': 8, 'dropout': 0.31547610765138917}. Best is trial 0 with value: 0.8260347199090331.\n"
     ]
    },
    {
     "name": "stdout",
     "output_type": "stream",
     "text": [
      "Best Epoch: 58 | Best F1 : 0.8491\n",
      "Best Epoch: 114 | Best F1 : 0.8599\n",
      "Best Epoch: 22 | Best F1 : 0.7486\n",
      "Best Epoch: 12 | Best F1 : 0.7869\n",
      "Best Epoch: 134 | Best F1 : 0.7017\n"
     ]
    },
    {
     "name": "stderr",
     "output_type": "stream",
     "text": [
      "[I 2025-05-19 16:46:51,326] Trial 42 finished with value: 0.793409002331072 and parameters: {'dim': 99, 'depth': 2, 'heads': 8, 'dropout': 0.35057301469130875}. Best is trial 0 with value: 0.8260347199090331.\n"
     ]
    },
    {
     "name": "stdout",
     "output_type": "stream",
     "text": [
      "Best Epoch: 17 | Best F1 : 0.8699\n",
      "Best Epoch: 106 | Best F1 : 0.8699\n",
      "Best Epoch: 8 | Best F1 : 0.7809\n",
      "Best Epoch: 119 | Best F1 : 0.8087\n",
      "Best Epoch: 6 | Best F1 : 0.7032\n"
     ]
    },
    {
     "name": "stderr",
     "output_type": "stream",
     "text": [
      "[I 2025-05-19 16:47:30,515] Trial 43 finished with value: 0.8023795335520936 and parameters: {'dim': 93, 'depth': 3, 'heads': 8, 'dropout': 0.25975170656667435}. Best is trial 0 with value: 0.8260347199090331.\n"
     ]
    },
    {
     "name": "stdout",
     "output_type": "stream",
     "text": [
      "Best Epoch: 18 | Best F1 : 0.8491\n",
      "Best Epoch: 171 | Best F1 : 0.8833\n",
      "Best Epoch: 37 | Best F1 : 0.7768\n",
      "Best Epoch: 140 | Best F1 : 0.8039\n",
      "Best Epoch: 21 | Best F1 : 0.6875\n"
     ]
    },
    {
     "name": "stderr",
     "output_type": "stream",
     "text": [
      "[I 2025-05-19 16:48:01,003] Trial 44 finished with value: 0.7962211667275607 and parameters: {'dim': 118, 'depth': 2, 'heads': 7, 'dropout': 0.3874128992870199}. Best is trial 0 with value: 0.8260347199090331.\n"
     ]
    },
    {
     "name": "stdout",
     "output_type": "stream",
     "text": [
      "Best Epoch: 15 | Best F1 : 0.8296\n",
      "Best Epoch: 77 | Best F1 : 0.8699\n",
      "Best Epoch: 99 | Best F1 : 0.8087\n",
      "Best Epoch: 37 | Best F1 : 0.7989\n",
      "Best Epoch: 49 | Best F1 : 0.6738\n"
     ]
    },
    {
     "name": "stderr",
     "output_type": "stream",
     "text": [
      "[I 2025-05-19 16:48:45,812] Trial 45 finished with value: 0.8000960488763719 and parameters: {'dim': 104, 'depth': 4, 'heads': 3, 'dropout': 0.3022218136607336}. Best is trial 0 with value: 0.8260347199090331.\n"
     ]
    },
    {
     "name": "stdout",
     "output_type": "stream",
     "text": [
      "Best Epoch: 28 | Best F1 : 0.8491\n",
      "Best Epoch: 190 | Best F1 : 0.8491\n",
      "Best Epoch: 4 | Best F1 : 0.7667\n",
      "Best Epoch: 28 | Best F1 : 0.7935\n",
      "Best Epoch: 33 | Best F1 : 0.6738\n"
     ]
    },
    {
     "name": "stderr",
     "output_type": "stream",
     "text": [
      "[I 2025-05-19 16:49:24,691] Trial 46 finished with value: 0.7906126982841502 and parameters: {'dim': 85, 'depth': 3, 'heads': 8, 'dropout': 0.2685437733441051}. Best is trial 0 with value: 0.8260347199090331.\n"
     ]
    },
    {
     "name": "stdout",
     "output_type": "stream",
     "text": [
      "Best Epoch: 172 | Best F1 : 0.8699\n",
      "Best Epoch: 118 | Best F1 : 0.8994\n",
      "Best Epoch: 37 | Best F1 : 0.7809\n",
      "Best Epoch: 25 | Best F1 : 0.7843\n",
      "Best Epoch: 18 | Best F1 : 0.6835\n"
     ]
    },
    {
     "name": "stderr",
     "output_type": "stream",
     "text": [
      "[I 2025-05-19 16:49:53,286] Trial 47 finished with value: 0.7994389115149667 and parameters: {'dim': 77, 'depth': 2, 'heads': 5, 'dropout': 0.2308415849912842}. Best is trial 0 with value: 0.8260347199090331.\n"
     ]
    },
    {
     "name": "stdout",
     "output_type": "stream",
     "text": [
      "Best Epoch: 173 | Best F1 : 0.8491\n",
      "Best Epoch: 73 | Best F1 : 0.8783\n",
      "Best Epoch: 43 | Best F1 : 0.7304\n",
      "Best Epoch: 34 | Best F1 : 0.8111\n",
      "Best Epoch: 27 | Best F1 : 0.6893\n"
     ]
    },
    {
     "name": "stderr",
     "output_type": "stream",
     "text": [
      "[I 2025-05-19 16:50:30,557] Trial 48 finished with value: 0.7877007563725907 and parameters: {'dim': 96, 'depth': 3, 'heads': 6, 'dropout': 0.37227296027046364}. Best is trial 0 with value: 0.8260347199090331.\n"
     ]
    },
    {
     "name": "stdout",
     "output_type": "stream",
     "text": [
      "Best Epoch: 54 | Best F1 : 0.8296\n",
      "Best Epoch: 120 | Best F1 : 0.8921\n",
      "Best Epoch: 10 | Best F1 : 0.7667\n",
      "Best Epoch: 171 | Best F1 : 0.7869\n",
      "Best Epoch: 17 | Best F1 : 0.6559\n"
     ]
    },
    {
     "name": "stderr",
     "output_type": "stream",
     "text": [
      "[I 2025-05-19 16:51:15,959] Trial 49 finished with value: 0.7942919288659123 and parameters: {'dim': 107, 'depth': 4, 'heads': 4, 'dropout': 0.4190209061983555}. Best is trial 0 with value: 0.8260347199090331.\n"
     ]
    },
    {
     "name": "stdout",
     "output_type": "stream",
     "text": [
      "Best Epoch: 66 | Best F1 : 0.8699\n",
      "Best Epoch: 155 | Best F1 : 0.8921\n",
      "Best Epoch: 42 | Best F1 : 0.7450\n",
      "Best Epoch: 70 | Best F1 : 0.7843\n",
      "Best Epoch: 153 | Best F1 : 0.6835\n"
     ]
    },
    {
     "name": "stderr",
     "output_type": "stream",
     "text": [
      "[I 2025-05-19 16:51:53,338] Trial 50 finished with value: 0.7994072359191172 and parameters: {'dim': 70, 'depth': 3, 'heads': 7, 'dropout': 0.31764835303388506}. Best is trial 0 with value: 0.8260347199090331.\n"
     ]
    },
    {
     "name": "stdout",
     "output_type": "stream",
     "text": [
      "Best Epoch: 164 | Best F1 : 0.8921\n",
      "Best Epoch: 179 | Best F1 : 0.8599\n",
      "Best Epoch: 121 | Best F1 : 0.7809\n",
      "Best Epoch: 102 | Best F1 : 0.7989\n",
      "Best Epoch: 109 | Best F1 : 0.7017\n"
     ]
    },
    {
     "name": "stderr",
     "output_type": "stream",
     "text": [
      "[I 2025-05-19 16:52:22,044] Trial 51 finished with value: 0.7904934759484252 and parameters: {'dim': 117, 'depth': 2, 'heads': 2, 'dropout': 0.16154295583837805}. Best is trial 0 with value: 0.8260347199090331.\n"
     ]
    },
    {
     "name": "stdout",
     "output_type": "stream",
     "text": [
      "Best Epoch: 42 | Best F1 : 0.8111\n",
      "Best Epoch: 111 | Best F1 : 0.8833\n",
      "Best Epoch: 180 | Best F1 : 0.8250\n",
      "Best Epoch: 130 | Best F1 : 0.8039\n",
      "Best Epoch: 88 | Best F1 : 0.6738\n"
     ]
    },
    {
     "name": "stderr",
     "output_type": "stream",
     "text": [
      "[I 2025-05-19 16:52:50,862] Trial 52 finished with value: 0.8070409151545055 and parameters: {'dim': 113, 'depth': 2, 'heads': 2, 'dropout': 0.1273406499600588}. Best is trial 0 with value: 0.8260347199090331.\n"
     ]
    },
    {
     "name": "stdout",
     "output_type": "stream",
     "text": [
      "Best Epoch: 126 | Best F1 : 0.8491\n",
      "Best Epoch: 92 | Best F1 : 0.8699\n",
      "Best Epoch: 34 | Best F1 : 0.7139\n",
      "Best Epoch: 75 | Best F1 : 0.7869\n",
      "Best Epoch: 4 | Best F1 : 0.7667\n"
     ]
    },
    {
     "name": "stderr",
     "output_type": "stream",
     "text": [
      "[I 2025-05-19 16:53:19,620] Trial 53 finished with value: 0.7951082000012761 and parameters: {'dim': 122, 'depth': 2, 'heads': 3, 'dropout': 0.09053500023833727}. Best is trial 0 with value: 0.8260347199090331.\n"
     ]
    },
    {
     "name": "stdout",
     "output_type": "stream",
     "text": [
      "Best Epoch: 73 | Best F1 : 0.8382\n",
      "Best Epoch: 129 | Best F1 : 0.8921\n",
      "Best Epoch: 6 | Best F1 : 0.7843\n",
      "Best Epoch: 25 | Best F1 : 0.7768\n",
      "Best Epoch: 17 | Best F1 : 0.6738\n"
     ]
    },
    {
     "name": "stderr",
     "output_type": "stream",
     "text": [
      "[I 2025-05-19 16:54:20,807] Trial 54 finished with value: 0.7993919106334297 and parameters: {'dim': 99, 'depth': 6, 'heads': 2, 'dropout': 0.198709937548142}. Best is trial 0 with value: 0.8260347199090331.\n"
     ]
    },
    {
     "name": "stdout",
     "output_type": "stream",
     "text": [
      "Best Epoch: 101 | Best F1 : 0.8699\n",
      "Best Epoch: 170 | Best F1 : 0.8921\n",
      "Best Epoch: 64 | Best F1 : 0.7479\n",
      "Best Epoch: 182 | Best F1 : 0.8087\n",
      "Best Epoch: 37 | Best F1 : 0.6606\n"
     ]
    },
    {
     "name": "stderr",
     "output_type": "stream",
     "text": [
      "[I 2025-05-19 16:54:58,538] Trial 55 finished with value: 0.7917056154503704 and parameters: {'dim': 106, 'depth': 3, 'heads': 5, 'dropout': 0.18350770252888482}. Best is trial 0 with value: 0.8260347199090331.\n"
     ]
    },
    {
     "name": "stdout",
     "output_type": "stream",
     "text": [
      "Best Epoch: 11 | Best F1 : 0.8491\n",
      "Best Epoch: 53 | Best F1 : 0.9160\n",
      "Best Epoch: 42 | Best F1 : 0.8133\n",
      "Best Epoch: 100 | Best F1 : 0.8250\n",
      "Best Epoch: 124 | Best F1 : 0.6835\n"
     ]
    },
    {
     "name": "stderr",
     "output_type": "stream",
     "text": [
      "[I 2025-05-19 16:55:43,713] Trial 56 finished with value: 0.8173831823584006 and parameters: {'dim': 114, 'depth': 4, 'heads': 3, 'dropout': 0.0891818769365732}. Best is trial 0 with value: 0.8260347199090331.\n"
     ]
    },
    {
     "name": "stdout",
     "output_type": "stream",
     "text": [
      "Best Epoch: 29 | Best F1 : 0.8491\n",
      "Best Epoch: 150 | Best F1 : 0.8725\n",
      "Best Epoch: 32 | Best F1 : 0.7667\n",
      "Best Epoch: 135 | Best F1 : 0.8382\n",
      "Best Epoch: 25 | Best F1 : 0.6893\n"
     ]
    },
    {
     "name": "stderr",
     "output_type": "stream",
     "text": [
      "[I 2025-05-19 16:56:28,593] Trial 57 finished with value: 0.8073137501786931 and parameters: {'dim': 81, 'depth': 4, 'heads': 3, 'dropout': 0.04354583259125758}. Best is trial 0 with value: 0.8260347199090331.\n"
     ]
    },
    {
     "name": "stdout",
     "output_type": "stream",
     "text": [
      "Best Epoch: 65 | Best F1 : 0.8699\n",
      "Best Epoch: 19 | Best F1 : 0.8699\n",
      "Best Epoch: 40 | Best F1 : 0.8087\n",
      "Best Epoch: 6 | Best F1 : 0.7869\n",
      "Best Epoch: 15 | Best F1 : 0.6478\n"
     ]
    },
    {
     "name": "stderr",
     "output_type": "stream",
     "text": [
      "[I 2025-05-19 16:57:13,526] Trial 58 finished with value: 0.7925013161956423 and parameters: {'dim': 89, 'depth': 4, 'heads': 4, 'dropout': 0.08772913116782455}. Best is trial 0 with value: 0.8260347199090331.\n"
     ]
    },
    {
     "name": "stdout",
     "output_type": "stream",
     "text": [
      "Best Epoch: 16 | Best F1 : 0.8491\n",
      "Best Epoch: 183 | Best F1 : 0.8478\n",
      "Best Epoch: 22 | Best F1 : 0.7083\n",
      "Best Epoch: 31 | Best F1 : 0.8039\n",
      "Best Epoch: 115 | Best F1 : 0.6694\n"
     ]
    },
    {
     "name": "stderr",
     "output_type": "stream",
     "text": [
      "[I 2025-05-19 16:58:14,887] Trial 59 finished with value: 0.7757036901198707 and parameters: {'dim': 65, 'depth': 6, 'heads': 4, 'dropout': 0.12071651978564071}. Best is trial 0 with value: 0.8260347199090331.\n"
     ]
    },
    {
     "name": "stdout",
     "output_type": "stream",
     "text": [
      "Best Epoch: 76 | Best F1 : 0.8491\n",
      "Best Epoch: 8 | Best F1 : 0.8699\n",
      "Best Epoch: 26 | Best F1 : 0.8039\n",
      "Best Epoch: 23 | Best F1 : 0.7989\n",
      "Best Epoch: 94 | Best F1 : 0.7017\n"
     ]
    },
    {
     "name": "stderr",
     "output_type": "stream",
     "text": [
      "[I 2025-05-19 16:59:24,079] Trial 60 finished with value: 0.7971024464039429 and parameters: {'dim': 50, 'depth': 7, 'heads': 3, 'dropout': 0.3333512166400446}. Best is trial 0 with value: 0.8260347199090331.\n"
     ]
    },
    {
     "name": "stdout",
     "output_type": "stream",
     "text": [
      "Best Epoch: 126 | Best F1 : 0.8111\n",
      "Best Epoch: 128 | Best F1 : 0.9160\n",
      "Best Epoch: 33 | Best F1 : 0.7809\n",
      "Best Epoch: 29 | Best F1 : 0.8179\n",
      "Best Epoch: 3 | Best F1 : 0.7177\n"
     ]
    },
    {
     "name": "stderr",
     "output_type": "stream",
     "text": [
      "[I 2025-05-19 17:00:01,248] Trial 61 finished with value: 0.8204852541512884 and parameters: {'dim': 117, 'depth': 3, 'heads': 2, 'dropout': 0.08998436818852493}. Best is trial 0 with value: 0.8260347199090331.\n"
     ]
    },
    {
     "name": "stdout",
     "output_type": "stream",
     "text": [
      "Best Epoch: 54 | Best F1 : 0.8699\n",
      "Best Epoch: 92 | Best F1 : 0.8699\n",
      "Best Epoch: 17 | Best F1 : 0.7322\n",
      "Best Epoch: 98 | Best F1 : 0.8382\n",
      "Best Epoch: 180 | Best F1 : 0.7026\n"
     ]
    },
    {
     "name": "stderr",
     "output_type": "stream",
     "text": [
      "[I 2025-05-19 17:00:38,248] Trial 62 finished with value: 0.7984190240285356 and parameters: {'dim': 110, 'depth': 3, 'heads': 3, 'dropout': 0.04673350002167741}. Best is trial 0 with value: 0.8260347199090331.\n"
     ]
    },
    {
     "name": "stdout",
     "output_type": "stream",
     "text": [
      "Best Epoch: 7 | Best F1 : 0.8491\n",
      "Best Epoch: 144 | Best F1 : 0.8599\n",
      "Best Epoch: 30 | Best F1 : 0.7883\n",
      "Best Epoch: 26 | Best F1 : 0.7989\n",
      "Best Epoch: 8 | Best F1 : 0.6835\n"
     ]
    },
    {
     "name": "stderr",
     "output_type": "stream",
     "text": [
      "[I 2025-05-19 17:01:23,171] Trial 63 finished with value: 0.804544204266937 and parameters: {'dim': 123, 'depth': 4, 'heads': 2, 'dropout': 0.08325649947197011}. Best is trial 0 with value: 0.8260347199090331.\n"
     ]
    },
    {
     "name": "stdout",
     "output_type": "stream",
     "text": [
      "Best Epoch: 18 | Best F1 : 0.8921\n",
      "Best Epoch: 97 | Best F1 : 0.8833\n",
      "Best Epoch: 86 | Best F1 : 0.8087\n",
      "Best Epoch: 4 | Best F1 : 0.8725\n",
      "Best Epoch: 32 | Best F1 : 0.6875\n"
     ]
    },
    {
     "name": "stderr",
     "output_type": "stream",
     "text": [
      "[I 2025-05-19 17:02:16,084] Trial 64 finished with value: 0.8202419760065324 and parameters: {'dim': 102, 'depth': 5, 'heads': 3, 'dropout': 0.013442182452192156}. Best is trial 0 with value: 0.8260347199090331.\n"
     ]
    },
    {
     "name": "stdout",
     "output_type": "stream",
     "text": [
      "Best Epoch: 18 | Best F1 : 0.8491\n",
      "Best Epoch: 43 | Best F1 : 0.8599\n",
      "Best Epoch: 131 | Best F1 : 0.8039\n",
      "Best Epoch: 7 | Best F1 : 0.8087\n",
      "Best Epoch: 43 | Best F1 : 0.6738\n"
     ]
    },
    {
     "name": "stderr",
     "output_type": "stream",
     "text": [
      "[I 2025-05-19 17:03:10,574] Trial 65 finished with value: 0.8032714569706441 and parameters: {'dim': 127, 'depth': 5, 'heads': 3, 'dropout': 0.008519727639599434}. Best is trial 0 with value: 0.8260347199090331.\n"
     ]
    },
    {
     "name": "stdout",
     "output_type": "stream",
     "text": [
      "Best Epoch: 13 | Best F1 : 0.8699\n",
      "Best Epoch: 61 | Best F1 : 0.8921\n",
      "Best Epoch: 68 | Best F1 : 0.7657\n",
      "Best Epoch: 131 | Best F1 : 0.8478\n",
      "Best Epoch: 15 | Best F1 : 0.7026\n"
     ]
    },
    {
     "name": "stderr",
     "output_type": "stream",
     "text": [
      "[I 2025-05-19 17:04:03,870] Trial 66 finished with value: 0.8132994849172694 and parameters: {'dim': 115, 'depth': 5, 'heads': 2, 'dropout': 0.13812875258574928}. Best is trial 0 with value: 0.8260347199090331.\n"
     ]
    },
    {
     "name": "stdout",
     "output_type": "stream",
     "text": [
      "Best Epoch: 15 | Best F1 : 0.8583\n",
      "Best Epoch: 135 | Best F1 : 0.8833\n",
      "Best Epoch: 23 | Best F1 : 0.7843\n",
      "Best Epoch: 137 | Best F1 : 0.8087\n",
      "Best Epoch: 41 | Best F1 : 0.6875\n"
     ]
    },
    {
     "name": "stderr",
     "output_type": "stream",
     "text": [
      "[I 2025-05-19 17:04:57,339] Trial 67 finished with value: 0.8047607986840699 and parameters: {'dim': 103, 'depth': 5, 'heads': 4, 'dropout': 0.024429128289567725}. Best is trial 0 with value: 0.8260347199090331.\n"
     ]
    },
    {
     "name": "stdout",
     "output_type": "stream",
     "text": [
      "Best Epoch: 167 | Best F1 : 0.8599\n",
      "Best Epoch: 39 | Best F1 : 0.8833\n",
      "Best Epoch: 181 | Best F1 : 0.8326\n",
      "Best Epoch: 197 | Best F1 : 0.8087\n",
      "Best Epoch: 6 | Best F1 : 0.6764\n"
     ]
    },
    {
     "name": "stderr",
     "output_type": "stream",
     "text": [
      "[I 2025-05-19 17:05:50,362] Trial 68 finished with value: 0.8078660760838418 and parameters: {'dim': 112, 'depth': 5, 'heads': 3, 'dropout': 0.056144393444716945}. Best is trial 0 with value: 0.8260347199090331.\n"
     ]
    },
    {
     "name": "stdout",
     "output_type": "stream",
     "text": [
      "Best Epoch: 25 | Best F1 : 0.8382\n",
      "Best Epoch: 60 | Best F1 : 0.8599\n",
      "Best Epoch: 13 | Best F1 : 0.7486\n",
      "Best Epoch: 25 | Best F1 : 0.7989\n",
      "Best Epoch: 10 | Best F1 : 0.6875\n"
     ]
    },
    {
     "name": "stderr",
     "output_type": "stream",
     "text": [
      "[I 2025-05-19 17:06:35,968] Trial 69 finished with value: 0.7866140811034578 and parameters: {'dim': 119, 'depth': 4, 'heads': 4, 'dropout': 0.07736926138151133}. Best is trial 0 with value: 0.8260347199090331.\n"
     ]
    },
    {
     "name": "stdout",
     "output_type": "stream",
     "text": [
      "Best Epoch: 105 | Best F1 : 0.8382\n",
      "Best Epoch: 176 | Best F1 : 0.9087\n",
      "Best Epoch: 29 | Best F1 : 0.8491\n",
      "Best Epoch: 92 | Best F1 : 0.8250\n",
      "Best Epoch: 94 | Best F1 : 0.6694\n"
     ]
    },
    {
     "name": "stderr",
     "output_type": "stream",
     "text": [
      "[I 2025-05-19 17:07:20,206] Trial 70 finished with value: 0.8202595042860675 and parameters: {'dim': 107, 'depth': 4, 'heads': 2, 'dropout': 0.10058850907458522}. Best is trial 0 with value: 0.8260347199090331.\n"
     ]
    },
    {
     "name": "stdout",
     "output_type": "stream",
     "text": [
      "Best Epoch: 34 | Best F1 : 0.8491\n",
      "Best Epoch: 54 | Best F1 : 0.8599\n",
      "Best Epoch: 46 | Best F1 : 0.7883\n",
      "Best Epoch: 37 | Best F1 : 0.8179\n",
      "Best Epoch: 19 | Best F1 : 0.6983\n"
     ]
    },
    {
     "name": "stderr",
     "output_type": "stream",
     "text": [
      "[I 2025-05-19 17:08:04,347] Trial 71 finished with value: 0.8048763651811868 and parameters: {'dim': 101, 'depth': 4, 'heads': 2, 'dropout': 0.1025875311056181}. Best is trial 0 with value: 0.8260347199090331.\n"
     ]
    },
    {
     "name": "stdout",
     "output_type": "stream",
     "text": [
      "Best Epoch: 6 | Best F1 : 0.8599\n",
      "Best Epoch: 5 | Best F1 : 0.8478\n",
      "Best Epoch: 12 | Best F1 : 0.7322\n",
      "Best Epoch: 124 | Best F1 : 0.8087\n",
      "Best Epoch: 91 | Best F1 : 0.7139\n"
     ]
    },
    {
     "name": "stderr",
     "output_type": "stream",
     "text": [
      "[I 2025-05-19 17:08:48,312] Trial 72 finished with value: 0.7840899106600013 and parameters: {'dim': 108, 'depth': 4, 'heads': 2, 'dropout': 0.019811182303075214}. Best is trial 0 with value: 0.8260347199090331.\n"
     ]
    },
    {
     "name": "stdout",
     "output_type": "stream",
     "text": [
      "Best Epoch: 21 | Best F1 : 0.8179\n",
      "Best Epoch: 170 | Best F1 : 0.8833\n",
      "Best Epoch: 18 | Best F1 : 0.7450\n",
      "Best Epoch: 15 | Best F1 : 0.8250\n",
      "Best Epoch: 161 | Best F1 : 0.6983\n"
     ]
    },
    {
     "name": "stderr",
     "output_type": "stream",
     "text": [
      "[I 2025-05-19 17:09:40,950] Trial 73 finished with value: 0.8043073828785481 and parameters: {'dim': 115, 'depth': 5, 'heads': 2, 'dropout': 0.13794038044594786}. Best is trial 0 with value: 0.8260347199090331.\n"
     ]
    },
    {
     "name": "stdout",
     "output_type": "stream",
     "text": [
      "Best Epoch: 52 | Best F1 : 0.8699\n",
      "Best Epoch: 143 | Best F1 : 0.8599\n",
      "Best Epoch: 26 | Best F1 : 0.7883\n",
      "Best Epoch: 122 | Best F1 : 0.7667\n",
      "Best Epoch: 125 | Best F1 : 0.6983\n"
     ]
    },
    {
     "name": "stderr",
     "output_type": "stream",
     "text": [
      "[I 2025-05-19 17:10:17,395] Trial 74 finished with value: 0.7924661777948109 and parameters: {'dim': 106, 'depth': 3, 'heads': 3, 'dropout': 0.07215458433274978}. Best is trial 0 with value: 0.8260347199090331.\n"
     ]
    },
    {
     "name": "stdout",
     "output_type": "stream",
     "text": [
      "Best Epoch: 14 | Best F1 : 0.8491\n",
      "Best Epoch: 170 | Best F1 : 0.9362\n",
      "Best Epoch: 80 | Best F1 : 0.8039\n",
      "Best Epoch: 198 | Best F1 : 0.7869\n",
      "Best Epoch: 5 | Best F1 : 0.6987\n"
     ]
    },
    {
     "name": "stderr",
     "output_type": "stream",
     "text": [
      "[I 2025-05-19 17:10:53,393] Trial 75 finished with value: 0.8127909064452249 and parameters: {'dim': 60, 'depth': 3, 'heads': 3, 'dropout': 0.10198684820983224}. Best is trial 0 with value: 0.8260347199090331.\n"
     ]
    },
    {
     "name": "stdout",
     "output_type": "stream",
     "text": [
      "Best Epoch: 78 | Best F1 : 0.8382\n",
      "Best Epoch: 157 | Best F1 : 0.8599\n",
      "Best Epoch: 186 | Best F1 : 0.7843\n",
      "Best Epoch: 86 | Best F1 : 0.7809\n",
      "Best Epoch: 195 | Best F1 : 0.6875\n"
     ]
    },
    {
     "name": "stderr",
     "output_type": "stream",
     "text": [
      "[I 2025-05-19 17:11:37,447] Trial 76 finished with value: 0.7923469973879966 and parameters: {'dim': 33, 'depth': 4, 'heads': 5, 'dropout': 0.163195455413425}. Best is trial 0 with value: 0.8260347199090331.\n"
     ]
    },
    {
     "name": "stdout",
     "output_type": "stream",
     "text": [
      "Best Epoch: 198 | Best F1 : 0.8491\n",
      "Best Epoch: 181 | Best F1 : 0.8725\n",
      "Best Epoch: 37 | Best F1 : 0.7667\n",
      "Best Epoch: 189 | Best F1 : 0.8326\n",
      "Best Epoch: 26 | Best F1 : 0.7173\n"
     ]
    },
    {
     "name": "stderr",
     "output_type": "stream",
     "text": [
      "[I 2025-05-19 17:12:13,741] Trial 77 finished with value: 0.8076439055185205 and parameters: {'dim': 102, 'depth': 3, 'heads': 2, 'dropout': 0.057323252129352784}. Best is trial 0 with value: 0.8260347199090331.\n"
     ]
    },
    {
     "name": "stdout",
     "output_type": "stream",
     "text": [
      "Best Epoch: 68 | Best F1 : 0.8491\n",
      "Best Epoch: 46 | Best F1 : 0.9220\n",
      "Best Epoch: 91 | Best F1 : 0.7657\n",
      "Best Epoch: 10 | Best F1 : 0.8039\n",
      "Best Epoch: 127 | Best F1 : 0.6764\n"
     ]
    },
    {
     "name": "stderr",
     "output_type": "stream",
     "text": [
      "[I 2025-05-19 17:13:24,792] Trial 78 finished with value: 0.7995073028090962 and parameters: {'dim': 93, 'depth': 7, 'heads': 6, 'dropout': 0.12778492425961893}. Best is trial 0 with value: 0.8260347199090331.\n"
     ]
    },
    {
     "name": "stdout",
     "output_type": "stream",
     "text": [
      "Best Epoch: 48 | Best F1 : 0.8296\n",
      "Best Epoch: 152 | Best F1 : 0.8599\n",
      "Best Epoch: 35 | Best F1 : 0.7843\n",
      "Best Epoch: 17 | Best F1 : 0.7989\n",
      "Best Epoch: 15 | Best F1 : 0.7017\n"
     ]
    },
    {
     "name": "stderr",
     "output_type": "stream",
     "text": [
      "[I 2025-05-19 17:14:10,706] Trial 79 finished with value: 0.7966055671178023 and parameters: {'dim': 110, 'depth': 4, 'heads': 5, 'dropout': 0.09848230640901769}. Best is trial 0 with value: 0.8260347199090331.\n"
     ]
    },
    {
     "name": "stdout",
     "output_type": "stream",
     "text": [
      "Best Epoch: 17 | Best F1 : 0.8382\n",
      "Best Epoch: 83 | Best F1 : 0.8599\n",
      "Best Epoch: 22 | Best F1 : 0.7659\n",
      "Best Epoch: 17 | Best F1 : 0.7989\n",
      "Best Epoch: 26 | Best F1 : 0.6738\n"
     ]
    },
    {
     "name": "stderr",
     "output_type": "stream",
     "text": [
      "[I 2025-05-19 17:15:04,075] Trial 80 finished with value: 0.7895261027481681 and parameters: {'dim': 121, 'depth': 5, 'heads': 3, 'dropout': 0.1130706073955855}. Best is trial 0 with value: 0.8260347199090331.\n"
     ]
    },
    {
     "name": "stdout",
     "output_type": "stream",
     "text": [
      "Best Epoch: 20 | Best F1 : 0.8491\n",
      "Best Epoch: 174 | Best F1 : 0.8921\n",
      "Best Epoch: 82 | Best F1 : 0.8087\n",
      "Best Epoch: 18 | Best F1 : 0.7809\n",
      "Best Epoch: 139 | Best F1 : 0.6694\n"
     ]
    },
    {
     "name": "stderr",
     "output_type": "stream",
     "text": [
      "[I 2025-05-19 17:15:56,731] Trial 81 finished with value: 0.8000516288393238 and parameters: {'dim': 117, 'depth': 5, 'heads': 2, 'dropout': 0.14638539899473635}. Best is trial 0 with value: 0.8260347199090331.\n"
     ]
    },
    {
     "name": "stdout",
     "output_type": "stream",
     "text": [
      "Best Epoch: 97 | Best F1 : 0.8491\n",
      "Best Epoch: 132 | Best F1 : 0.9087\n",
      "Best Epoch: 188 | Best F1 : 0.7883\n",
      "Best Epoch: 53 | Best F1 : 0.8250\n",
      "Best Epoch: 58 | Best F1 : 0.6875\n"
     ]
    },
    {
     "name": "stderr",
     "output_type": "stream",
     "text": [
      "[I 2025-05-19 17:16:49,580] Trial 82 finished with value: 0.813881273313602 and parameters: {'dim': 125, 'depth': 5, 'heads': 2, 'dropout': 0.14048888893728798}. Best is trial 0 with value: 0.8260347199090331.\n"
     ]
    },
    {
     "name": "stdout",
     "output_type": "stream",
     "text": [
      "Best Epoch: 59 | Best F1 : 0.8599\n",
      "Best Epoch: 100 | Best F1 : 0.8921\n",
      "Best Epoch: 29 | Best F1 : 0.8179\n",
      "Best Epoch: 27 | Best F1 : 0.8250\n",
      "Best Epoch: 196 | Best F1 : 0.6919\n"
     ]
    },
    {
     "name": "stderr",
     "output_type": "stream",
     "text": [
      "[I 2025-05-19 17:17:42,395] Trial 83 finished with value: 0.8112990563364226 and parameters: {'dim': 126, 'depth': 5, 'heads': 2, 'dropout': 0.18543948934601145}. Best is trial 0 with value: 0.8260347199090331.\n"
     ]
    },
    {
     "name": "stdout",
     "output_type": "stream",
     "text": [
      "Best Epoch: 22 | Best F1 : 0.8296\n",
      "Best Epoch: 39 | Best F1 : 0.8599\n",
      "Best Epoch: 21 | Best F1 : 0.7657\n",
      "Best Epoch: 4 | Best F1 : 0.7883\n",
      "Best Epoch: 11 | Best F1 : 0.6983\n"
     ]
    },
    {
     "name": "stderr",
     "output_type": "stream",
     "text": [
      "[I 2025-05-19 17:18:42,447] Trial 84 finished with value: 0.8056310080667011 and parameters: {'dim': 112, 'depth': 6, 'heads': 2, 'dropout': 0.027987582648448084}. Best is trial 0 with value: 0.8260347199090331.\n"
     ]
    },
    {
     "name": "stdout",
     "output_type": "stream",
     "text": [
      "Best Epoch: 7 | Best F1 : 0.9160\n",
      "Best Epoch: 86 | Best F1 : 0.8783\n",
      "Best Epoch: 26 | Best F1 : 0.8039\n",
      "Best Epoch: 81 | Best F1 : 0.8250\n",
      "Best Epoch: 106 | Best F1 : 0.6875\n"
     ]
    },
    {
     "name": "stderr",
     "output_type": "stream",
     "text": [
      "[I 2025-05-19 17:19:35,003] Trial 85 finished with value: 0.8087640738454303 and parameters: {'dim': 98, 'depth': 5, 'heads': 4, 'dropout': 0.11591552018347279}. Best is trial 0 with value: 0.8260347199090331.\n"
     ]
    },
    {
     "name": "stdout",
     "output_type": "stream",
     "text": [
      "Best Epoch: 18 | Best F1 : 0.8491\n",
      "Best Epoch: 75 | Best F1 : 0.8833\n",
      "Best Epoch: 50 | Best F1 : 0.7322\n",
      "Best Epoch: 100 | Best F1 : 0.7869\n",
      "Best Epoch: 36 | Best F1 : 0.6875\n"
     ]
    },
    {
     "name": "stderr",
     "output_type": "stream",
     "text": [
      "[I 2025-05-19 17:20:19,587] Trial 86 finished with value: 0.7856167470098232 and parameters: {'dim': 124, 'depth': 4, 'heads': 2, 'dropout': 0.15725138789129134}. Best is trial 0 with value: 0.8260347199090331.\n"
     ]
    },
    {
     "name": "stdout",
     "output_type": "stream",
     "text": [
      "Best Epoch: 29 | Best F1 : 0.8382\n",
      "Best Epoch: 170 | Best F1 : 0.8833\n",
      "Best Epoch: 22 | Best F1 : 0.7486\n",
      "Best Epoch: 25 | Best F1 : 0.7809\n",
      "Best Epoch: 32 | Best F1 : 0.6875\n"
     ]
    },
    {
     "name": "stderr",
     "output_type": "stream",
     "text": [
      "[I 2025-05-19 17:20:55,656] Trial 87 finished with value: 0.7822664487594261 and parameters: {'dim': 108, 'depth': 3, 'heads': 3, 'dropout': 0.23760239559369611}. Best is trial 0 with value: 0.8260347199090331.\n"
     ]
    },
    {
     "name": "stdout",
     "output_type": "stream",
     "text": [
      "Best Epoch: 32 | Best F1 : 0.8111\n",
      "Best Epoch: 171 | Best F1 : 0.9087\n",
      "Best Epoch: 15 | Best F1 : 0.7667\n",
      "Best Epoch: 6 | Best F1 : 0.8326\n",
      "Best Epoch: 104 | Best F1 : 0.6835\n"
     ]
    },
    {
     "name": "stderr",
     "output_type": "stream",
     "text": [
      "[I 2025-05-19 17:21:57,513] Trial 88 finished with value: 0.810272163141979 and parameters: {'dim': 120, 'depth': 6, 'heads': 4, 'dropout': 0.20802121426478618}. Best is trial 0 with value: 0.8260347199090331.\n"
     ]
    },
    {
     "name": "stdout",
     "output_type": "stream",
     "text": [
      "Best Epoch: 70 | Best F1 : 0.8599\n",
      "Best Epoch: 162 | Best F1 : 0.8599\n",
      "Best Epoch: 45 | Best F1 : 0.8326\n",
      "Best Epoch: 41 | Best F1 : 0.7989\n",
      "Best Epoch: 42 | Best F1 : 0.6875\n"
     ]
    },
    {
     "name": "stderr",
     "output_type": "stream",
     "text": [
      "[I 2025-05-19 17:22:41,730] Trial 89 finished with value: 0.8077709006226546 and parameters: {'dim': 85, 'depth': 4, 'heads': 2, 'dropout': 0.48059542252570414}. Best is trial 0 with value: 0.8260347199090331.\n"
     ]
    },
    {
     "name": "stdout",
     "output_type": "stream",
     "text": [
      "Best Epoch: 33 | Best F1 : 0.8599\n",
      "Best Epoch: 32 | Best F1 : 0.8921\n",
      "Best Epoch: 22 | Best F1 : 0.7869\n",
      "Best Epoch: 20 | Best F1 : 0.8111\n",
      "Best Epoch: 147 | Best F1 : 0.6738\n"
     ]
    },
    {
     "name": "stderr",
     "output_type": "stream",
     "text": [
      "[I 2025-05-19 17:23:37,619] Trial 90 finished with value: 0.8023286751275365 and parameters: {'dim': 105, 'depth': 5, 'heads': 6, 'dropout': 0.08834872369910088}. Best is trial 0 with value: 0.8260347199090331.\n"
     ]
    },
    {
     "name": "stdout",
     "output_type": "stream",
     "text": [
      "Best Epoch: 96 | Best F1 : 0.8478\n",
      "Best Epoch: 53 | Best F1 : 0.8994\n",
      "Best Epoch: 38 | Best F1 : 0.8478\n",
      "Best Epoch: 20 | Best F1 : 0.7809\n",
      "Best Epoch: 46 | Best F1 : 0.7017\n"
     ]
    },
    {
     "name": "stderr",
     "output_type": "stream",
     "text": [
      "[I 2025-05-19 17:24:30,217] Trial 91 finished with value: 0.8199457420009036 and parameters: {'dim': 115, 'depth': 5, 'heads': 2, 'dropout': 0.1390964743126493}. Best is trial 0 with value: 0.8260347199090331.\n"
     ]
    },
    {
     "name": "stdout",
     "output_type": "stream",
     "text": [
      "Best Epoch: 35 | Best F1 : 0.8699\n",
      "Best Epoch: 91 | Best F1 : 0.8478\n",
      "Best Epoch: 34 | Best F1 : 0.7321\n",
      "Best Epoch: 129 | Best F1 : 0.8725\n",
      "Best Epoch: 6 | Best F1 : 0.6480\n"
     ]
    },
    {
     "name": "stderr",
     "output_type": "stream",
     "text": [
      "[I 2025-05-19 17:25:22,765] Trial 92 finished with value: 0.7836596523609398 and parameters: {'dim': 117, 'depth': 5, 'heads': 2, 'dropout': 0.16978024096643524}. Best is trial 0 with value: 0.8260347199090331.\n"
     ]
    },
    {
     "name": "stdout",
     "output_type": "stream",
     "text": [
      "Best Epoch: 16 | Best F1 : 0.8179\n",
      "Best Epoch: 107 | Best F1 : 0.9087\n",
      "Best Epoch: 31 | Best F1 : 0.8087\n",
      "Best Epoch: 57 | Best F1 : 0.7989\n",
      "Best Epoch: 28 | Best F1 : 0.7173\n"
     ]
    },
    {
     "name": "stderr",
     "output_type": "stream",
     "text": [
      "[I 2025-05-19 17:25:59,298] Trial 93 finished with value: 0.8165382245834127 and parameters: {'dim': 114, 'depth': 3, 'heads': 2, 'dropout': 0.1431571568848865}. Best is trial 0 with value: 0.8260347199090331.\n"
     ]
    },
    {
     "name": "stdout",
     "output_type": "stream",
     "text": [
      "Best Epoch: 19 | Best F1 : 0.8491\n",
      "Best Epoch: 6 | Best F1 : 0.8833\n",
      "Best Epoch: 13 | Best F1 : 0.7883\n",
      "Best Epoch: 73 | Best F1 : 0.7638\n",
      "Best Epoch: 13 | Best F1 : 0.6630\n"
     ]
    },
    {
     "name": "stderr",
     "output_type": "stream",
     "text": [
      "[I 2025-05-19 17:26:35,644] Trial 94 finished with value: 0.7873340136852672 and parameters: {'dim': 114, 'depth': 3, 'heads': 2, 'dropout': 0.12659690947026236}. Best is trial 0 with value: 0.8260347199090331.\n"
     ]
    },
    {
     "name": "stdout",
     "output_type": "stream",
     "text": [
      "Best Epoch: 10 | Best F1 : 0.8382\n",
      "Best Epoch: 80 | Best F1 : 0.9160\n",
      "Best Epoch: 15 | Best F1 : 0.7260\n",
      "Best Epoch: 29 | Best F1 : 0.7989\n",
      "Best Epoch: 193 | Best F1 : 0.7139\n"
     ]
    },
    {
     "name": "stderr",
     "output_type": "stream",
     "text": [
      "[I 2025-05-19 17:27:11,818] Trial 95 finished with value: 0.8093575096233719 and parameters: {'dim': 73, 'depth': 3, 'heads': 3, 'dropout': 0.0719175571297147}. Best is trial 0 with value: 0.8260347199090331.\n"
     ]
    },
    {
     "name": "stdout",
     "output_type": "stream",
     "text": [
      "Best Epoch: 77 | Best F1 : 0.8921\n",
      "Best Epoch: 183 | Best F1 : 0.9087\n",
      "Best Epoch: 39 | Best F1 : 0.7869\n",
      "Best Epoch: 50 | Best F1 : 0.8179\n",
      "Best Epoch: 14 | Best F1 : 0.6835\n"
     ]
    },
    {
     "name": "stderr",
     "output_type": "stream",
     "text": [
      "[I 2025-05-19 17:27:48,107] Trial 96 finished with value: 0.8133692871167387 and parameters: {'dim': 111, 'depth': 3, 'heads': 2, 'dropout': 0.09513680910808614}. Best is trial 0 with value: 0.8260347199090331.\n"
     ]
    },
    {
     "name": "stdout",
     "output_type": "stream",
     "text": [
      "Best Epoch: 23 | Best F1 : 0.8699\n",
      "Best Epoch: 20 | Best F1 : 0.8921\n",
      "Best Epoch: 17 | Best F1 : 0.7667\n",
      "Best Epoch: 34 | Best F1 : 0.8179\n",
      "Best Epoch: 44 | Best F1 : 0.6606\n"
     ]
    },
    {
     "name": "stderr",
     "output_type": "stream",
     "text": [
      "[I 2025-05-19 17:28:24,780] Trial 97 finished with value: 0.801452573464364 and parameters: {'dim': 97, 'depth': 3, 'heads': 5, 'dropout': 0.11069544636263288}. Best is trial 0 with value: 0.8260347199090331.\n"
     ]
    },
    {
     "name": "stdout",
     "output_type": "stream",
     "text": [
      "Best Epoch: 89 | Best F1 : 0.8699\n",
      "Best Epoch: 105 | Best F1 : 0.8994\n",
      "Best Epoch: 15 | Best F1 : 0.8250\n",
      "Best Epoch: 22 | Best F1 : 0.7809\n",
      "Best Epoch: 26 | Best F1 : 0.6694\n"
     ]
    },
    {
     "name": "stderr",
     "output_type": "stream",
     "text": [
      "[I 2025-05-19 17:29:12,092] Trial 98 finished with value: 0.808919480205916 and parameters: {'dim': 101, 'depth': 4, 'heads': 7, 'dropout': 0.19835746696960094}. Best is trial 0 with value: 0.8260347199090331.\n"
     ]
    },
    {
     "name": "stdout",
     "output_type": "stream",
     "text": [
      "Best Epoch: 12 | Best F1 : 0.8699\n",
      "Best Epoch: 145 | Best F1 : 0.8921\n",
      "Best Epoch: 37 | Best F1 : 0.7869\n",
      "Best Epoch: 50 | Best F1 : 0.8382\n",
      "Best Epoch: 10 | Best F1 : 0.6983\n"
     ]
    },
    {
     "name": "stderr",
     "output_type": "stream",
     "text": [
      "[I 2025-05-19 17:29:56,151] Trial 99 finished with value: 0.8129264076648577 and parameters: {'dim': 104, 'depth': 4, 'heads': 2, 'dropout': 0.43426395795630746}. Best is trial 0 with value: 0.8260347199090331.\n"
     ]
    },
    {
     "name": "stdout",
     "output_type": "stream",
     "text": [
      "Best Epoch: 163 | Best F1 : 0.8491\n",
      "Best trial: FrozenTrial(number=0, state=1, values=[0.8260347199090331], datetime_start=datetime.datetime(2025, 5, 19, 16, 12, 30, 575105), datetime_complete=datetime.datetime(2025, 5, 19, 16, 13, 12, 720528), params={'dim': 89, 'depth': 3, 'heads': 8, 'dropout': 0.40935237527898183}, user_attrs={}, system_attrs={}, intermediate_values={}, distributions={'dim': IntDistribution(high=128, log=False, low=32, step=1), 'depth': IntDistribution(high=8, log=False, low=2, step=1), 'heads': IntDistribution(high=8, log=False, low=2, step=1), 'dropout': FloatDistribution(high=0.5, log=False, low=0.0, step=None)}, trial_id=0, value=None)\n",
      "Best value: 0.8260347199090331\n",
      "Best params: {'dim': 89, 'depth': 3, 'heads': 8, 'dropout': 0.40935237527898183}\n"
     ]
    }
   ],
   "source": [
    "study = optuna.create_study(direction='maximize')\n",
    "study.optimize(lambda trial:objective(trial, df), n_trials=100)\n",
    "print(f'Best trial: {study.best_trial}')\n",
    "print(f'Best value: {study.best_value}')\n",
    "print(f'Best params: {study.best_params}')"
   ]
  },
  {
   "cell_type": "code",
   "execution_count": null,
   "id": "2a3b4263",
   "metadata": {},
   "outputs": [],
   "source": [
    "# Best Epoch: 163 | Best F1 : 0.9220\n",
    "# Best Epoch: 88 | Best F1 : 0.8039\n",
    "# Best Epoch: 7 | Best F1 : 0.8326\n",
    "# Best Epoch: 36 | Best F1 : 0.7017\n",
    "# [I 2025-05-19 16:13:12,720] Trial 0 finished with value: 0.8260347199090331 and parameters: {'dim': 89, 'depth': 3, 'heads': 8, 'dropout': 0.40935237527898183}. Best is trial 0 with value: 0.8260347199090331."
   ]
  },
  {
   "cell_type": "code",
   "execution_count": 1,
   "id": "c301066c",
   "metadata": {},
   "outputs": [],
   "source": [
    "def get_cv_results(f1s:list):\n",
    "    import numpy as np\n",
    "    import scipy.stats as st\n",
    "    f1s = np.array(f1s)\n",
    "    mean_f1 = np.mean(f1s)\n",
    "    std_f1 = np.std(f1s)\n",
    "    ci95 = st.t.interval(.95, df=len(f1s)-1, loc=mean_f1, scale=std_f1/np.sqrt(len(f1s)))\n",
    "    return mean_f1, std_f1, ci95"
   ]
  },
  {
   "cell_type": "code",
   "execution_count": 2,
   "id": "a3e0d3ad",
   "metadata": {},
   "outputs": [
    {
     "name": "stdout",
     "output_type": "stream",
     "text": [
      "CV Results: Mean 0.82 | Std 0.08 | CI95% 0.69~0.94\n"
     ]
    }
   ],
   "source": [
    "mean_f1, std_f1, ci95 = get_cv_results([0.9220, 0.8039, 0.8326, 0.7017])\n",
    "print(f'CV Results: Mean {mean_f1:.2f} | Std {std_f1:.2f} | CI95% {ci95[0]:.2f}~{ci95[1]:.2f}')"
   ]
  },
  {
   "cell_type": "code",
   "execution_count": null,
   "id": "de571d45",
   "metadata": {},
   "outputs": [],
   "source": []
  }
 ],
 "metadata": {
  "kernelspec": {
   "display_name": "jhs_torch",
   "language": "python",
   "name": "python3"
  },
  "language_info": {
   "codemirror_mode": {
    "name": "ipython",
    "version": 3
   },
   "file_extension": ".py",
   "mimetype": "text/x-python",
   "name": "python",
   "nbconvert_exporter": "python",
   "pygments_lexer": "ipython3",
   "version": "3.11.9"
  }
 },
 "nbformat": 4,
 "nbformat_minor": 5
}
