{
 "cells": [
  {
   "cell_type": "code",
   "execution_count": 1,
   "id": "91ab746d",
   "metadata": {},
   "outputs": [
    {
     "name": "stdout",
     "output_type": "stream",
     "text": [
      "Couldn't import dot_parser, loading of dot files will not be possible.\n"
     ]
    }
   ],
   "source": [
    "import warnings\n",
    "\n",
    "warnings.filterwarnings('ignore')\n",
    "\n",
    "import os\n",
    "import optuna\n",
    "import random\n",
    "import numpy as np\n",
    "import pandas as pd\n",
    "from ResNN import ClassificationModel2 as ResNN, FocalLoss\n",
    "import scipy.stats as st\n",
    "from imblearn.over_sampling import SMOTE\n",
    "from sklearn.metrics import f1_score, classification_report\n",
    "from sklearn.model_selection import train_test_split, StratifiedKFold\n",
    "from sklearn.preprocessing import MinMaxScaler, OrdinalEncoder, StandardScaler, OneHotEncoder\n",
    "import torch\n",
    "from torch import nn\n",
    "from torch.optim import Adam\n",
    "from torch.utils.data import Dataset, DataLoader"
   ]
  },
  {
   "cell_type": "code",
   "execution_count": 2,
   "id": "b141b8cb",
   "metadata": {},
   "outputs": [],
   "source": [
    "def seed_everything(seed: int = 42):\n",
    "    random.seed(seed)\n",
    "    np.random.seed(seed)\n",
    "    os.environ[\"PYTHONHASHSEED\"] = str(seed)\n",
    "    torch.manual_seed(seed)\n",
    "    torch.cuda.manual_seed(seed)  # type: ignore\n",
    "    torch.backends.cudnn.deterministic = True  # type: ignore\n",
    "    torch.backends.cudnn.benchmark = False  # type: ignore\n",
    "\n",
    "seed_everything()   "
   ]
  },
  {
   "cell_type": "code",
   "execution_count": 3,
   "id": "95a1ca87",
   "metadata": {},
   "outputs": [],
   "source": [
    "df = pd.read_csv('./impute_set/imp3.csv')\n",
    "\n",
    "class CustomDataset(Dataset):\n",
    "    def __init__(self, X, y):\n",
    "        super().__init__()\n",
    "        self.X = torch.from_numpy(X.values).float()\n",
    "        self.y = torch.from_numpy(y.values).long()\n",
    "\n",
    "    def __len__(self):\n",
    "        return len(self.X)\n",
    "    \n",
    "    def __getitem__(self, idx):\n",
    "        return self.X[idx], self.y[idx]\n",
    "    \n",
    "def preprocessing(df, numeric='minmax', category='label'):\n",
    "    X = df.drop('BS3_1', axis=1)\n",
    "    y = df['BS3_1']\n",
    "    numeric_col = [\n",
    "        'FEV1', 'FEV1FVC', 'age', 'BS6_3', 'BS6_2_1', 'BD1',\n",
    "        '건강문해력', 'Total_slp_wk', 'EQ_5D', 'BE3_31', 'BE5_1', '질환유병기간'\n",
    "    ]\n",
    "    cat_col = []\n",
    "    for col in X.columns:\n",
    "        if col not in numeric_col:\n",
    "            cat_col.append(col)\n",
    "\n",
    "    df_num, df_cat = X[numeric_col], X[cat_col]\n",
    "    if numeric == 'minmax':\n",
    "        n_pre = MinMaxScaler()\n",
    "    else:\n",
    "        n_pre = StandardScaler()\n",
    "    df_num = pd.DataFrame(n_pre.fit_transform(df_num), columns=df_num.columns)\n",
    "\n",
    "    if category == 'label':\n",
    "        c_pre = OrdinalEncoder()\n",
    "        df_cat = pd.DataFrame(c_pre.fit_transform(df_cat), columns=df_cat.columns)\n",
    "    else:\n",
    "        c_pre = OneHotEncoder(sparse_output=False)\n",
    "        df_cat = pd.DataFrame(c_pre.fit_transform(df_cat))\n",
    "\n",
    "    X = pd.concat([df_num, df_cat], axis=1)\n",
    "    # uniques = []\n",
    "    # for col in cat_col:\n",
    "    #     uniques.append(len(X[col].unique()))\n",
    "    return X, y\n",
    "\n",
    "\n",
    "# def test_with_imputations(train_loader, test_loader, test_y, input_dim):\n",
    "def test_with_imputations(model, train_loader, test_loader, test_y):\n",
    "    class_counts = torch.tensor([test_y.value_counts()[0], test_y.value_counts()[1]])\n",
    "    class_weights = 1.0 / class_counts\n",
    "    class_weights /= class_weights.sum()\n",
    "\n",
    "    device = torch.device('cuda')\n",
    "    # model = ResNN(input_dim=input_dim, hidden_dim=512, num_classes=2)\n",
    "    model = model.to(device)\n",
    "    optim = Adam(model.parameters(), lr=.0001)\n",
    "    # class_counts = torch.tensor([test_y.value_counts()[0], test_y.value_counts()[1]])\n",
    "    # class_weights = 1.0 / class_counts\n",
    "    # class_weights /= class_weights.sum()\n",
    "    \n",
    "    criterion = FocalLoss(weight=class_weights.to(device))\n",
    "    best_f1 = 0.0\n",
    "    best_epoch = 0\n",
    "    epochs=500\n",
    "    for epoch in range(epochs):\n",
    "        model.train()\n",
    "        running_loss = 0.0\n",
    "        for xx, yy in train_loader:\n",
    "            xx, yy = xx.to(device), yy.to(device)\n",
    "            optim.zero_grad()\n",
    "            preds = model(xx)\n",
    "            loss = criterion(preds, yy)\n",
    "            loss.backward()\n",
    "            optim.step()\n",
    "            running_loss += loss.item()\n",
    "        # print(f'{epoch+1} Epoch | Loss: {running_loss/len(train_loader):.4f}')\n",
    "\n",
    "        model.eval()\n",
    "        val_loss = 0\n",
    "        correct = 0\n",
    "        val_preds = []\n",
    "        val_targets = []\n",
    "        with torch.no_grad():\n",
    "            for xx, yy in test_loader:\n",
    "                xx, yy = xx.to(device), yy.to(device)\n",
    "                preds = model(xx)\n",
    "                val_loss = criterion(preds, yy).item()\n",
    "                yy = yy.detach().cpu().numpy().squeeze()\n",
    "                preds = preds.detach().cpu().numpy().squeeze()\n",
    "                preds_labels = preds.argmax(axis=1)\n",
    "                correct += (preds_labels == yy).sum().item()\n",
    "                val_preds.extend(preds_labels.tolist())\n",
    "                val_targets.extend(yy.tolist())\n",
    "\n",
    "        val_loss /= len(test_loader)\n",
    "        val_f1 = f1_score(val_targets, val_preds, average='macro')\n",
    "        # print(f'{epoch+1} Epoch | TestLoss: {val_loss:.4f} | TestF1: {val_f1:.4f}')\n",
    "        if val_f1 > best_f1:\n",
    "            best_f1 = val_f1\n",
    "            best_epoch = epoch+1\n",
    "            torch.save(model.state_dict(), 'bestResNN.pth')\n",
    "\n",
    "    print(f'Best Epoch: {best_epoch} | Best F1 : {best_f1:.4f}')\n",
    "    return best_f1\n",
    "\n",
    "\n",
    "def test_with_5fold(df, numeric, category, shuffle=True):\n",
    "    f1s = []\n",
    "    X, y = preprocessing(df, numeric, category)\n",
    "    if shuffle:\n",
    "        skf = StratifiedKFold(n_splits=5, shuffle=shuffle, random_state=42)\n",
    "    else:\n",
    "        skf = StratifiedKFold(n_splits=5, shuffle=shuffle)\n",
    "    \n",
    "    for fold, (train_idx, test_idx) in enumerate(skf.split(X, y)):\n",
    "        train_X, train_y = X.iloc[train_idx], y.iloc[train_idx]\n",
    "        test_X, test_y = X.iloc[test_idx], y.iloc[test_idx]\n",
    "\n",
    "        train_set = CustomDataset(train_X, train_y)\n",
    "        test_set = CustomDataset(test_X, test_y)\n",
    "        train_loader = DataLoader(train_set, batch_size=64, shuffle=True, pin_memory=True)\n",
    "        test_loader = DataLoader(test_set, batch_size=64, shuffle=True, pin_memory=True)\n",
    "\n",
    "        f1_value = test_with_imputations(\n",
    "            train_loader, test_loader, test_y, input_dim=train_X.shape[-1]\n",
    "        )\n",
    "        f1s.append(f1_value)\n",
    "\n",
    "    return f1s\n",
    "\n",
    "\n",
    "def get_cv_results(f1s:list):\n",
    "    f1s = np.array(f1s)\n",
    "    mean_f1 = np.mean(f1s)\n",
    "    std_f1 = np.std(f1s)\n",
    "    ci95 = st.t.interval(.95, df=len(f1s)-1, loc=mean_f1, scale=std_f1/np.sqrt(len(f1s)))\n",
    "    return mean_f1, std_f1, ci95        "
   ]
  },
  {
   "cell_type": "code",
   "execution_count": 4,
   "id": "a6e42d16",
   "metadata": {},
   "outputs": [],
   "source": [
    "def objective(trial:optuna.Trial, df):\n",
    "    X, y = preprocessing(df, 'standard', 'label')\n",
    "\n",
    "    scores = []\n",
    "    param = {\n",
    "        'hidden_dim' : trial.suggest_int('hidden_dim', 32, 1024),\n",
    "    }\n",
    "\n",
    "    skf = StratifiedKFold(n_splits=5, shuffle=True, random_state=42)\n",
    "    for fold, (train_idx, test_idx) in enumerate(skf.split(X, y)):\n",
    "        train_X, train_y = X.iloc[train_idx], y.iloc[train_idx]\n",
    "        test_X, test_y = X.iloc[test_idx], y.iloc[test_idx]\n",
    "\n",
    "        train_set = CustomDataset(train_X, train_y)\n",
    "        test_set = CustomDataset(test_X, test_y)\n",
    "        train_loader = DataLoader(train_set, batch_size=64, shuffle=True, pin_memory=True)\n",
    "        test_loader = DataLoader(test_set, batch_size=64, shuffle=True, pin_memory=True)\n",
    "\n",
    "        model = ResNN(input_dim=train_X.shape[-1], hidden_dim=param['hidden_dim'], num_classes=2)\n",
    "\n",
    "        f1_value = test_with_imputations(\n",
    "            model, train_loader, test_loader, test_y\n",
    "        )\n",
    "        scores.append(f1_value)\n",
    "\n",
    "    return np.mean(scores)"
   ]
  },
  {
   "cell_type": "code",
   "execution_count": 5,
   "id": "0b2e4667",
   "metadata": {},
   "outputs": [
    {
     "name": "stderr",
     "output_type": "stream",
     "text": [
      "[I 2025-05-19 02:56:27,290] A new study created in memory with name: no-name-c59b0b21-f31e-4ee2-b413-856bf52f0d46\n"
     ]
    },
    {
     "name": "stdout",
     "output_type": "stream",
     "text": [
      "Best Epoch: 14 | Best F1 : 0.8478\n",
      "Best Epoch: 13 | Best F1 : 0.7869\n",
      "Best Epoch: 27 | Best F1 : 0.8326\n",
      "Best Epoch: 72 | Best F1 : 0.7479\n"
     ]
    },
    {
     "name": "stderr",
     "output_type": "stream",
     "text": [
      "[I 2025-05-19 02:57:08,299] Trial 0 finished with value: 0.8080277764677414 and parameters: {'hidden_dim': 706}. Best is trial 0 with value: 0.8080277764677414.\n"
     ]
    },
    {
     "name": "stdout",
     "output_type": "stream",
     "text": [
      "Best Epoch: 14 | Best F1 : 0.8250\n",
      "Best Epoch: 6 | Best F1 : 0.8921\n",
      "Best Epoch: 9 | Best F1 : 0.8326\n",
      "Best Epoch: 366 | Best F1 : 0.8326\n",
      "Best Epoch: 311 | Best F1 : 0.7869\n"
     ]
    },
    {
     "name": "stderr",
     "output_type": "stream",
     "text": [
      "[I 2025-05-19 02:57:49,082] Trial 1 finished with value: 0.8338475113670295 and parameters: {'hidden_dim': 846}. Best is trial 1 with value: 0.8338475113670295.\n"
     ]
    },
    {
     "name": "stdout",
     "output_type": "stream",
     "text": [
      "Best Epoch: 12 | Best F1 : 0.8250\n",
      "Best Epoch: 2 | Best F1 : 0.8250\n",
      "Best Epoch: 141 | Best F1 : 0.7869\n",
      "Best Epoch: 10 | Best F1 : 0.8250\n",
      "Best Epoch: 11 | Best F1 : 0.7166\n"
     ]
    },
    {
     "name": "stderr",
     "output_type": "stream",
     "text": [
      "[I 2025-05-19 02:58:28,700] Trial 2 finished with value: 0.8051916980797676 and parameters: {'hidden_dim': 748}. Best is trial 1 with value: 0.8338475113670295.\n"
     ]
    },
    {
     "name": "stdout",
     "output_type": "stream",
     "text": [
      "Best Epoch: 192 | Best F1 : 0.8725\n",
      "Best Epoch: 92 | Best F1 : 0.9160\n",
      "Best Epoch: 113 | Best F1 : 0.7843\n",
      "Best Epoch: 103 | Best F1 : 0.8179\n",
      "Best Epoch: 486 | Best F1 : 0.7667\n"
     ]
    },
    {
     "name": "stderr",
     "output_type": "stream",
     "text": [
      "[I 2025-05-19 02:59:06,522] Trial 3 finished with value: 0.8177499383975608 and parameters: {'hidden_dim': 50}. Best is trial 1 with value: 0.8338475113670295.\n"
     ]
    },
    {
     "name": "stdout",
     "output_type": "stream",
     "text": [
      "Best Epoch: 189 | Best F1 : 0.8039\n",
      "Best Epoch: 225 | Best F1 : 0.8179\n",
      "Best Epoch: 148 | Best F1 : 0.8039\n",
      "Best Epoch: 103 | Best F1 : 0.8179\n",
      "Best Epoch: 121 | Best F1 : 0.6559\n"
     ]
    },
    {
     "name": "stderr",
     "output_type": "stream",
     "text": [
      "[I 2025-05-19 02:59:44,593] Trial 4 finished with value: 0.780867678583327 and parameters: {'hidden_dim': 35}. Best is trial 1 with value: 0.8338475113670295.\n"
     ]
    },
    {
     "name": "stdout",
     "output_type": "stream",
     "text": [
      "Best Epoch: 390 | Best F1 : 0.8087\n",
      "Best Epoch: 1 | Best F1 : 0.8326\n",
      "Best Epoch: 9 | Best F1 : 0.7869\n",
      "Best Epoch: 9 | Best F1 : 0.8250\n",
      "Best Epoch: 10 | Best F1 : 0.7017\n"
     ]
    },
    {
     "name": "stderr",
     "output_type": "stream",
     "text": [
      "[I 2025-05-19 03:00:26,181] Trial 5 finished with value: 0.7942433924867018 and parameters: {'hidden_dim': 921}. Best is trial 1 with value: 0.8338475113670295.\n"
     ]
    },
    {
     "name": "stdout",
     "output_type": "stream",
     "text": [
      "Best Epoch: 10 | Best F1 : 0.8250\n",
      "Best Epoch: 12 | Best F1 : 0.8599\n",
      "Best Epoch: 387 | Best F1 : 0.8326\n",
      "Best Epoch: 16 | Best F1 : 0.8599\n",
      "Best Epoch: 47 | Best F1 : 0.7322\n"
     ]
    },
    {
     "name": "stderr",
     "output_type": "stream",
     "text": [
      "[I 2025-05-19 03:01:05,094] Trial 6 finished with value: 0.8336022349554881 and parameters: {'hidden_dim': 652}. Best is trial 1 with value: 0.8338475113670295.\n"
     ]
    },
    {
     "name": "stdout",
     "output_type": "stream",
     "text": [
      "Best Epoch: 348 | Best F1 : 0.8833\n",
      "Best Epoch: 5 | Best F1 : 0.8599\n",
      "Best Epoch: 9 | Best F1 : 0.8087\n",
      "Best Epoch: 31 | Best F1 : 0.7883\n",
      "Best Epoch: 21 | Best F1 : 0.6919\n"
     ]
    },
    {
     "name": "stderr",
     "output_type": "stream",
     "text": [
      "[I 2025-05-19 03:01:45,785] Trial 7 finished with value: 0.7947740698606255 and parameters: {'hidden_dim': 815}. Best is trial 1 with value: 0.8338475113670295.\n"
     ]
    },
    {
     "name": "stdout",
     "output_type": "stream",
     "text": [
      "Best Epoch: 122 | Best F1 : 0.8250\n",
      "Best Epoch: 17 | Best F1 : 0.8921\n",
      "Best Epoch: 5 | Best F1 : 0.7809\n",
      "Best Epoch: 351 | Best F1 : 0.8833\n",
      "Best Epoch: 133 | Best F1 : 0.7260\n"
     ]
    },
    {
     "name": "stderr",
     "output_type": "stream",
     "text": [
      "[I 2025-05-19 03:02:27,101] Trial 8 finished with value: 0.8331291601049617 and parameters: {'hidden_dim': 405}. Best is trial 1 with value: 0.8338475113670295.\n"
     ]
    },
    {
     "name": "stdout",
     "output_type": "stream",
     "text": [
      "Best Epoch: 372 | Best F1 : 0.8833\n",
      "Best Epoch: 15 | Best F1 : 0.8179\n",
      "Best Epoch: 16 | Best F1 : 0.8326\n",
      "Best Epoch: 13 | Best F1 : 0.8250\n",
      "Best Epoch: 50 | Best F1 : 0.7667\n"
     ]
    },
    {
     "name": "stderr",
     "output_type": "stream",
     "text": [
      "[I 2025-05-19 03:03:05,400] Trial 9 finished with value: 0.8134388393854428 and parameters: {'hidden_dim': 529}. Best is trial 1 with value: 0.8338475113670295.\n"
     ]
    },
    {
     "name": "stdout",
     "output_type": "stream",
     "text": [
      "Best Epoch: 16 | Best F1 : 0.8250\n",
      "Best Epoch: 7 | Best F1 : 0.8699\n",
      "Best Epoch: 162 | Best F1 : 0.8326\n",
      "Best Epoch: 23 | Best F1 : 0.8589\n",
      "Best Epoch: 203 | Best F1 : 0.7657\n"
     ]
    },
    {
     "name": "stderr",
     "output_type": "stream",
     "text": [
      "[I 2025-05-19 03:03:48,081] Trial 10 finished with value: 0.8399163152381945 and parameters: {'hidden_dim': 1021}. Best is trial 10 with value: 0.8399163152381945.\n"
     ]
    },
    {
     "name": "stdout",
     "output_type": "stream",
     "text": [
      "Best Epoch: 12 | Best F1 : 0.8725\n",
      "Best Epoch: 7 | Best F1 : 0.8382\n",
      "Best Epoch: 8 | Best F1 : 0.8087\n",
      "Best Epoch: 23 | Best F1 : 0.8725\n",
      "Best Epoch: 16 | Best F1 : 0.7304\n"
     ]
    },
    {
     "name": "stderr",
     "output_type": "stream",
     "text": [
      "[I 2025-05-19 03:04:30,541] Trial 11 finished with value: 0.8244602176249856 and parameters: {'hidden_dim': 1007}. Best is trial 10 with value: 0.8399163152381945.\n"
     ]
    },
    {
     "name": "stdout",
     "output_type": "stream",
     "text": [
      "Best Epoch: 435 | Best F1 : 0.8725\n",
      "Best Epoch: 2 | Best F1 : 0.8833\n",
      "Best Epoch: 10 | Best F1 : 0.8326\n",
      "Best Epoch: 13 | Best F1 : 0.8039\n",
      "Best Epoch: 20 | Best F1 : 0.7139\n"
     ]
    },
    {
     "name": "stderr",
     "output_type": "stream",
     "text": [
      "[I 2025-05-19 03:05:13,120] Trial 12 finished with value: 0.8143889056421978 and parameters: {'hidden_dim': 1019}. Best is trial 10 with value: 0.8399163152381945.\n"
     ]
    },
    {
     "name": "stdout",
     "output_type": "stream",
     "text": [
      "Best Epoch: 40 | Best F1 : 0.8382\n",
      "Best Epoch: 3 | Best F1 : 0.8382\n",
      "Best Epoch: 12 | Best F1 : 0.7869\n",
      "Best Epoch: 8 | Best F1 : 0.8833\n",
      "Best Epoch: 127 | Best F1 : 0.7017\n"
     ]
    },
    {
     "name": "stderr",
     "output_type": "stream",
     "text": [
      "[I 2025-05-19 03:05:53,941] Trial 13 finished with value: 0.8115813705955753 and parameters: {'hidden_dim': 860}. Best is trial 10 with value: 0.8399163152381945.\n"
     ]
    },
    {
     "name": "stdout",
     "output_type": "stream",
     "text": [
      "Best Epoch: 218 | Best F1 : 0.8478\n",
      "Best Epoch: 281 | Best F1 : 0.8250\n",
      "Best Epoch: 374 | Best F1 : 0.8599\n",
      "Best Epoch: 21 | Best F1 : 0.8599\n",
      "Best Epoch: 131 | Best F1 : 0.6835\n"
     ]
    },
    {
     "name": "stderr",
     "output_type": "stream",
     "text": [
      "[I 2025-05-19 03:06:35,137] Trial 14 finished with value: 0.817662038728535 and parameters: {'hidden_dim': 395}. Best is trial 10 with value: 0.8399163152381945.\n"
     ]
    },
    {
     "name": "stdout",
     "output_type": "stream",
     "text": [
      "Best Epoch: 102 | Best F1 : 0.8599\n",
      "Best Epoch: 426 | Best F1 : 0.8296\n",
      "Best Epoch: 11 | Best F1 : 0.8326\n",
      "Best Epoch: 15 | Best F1 : 0.8326\n",
      "Best Epoch: 12 | Best F1 : 0.7304\n"
     ]
    },
    {
     "name": "stderr",
     "output_type": "stream",
     "text": [
      "[I 2025-05-19 03:07:16,629] Trial 15 finished with value: 0.8145822901613083 and parameters: {'hidden_dim': 911}. Best is trial 10 with value: 0.8399163152381945.\n"
     ]
    },
    {
     "name": "stdout",
     "output_type": "stream",
     "text": [
      "Best Epoch: 9 | Best F1 : 0.8478\n",
      "Best Epoch: 18 | Best F1 : 0.8382\n",
      "Best Epoch: 17 | Best F1 : 0.8087\n",
      "Best Epoch: 24 | Best F1 : 0.8382\n",
      "Best Epoch: 124 | Best F1 : 0.6651\n"
     ]
    },
    {
     "name": "stderr",
     "output_type": "stream",
     "text": [
      "[I 2025-05-19 03:07:55,236] Trial 16 finished with value: 0.7874208126457887 and parameters: {'hidden_dim': 576}. Best is trial 10 with value: 0.8399163152381945.\n"
     ]
    },
    {
     "name": "stdout",
     "output_type": "stream",
     "text": [
      "Best Epoch: 13 | Best F1 : 0.7869\n",
      "Best Epoch: 23 | Best F1 : 0.8599\n",
      "Best Epoch: 26 | Best F1 : 0.8478\n",
      "Best Epoch: 25 | Best F1 : 0.8250\n",
      "Best Epoch: 366 | Best F1 : 0.7486\n"
     ]
    },
    {
     "name": "stderr",
     "output_type": "stream",
     "text": [
      "[I 2025-05-19 03:08:35,966] Trial 17 finished with value: 0.8282422138359327 and parameters: {'hidden_dim': 273}. Best is trial 10 with value: 0.8399163152381945.\n"
     ]
    },
    {
     "name": "stdout",
     "output_type": "stream",
     "text": [
      "Best Epoch: 260 | Best F1 : 0.8599\n",
      "Best Epoch: 206 | Best F1 : 0.8833\n",
      "Best Epoch: 3 | Best F1 : 0.8478\n",
      "Best Epoch: 9 | Best F1 : 0.8087\n",
      "Best Epoch: 468 | Best F1 : 0.7304\n"
     ]
    },
    {
     "name": "stderr",
     "output_type": "stream",
     "text": [
      "[I 2025-05-19 03:09:16,340] Trial 18 finished with value: 0.8260269534602805 and parameters: {'hidden_dim': 803}. Best is trial 10 with value: 0.8399163152381945.\n"
     ]
    },
    {
     "name": "stdout",
     "output_type": "stream",
     "text": [
      "Best Epoch: 7 | Best F1 : 0.8599\n",
      "Best Epoch: 7 | Best F1 : 0.8783\n",
      "Best Epoch: 9 | Best F1 : 0.7883\n",
      "Best Epoch: 61 | Best F1 : 0.8087\n",
      "Best Epoch: 54 | Best F1 : 0.7322\n"
     ]
    },
    {
     "name": "stderr",
     "output_type": "stream",
     "text": [
      "[I 2025-05-19 03:09:59,997] Trial 19 finished with value: 0.8134856762423084 and parameters: {'hidden_dim': 1022}. Best is trial 10 with value: 0.8399163152381945.\n"
     ]
    },
    {
     "name": "stdout",
     "output_type": "stream",
     "text": [
      "Best Epoch: 96 | Best F1 : 0.8599\n",
      "Best Epoch: 13 | Best F1 : 0.8599\n",
      "Best Epoch: 13 | Best F1 : 0.8833\n",
      "Best Epoch: 311 | Best F1 : 0.8491\n",
      "Best Epoch: 422 | Best F1 : 0.7304\n"
     ]
    },
    {
     "name": "stderr",
     "output_type": "stream",
     "text": [
      "[I 2025-05-19 03:10:43,784] Trial 20 finished with value: 0.8412205933327052 and parameters: {'hidden_dim': 649}. Best is trial 20 with value: 0.8412205933327052.\n"
     ]
    },
    {
     "name": "stdout",
     "output_type": "stream",
     "text": [
      "Best Epoch: 122 | Best F1 : 0.8833\n",
      "Best Epoch: 7 | Best F1 : 0.8699\n",
      "Best Epoch: 17 | Best F1 : 0.7177\n",
      "Best Epoch: 14 | Best F1 : 0.8599\n",
      "Best Epoch: 23 | Best F1 : 0.6983\n"
     ]
    },
    {
     "name": "stderr",
     "output_type": "stream",
     "text": [
      "[I 2025-05-19 03:11:21,554] Trial 21 finished with value: 0.8058463869871545 and parameters: {'hidden_dim': 626}. Best is trial 20 with value: 0.8412205933327052.\n"
     ]
    },
    {
     "name": "stdout",
     "output_type": "stream",
     "text": [
      "Best Epoch: 12 | Best F1 : 0.8833\n",
      "Best Epoch: 2 | Best F1 : 0.8599\n",
      "Best Epoch: 9 | Best F1 : 0.7869\n",
      "Best Epoch: 24 | Best F1 : 0.8087\n",
      "Best Epoch: 93 | Best F1 : 0.6764\n"
     ]
    },
    {
     "name": "stderr",
     "output_type": "stream",
     "text": [
      "[I 2025-05-19 03:12:01,774] Trial 22 finished with value: 0.7983840496152176 and parameters: {'hidden_dim': 911}. Best is trial 20 with value: 0.8412205933327052.\n"
     ]
    },
    {
     "name": "stdout",
     "output_type": "stream",
     "text": [
      "Best Epoch: 385 | Best F1 : 0.8599\n",
      "Best Epoch: 1 | Best F1 : 0.8996\n",
      "Best Epoch: 2 | Best F1 : 0.8179\n",
      "Best Epoch: 141 | Best F1 : 0.8326\n",
      "Best Epoch: 464 | Best F1 : 0.7479\n"
     ]
    },
    {
     "name": "stderr",
     "output_type": "stream",
     "text": [
      "[I 2025-05-19 03:12:39,744] Trial 23 finished with value: 0.8261224494148205 and parameters: {'hidden_dim': 722}. Best is trial 20 with value: 0.8412205933327052.\n"
     ]
    },
    {
     "name": "stdout",
     "output_type": "stream",
     "text": [
      "Best Epoch: 21 | Best F1 : 0.8326\n",
      "Best Epoch: 2 | Best F1 : 0.9160\n",
      "Best Epoch: 2 | Best F1 : 0.8725\n",
      "Best Epoch: 5 | Best F1 : 0.8382\n",
      "Best Epoch: 430 | Best F1 : 0.7322\n"
     ]
    },
    {
     "name": "stderr",
     "output_type": "stream",
     "text": [
      "[I 2025-05-19 03:13:18,814] Trial 24 finished with value: 0.8413216552587258 and parameters: {'hidden_dim': 821}. Best is trial 24 with value: 0.8413216552587258.\n"
     ]
    },
    {
     "name": "stdout",
     "output_type": "stream",
     "text": [
      "Best Epoch: 17 | Best F1 : 0.8478\n",
      "Best Epoch: 16 | Best F1 : 0.8382\n",
      "Best Epoch: 19 | Best F1 : 0.8087\n",
      "Best Epoch: 25 | Best F1 : 0.8382\n",
      "Best Epoch: 81 | Best F1 : 0.7304\n"
     ]
    },
    {
     "name": "stderr",
     "output_type": "stream",
     "text": [
      "[I 2025-05-19 03:13:58,128] Trial 25 finished with value: 0.8107470930477321 and parameters: {'hidden_dim': 390}. Best is trial 24 with value: 0.8413216552587258.\n"
     ]
    },
    {
     "name": "stdout",
     "output_type": "stream",
     "text": [
      "Best Epoch: 497 | Best F1 : 0.8382\n",
      "Best Epoch: 9 | Best F1 : 0.8833\n",
      "Best Epoch: 9 | Best F1 : 0.8326\n",
      "Best Epoch: 10 | Best F1 : 0.8250\n",
      "Best Epoch: 385 | Best F1 : 0.7667\n"
     ]
    },
    {
     "name": "stderr",
     "output_type": "stream",
     "text": [
      "[I 2025-05-19 03:14:38,439] Trial 26 finished with value: 0.8335119901619183 and parameters: {'hidden_dim': 948}. Best is trial 24 with value: 0.8413216552587258.\n"
     ]
    },
    {
     "name": "stdout",
     "output_type": "stream",
     "text": [
      "Best Epoch: 8 | Best F1 : 0.8599\n",
      "Best Epoch: 1 | Best F1 : 0.8491\n",
      "Best Epoch: 2 | Best F1 : 0.8039\n",
      "Best Epoch: 8 | Best F1 : 0.8833\n",
      "Best Epoch: 74 | Best F1 : 0.7304\n"
     ]
    },
    {
     "name": "stderr",
     "output_type": "stream",
     "text": [
      "[I 2025-05-19 03:15:16,798] Trial 27 finished with value: 0.8273368101650347 and parameters: {'hidden_dim': 775}. Best is trial 24 with value: 0.8413216552587258.\n"
     ]
    },
    {
     "name": "stdout",
     "output_type": "stream",
     "text": [
      "Best Epoch: 4 | Best F1 : 0.8699\n",
      "Best Epoch: 9 | Best F1 : 0.8296\n",
      "Best Epoch: 12 | Best F1 : 0.7869\n",
      "Best Epoch: 10 | Best F1 : 0.8179\n",
      "Best Epoch: 161 | Best F1 : 0.7260\n"
     ]
    },
    {
     "name": "stderr",
     "output_type": "stream",
     "text": [
      "[I 2025-05-19 03:15:54,733] Trial 28 finished with value: 0.7997042150395629 and parameters: {'hidden_dim': 661}. Best is trial 24 with value: 0.8413216552587258.\n"
     ]
    },
    {
     "name": "stdout",
     "output_type": "stream",
     "text": [
      "Best Epoch: 336 | Best F1 : 0.8382\n",
      "Best Epoch: 11 | Best F1 : 0.8491\n",
      "Best Epoch: 13 | Best F1 : 0.8087\n",
      "Best Epoch: 16 | Best F1 : 0.8382\n",
      "Best Epoch: 376 | Best F1 : 0.7667\n"
     ]
    },
    {
     "name": "stderr",
     "output_type": "stream",
     "text": [
      "[I 2025-05-19 03:16:31,535] Trial 29 finished with value: 0.820194607349133 and parameters: {'hidden_dim': 491}. Best is trial 24 with value: 0.8413216552587258.\n"
     ]
    },
    {
     "name": "stdout",
     "output_type": "stream",
     "text": [
      "Best Epoch: 15 | Best F1 : 0.8382\n",
      "Best Epoch: 8 | Best F1 : 0.8833\n",
      "Best Epoch: 1 | Best F1 : 0.8250\n",
      "Best Epoch: 68 | Best F1 : 0.8833\n",
      "Best Epoch: 483 | Best F1 : 0.8039\n"
     ]
    },
    {
     "name": "stderr",
     "output_type": "stream",
     "text": [
      "[I 2025-05-19 03:17:09,278] Trial 30 finished with value: 0.8511064425770307 and parameters: {'hidden_dim': 696}. Best is trial 30 with value: 0.8511064425770307.\n"
     ]
    },
    {
     "name": "stdout",
     "output_type": "stream",
     "text": [
      "Best Epoch: 14 | Best F1 : 0.8599\n",
      "Best Epoch: 25 | Best F1 : 0.8382\n",
      "Best Epoch: 10 | Best F1 : 0.7869\n",
      "Best Epoch: 11 | Best F1 : 0.8250\n",
      "Best Epoch: 490 | Best F1 : 0.7260\n"
     ]
    },
    {
     "name": "stderr",
     "output_type": "stream",
     "text": [
      "[I 2025-05-19 03:17:47,625] Trial 31 finished with value: 0.8097079494060913 and parameters: {'hidden_dim': 723}. Best is trial 30 with value: 0.8511064425770307.\n"
     ]
    },
    {
     "name": "stdout",
     "output_type": "stream",
     "text": [
      "Best Epoch: 236 | Best F1 : 0.8725\n",
      "Best Epoch: 123 | Best F1 : 0.8039\n",
      "Best Epoch: 14 | Best F1 : 0.8326\n",
      "Best Epoch: 12 | Best F1 : 0.7869\n",
      "Best Epoch: 48 | Best F1 : 0.7667\n"
     ]
    },
    {
     "name": "stderr",
     "output_type": "stream",
     "text": [
      "[I 2025-05-19 03:18:25,389] Trial 32 finished with value: 0.8125127017256222 and parameters: {'hidden_dim': 585}. Best is trial 30 with value: 0.8511064425770307.\n"
     ]
    },
    {
     "name": "stdout",
     "output_type": "stream",
     "text": [
      "Best Epoch: 82 | Best F1 : 0.8725\n",
      "Best Epoch: 8 | Best F1 : 0.8699\n",
      "Best Epoch: 2 | Best F1 : 0.8039\n",
      "Best Epoch: 19 | Best F1 : 0.8326\n",
      "Best Epoch: 358 | Best F1 : 0.6987\n"
     ]
    },
    {
     "name": "stderr",
     "output_type": "stream",
     "text": [
      "[I 2025-05-19 03:19:04,700] Trial 33 finished with value: 0.8105886031409515 and parameters: {'hidden_dim': 854}. Best is trial 30 with value: 0.8511064425770307.\n"
     ]
    },
    {
     "name": "stdout",
     "output_type": "stream",
     "text": [
      "Best Epoch: 12 | Best F1 : 0.8478\n",
      "Best Epoch: 9 | Best F1 : 0.8783\n",
      "Best Epoch: 9 | Best F1 : 0.7869\n",
      "Best Epoch: 241 | Best F1 : 0.8478\n",
      "Best Epoch: 210 | Best F1 : 0.7450\n"
     ]
    },
    {
     "name": "stderr",
     "output_type": "stream",
     "text": [
      "[I 2025-05-19 03:19:42,778] Trial 34 finished with value: 0.821127081432033 and parameters: {'hidden_dim': 715}. Best is trial 30 with value: 0.8511064425770307.\n"
     ]
    },
    {
     "name": "stdout",
     "output_type": "stream",
     "text": [
      "Best Epoch: 162 | Best F1 : 0.8478\n",
      "Best Epoch: 259 | Best F1 : 0.8296\n",
      "Best Epoch: 16 | Best F1 : 0.7869\n",
      "Best Epoch: 15 | Best F1 : 0.8478\n",
      "Best Epoch: 444 | Best F1 : 0.7139\n"
     ]
    },
    {
     "name": "stderr",
     "output_type": "stream",
     "text": [
      "[I 2025-05-19 03:20:19,536] Trial 35 finished with value: 0.8122766636779535 and parameters: {'hidden_dim': 489}. Best is trial 30 with value: 0.8511064425770307.\n"
     ]
    },
    {
     "name": "stdout",
     "output_type": "stream",
     "text": [
      "Best Epoch: 201 | Best F1 : 0.8833\n",
      "Best Epoch: 15 | Best F1 : 0.8478\n",
      "Best Epoch: 12 | Best F1 : 0.8478\n",
      "Best Epoch: 156 | Best F1 : 0.8725\n",
      "Best Epoch: 66 | Best F1 : 0.7083\n"
     ]
    },
    {
     "name": "stderr",
     "output_type": "stream",
     "text": [
      "[I 2025-05-19 03:20:57,160] Trial 36 finished with value: 0.829768803415756 and parameters: {'hidden_dim': 668}. Best is trial 30 with value: 0.8511064425770307.\n"
     ]
    },
    {
     "name": "stdout",
     "output_type": "stream",
     "text": [
      "Best Epoch: 69 | Best F1 : 0.8725\n",
      "Best Epoch: 10 | Best F1 : 0.8725\n",
      "Best Epoch: 10 | Best F1 : 0.8087\n",
      "Best Epoch: 12 | Best F1 : 0.8833\n",
      "Best Epoch: 49 | Best F1 : 0.7260\n"
     ]
    },
    {
     "name": "stderr",
     "output_type": "stream",
     "text": [
      "[I 2025-05-19 03:21:36,398] Trial 37 finished with value: 0.8276599313394357 and parameters: {'hidden_dim': 782}. Best is trial 30 with value: 0.8511064425770307.\n"
     ]
    },
    {
     "name": "stdout",
     "output_type": "stream",
     "text": [
      "Best Epoch: 484 | Best F1 : 0.8478\n",
      "Best Epoch: 209 | Best F1 : 0.8599\n",
      "Best Epoch: 48 | Best F1 : 0.8725\n",
      "Best Epoch: 39 | Best F1 : 0.8478\n",
      "Best Epoch: 106 | Best F1 : 0.7322\n"
     ]
    },
    {
     "name": "stderr",
     "output_type": "stream",
     "text": [
      "[I 2025-05-19 03:22:13,903] Trial 38 finished with value: 0.8198474172713477 and parameters: {'hidden_dim': 175}. Best is trial 30 with value: 0.8511064425770307.\n"
     ]
    },
    {
     "name": "stdout",
     "output_type": "stream",
     "text": [
      "Best Epoch: 162 | Best F1 : 0.7869\n",
      "Best Epoch: 7 | Best F1 : 0.8491\n",
      "Best Epoch: 3 | Best F1 : 0.8039\n",
      "Best Epoch: 8 | Best F1 : 0.8599\n",
      "Best Epoch: 32 | Best F1 : 0.7304\n"
     ]
    },
    {
     "name": "stderr",
     "output_type": "stream",
     "text": [
      "[I 2025-05-19 03:22:55,949] Trial 39 finished with value: 0.8182235528462192 and parameters: {'hidden_dim': 965}. Best is trial 30 with value: 0.8511064425770307.\n"
     ]
    },
    {
     "name": "stdout",
     "output_type": "stream",
     "text": [
      "Best Epoch: 55 | Best F1 : 0.8478\n",
      "Best Epoch: 26 | Best F1 : 0.8382\n",
      "Best Epoch: 8 | Best F1 : 0.7667\n",
      "Best Epoch: 13 | Best F1 : 0.8326\n",
      "Best Epoch: 41 | Best F1 : 0.7304\n"
     ]
    },
    {
     "name": "stderr",
     "output_type": "stream",
     "text": [
      "[I 2025-05-19 03:23:36,601] Trial 40 finished with value: 0.8102365998825402 and parameters: {'hidden_dim': 877}. Best is trial 30 with value: 0.8511064425770307.\n"
     ]
    },
    {
     "name": "stdout",
     "output_type": "stream",
     "text": [
      "Best Epoch: 8 | Best F1 : 0.8833\n",
      "Best Epoch: 2 | Best F1 : 0.8179\n",
      "Best Epoch: 5 | Best F1 : 0.8111\n",
      "Best Epoch: 5 | Best F1 : 0.8382\n",
      "Best Epoch: 467 | Best F1 : 0.7486\n"
     ]
    },
    {
     "name": "stderr",
     "output_type": "stream",
     "text": [
      "[I 2025-05-19 03:24:16,870] Trial 41 finished with value: 0.8127026865435972 and parameters: {'hidden_dim': 849}. Best is trial 30 with value: 0.8511064425770307.\n"
     ]
    },
    {
     "name": "stdout",
     "output_type": "stream",
     "text": [
      "Best Epoch: 19 | Best F1 : 0.8478\n",
      "Best Epoch: 13 | Best F1 : 0.8382\n",
      "Best Epoch: 5 | Best F1 : 0.7869\n",
      "Best Epoch: 126 | Best F1 : 0.8326\n",
      "Best Epoch: 27 | Best F1 : 0.7479\n"
     ]
    },
    {
     "name": "stderr",
     "output_type": "stream",
     "text": [
      "[I 2025-05-19 03:24:55,731] Trial 42 finished with value: 0.8156174135641325 and parameters: {'hidden_dim': 760}. Best is trial 30 with value: 0.8511064425770307.\n"
     ]
    },
    {
     "name": "stdout",
     "output_type": "stream",
     "text": [
      "Best Epoch: 33 | Best F1 : 0.8725\n",
      "Best Epoch: 10 | Best F1 : 0.7869\n",
      "Best Epoch: 43 | Best F1 : 0.8087\n",
      "Best Epoch: 240 | Best F1 : 0.8250\n",
      "Best Epoch: 24 | Best F1 : 0.7667\n"
     ]
    },
    {
     "name": "stderr",
     "output_type": "stream",
     "text": [
      "[I 2025-05-19 03:25:35,509] Trial 43 finished with value: 0.8141214046496813 and parameters: {'hidden_dim': 815}. Best is trial 30 with value: 0.8511064425770307.\n"
     ]
    },
    {
     "name": "stdout",
     "output_type": "stream",
     "text": [
      "Best Epoch: 128 | Best F1 : 0.8833\n",
      "Best Epoch: 13 | Best F1 : 0.8382\n",
      "Best Epoch: 9 | Best F1 : 0.7869\n",
      "Best Epoch: 219 | Best F1 : 0.7883\n",
      "Best Epoch: 269 | Best F1 : 0.7479\n"
     ]
    },
    {
     "name": "stderr",
     "output_type": "stream",
     "text": [
      "[I 2025-05-19 03:26:17,552] Trial 44 finished with value: 0.8067555092430021 and parameters: {'hidden_dim': 966}. Best is trial 30 with value: 0.8511064425770307.\n"
     ]
    },
    {
     "name": "stdout",
     "output_type": "stream",
     "text": [
      "Best Epoch: 65 | Best F1 : 0.8725\n",
      "Best Epoch: 5 | Best F1 : 0.8179\n",
      "Best Epoch: 2 | Best F1 : 0.7667\n",
      "Best Epoch: 14 | Best F1 : 0.8039\n",
      "Best Epoch: 26 | Best F1 : 0.6983\n"
     ]
    },
    {
     "name": "stderr",
     "output_type": "stream",
     "text": [
      "[I 2025-05-19 03:26:55,138] Trial 45 finished with value: 0.7871827170879114 and parameters: {'hidden_dim': 614}. Best is trial 30 with value: 0.8511064425770307.\n"
     ]
    },
    {
     "name": "stdout",
     "output_type": "stream",
     "text": [
      "Best Epoch: 7 | Best F1 : 0.8491\n",
      "Best Epoch: 23 | Best F1 : 0.8179\n",
      "Best Epoch: 14 | Best F1 : 0.8326\n",
      "Best Epoch: 423 | Best F1 : 0.8833\n",
      "Best Epoch: 23 | Best F1 : 0.6835\n"
     ]
    },
    {
     "name": "stderr",
     "output_type": "stream",
     "text": [
      "[I 2025-05-19 03:27:33,204] Trial 46 finished with value: 0.8042521386181795 and parameters: {'hidden_dim': 688}. Best is trial 30 with value: 0.8511064425770307.\n"
     ]
    },
    {
     "name": "stdout",
     "output_type": "stream",
     "text": [
      "Best Epoch: 12 | Best F1 : 0.8039\n",
      "Best Epoch: 3 | Best F1 : 0.7843\n",
      "Best Epoch: 15 | Best F1 : 0.8087\n",
      "Best Epoch: 10 | Best F1 : 0.8382\n",
      "Best Epoch: 144 | Best F1 : 0.6651\n"
     ]
    },
    {
     "name": "stderr",
     "output_type": "stream",
     "text": [
      "[I 2025-05-19 03:28:18,757] Trial 47 finished with value: 0.7842622175307424 and parameters: {'hidden_dim': 534}. Best is trial 30 with value: 0.8511064425770307.\n"
     ]
    },
    {
     "name": "stdout",
     "output_type": "stream",
     "text": [
      "Best Epoch: 16 | Best F1 : 0.8250\n",
      "Best Epoch: 10 | Best F1 : 0.8833\n",
      "Best Epoch: 11 | Best F1 : 0.7869\n",
      "Best Epoch: 11 | Best F1 : 0.8478\n",
      "Best Epoch: 293 | Best F1 : 0.7667\n"
     ]
    },
    {
     "name": "stderr",
     "output_type": "stream",
     "text": [
      "[I 2025-05-19 03:28:59,743] Trial 48 finished with value: 0.8314238391444446 and parameters: {'hidden_dim': 891}. Best is trial 30 with value: 0.8511064425770307.\n"
     ]
    },
    {
     "name": "stdout",
     "output_type": "stream",
     "text": [
      "Best Epoch: 424 | Best F1 : 0.8725\n",
      "Best Epoch: 13 | Best F1 : 0.8921\n",
      "Best Epoch: 9 | Best F1 : 0.7869\n",
      "Best Epoch: 9 | Best F1 : 0.8833\n",
      "Best Epoch: 28 | Best F1 : 0.7450\n"
     ]
    },
    {
     "name": "stderr",
     "output_type": "stream",
     "text": [
      "[I 2025-05-19 03:29:39,498] Trial 49 finished with value: 0.8279891618963603 and parameters: {'hidden_dim': 824}. Best is trial 30 with value: 0.8511064425770307.\n"
     ]
    },
    {
     "name": "stdout",
     "output_type": "stream",
     "text": [
      "Best Epoch: 17 | Best F1 : 0.8326\n",
      "Best Epoch: 2 | Best F1 : 0.7989\n",
      "Best Epoch: 9 | Best F1 : 0.8087\n",
      "Best Epoch: 9 | Best F1 : 0.8382\n",
      "Best Epoch: 25 | Best F1 : 0.7479\n"
     ]
    },
    {
     "name": "stderr",
     "output_type": "stream",
     "text": [
      "[I 2025-05-19 03:30:20,986] Trial 50 finished with value: 0.8037411077196441 and parameters: {'hidden_dim': 943}. Best is trial 30 with value: 0.8511064425770307.\n"
     ]
    },
    {
     "name": "stdout",
     "output_type": "stream",
     "text": [
      "Best Epoch: 90 | Best F1 : 0.8250\n",
      "Best Epoch: 11 | Best F1 : 0.8783\n",
      "Best Epoch: 312 | Best F1 : 0.8326\n",
      "Best Epoch: 14 | Best F1 : 0.8250\n",
      "Best Epoch: 136 | Best F1 : 0.7083\n"
     ]
    },
    {
     "name": "stderr",
     "output_type": "stream",
     "text": [
      "[I 2025-05-19 03:30:59,111] Trial 51 finished with value: 0.8228294005151344 and parameters: {'hidden_dim': 629}. Best is trial 30 with value: 0.8511064425770307.\n"
     ]
    },
    {
     "name": "stdout",
     "output_type": "stream",
     "text": [
      "Best Epoch: 10 | Best F1 : 0.8699\n",
      "Best Epoch: 126 | Best F1 : 0.8179\n",
      "Best Epoch: 2 | Best F1 : 0.8583\n",
      "Best Epoch: 11 | Best F1 : 0.8250\n",
      "Best Epoch: 58 | Best F1 : 0.7083\n"
     ]
    },
    {
     "name": "stderr",
     "output_type": "stream",
     "text": [
      "[I 2025-05-19 03:31:37,830] Trial 52 finished with value: 0.8036575309831864 and parameters: {'hidden_dim': 748}. Best is trial 30 with value: 0.8511064425770307.\n"
     ]
    },
    {
     "name": "stdout",
     "output_type": "stream",
     "text": [
      "Best Epoch: 14 | Best F1 : 0.8087\n",
      "Best Epoch: 20 | Best F1 : 0.8250\n",
      "Best Epoch: 12 | Best F1 : 0.7667\n",
      "Best Epoch: 19 | Best F1 : 0.7869\n",
      "Best Epoch: 372 | Best F1 : 0.7083\n"
     ]
    },
    {
     "name": "stderr",
     "output_type": "stream",
     "text": [
      "[I 2025-05-19 03:32:15,751] Trial 53 finished with value: 0.7940394374365666 and parameters: {'hidden_dim': 567}. Best is trial 30 with value: 0.8511064425770307.\n"
     ]
    },
    {
     "name": "stdout",
     "output_type": "stream",
     "text": [
      "Best Epoch: 116 | Best F1 : 0.8833\n",
      "Best Epoch: 14 | Best F1 : 0.8478\n",
      "Best Epoch: 12 | Best F1 : 0.8087\n",
      "Best Epoch: 491 | Best F1 : 0.8478\n",
      "Best Epoch: 362 | Best F1 : 0.7479\n"
     ]
    },
    {
     "name": "stderr",
     "output_type": "stream",
     "text": [
      "[I 2025-05-19 03:32:53,663] Trial 54 finished with value: 0.8169556186989798 and parameters: {'hidden_dim': 654}. Best is trial 30 with value: 0.8511064425770307.\n"
     ]
    },
    {
     "name": "stdout",
     "output_type": "stream",
     "text": [
      "Best Epoch: 68 | Best F1 : 0.8326\n",
      "Best Epoch: 390 | Best F1 : 0.8250\n",
      "Best Epoch: 1 | Best F1 : 0.8179\n",
      "Best Epoch: 349 | Best F1 : 0.8087\n",
      "Best Epoch: 23 | Best F1 : 0.7479\n"
     ]
    },
    {
     "name": "stderr",
     "output_type": "stream",
     "text": [
      "[I 2025-05-19 03:33:31,815] Trial 55 finished with value: 0.8049107772209529 and parameters: {'hidden_dim': 696}. Best is trial 30 with value: 0.8511064425770307.\n"
     ]
    },
    {
     "name": "stdout",
     "output_type": "stream",
     "text": [
      "Best Epoch: 23 | Best F1 : 0.8250\n",
      "Best Epoch: 18 | Best F1 : 0.8491\n",
      "Best Epoch: 23 | Best F1 : 0.7883\n",
      "Best Epoch: 12 | Best F1 : 0.8599\n",
      "Best Epoch: 137 | Best F1 : 0.7479\n"
     ]
    },
    {
     "name": "stderr",
     "output_type": "stream",
     "text": [
      "[I 2025-05-19 03:34:14,794] Trial 56 finished with value: 0.8274858552901648 and parameters: {'hidden_dim': 451}. Best is trial 30 with value: 0.8511064425770307.\n"
     ]
    },
    {
     "name": "stdout",
     "output_type": "stream",
     "text": [
      "Best Epoch: 13 | Best F1 : 0.8921\n",
      "Best Epoch: 28 | Best F1 : 0.8039\n",
      "Best Epoch: 9 | Best F1 : 0.8326\n",
      "Best Epoch: 9 | Best F1 : 0.8250\n",
      "Best Epoch: 38 | Best F1 : 0.7450\n"
     ]
    },
    {
     "name": "stderr",
     "output_type": "stream",
     "text": [
      "[I 2025-05-19 03:34:57,283] Trial 57 finished with value: 0.8020900006010668 and parameters: {'hidden_dim': 982}. Best is trial 30 with value: 0.8511064425770307.\n"
     ]
    },
    {
     "name": "stdout",
     "output_type": "stream",
     "text": [
      "Best Epoch: 8 | Best F1 : 0.8039\n",
      "Best Epoch: 9 | Best F1 : 0.8382\n",
      "Best Epoch: 12 | Best F1 : 0.8087\n",
      "Best Epoch: 28 | Best F1 : 0.8326\n",
      "Best Epoch: 327 | Best F1 : 0.8039\n"
     ]
    },
    {
     "name": "stderr",
     "output_type": "stream",
     "text": [
      "[I 2025-05-19 03:35:35,976] Trial 58 finished with value: 0.8243411961781046 and parameters: {'hidden_dim': 742}. Best is trial 30 with value: 0.8511064425770307.\n"
     ]
    },
    {
     "name": "stdout",
     "output_type": "stream",
     "text": [
      "Best Epoch: 54 | Best F1 : 0.8382\n",
      "Best Epoch: 16 | Best F1 : 0.8599\n",
      "Best Epoch: 14 | Best F1 : 0.8087\n",
      "Best Epoch: 39 | Best F1 : 0.8478\n",
      "Best Epoch: 312 | Best F1 : 0.7659\n"
     ]
    },
    {
     "name": "stderr",
     "output_type": "stream",
     "text": [
      "[I 2025-05-19 03:36:15,795] Trial 59 finished with value: 0.8260186451657866 and parameters: {'hidden_dim': 795}. Best is trial 30 with value: 0.8511064425770307.\n"
     ]
    },
    {
     "name": "stdout",
     "output_type": "stream",
     "text": [
      "Best Epoch: 23 | Best F1 : 0.8478\n",
      "Best Epoch: 12 | Best F1 : 0.8382\n",
      "Best Epoch: 6 | Best F1 : 0.7667\n",
      "Best Epoch: 155 | Best F1 : 0.8039\n",
      "Best Epoch: 12 | Best F1 : 0.6983\n"
     ]
    },
    {
     "name": "stderr",
     "output_type": "stream",
     "text": [
      "[I 2025-05-19 03:36:57,090] Trial 60 finished with value: 0.7980820131038441 and parameters: {'hidden_dim': 913}. Best is trial 30 with value: 0.8511064425770307.\n"
     ]
    },
    {
     "name": "stdout",
     "output_type": "stream",
     "text": [
      "Best Epoch: 136 | Best F1 : 0.8833\n",
      "Best Epoch: 7 | Best F1 : 0.8179\n",
      "Best Epoch: 9 | Best F1 : 0.7869\n",
      "Best Epoch: 18 | Best F1 : 0.8326\n",
      "Best Epoch: 29 | Best F1 : 0.7083\n"
     ]
    },
    {
     "name": "stderr",
     "output_type": "stream",
     "text": [
      "[I 2025-05-19 03:37:39,412] Trial 61 finished with value: 0.8036440327418637 and parameters: {'hidden_dim': 986}. Best is trial 30 with value: 0.8511064425770307.\n"
     ]
    },
    {
     "name": "stdout",
     "output_type": "stream",
     "text": [
      "Best Epoch: 42 | Best F1 : 0.8725\n",
      "Best Epoch: 2 | Best F1 : 0.8599\n",
      "Best Epoch: 7 | Best F1 : 0.8087\n",
      "Best Epoch: 83 | Best F1 : 0.8179\n",
      "Best Epoch: 22 | Best F1 : 0.7304\n"
     ]
    },
    {
     "name": "stderr",
     "output_type": "stream",
     "text": [
      "[I 2025-05-19 03:38:22,255] Trial 62 finished with value: 0.8129425982020123 and parameters: {'hidden_dim': 1018}. Best is trial 30 with value: 0.8511064425770307.\n"
     ]
    },
    {
     "name": "stdout",
     "output_type": "stream",
     "text": [
      "Best Epoch: 16 | Best F1 : 0.8478\n",
      "Best Epoch: 7 | Best F1 : 0.8699\n",
      "Best Epoch: 2 | Best F1 : 0.8326\n",
      "Best Epoch: 10 | Best F1 : 0.8478\n",
      "Best Epoch: 22 | Best F1 : 0.7479\n"
     ]
    },
    {
     "name": "stderr",
     "output_type": "stream",
     "text": [
      "[I 2025-05-19 03:39:03,616] Trial 63 finished with value: 0.8261655656332657 and parameters: {'hidden_dim': 932}. Best is trial 30 with value: 0.8511064425770307.\n"
     ]
    },
    {
     "name": "stdout",
     "output_type": "stream",
     "text": [
      "Best Epoch: 400 | Best F1 : 0.8326\n",
      "Best Epoch: 3 | Best F1 : 0.8382\n",
      "Best Epoch: 12 | Best F1 : 0.7869\n",
      "Best Epoch: 155 | Best F1 : 0.8133\n",
      "Best Epoch: 117 | Best F1 : 0.7083\n"
     ]
    },
    {
     "name": "stderr",
     "output_type": "stream",
     "text": [
      "[I 2025-05-19 03:39:43,838] Trial 64 finished with value: 0.7989006101891513 and parameters: {'hidden_dim': 839}. Best is trial 30 with value: 0.8511064425770307.\n"
     ]
    },
    {
     "name": "stdout",
     "output_type": "stream",
     "text": [
      "Best Epoch: 20 | Best F1 : 0.8478\n",
      "Best Epoch: 82 | Best F1 : 0.8921\n",
      "Best Epoch: 23 | Best F1 : 0.8133\n",
      "Best Epoch: 71 | Best F1 : 0.8326\n",
      "Best Epoch: 34 | Best F1 : 0.7304\n"
     ]
    },
    {
     "name": "stderr",
     "output_type": "stream",
     "text": [
      "[I 2025-05-19 03:40:24,721] Trial 65 finished with value: 0.8256778864125603 and parameters: {'hidden_dim': 885}. Best is trial 30 with value: 0.8511064425770307.\n"
     ]
    },
    {
     "name": "stdout",
     "output_type": "stream",
     "text": [
      "Best Epoch: 153 | Best F1 : 0.8599\n",
      "Best Epoch: 473 | Best F1 : 0.8250\n",
      "Best Epoch: 112 | Best F1 : 0.8087\n",
      "Best Epoch: 131 | Best F1 : 0.8725\n",
      "Best Epoch: 489 | Best F1 : 0.7659\n"
     ]
    },
    {
     "name": "stderr",
     "output_type": "stream",
     "text": [
      "[I 2025-05-19 03:41:02,485] Trial 66 finished with value: 0.8194249806580526 and parameters: {'hidden_dim': 600}. Best is trial 30 with value: 0.8511064425770307.\n"
     ]
    },
    {
     "name": "stdout",
     "output_type": "stream",
     "text": [
      "Best Epoch: 11 | Best F1 : 0.8250\n",
      "Best Epoch: 4 | Best F1 : 0.8250\n",
      "Best Epoch: 9 | Best F1 : 0.8326\n",
      "Best Epoch: 12 | Best F1 : 0.8478\n",
      "Best Epoch: 284 | Best F1 : 0.7479\n"
     ]
    },
    {
     "name": "stderr",
     "output_type": "stream",
     "text": [
      "[I 2025-05-19 03:41:44,153] Trial 67 finished with value: 0.8156550056978414 and parameters: {'hidden_dim': 947}. Best is trial 30 with value: 0.8511064425770307.\n"
     ]
    },
    {
     "name": "stdout",
     "output_type": "stream",
     "text": [
      "Best Epoch: 8 | Best F1 : 0.8250\n",
      "Best Epoch: 380 | Best F1 : 0.8599\n",
      "Best Epoch: 14 | Best F1 : 0.7667\n",
      "Best Epoch: 16 | Best F1 : 0.8250\n",
      "Best Epoch: 38 | Best F1 : 0.7843\n"
     ]
    },
    {
     "name": "stderr",
     "output_type": "stream",
     "text": [
      "[I 2025-05-19 03:42:22,821] Trial 68 finished with value: 0.8121788314709552 and parameters: {'hidden_dim': 553}. Best is trial 30 with value: 0.8511064425770307.\n"
     ]
    },
    {
     "name": "stdout",
     "output_type": "stream",
     "text": [
      "Best Epoch: 43 | Best F1 : 0.8250\n",
      "Best Epoch: 5 | Best F1 : 0.7989\n",
      "Best Epoch: 14 | Best F1 : 0.7869\n",
      "Best Epoch: 15 | Best F1 : 0.8250\n",
      "Best Epoch: 234 | Best F1 : 0.6987\n"
     ]
    },
    {
     "name": "stderr",
     "output_type": "stream",
     "text": [
      "[I 2025-05-19 03:43:00,599] Trial 69 finished with value: 0.7868846360711087 and parameters: {'hidden_dim': 654}. Best is trial 30 with value: 0.8511064425770307.\n"
     ]
    },
    {
     "name": "stdout",
     "output_type": "stream",
     "text": [
      "Best Epoch: 15 | Best F1 : 0.8250\n",
      "Best Epoch: 2 | Best F1 : 0.8599\n",
      "Best Epoch: 12 | Best F1 : 0.8087\n",
      "Best Epoch: 8 | Best F1 : 0.8039\n",
      "Best Epoch: 29 | Best F1 : 0.7667\n"
     ]
    },
    {
     "name": "stderr",
     "output_type": "stream",
     "text": [
      "[I 2025-05-19 03:43:40,992] Trial 70 finished with value: 0.8174070555781693 and parameters: {'hidden_dim': 865}. Best is trial 30 with value: 0.8511064425770307.\n"
     ]
    },
    {
     "name": "stdout",
     "output_type": "stream",
     "text": [
      "Best Epoch: 12 | Best F1 : 0.8478\n",
      "Best Epoch: 6 | Best F1 : 0.8296\n",
      "Best Epoch: 24 | Best F1 : 0.8326\n",
      "Best Epoch: 13 | Best F1 : 0.8833\n",
      "Best Epoch: 90 | Best F1 : 0.7479\n"
     ]
    },
    {
     "name": "stderr",
     "output_type": "stream",
     "text": [
      "[I 2025-05-19 03:44:21,563] Trial 71 finished with value: 0.830671532239619 and parameters: {'hidden_dim': 394}. Best is trial 30 with value: 0.8511064425770307.\n"
     ]
    },
    {
     "name": "stdout",
     "output_type": "stream",
     "text": [
      "Best Epoch: 20 | Best F1 : 0.8599\n",
      "Best Epoch: 21 | Best F1 : 0.8382\n",
      "Best Epoch: 20 | Best F1 : 0.8087\n",
      "Best Epoch: 118 | Best F1 : 0.7869\n",
      "Best Epoch: 71 | Best F1 : 0.7083\n"
     ]
    },
    {
     "name": "stderr",
     "output_type": "stream",
     "text": [
      "[I 2025-05-19 03:45:00,904] Trial 72 finished with value: 0.8050972649475756 and parameters: {'hidden_dim': 322}. Best is trial 30 with value: 0.8511064425770307.\n"
     ]
    },
    {
     "name": "stdout",
     "output_type": "stream",
     "text": [
      "Best Epoch: 445 | Best F1 : 0.8833\n",
      "Best Epoch: 29 | Best F1 : 0.8478\n",
      "Best Epoch: 12 | Best F1 : 0.7476\n",
      "Best Epoch: 41 | Best F1 : 0.8087\n",
      "Best Epoch: 152 | Best F1 : 0.7322\n"
     ]
    },
    {
     "name": "stderr",
     "output_type": "stream",
     "text": [
      "[I 2025-05-19 03:45:40,111] Trial 73 finished with value: 0.7846329123646572 and parameters: {'hidden_dim': 316}. Best is trial 30 with value: 0.8511064425770307.\n"
     ]
    },
    {
     "name": "stdout",
     "output_type": "stream",
     "text": [
      "Best Epoch: 57 | Best F1 : 0.7869\n",
      "Best Epoch: 20 | Best F1 : 0.8382\n",
      "Best Epoch: 21 | Best F1 : 0.7667\n",
      "Best Epoch: 25 | Best F1 : 0.8039\n",
      "Best Epoch: 227 | Best F1 : 0.6812\n"
     ]
    },
    {
     "name": "stderr",
     "output_type": "stream",
     "text": [
      "[I 2025-05-19 03:46:22,968] Trial 74 finished with value: 0.7946745638230202 and parameters: {'hidden_dim': 431}. Best is trial 30 with value: 0.8511064425770307.\n"
     ]
    },
    {
     "name": "stdout",
     "output_type": "stream",
     "text": [
      "Best Epoch: 141 | Best F1 : 0.8833\n",
      "Best Epoch: 86 | Best F1 : 0.8039\n",
      "Best Epoch: 270 | Best F1 : 0.7869\n",
      "Best Epoch: 60 | Best F1 : 0.8087\n",
      "Best Epoch: 104 | Best F1 : 0.6983\n"
     ]
    },
    {
     "name": "stderr",
     "output_type": "stream",
     "text": [
      "[I 2025-05-19 03:47:00,337] Trial 75 finished with value: 0.7940599800421522 and parameters: {'hidden_dim': 157}. Best is trial 30 with value: 0.8511064425770307.\n"
     ]
    },
    {
     "name": "stdout",
     "output_type": "stream",
     "text": [
      "Best Epoch: 135 | Best F1 : 0.8725\n",
      "Best Epoch: 119 | Best F1 : 0.8382\n",
      "Best Epoch: 12 | Best F1 : 0.7667\n",
      "Best Epoch: 17 | Best F1 : 0.8250\n",
      "Best Epoch: 64 | Best F1 : 0.6983\n"
     ]
    },
    {
     "name": "stderr",
     "output_type": "stream",
     "text": [
      "[I 2025-05-19 03:47:44,979] Trial 76 finished with value: 0.802297699378354 and parameters: {'hidden_dim': 483}. Best is trial 30 with value: 0.8511064425770307.\n"
     ]
    },
    {
     "name": "stdout",
     "output_type": "stream",
     "text": [
      "Best Epoch: 23 | Best F1 : 0.8833\n",
      "Best Epoch: 17 | Best F1 : 0.8039\n",
      "Best Epoch: 1 | Best F1 : 0.8250\n",
      "Best Epoch: 12 | Best F1 : 0.8699\n",
      "Best Epoch: 36 | Best F1 : 0.7260\n"
     ]
    },
    {
     "name": "stderr",
     "output_type": "stream",
     "text": [
      "[I 2025-05-19 03:48:23,442] Trial 77 finished with value: 0.8099652414356461 and parameters: {'hidden_dim': 724}. Best is trial 30 with value: 0.8511064425770307.\n"
     ]
    },
    {
     "name": "stdout",
     "output_type": "stream",
     "text": [
      "Best Epoch: 3 | Best F1 : 0.8250\n",
      "Best Epoch: 3 | Best F1 : 0.8179\n",
      "Best Epoch: 8 | Best F1 : 0.7667\n",
      "Best Epoch: 9 | Best F1 : 0.8478\n",
      "Best Epoch: 117 | Best F1 : 0.6987\n"
     ]
    },
    {
     "name": "stderr",
     "output_type": "stream",
     "text": [
      "[I 2025-05-19 03:49:02,692] Trial 78 finished with value: 0.7879580081015503 and parameters: {'hidden_dim': 784}. Best is trial 30 with value: 0.8511064425770307.\n"
     ]
    },
    {
     "name": "stdout",
     "output_type": "stream",
     "text": [
      "Best Epoch: 18 | Best F1 : 0.8087\n",
      "Best Epoch: 9 | Best F1 : 0.8599\n",
      "Best Epoch: 13 | Best F1 : 0.8478\n",
      "Best Epoch: 6 | Best F1 : 0.8382\n",
      "Best Epoch: 42 | Best F1 : 0.7304\n"
     ]
    },
    {
     "name": "stderr",
     "output_type": "stream",
     "text": [
      "[I 2025-05-19 03:49:45,128] Trial 79 finished with value: 0.8202541798783933 and parameters: {'hidden_dim': 989}. Best is trial 30 with value: 0.8511064425770307.\n"
     ]
    },
    {
     "name": "stdout",
     "output_type": "stream",
     "text": [
      "Best Epoch: 9 | Best F1 : 0.8250\n",
      "Best Epoch: 10 | Best F1 : 0.8833\n",
      "Best Epoch: 10 | Best F1 : 0.8326\n",
      "Best Epoch: 28 | Best F1 : 0.7883\n",
      "Best Epoch: 442 | Best F1 : 0.7989\n"
     ]
    },
    {
     "name": "stderr",
     "output_type": "stream",
     "text": [
      "[I 2025-05-19 03:50:25,908] Trial 80 finished with value: 0.8256212665754872 and parameters: {'hidden_dim': 896}. Best is trial 30 with value: 0.8511064425770307.\n"
     ]
    },
    {
     "name": "stdout",
     "output_type": "stream",
     "text": [
      "Best Epoch: 91 | Best F1 : 0.8250\n",
      "Best Epoch: 127 | Best F1 : 0.8699\n",
      "Best Epoch: 488 | Best F1 : 0.8039\n",
      "Best Epoch: 11 | Best F1 : 0.8478\n",
      "Best Epoch: 11 | Best F1 : 0.7304\n"
     ]
    },
    {
     "name": "stderr",
     "output_type": "stream",
     "text": [
      "[I 2025-05-19 03:51:06,810] Trial 81 finished with value: 0.827061203079495 and parameters: {'hidden_dim': 904}. Best is trial 30 with value: 0.8511064425770307.\n"
     ]
    },
    {
     "name": "stdout",
     "output_type": "stream",
     "text": [
      "Best Epoch: 99 | Best F1 : 0.8833\n",
      "Best Epoch: 9 | Best F1 : 0.8179\n",
      "Best Epoch: 2 | Best F1 : 0.8111\n",
      "Best Epoch: 12 | Best F1 : 0.8087\n",
      "Best Epoch: 346 | Best F1 : 0.7083\n"
     ]
    },
    {
     "name": "stderr",
     "output_type": "stream",
     "text": [
      "[I 2025-05-19 03:51:46,895] Trial 82 finished with value: 0.7942108373259666 and parameters: {'hidden_dim': 829}. Best is trial 30 with value: 0.8511064425770307.\n"
     ]
    },
    {
     "name": "stdout",
     "output_type": "stream",
     "text": [
      "Best Epoch: 43 | Best F1 : 0.8250\n",
      "Best Epoch: 7 | Best F1 : 0.8039\n",
      "Best Epoch: 6 | Best F1 : 0.8599\n",
      "Best Epoch: 25 | Best F1 : 0.8478\n",
      "Best Epoch: 32 | Best F1 : 0.7304\n"
     ]
    },
    {
     "name": "stderr",
     "output_type": "stream",
     "text": [
      "[I 2025-05-19 03:52:28,830] Trial 83 finished with value: 0.8250626333059893 and parameters: {'hidden_dim': 960}. Best is trial 30 with value: 0.8511064425770307.\n"
     ]
    },
    {
     "name": "stdout",
     "output_type": "stream",
     "text": [
      "Best Epoch: 458 | Best F1 : 0.8833\n",
      "Best Epoch: 8 | Best F1 : 0.8921\n",
      "Best Epoch: 9 | Best F1 : 0.7869\n",
      "Best Epoch: 6 | Best F1 : 0.8382\n",
      "Best Epoch: 174 | Best F1 : 0.7659\n"
     ]
    },
    {
     "name": "stderr",
     "output_type": "stream",
     "text": [
      "[I 2025-05-19 03:53:10,187] Trial 84 finished with value: 0.8261728856906085 and parameters: {'hidden_dim': 927}. Best is trial 30 with value: 0.8511064425770307.\n"
     ]
    },
    {
     "name": "stdout",
     "output_type": "stream",
     "text": [
      "Best Epoch: 21 | Best F1 : 0.8478\n",
      "Best Epoch: 379 | Best F1 : 0.9087\n",
      "Best Epoch: 11 | Best F1 : 0.8087\n",
      "Best Epoch: 24 | Best F1 : 0.8326\n",
      "Best Epoch: 223 | Best F1 : 0.7260\n"
     ]
    },
    {
     "name": "stderr",
     "output_type": "stream",
     "text": [
      "[I 2025-05-19 03:53:50,909] Trial 85 finished with value: 0.8271853739329569 and parameters: {'hidden_dim': 871}. Best is trial 30 with value: 0.8511064425770307.\n"
     ]
    },
    {
     "name": "stdout",
     "output_type": "stream",
     "text": [
      "Best Epoch: 7 | Best F1 : 0.8599\n",
      "Best Epoch: 238 | Best F1 : 0.8725\n",
      "Best Epoch: 7 | Best F1 : 0.8039\n",
      "Best Epoch: 7 | Best F1 : 0.8382\n",
      "Best Epoch: 41 | Best F1 : 0.7139\n"
     ]
    },
    {
     "name": "stderr",
     "output_type": "stream",
     "text": [
      "[I 2025-05-19 03:54:29,315] Trial 86 finished with value: 0.8274293210578219 and parameters: {'hidden_dim': 685}. Best is trial 30 with value: 0.8511064425770307.\n"
     ]
    },
    {
     "name": "stdout",
     "output_type": "stream",
     "text": [
      "Best Epoch: 125 | Best F1 : 0.9087\n",
      "Best Epoch: 4 | Best F1 : 0.8599\n",
      "Best Epoch: 11 | Best F1 : 0.7869\n",
      "Best Epoch: 466 | Best F1 : 0.8087\n",
      "Best Epoch: 23 | Best F1 : 0.6919\n"
     ]
    },
    {
     "name": "stderr",
     "output_type": "stream",
     "text": [
      "[I 2025-05-19 03:55:08,150] Trial 87 finished with value: 0.8014743458261521 and parameters: {'hidden_dim': 760}. Best is trial 30 with value: 0.8511064425770307.\n"
     ]
    },
    {
     "name": "stdout",
     "output_type": "stream",
     "text": [
      "Best Epoch: 54 | Best F1 : 0.8599\n",
      "Best Epoch: 2 | Best F1 : 0.8599\n",
      "Best Epoch: 11 | Best F1 : 0.8087\n",
      "Best Epoch: 7 | Best F1 : 0.8382\n",
      "Best Epoch: 27 | Best F1 : 0.7479\n"
     ]
    },
    {
     "name": "stderr",
     "output_type": "stream",
     "text": [
      "[I 2025-05-19 03:55:50,650] Trial 88 finished with value: 0.8326909757681369 and parameters: {'hidden_dim': 993}. Best is trial 30 with value: 0.8511064425770307.\n"
     ]
    },
    {
     "name": "stdout",
     "output_type": "stream",
     "text": [
      "Best Epoch: 334 | Best F1 : 0.9087\n",
      "Best Epoch: 23 | Best F1 : 0.8087\n",
      "Best Epoch: 12 | Best F1 : 0.8087\n",
      "Best Epoch: 8 | Best F1 : 0.8296\n",
      "Best Epoch: 39 | Best F1 : 0.6919\n"
     ]
    },
    {
     "name": "stderr",
     "output_type": "stream",
     "text": [
      "[I 2025-05-19 03:56:28,511] Trial 89 finished with value: 0.8022847506310674 and parameters: {'hidden_dim': 640}. Best is trial 30 with value: 0.8511064425770307.\n"
     ]
    },
    {
     "name": "stdout",
     "output_type": "stream",
     "text": [
      "Best Epoch: 411 | Best F1 : 0.8725\n",
      "Best Epoch: 3 | Best F1 : 0.8382\n",
      "Best Epoch: 8 | Best F1 : 0.7869\n",
      "Best Epoch: 9 | Best F1 : 0.8725\n",
      "Best Epoch: 316 | Best F1 : 0.7667\n"
     ]
    },
    {
     "name": "stderr",
     "output_type": "stream",
     "text": [
      "[I 2025-05-19 03:57:11,344] Trial 90 finished with value: 0.8273468095741693 and parameters: {'hidden_dim': 1013}. Best is trial 30 with value: 0.8511064425770307.\n"
     ]
    },
    {
     "name": "stdout",
     "output_type": "stream",
     "text": [
      "Best Epoch: 45 | Best F1 : 0.8725\n",
      "Best Epoch: 9 | Best F1 : 0.8250\n",
      "Best Epoch: 3 | Best F1 : 0.8087\n",
      "Best Epoch: 8 | Best F1 : 0.8599\n",
      "Best Epoch: 104 | Best F1 : 0.6651\n"
     ]
    },
    {
     "name": "stderr",
     "output_type": "stream",
     "text": [
      "[I 2025-05-19 03:57:53,905] Trial 91 finished with value: 0.8013037625863315 and parameters: {'hidden_dim': 998}. Best is trial 30 with value: 0.8511064425770307.\n"
     ]
    },
    {
     "name": "stdout",
     "output_type": "stream",
     "text": [
      "Best Epoch: 475 | Best F1 : 0.8478\n",
      "Best Epoch: 3 | Best F1 : 0.8599\n",
      "Best Epoch: 10 | Best F1 : 0.8087\n",
      "Best Epoch: 6 | Best F1 : 0.8491\n",
      "Best Epoch: 462 | Best F1 : 0.7659\n"
     ]
    },
    {
     "name": "stderr",
     "output_type": "stream",
     "text": [
      "[I 2025-05-19 03:58:35,778] Trial 92 finished with value: 0.8312413623831564 and parameters: {'hidden_dim': 961}. Best is trial 30 with value: 0.8511064425770307.\n"
     ]
    },
    {
     "name": "stdout",
     "output_type": "stream",
     "text": [
      "Best Epoch: 363 | Best F1 : 0.8725\n",
      "Best Epoch: 9 | Best F1 : 0.8382\n",
      "Best Epoch: 8 | Best F1 : 0.7667\n",
      "Best Epoch: 9 | Best F1 : 0.8833\n",
      "Best Epoch: 92 | Best F1 : 0.7304\n"
     ]
    },
    {
     "name": "stderr",
     "output_type": "stream",
     "text": [
      "[I 2025-05-19 03:59:15,659] Trial 93 finished with value: 0.8203800719054957 and parameters: {'hidden_dim': 811}. Best is trial 30 with value: 0.8511064425770307.\n"
     ]
    },
    {
     "name": "stdout",
     "output_type": "stream",
     "text": [
      "Best Epoch: 369 | Best F1 : 0.8833\n",
      "Best Epoch: 14 | Best F1 : 0.8250\n",
      "Best Epoch: 2 | Best F1 : 0.8111\n",
      "Best Epoch: 499 | Best F1 : 0.8725\n",
      "Best Epoch: 31 | Best F1 : 0.7486\n"
     ]
    },
    {
     "name": "stderr",
     "output_type": "stream",
     "text": [
      "[I 2025-05-19 04:00:01,170] Trial 94 finished with value: 0.8259240475556562 and parameters: {'hidden_dim': 511}. Best is trial 30 with value: 0.8511064425770307.\n"
     ]
    },
    {
     "name": "stdout",
     "output_type": "stream",
     "text": [
      "Best Epoch: 41 | Best F1 : 0.8725\n",
      "Best Epoch: 10 | Best F1 : 0.8478\n",
      "Best Epoch: 8 | Best F1 : 0.8326\n",
      "Best Epoch: 29 | Best F1 : 0.8326\n",
      "Best Epoch: 15 | Best F1 : 0.7139\n"
     ]
    },
    {
     "name": "stderr",
     "output_type": "stream",
     "text": [
      "[I 2025-05-19 04:00:42,567] Trial 95 finished with value: 0.8173593675687556 and parameters: {'hidden_dim': 924}. Best is trial 30 with value: 0.8511064425770307.\n"
     ]
    },
    {
     "name": "stdout",
     "output_type": "stream",
     "text": [
      "Best Epoch: 7 | Best F1 : 0.8599\n",
      "Best Epoch: 55 | Best F1 : 0.8382\n",
      "Best Epoch: 10 | Best F1 : 0.8087\n",
      "Best Epoch: 12 | Best F1 : 0.8250\n",
      "Best Epoch: 52 | Best F1 : 0.7139\n"
     ]
    },
    {
     "name": "stderr",
     "output_type": "stream",
     "text": [
      "[I 2025-05-19 04:01:25,139] Trial 96 finished with value: 0.804805891450672 and parameters: {'hidden_dim': 982}. Best is trial 30 with value: 0.8511064425770307.\n"
     ]
    },
    {
     "name": "stdout",
     "output_type": "stream",
     "text": [
      "Best Epoch: 30 | Best F1 : 0.8382\n",
      "Best Epoch: 8 | Best F1 : 0.8296\n",
      "Best Epoch: 17 | Best F1 : 0.7883\n",
      "Best Epoch: 27 | Best F1 : 0.8725\n",
      "Best Epoch: 244 | Best F1 : 0.7083\n"
     ]
    },
    {
     "name": "stderr",
     "output_type": "stream",
     "text": [
      "[I 2025-05-19 04:02:05,219] Trial 97 finished with value: 0.8092920688420527 and parameters: {'hidden_dim': 848}. Best is trial 30 with value: 0.8511064425770307.\n"
     ]
    },
    {
     "name": "stdout",
     "output_type": "stream",
     "text": [
      "Best Epoch: 33 | Best F1 : 0.8478\n",
      "Best Epoch: 4 | Best F1 : 0.8491\n",
      "Best Epoch: 252 | Best F1 : 0.8326\n",
      "Best Epoch: 8 | Best F1 : 0.8921\n",
      "Best Epoch: 354 | Best F1 : 0.6919\n"
     ]
    },
    {
     "name": "stderr",
     "output_type": "stream",
     "text": [
      "[I 2025-05-19 04:02:42,798] Trial 98 finished with value: 0.8149031161801524 and parameters: {'hidden_dim': 606}. Best is trial 30 with value: 0.8511064425770307.\n"
     ]
    },
    {
     "name": "stdout",
     "output_type": "stream",
     "text": [
      "Best Epoch: 23 | Best F1 : 0.8087\n",
      "Best Epoch: 8 | Best F1 : 0.8833\n",
      "Best Epoch: 11 | Best F1 : 0.8326\n",
      "Best Epoch: 6 | Best F1 : 0.7989\n",
      "Best Epoch: 66 | Best F1 : 0.7387\n"
     ]
    },
    {
     "name": "stderr",
     "output_type": "stream",
     "text": [
      "[I 2025-05-19 04:03:23,622] Trial 99 finished with value: 0.8338865868971643 and parameters: {'hidden_dim': 893}. Best is trial 30 with value: 0.8511064425770307.\n"
     ]
    },
    {
     "name": "stdout",
     "output_type": "stream",
     "text": [
      "Best Epoch: 51 | Best F1 : 0.9160\n",
      "Best trial: FrozenTrial(number=30, state=1, values=[0.8511064425770307], datetime_start=datetime.datetime(2025, 5, 19, 3, 16, 31, 535678), datetime_complete=datetime.datetime(2025, 5, 19, 3, 17, 9, 278466), params={'hidden_dim': 696}, user_attrs={}, system_attrs={}, intermediate_values={}, distributions={'hidden_dim': IntDistribution(high=1024, log=False, low=32, step=1)}, trial_id=30, value=None)\n",
      "Best value: 0.8511064425770307\n",
      "Best params: {'hidden_dim': 696}\n"
     ]
    }
   ],
   "source": [
    "study = optuna.create_study(direction='maximize')\n",
    "study.optimize(lambda trial:objective(trial, df), n_trials=100)\n",
    "print(f'Best trial: {study.best_trial}')\n",
    "print(f'Best value: {study.best_value}')\n",
    "print(f'Best params: {study.best_params}')"
   ]
  },
  {
   "cell_type": "code",
   "execution_count": null,
   "id": "64b09aae",
   "metadata": {},
   "outputs": [],
   "source": [
    "# Best Epoch: 15 | Best F1 : 0.8382\n",
    "# Best Epoch: 8 | Best F1 : 0.8833\n",
    "# Best Epoch: 1 | Best F1 : 0.8250\n",
    "# Best Epoch: 68 | Best F1 : 0.8833\n",
    "# Best Epoch: 483 | Best F1 : 0.8039\n",
    "# [I 2025-05-19 03:17:09,278] Trial 30 finished with value: 0.8511064425770307 and parameters: {'hidden_dim': 696}. Best is trial 30 with value: 0.8511064425770307."
   ]
  },
  {
   "cell_type": "code",
   "execution_count": 1,
   "id": "1ac861c1",
   "metadata": {},
   "outputs": [],
   "source": [
    "def get_cv_results(f1s:list):\n",
    "    import numpy as np\n",
    "    import scipy.stats as st\n",
    "    f1s = np.array(f1s)\n",
    "    mean_f1 = np.mean(f1s)\n",
    "    std_f1 = np.std(f1s)\n",
    "    ci95 = st.t.interval(.95, df=len(f1s)-1, loc=mean_f1, scale=std_f1/np.sqrt(len(f1s)))\n",
    "    return mean_f1, std_f1, ci95"
   ]
  },
  {
   "cell_type": "code",
   "execution_count": 3,
   "id": "f6ce11a1",
   "metadata": {},
   "outputs": [
    {
     "name": "stdout",
     "output_type": "stream",
     "text": [
      "CV Results: Mean 0.85 | Std 0.03 | CI95% 0.81~0.89\n"
     ]
    }
   ],
   "source": [
    "mean_f1, std_f1, ci95 = get_cv_results([0.8382, 0.8833, 0.8250, 0.8833, 0.8039])\n",
    "print(f'CV Results: Mean {mean_f1:.2f} | Std {std_f1:.2f} | CI95% {ci95[0]:.2f}~{ci95[1]:.2f}')"
   ]
  }
 ],
 "metadata": {
  "kernelspec": {
   "display_name": "jhs_torch",
   "language": "python",
   "name": "python3"
  },
  "language_info": {
   "codemirror_mode": {
    "name": "ipython",
    "version": 3
   },
   "file_extension": ".py",
   "mimetype": "text/x-python",
   "name": "python",
   "nbconvert_exporter": "python",
   "pygments_lexer": "ipython3",
   "version": "3.11.9"
  }
 },
 "nbformat": 4,
 "nbformat_minor": 5
}
