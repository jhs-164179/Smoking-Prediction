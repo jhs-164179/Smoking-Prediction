{
 "cells": [
  {
   "cell_type": "code",
   "execution_count": 1,
   "id": "1d3b7d42",
   "metadata": {},
   "outputs": [],
   "source": [
    "import warnings\n",
    "\n",
    "warnings.filterwarnings('ignore')\n",
    "\n",
    "import os\n",
    "import random\n",
    "import optuna\n",
    "import numpy as np\n",
    "import pandas as pd\n",
    "import scipy.stats as st\n",
    "from xgboost import XGBClassifier\n",
    "from sklearn.metrics import classification_report, f1_score\n",
    "from sklearn.model_selection import train_test_split, StratifiedKFold\n",
    "from sklearn.preprocessing import MinMaxScaler, OrdinalEncoder, StandardScaler, OneHotEncoder"
   ]
  },
  {
   "cell_type": "code",
   "execution_count": 2,
   "id": "ae844d37",
   "metadata": {},
   "outputs": [],
   "source": [
    "def seed_everything(seed: int = 42):\n",
    "    random.seed(seed)\n",
    "    np.random.seed(seed)\n",
    "    os.environ[\"PYTHONHASHSEED\"] = str(seed)\n",
    "\n",
    "seed_everything()"
   ]
  },
  {
   "cell_type": "code",
   "execution_count": 3,
   "id": "da337001",
   "metadata": {},
   "outputs": [],
   "source": [
    "df = pd.read_csv('./impute_set/imp3.csv')\n",
    "\n",
    "\n",
    "def preprocessing(df, num, cat, numeric, category, train=True):\n",
    "    df_num, df_cat = df[num], df[cat]\n",
    "    if train:\n",
    "        df_num = pd.DataFrame(numeric.fit_transform(df_num), columns=df_num.columns)\n",
    "        df_cat = pd.DataFrame(category.fit_transform(df_cat), columns=df_cat.columns)\n",
    "    else:\n",
    "        df_num = pd.DataFrame(numeric.transform(df_num), columns=df_num.columns)\n",
    "        df_cat = pd.DataFrame(category.transform(df_cat), columns=df_cat.columns)\n",
    "    res = pd.concat([df_num, df_cat], axis=1)\n",
    "    return res\n",
    "\n",
    "\n",
    "def test_with_5fold(df, numeric='minmax', category='label', shuffle=True):\n",
    "    f1s = []\n",
    "    X = df.drop('BS3_1', axis=1)\n",
    "    y = df[['BS3_1']]\n",
    "    numeric_col = [\n",
    "        'FEV1', 'FEV1FVC', 'age', 'BS6_3', 'BS6_2_1', 'BD1',\n",
    "        '건강문해력', 'Total_slp_wk', 'EQ_5D', 'BE3_31', 'BE5_1', '질환유병기간'\n",
    "    ]\n",
    "    cat_col = []\n",
    "    for col in X.columns:\n",
    "        if col not in numeric_col:\n",
    "            cat_col.append(col)\n",
    "\n",
    "    df_num, df_cat = X[numeric_col], X[cat_col]\n",
    "    if numeric == 'minmax':\n",
    "        n_pre = MinMaxScaler()\n",
    "    else:\n",
    "        n_pre = StandardScaler()\n",
    "    df_num = pd.DataFrame(n_pre.fit_transform(df_num), columns=df_num.columns)\n",
    "\n",
    "    if category == 'label':\n",
    "        c_pre = OrdinalEncoder()\n",
    "        df_cat = pd.DataFrame(c_pre.fit_transform(df_cat), columns=df_cat.columns)\n",
    "    else:\n",
    "        c_pre = OneHotEncoder(sparse_output=False)\n",
    "        df_cat = pd.DataFrame(c_pre.fit_transform(df_cat))\n",
    "        # df_cat = df_cat.astype(float)\n",
    "\n",
    "    X = pd.concat([df_num, df_cat], axis=1)\n",
    "\n",
    "    if shuffle:\n",
    "        skf = StratifiedKFold(n_splits=5, shuffle=shuffle, random_state=42)\n",
    "    else:\n",
    "        skf = StratifiedKFold(n_splits=5, shuffle=shuffle)\n",
    "    # X.reset_index().drop('index', axis=1, inplace=True)\n",
    "    # y.reset_index().drop('index', axis=1, inplace=True)\n",
    "    for fold, (train_idx, test_idx) in enumerate(skf.split(X, y)):\n",
    "        # print(fold+1)\n",
    "        train_X, train_y = X.iloc[train_idx], y.iloc[train_idx]\n",
    "        test_X, test_y = X.iloc[test_idx], y.iloc[test_idx]\n",
    "        pos = train_y.value_counts()[0] / train_y.value_counts()[1]\n",
    "        print(pos)\n",
    "\n",
    "        model = XGBClassifier(random_state=42, n_estimators=20, max_depth=4, scale_pos_weight=pos)\n",
    "        model.fit(train_X, train_y)\n",
    "        preds = model.predict(test_X)\n",
    "        f1_ = f1_score(test_y, preds, average='macro')\n",
    "        f1s.append(f1_)\n",
    "    return f1s\n",
    "\n",
    "\n",
    "def get_cv_results(f1s:list):\n",
    "    f1s = np.array(f1s)\n",
    "    mean_f1 = np.mean(f1s)\n",
    "    std_f1 = np.std(f1s)\n",
    "    ci95 = st.t.interval(.95, df=len(f1s)-1, loc=mean_f1, scale=std_f1/np.sqrt(len(f1s)))\n",
    "    return mean_f1, std_f1, ci95"
   ]
  },
  {
   "cell_type": "code",
   "execution_count": 4,
   "id": "65bc95f0",
   "metadata": {},
   "outputs": [],
   "source": [
    "def objective(trial:optuna.Trial, df):\n",
    "    X = df.drop('BS3_1', axis=1)\n",
    "    y = df[['BS3_1']]\n",
    "    numeric_col = [\n",
    "        'FEV1', 'FEV1FVC', 'age', 'BS6_3', 'BS6_2_1', 'BD1',\n",
    "        '건강문해력', 'Total_slp_wk', 'EQ_5D', 'BE3_31', 'BE5_1', '질환유병기간'\n",
    "    ]\n",
    "    cat_col = []\n",
    "    for col in X.columns:\n",
    "        if col not in numeric_col:\n",
    "            cat_col.append(col)\n",
    "\n",
    "    df_num, df_cat = X[numeric_col], X[cat_col]    \n",
    "    df_num = pd.DataFrame(StandardScaler().fit_transform(df_num), columns=df_num.columns)\n",
    "    df_cat = pd.DataFrame(OrdinalEncoder().fit_transform(df_cat), columns=df_cat.columns)\n",
    "    X = pd.concat([df_num, df_cat], axis=1)\n",
    "    pos = y.value_counts()[0] / y.value_counts()[1]\n",
    "\n",
    "    scores = []\n",
    "    param = {\n",
    "        'n_estimators' : trial.suggest_int('n_estimators', 20, 300),\n",
    "        'max_depth' : trial.suggest_int('max_depth', 4, 15),\n",
    "        'learning_rate' : trial.suggest_float('learning_rate', .001, .01),\n",
    "        'gamma' : trial.suggest_float('gamma', 0, 20),\n",
    "        'alpha' : trial.suggest_float('alpha', 0, 10),\n",
    "        'lambda' : trial.suggest_float('lambda', 1, 20),\n",
    "        'min_child_weight' : trial.suggest_float('min_child_weight', 0, 10),\n",
    "        'max_delta_step' : trial.suggest_int('max_delta_step', 10, 50),\n",
    "        'subsample' : trial.suggest_float('subsample', .1, 1),\n",
    "        'sampling_method' : trial.suggest_categorical('sampling_method', ['uniform']),\n",
    "        'tree_method' : trial.suggest_categorical('tree_method', ['hist', 'approx']),\n",
    "        'grow_policy' : trial.suggest_categorical('grow_policy', ['depthwise', 'lossguide']),\n",
    "        'max_bin' : trial.suggest_int('max_bin', 256, 512),\n",
    "        # 'scale_pos_weight' : trial.suggest_categorical('scale_pos_weight', [1, pos]),\n",
    "    }\n",
    "\n",
    "    skf = StratifiedKFold(n_splits=5, shuffle=True, random_state=42)\n",
    "    for fold, (train_idx, test_idx) in enumerate(skf.split(X, y)):\n",
    "        train_X, train_y = X.iloc[train_idx], y.iloc[train_idx]\n",
    "        test_X, test_y = X.iloc[test_idx], y.iloc[test_idx]\n",
    "\n",
    "        model = XGBClassifier(objective='binary:logistic', device='cuda', random_state=42, scale_pos_weight=pos, **param)    \n",
    "        model.fit(train_X, train_y, verbose=False, eval_set=[(train_X, train_y),(test_X, test_y)])\n",
    "        pred = model.predict(test_X)\n",
    "        scores.append(f1_score(test_y, pred, average='macro'))\n",
    "        \n",
    "    print(f'Std: {np.std(scores):.6f}')\n",
    "    return np.mean(scores)\n",
    "    "
   ]
  },
  {
   "cell_type": "code",
   "execution_count": 5,
   "id": "270e240d",
   "metadata": {},
   "outputs": [
    {
     "name": "stderr",
     "output_type": "stream",
     "text": [
      "[I 2025-05-15 16:33:14,584] A new study created in memory with name: no-name-767433ea-7cdb-4dc2-8e56-108c9bf88bd9\n"
     ]
    },
    {
     "name": "stderr",
     "output_type": "stream",
     "text": [
      "[I 2025-05-15 16:33:24,147] Trial 0 finished with value: 0.7261745440138979 and parameters: {'n_estimators': 190, 'max_depth': 7, 'learning_rate': 0.0011354809919757937, 'gamma': 14.504150984564479, 'alpha': 9.043262871675832, 'lambda': 5.547194695683717, 'min_child_weight': 4.639543886993586, 'max_delta_step': 39, 'subsample': 0.15960031411484232, 'sampling_method': 'uniform', 'tree_method': 'approx', 'grow_policy': 'depthwise', 'max_bin': 472}. Best is trial 0 with value: 0.7261745440138979.\n"
     ]
    },
    {
     "name": "stdout",
     "output_type": "stream",
     "text": [
      "Std: 0.076150\n"
     ]
    },
    {
     "name": "stderr",
     "output_type": "stream",
     "text": [
      "[I 2025-05-15 16:33:38,355] Trial 1 finished with value: 0.7223377061469266 and parameters: {'n_estimators': 261, 'max_depth': 15, 'learning_rate': 0.009400356294572226, 'gamma': 11.534044103901389, 'alpha': 0.563894277236805, 'lambda': 15.007998798522284, 'min_child_weight': 0.7342599363289515, 'max_delta_step': 24, 'subsample': 0.14620851694108472, 'sampling_method': 'uniform', 'tree_method': 'approx', 'grow_policy': 'depthwise', 'max_bin': 274}. Best is trial 0 with value: 0.7261745440138979.\n"
     ]
    },
    {
     "name": "stdout",
     "output_type": "stream",
     "text": [
      "Std: 0.057086\n"
     ]
    },
    {
     "name": "stderr",
     "output_type": "stream",
     "text": [
      "[I 2025-05-15 16:33:52,499] Trial 2 finished with value: 0.739239483469904 and parameters: {'n_estimators': 193, 'max_depth': 13, 'learning_rate': 0.0091369108740912, 'gamma': 1.8845894221498805, 'alpha': 8.18357540130237, 'lambda': 2.0702047408837965, 'min_child_weight': 1.7259825724650257, 'max_delta_step': 45, 'subsample': 0.23090012270096544, 'sampling_method': 'uniform', 'tree_method': 'approx', 'grow_policy': 'lossguide', 'max_bin': 499}. Best is trial 2 with value: 0.739239483469904.\n"
     ]
    },
    {
     "name": "stdout",
     "output_type": "stream",
     "text": [
      "Std: 0.062340\n"
     ]
    },
    {
     "name": "stderr",
     "output_type": "stream",
     "text": [
      "[I 2025-05-15 16:33:58,886] Trial 3 finished with value: 0.7247303383887912 and parameters: {'n_estimators': 93, 'max_depth': 11, 'learning_rate': 0.004680978997646449, 'gamma': 11.371435311070357, 'alpha': 9.856457050393095, 'lambda': 5.882337080855644, 'min_child_weight': 0.4906248885655706, 'max_delta_step': 30, 'subsample': 0.1747023012062942, 'sampling_method': 'uniform', 'tree_method': 'approx', 'grow_policy': 'depthwise', 'max_bin': 358}. Best is trial 2 with value: 0.739239483469904.\n"
     ]
    },
    {
     "name": "stdout",
     "output_type": "stream",
     "text": [
      "Std: 0.050956\n"
     ]
    },
    {
     "name": "stderr",
     "output_type": "stream",
     "text": [
      "[I 2025-05-15 16:34:01,943] Trial 4 finished with value: 0.6871420479831695 and parameters: {'n_estimators': 143, 'max_depth': 13, 'learning_rate': 0.00992572497933173, 'gamma': 0.5936072654378588, 'alpha': 9.559492405150587, 'lambda': 9.158415308863297, 'min_child_weight': 7.372416093969667, 'max_delta_step': 16, 'subsample': 0.13855757158344378, 'sampling_method': 'uniform', 'tree_method': 'hist', 'grow_policy': 'depthwise', 'max_bin': 483}. Best is trial 2 with value: 0.739239483469904.\n"
     ]
    },
    {
     "name": "stdout",
     "output_type": "stream",
     "text": [
      "Std: 0.036562\n"
     ]
    },
    {
     "name": "stderr",
     "output_type": "stream",
     "text": [
      "[I 2025-05-15 16:34:03,038] Trial 5 finished with value: 0.3260882528324388 and parameters: {'n_estimators': 36, 'max_depth': 5, 'learning_rate': 0.007407980596204416, 'gamma': 17.626397661179986, 'alpha': 0.9050850942961508, 'lambda': 19.266986281320747, 'min_child_weight': 9.281472291314133, 'max_delta_step': 10, 'subsample': 0.11993821811141646, 'sampling_method': 'uniform', 'tree_method': 'hist', 'grow_policy': 'depthwise', 'max_bin': 406}. Best is trial 2 with value: 0.739239483469904.\n"
     ]
    },
    {
     "name": "stdout",
     "output_type": "stream",
     "text": [
      "Std: 0.164195\n"
     ]
    },
    {
     "name": "stderr",
     "output_type": "stream",
     "text": [
      "[I 2025-05-15 16:34:09,714] Trial 6 finished with value: 0.6950792036734798 and parameters: {'n_estimators': 240, 'max_depth': 13, 'learning_rate': 0.00232394194393969, 'gamma': 5.443672809864479, 'alpha': 3.844626027926563, 'lambda': 3.7538291290587917, 'min_child_weight': 3.2121393880095717, 'max_delta_step': 23, 'subsample': 0.7595670159258151, 'sampling_method': 'uniform', 'tree_method': 'hist', 'grow_policy': 'depthwise', 'max_bin': 505}. Best is trial 2 with value: 0.739239483469904.\n"
     ]
    },
    {
     "name": "stdout",
     "output_type": "stream",
     "text": [
      "Std: 0.043334\n"
     ]
    },
    {
     "name": "stderr",
     "output_type": "stream",
     "text": [
      "[I 2025-05-15 16:34:14,651] Trial 7 finished with value: 0.6757405328316544 and parameters: {'n_estimators': 207, 'max_depth': 4, 'learning_rate': 0.00846113036080345, 'gamma': 15.884090545271626, 'alpha': 1.3547023437491768, 'lambda': 5.281533063028029, 'min_child_weight': 6.059083884294639, 'max_delta_step': 40, 'subsample': 0.6963976152713374, 'sampling_method': 'uniform', 'tree_method': 'hist', 'grow_policy': 'lossguide', 'max_bin': 277}. Best is trial 2 with value: 0.739239483469904.\n"
     ]
    },
    {
     "name": "stdout",
     "output_type": "stream",
     "text": [
      "Std: 0.028920\n"
     ]
    },
    {
     "name": "stderr",
     "output_type": "stream",
     "text": [
      "[I 2025-05-15 16:34:29,471] Trial 8 finished with value: 0.6988607708887743 and parameters: {'n_estimators': 200, 'max_depth': 13, 'learning_rate': 0.0075813152882049884, 'gamma': 19.273200806147383, 'alpha': 9.974787310231921, 'lambda': 9.63318082758333, 'min_child_weight': 7.476687605242817, 'max_delta_step': 13, 'subsample': 0.6960260191066453, 'sampling_method': 'uniform', 'tree_method': 'approx', 'grow_policy': 'lossguide', 'max_bin': 321}. Best is trial 2 with value: 0.739239483469904.\n"
     ]
    },
    {
     "name": "stdout",
     "output_type": "stream",
     "text": [
      "Std: 0.056218\n"
     ]
    },
    {
     "name": "stderr",
     "output_type": "stream",
     "text": [
      "[I 2025-05-15 16:34:31,990] Trial 9 finished with value: 0.722327432421191 and parameters: {'n_estimators': 65, 'max_depth': 14, 'learning_rate': 0.007366416793571559, 'gamma': 0.833814517213789, 'alpha': 6.282255280291115, 'lambda': 6.188607224212543, 'min_child_weight': 0.45956046464054046, 'max_delta_step': 47, 'subsample': 0.5234269625580066, 'sampling_method': 'uniform', 'tree_method': 'hist', 'grow_policy': 'lossguide', 'max_bin': 334}. Best is trial 2 with value: 0.739239483469904.\n"
     ]
    },
    {
     "name": "stdout",
     "output_type": "stream",
     "text": [
      "Std: 0.032699\n"
     ]
    },
    {
     "name": "stderr",
     "output_type": "stream",
     "text": [
      "[I 2025-05-15 16:34:53,723] Trial 10 finished with value: 0.7237824495998508 and parameters: {'n_estimators': 290, 'max_depth': 9, 'learning_rate': 0.005261661838941841, 'gamma': 6.339682068115318, 'alpha': 6.9732238611936115, 'lambda': 1.156136694357838, 'min_child_weight': 3.088119060472393, 'max_delta_step': 50, 'subsample': 0.40896626604822855, 'sampling_method': 'uniform', 'tree_method': 'approx', 'grow_policy': 'lossguide', 'max_bin': 416}. Best is trial 2 with value: 0.739239483469904.\n"
     ]
    },
    {
     "name": "stdout",
     "output_type": "stream",
     "text": [
      "Std: 0.050150\n"
     ]
    },
    {
     "name": "stderr",
     "output_type": "stream",
     "text": [
      "[I 2025-05-15 16:35:04,663] Trial 11 finished with value: 0.6926506247626938 and parameters: {'n_estimators': 143, 'max_depth': 7, 'learning_rate': 0.0012379793667084606, 'gamma': 14.39218506677609, 'alpha': 7.729741393028927, 'lambda': 1.0620466560354513, 'min_child_weight': 3.4070060548339134, 'max_delta_step': 39, 'subsample': 0.34192607922235985, 'sampling_method': 'uniform', 'tree_method': 'approx', 'grow_policy': 'lossguide', 'max_bin': 453}. Best is trial 2 with value: 0.739239483469904.\n"
     ]
    },
    {
     "name": "stdout",
     "output_type": "stream",
     "text": [
      "Std: 0.057841\n"
     ]
    },
    {
     "name": "stderr",
     "output_type": "stream",
     "text": [
      "[I 2025-05-15 16:35:17,878] Trial 12 finished with value: 0.7100473318145732 and parameters: {'n_estimators': 183, 'max_depth': 9, 'learning_rate': 0.003481200458874765, 'gamma': 7.376433736787804, 'alpha': 7.911247202508545, 'lambda': 13.470070766743785, 'min_child_weight': 4.6797573270761585, 'max_delta_step': 40, 'subsample': 0.3260948627438375, 'sampling_method': 'uniform', 'tree_method': 'approx', 'grow_policy': 'depthwise', 'max_bin': 456}. Best is trial 2 with value: 0.739239483469904.\n"
     ]
    },
    {
     "name": "stdout",
     "output_type": "stream",
     "text": [
      "Std: 0.048862\n"
     ]
    },
    {
     "name": "stderr",
     "output_type": "stream",
     "text": [
      "[I 2025-05-15 16:35:26,810] Trial 13 finished with value: 0.7179777960456372 and parameters: {'n_estimators': 114, 'max_depth': 6, 'learning_rate': 0.006274109763258738, 'gamma': 3.5105943738626975, 'alpha': 4.900099733676433, 'lambda': 3.7608972548155775, 'min_child_weight': 1.707519534011262, 'max_delta_step': 35, 'subsample': 0.25491489455770094, 'sampling_method': 'uniform', 'tree_method': 'approx', 'grow_policy': 'lossguide', 'max_bin': 511}. Best is trial 2 with value: 0.739239483469904.\n"
     ]
    },
    {
     "name": "stdout",
     "output_type": "stream",
     "text": [
      "Std: 0.049696\n"
     ]
    },
    {
     "name": "stderr",
     "output_type": "stream",
     "text": [
      "[I 2025-05-15 16:35:44,234] Trial 14 finished with value: 0.6819855846609043 and parameters: {'n_estimators': 239, 'max_depth': 11, 'learning_rate': 0.003715187909469638, 'gamma': 13.555015216876608, 'alpha': 8.472049673669725, 'lambda': 7.759328216691843, 'min_child_weight': 4.812516959893085, 'max_delta_step': 44, 'subsample': 0.9634292396890796, 'sampling_method': 'uniform', 'tree_method': 'approx', 'grow_policy': 'depthwise', 'max_bin': 447}. Best is trial 2 with value: 0.739239483469904.\n"
     ]
    },
    {
     "name": "stdout",
     "output_type": "stream",
     "text": [
      "Std: 0.042743\n"
     ]
    },
    {
     "name": "stderr",
     "output_type": "stream",
     "text": [
      "[I 2025-05-15 16:35:56,300] Trial 15 finished with value: 0.6991836277507403 and parameters: {'n_estimators': 162, 'max_depth': 7, 'learning_rate': 0.0010780549319583295, 'gamma': 8.754091481632631, 'alpha': 5.712246800342772, 'lambda': 12.398806282549963, 'min_child_weight': 1.9720375562546133, 'max_delta_step': 34, 'subsample': 0.48206129159879485, 'sampling_method': 'uniform', 'tree_method': 'approx', 'grow_policy': 'lossguide', 'max_bin': 475}. Best is trial 2 with value: 0.739239483469904.\n"
     ]
    },
    {
     "name": "stdout",
     "output_type": "stream",
     "text": [
      "Std: 0.051980\n"
     ]
    },
    {
     "name": "stderr",
     "output_type": "stream",
     "text": [
      "[I 2025-05-15 16:36:12,719] Trial 16 finished with value: 0.7216184917527422 and parameters: {'n_estimators': 222, 'max_depth': 11, 'learning_rate': 0.006122142333251566, 'gamma': 3.874879115285279, 'alpha': 8.693288789213915, 'lambda': 3.3642342451740155, 'min_child_weight': 6.187893583638456, 'max_delta_step': 47, 'subsample': 0.2604998096377134, 'sampling_method': 'uniform', 'tree_method': 'approx', 'grow_policy': 'lossguide', 'max_bin': 419}. Best is trial 2 with value: 0.739239483469904.\n"
     ]
    },
    {
     "name": "stdout",
     "output_type": "stream",
     "text": [
      "Std: 0.055473\n"
     ]
    },
    {
     "name": "stderr",
     "output_type": "stream",
     "text": [
      "[I 2025-05-15 16:36:34,626] Trial 17 finished with value: 0.7034039812799525 and parameters: {'n_estimators': 299, 'max_depth': 8, 'learning_rate': 0.00300027173761985, 'gamma': 9.621701951540231, 'alpha': 3.380110327228258, 'lambda': 8.01170095238609, 'min_child_weight': 2.0023413312029725, 'max_delta_step': 30, 'subsample': 0.3975672102240916, 'sampling_method': 'uniform', 'tree_method': 'approx', 'grow_policy': 'depthwise', 'max_bin': 388}. Best is trial 2 with value: 0.739239483469904.\n"
     ]
    },
    {
     "name": "stdout",
     "output_type": "stream",
     "text": [
      "Std: 0.041426\n"
     ]
    },
    {
     "name": "stderr",
     "output_type": "stream",
     "text": [
      "[I 2025-05-15 16:36:47,152] Trial 18 finished with value: 0.718431791971615 and parameters: {'n_estimators': 176, 'max_depth': 10, 'learning_rate': 0.00889691695484959, 'gamma': 12.871097687839374, 'alpha': 6.928223730367563, 'lambda': 1.9211606670604109, 'min_child_weight': 3.9484909977938787, 'max_delta_step': 43, 'subsample': 0.2321717193363339, 'sampling_method': 'uniform', 'tree_method': 'approx', 'grow_policy': 'depthwise', 'max_bin': 482}. Best is trial 2 with value: 0.739239483469904.\n"
     ]
    },
    {
     "name": "stdout",
     "output_type": "stream",
     "text": [
      "Std: 0.053374\n"
     ]
    },
    {
     "name": "stderr",
     "output_type": "stream",
     "text": [
      "[I 2025-05-15 16:36:55,521] Trial 19 finished with value: 0.7100473318145732 and parameters: {'n_estimators': 110, 'max_depth': 15, 'learning_rate': 0.004364687800314609, 'gamma': 16.095647615462973, 'alpha': 8.727310431347593, 'lambda': 11.444112028471043, 'min_child_weight': 9.750730237388087, 'max_delta_step': 33, 'subsample': 0.6295077582404058, 'sampling_method': 'uniform', 'tree_method': 'approx', 'grow_policy': 'lossguide', 'max_bin': 431}. Best is trial 2 with value: 0.739239483469904.\n"
     ]
    },
    {
     "name": "stdout",
     "output_type": "stream",
     "text": [
      "Std: 0.048862\n"
     ]
    },
    {
     "name": "stderr",
     "output_type": "stream",
     "text": [
      "[I 2025-05-15 16:37:15,153] Trial 20 finished with value: 0.6991836277507403 and parameters: {'n_estimators': 266, 'max_depth': 4, 'learning_rate': 0.002168492386841945, 'gamma': 19.35506494814048, 'alpha': 2.3077108313130488, 'lambda': 16.873577246888885, 'min_child_weight': 8.251304720800139, 'max_delta_step': 37, 'subsample': 0.8729759361875822, 'sampling_method': 'uniform', 'tree_method': 'approx', 'grow_policy': 'depthwise', 'max_bin': 487}. Best is trial 2 with value: 0.739239483469904.\n"
     ]
    },
    {
     "name": "stdout",
     "output_type": "stream",
     "text": [
      "Std: 0.051980\n"
     ]
    },
    {
     "name": "stderr",
     "output_type": "stream",
     "text": [
      "[I 2025-05-15 16:37:22,046] Trial 21 finished with value: 0.725217498847606 and parameters: {'n_estimators': 95, 'max_depth': 11, 'learning_rate': 0.004821093984453724, 'gamma': 11.488410773281778, 'alpha': 9.462589256080717, 'lambda': 6.176964801635596, 'min_child_weight': 0.1121308165164786, 'max_delta_step': 28, 'subsample': 0.20452296046897575, 'sampling_method': 'uniform', 'tree_method': 'approx', 'grow_policy': 'depthwise', 'max_bin': 355}. Best is trial 2 with value: 0.739239483469904.\n"
     ]
    },
    {
     "name": "stdout",
     "output_type": "stream",
     "text": [
      "Std: 0.054357\n"
     ]
    },
    {
     "name": "stderr",
     "output_type": "stream",
     "text": [
      "[I 2025-05-15 16:37:24,322] Trial 22 finished with value: 0.7515021348996133 and parameters: {'n_estimators': 21, 'max_depth': 12, 'learning_rate': 0.006318981916763739, 'gamma': 8.847752337220701, 'alpha': 9.226209886674292, 'lambda': 7.10169980316802, 'min_child_weight': 1.5512172590055098, 'max_delta_step': 26, 'subsample': 0.20953528116930295, 'sampling_method': 'uniform', 'tree_method': 'approx', 'grow_policy': 'depthwise', 'max_bin': 362}. Best is trial 22 with value: 0.7515021348996133.\n"
     ]
    },
    {
     "name": "stdout",
     "output_type": "stream",
     "text": [
      "Std: 0.066878\n"
     ]
    },
    {
     "name": "stderr",
     "output_type": "stream",
     "text": [
      "[I 2025-05-15 16:37:27,766] Trial 23 finished with value: 0.718431903130179 and parameters: {'n_estimators': 35, 'max_depth': 12, 'learning_rate': 0.006195863203974794, 'gamma': 2.4493373216691356, 'alpha': 7.540346910449765, 'lambda': 7.727413651522522, 'min_child_weight': 1.526832067374112, 'max_delta_step': 19, 'subsample': 0.3069987473526459, 'sampling_method': 'uniform', 'tree_method': 'approx', 'grow_policy': 'depthwise', 'max_bin': 377}. Best is trial 22 with value: 0.7515021348996133.\n"
     ]
    },
    {
     "name": "stdout",
     "output_type": "stream",
     "text": [
      "Std: 0.055684\n"
     ]
    },
    {
     "name": "stderr",
     "output_type": "stream",
     "text": [
      "[I 2025-05-15 16:37:38,561] Trial 24 finished with value: 0.7060702314306655 and parameters: {'n_estimators': 140, 'max_depth': 12, 'learning_rate': 0.007999400909300779, 'gamma': 4.947312840062959, 'alpha': 8.91749067123197, 'lambda': 3.1776515642070633, 'min_child_weight': 2.556101226100371, 'max_delta_step': 26, 'subsample': 0.4334095059322469, 'sampling_method': 'uniform', 'tree_method': 'approx', 'grow_policy': 'depthwise', 'max_bin': 306}. Best is trial 22 with value: 0.7515021348996133.\n"
     ]
    },
    {
     "name": "stdout",
     "output_type": "stream",
     "text": [
      "Std: 0.039975\n"
     ]
    },
    {
     "name": "stderr",
     "output_type": "stream",
     "text": [
      "[I 2025-05-15 16:37:53,370] Trial 25 finished with value: 0.7156506337355305 and parameters: {'n_estimators': 203, 'max_depth': 14, 'learning_rate': 0.00649540846391768, 'gamma': 7.60745905571423, 'alpha': 5.502371710002189, 'lambda': 4.756178051793914, 'min_child_weight': 5.886480439140808, 'max_delta_step': 44, 'subsample': 0.2827594762563108, 'sampling_method': 'uniform', 'tree_method': 'approx', 'grow_policy': 'depthwise', 'max_bin': 385}. Best is trial 22 with value: 0.7515021348996133.\n"
     ]
    },
    {
     "name": "stdout",
     "output_type": "stream",
     "text": [
      "Std: 0.051155\n"
     ]
    },
    {
     "name": "stderr",
     "output_type": "stream",
     "text": [
      "[I 2025-05-15 16:37:56,783] Trial 26 finished with value: 0.719656434546175 and parameters: {'n_estimators': 176, 'max_depth': 8, 'learning_rate': 0.00551410086402738, 'gamma': 15.891579480347206, 'alpha': 8.121218372715365, 'lambda': 7.0335059971441884, 'min_child_weight': 4.038374131231542, 'max_delta_step': 50, 'subsample': 0.12161957162170858, 'sampling_method': 'uniform', 'tree_method': 'hist', 'grow_policy': 'lossguide', 'max_bin': 462}. Best is trial 22 with value: 0.7515021348996133.\n"
     ]
    },
    {
     "name": "stdout",
     "output_type": "stream",
     "text": [
      "Std: 0.059163\n"
     ]
    },
    {
     "name": "stderr",
     "output_type": "stream",
     "text": [
      "[I 2025-05-15 16:38:01,956] Trial 27 finished with value: 0.7271906044391899 and parameters: {'n_estimators': 59, 'max_depth': 10, 'learning_rate': 0.00699712205559642, 'gamma': 2.0570934138713612, 'alpha': 6.632510003855143, 'lambda': 9.90482552605053, 'min_child_weight': 2.4938641275034996, 'max_delta_step': 22, 'subsample': 0.20758591173410618, 'sampling_method': 'uniform', 'tree_method': 'approx', 'grow_policy': 'depthwise', 'max_bin': 436}. Best is trial 22 with value: 0.7515021348996133.\n"
     ]
    },
    {
     "name": "stdout",
     "output_type": "stream",
     "text": [
      "Std: 0.037694\n"
     ]
    },
    {
     "name": "stderr",
     "output_type": "stream",
     "text": [
      "[I 2025-05-15 16:38:07,173] Trial 28 finished with value: 0.7180302677285436 and parameters: {'n_estimators': 58, 'max_depth': 10, 'learning_rate': 0.006934368357247893, 'gamma': 2.2281565587093253, 'alpha': 6.840356213483207, 'lambda': 9.944717898814478, 'min_child_weight': 1.1181170900732675, 'max_delta_step': 20, 'subsample': 0.36924126354310405, 'sampling_method': 'uniform', 'tree_method': 'approx', 'grow_policy': 'lossguide', 'max_bin': 355}. Best is trial 22 with value: 0.7515021348996133.\n"
     ]
    },
    {
     "name": "stdout",
     "output_type": "stream",
     "text": [
      "Std: 0.052882\n"
     ]
    },
    {
     "name": "stderr",
     "output_type": "stream",
     "text": [
      "[I 2025-05-15 16:38:09,732] Trial 29 finished with value: 0.7060395269878029 and parameters: {'n_estimators': 23, 'max_depth': 12, 'learning_rate': 0.008738362180891678, 'gamma': 1.873057669485495, 'alpha': 4.480718952408749, 'lambda': 11.668815796832705, 'min_child_weight': 2.6444188796409476, 'max_delta_step': 21, 'subsample': 0.577074954501304, 'sampling_method': 'uniform', 'tree_method': 'approx', 'grow_policy': 'depthwise', 'max_bin': 430}. Best is trial 22 with value: 0.7515021348996133.\n"
     ]
    },
    {
     "name": "stdout",
     "output_type": "stream",
     "text": [
      "Std: 0.043514\n"
     ]
    },
    {
     "name": "stderr",
     "output_type": "stream",
     "text": [
      "[I 2025-05-15 16:38:15,592] Trial 30 finished with value: 0.7280097986011416 and parameters: {'n_estimators': 69, 'max_depth': 14, 'learning_rate': 0.008201675147510107, 'gamma': 0.031928777526228025, 'alpha': 6.508152971724503, 'lambda': 14.86926797274787, 'min_child_weight': 2.456332616154902, 'max_delta_step': 17, 'subsample': 0.20818825816015543, 'sampling_method': 'uniform', 'tree_method': 'approx', 'grow_policy': 'depthwise', 'max_bin': 396}. Best is trial 22 with value: 0.7515021348996133.\n"
     ]
    },
    {
     "name": "stdout",
     "output_type": "stream",
     "text": [
      "Std: 0.045020\n"
     ]
    },
    {
     "name": "stderr",
     "output_type": "stream",
     "text": [
      "[I 2025-05-15 16:38:20,926] Trial 31 finished with value: 0.728988937565126 and parameters: {'n_estimators': 61, 'max_depth': 14, 'learning_rate': 0.008307852273688668, 'gamma': 3.667896443899135, 'alpha': 6.302701893453079, 'lambda': 16.454991097498308, 'min_child_weight': 2.5457907159792237, 'max_delta_step': 16, 'subsample': 0.206953705117293, 'sampling_method': 'uniform', 'tree_method': 'approx', 'grow_policy': 'depthwise', 'max_bin': 392}. Best is trial 22 with value: 0.7515021348996133.\n"
     ]
    },
    {
     "name": "stdout",
     "output_type": "stream",
     "text": [
      "Std: 0.045501\n"
     ]
    },
    {
     "name": "stderr",
     "output_type": "stream",
     "text": [
      "[I 2025-05-15 16:38:27,007] Trial 32 finished with value: 0.7220932408644718 and parameters: {'n_estimators': 73, 'max_depth': 14, 'learning_rate': 0.009361043527822032, 'gamma': 0.12099077650092585, 'alpha': 6.049135526036787, 'lambda': 15.780192130696326, 'min_child_weight': 1.3897432721531102, 'max_delta_step': 17, 'subsample': 0.18412623619567633, 'sampling_method': 'uniform', 'tree_method': 'approx', 'grow_policy': 'depthwise', 'max_bin': 368}. Best is trial 22 with value: 0.7515021348996133.\n"
     ]
    },
    {
     "name": "stdout",
     "output_type": "stream",
     "text": [
      "Std: 0.050788\n"
     ]
    },
    {
     "name": "stderr",
     "output_type": "stream",
     "text": [
      "[I 2025-05-15 16:38:29,369] Trial 33 finished with value: 0.724883201306195 and parameters: {'n_estimators': 21, 'max_depth': 15, 'learning_rate': 0.008144603268367152, 'gamma': 3.7290857452880655, 'alpha': 7.378370406778748, 'lambda': 17.80156719880795, 'min_child_weight': 0.9423314142755452, 'max_delta_step': 13, 'subsample': 0.2827289704582488, 'sampling_method': 'uniform', 'tree_method': 'approx', 'grow_policy': 'depthwise', 'max_bin': 333}. Best is trial 22 with value: 0.7515021348996133.\n"
     ]
    },
    {
     "name": "stdout",
     "output_type": "stream",
     "text": [
      "Std: 0.040303\n"
     ]
    },
    {
     "name": "stderr",
     "output_type": "stream",
     "text": [
      "[I 2025-05-15 16:38:33,430] Trial 34 finished with value: 0.7311996559274097 and parameters: {'n_estimators': 44, 'max_depth': 14, 'learning_rate': 0.00996303718155211, 'gamma': 1.2445705112690066, 'alpha': 9.250840850528396, 'lambda': 14.278808977044747, 'min_child_weight': 3.8635867051877817, 'max_delta_step': 25, 'subsample': 0.1679405694964224, 'sampling_method': 'uniform', 'tree_method': 'approx', 'grow_policy': 'depthwise', 'max_bin': 402}. Best is trial 22 with value: 0.7515021348996133.\n"
     ]
    },
    {
     "name": "stdout",
     "output_type": "stream",
     "text": [
      "Std: 0.031942\n"
     ]
    },
    {
     "name": "stderr",
     "output_type": "stream",
     "text": [
      "[I 2025-05-15 16:38:37,176] Trial 35 finished with value: 0.7378238418101768 and parameters: {'n_estimators': 46, 'max_depth': 13, 'learning_rate': 0.009966616004581317, 'gamma': 4.7270894989784225, 'alpha': 9.07205338938419, 'lambda': 13.601245990911261, 'min_child_weight': 3.8672400726038605, 'max_delta_step': 27, 'subsample': 0.1609003124233085, 'sampling_method': 'uniform', 'tree_method': 'approx', 'grow_policy': 'depthwise', 'max_bin': 342}. Best is trial 22 with value: 0.7515021348996133.\n"
     ]
    },
    {
     "name": "stdout",
     "output_type": "stream",
     "text": [
      "Std: 0.023740\n"
     ]
    },
    {
     "name": "stderr",
     "output_type": "stream",
     "text": [
      "[I 2025-05-15 16:38:38,408] Trial 36 finished with value: 0.5850577535509804 and parameters: {'n_estimators': 35, 'max_depth': 13, 'learning_rate': 0.009972037086423293, 'gamma': 5.89222909811312, 'alpha': 9.348321622279572, 'lambda': 14.46577882903095, 'min_child_weight': 3.82599601075442, 'max_delta_step': 25, 'subsample': 0.1150660557943078, 'sampling_method': 'uniform', 'tree_method': 'hist', 'grow_policy': 'depthwise', 'max_bin': 301}. Best is trial 22 with value: 0.7515021348996133.\n"
     ]
    },
    {
     "name": "stdout",
     "output_type": "stream",
     "text": [
      "Std: 0.234517\n"
     ]
    },
    {
     "name": "stderr",
     "output_type": "stream",
     "text": [
      "[I 2025-05-15 16:38:42,196] Trial 37 finished with value: 0.7427642106114635 and parameters: {'n_estimators': 44, 'max_depth': 12, 'learning_rate': 0.00913655569097543, 'gamma': 4.965958547478097, 'alpha': 9.978703702946468, 'lambda': 13.44586222080473, 'min_child_weight': 5.819701485220291, 'max_delta_step': 31, 'subsample': 0.1615851108915811, 'sampling_method': 'uniform', 'tree_method': 'approx', 'grow_policy': 'depthwise', 'max_bin': 340}. Best is trial 22 with value: 0.7515021348996133.\n"
     ]
    },
    {
     "name": "stdout",
     "output_type": "stream",
     "text": [
      "Std: 0.064657\n"
     ]
    },
    {
     "name": "stderr",
     "output_type": "stream",
     "text": [
      "[I 2025-05-15 16:38:44,274] Trial 38 finished with value: 0.3186319238243857 and parameters: {'n_estimators': 85, 'max_depth': 12, 'learning_rate': 0.009391100706971632, 'gamma': 10.351745031628248, 'alpha': 9.963171302862982, 'lambda': 13.037161494114514, 'min_child_weight': 5.40775654923987, 'max_delta_step': 32, 'subsample': 0.10186376721455666, 'sampling_method': 'uniform', 'tree_method': 'hist', 'grow_policy': 'depthwise', 'max_bin': 341}. Best is trial 22 with value: 0.7515021348996133.\n"
     ]
    },
    {
     "name": "stdout",
     "output_type": "stream",
     "text": [
      "Std: 0.255826\n"
     ]
    },
    {
     "name": "stderr",
     "output_type": "stream",
     "text": [
      "[I 2025-05-15 16:38:52,278] Trial 39 finished with value: 0.7130152011617529 and parameters: {'n_estimators': 125, 'max_depth': 13, 'learning_rate': 0.009135529384590925, 'gamma': 7.459166657503383, 'alpha': 8.372513007319997, 'lambda': 19.938776546672116, 'min_child_weight': 5.608795382766137, 'max_delta_step': 31, 'subsample': 0.16084417875881854, 'sampling_method': 'uniform', 'tree_method': 'approx', 'grow_policy': 'lossguide', 'max_bin': 301}. Best is trial 22 with value: 0.7515021348996133.\n"
     ]
    },
    {
     "name": "stdout",
     "output_type": "stream",
     "text": [
      "Std: 0.049657\n"
     ]
    },
    {
     "name": "stderr",
     "output_type": "stream",
     "text": [
      "[I 2025-05-15 16:38:53,800] Trial 40 finished with value: 0.7152805314674134 and parameters: {'n_estimators': 45, 'max_depth': 13, 'learning_rate': 0.009620410179514987, 'gamma': 4.802229309444004, 'alpha': 9.116147122058326, 'lambda': 10.893321936071228, 'min_child_weight': 6.927943325631215, 'max_delta_step': 27, 'subsample': 0.44478993287409296, 'sampling_method': 'uniform', 'tree_method': 'hist', 'grow_policy': 'depthwise', 'max_bin': 257}. Best is trial 22 with value: 0.7515021348996133.\n"
     ]
    },
    {
     "name": "stdout",
     "output_type": "stream",
     "text": [
      "Std: 0.051988\n"
     ]
    },
    {
     "name": "stderr",
     "output_type": "stream",
     "text": [
      "[I 2025-05-15 16:38:57,779] Trial 41 finished with value: 0.7322171212041789 and parameters: {'n_estimators': 45, 'max_depth': 12, 'learning_rate': 0.009987319580136829, 'gamma': 1.2981452392061514, 'alpha': 9.421382522511719, 'lambda': 14.028696988998268, 'min_child_weight': 5.232392058413344, 'max_delta_step': 28, 'subsample': 0.1624823313280771, 'sampling_method': 'uniform', 'tree_method': 'approx', 'grow_policy': 'depthwise', 'max_bin': 320}. Best is trial 22 with value: 0.7515021348996133.\n"
     ]
    },
    {
     "name": "stdout",
     "output_type": "stream",
     "text": [
      "Std: 0.024823\n"
     ]
    },
    {
     "name": "stderr",
     "output_type": "stream",
     "text": [
      "[I 2025-05-15 16:39:03,634] Trial 42 finished with value: 0.7111475124610394 and parameters: {'n_estimators': 89, 'max_depth': 12, 'learning_rate': 0.00877756199820304, 'gamma': 6.278540543261599, 'alpha': 9.835911237659811, 'lambda': 12.450404727563201, 'min_child_weight': 6.701406751544913, 'max_delta_step': 29, 'subsample': 0.1510396862810122, 'sampling_method': 'uniform', 'tree_method': 'approx', 'grow_policy': 'depthwise', 'max_bin': 342}. Best is trial 22 with value: 0.7515021348996133.\n"
     ]
    },
    {
     "name": "stdout",
     "output_type": "stream",
     "text": [
      "Std: 0.058939\n"
     ]
    },
    {
     "name": "stderr",
     "output_type": "stream",
     "text": [
      "[I 2025-05-15 16:39:07,908] Trial 43 finished with value: 0.7161113757181046 and parameters: {'n_estimators': 49, 'max_depth': 12, 'learning_rate': 0.009532604539801948, 'gamma': 4.734511008460283, 'alpha': 9.530417993007159, 'lambda': 14.092294453148384, 'min_child_weight': 5.0847782842065286, 'max_delta_step': 37, 'subsample': 0.24054750833123872, 'sampling_method': 'uniform', 'tree_method': 'approx', 'grow_policy': 'depthwise', 'max_bin': 311}. Best is trial 22 with value: 0.7515021348996133.\n"
     ]
    },
    {
     "name": "stdout",
     "output_type": "stream",
     "text": [
      "Std: 0.051211\n"
     ]
    },
    {
     "name": "stderr",
     "output_type": "stream",
     "text": [
      "[I 2025-05-15 16:39:10,556] Trial 44 finished with value: 0.7122450344433103 and parameters: {'n_estimators': 24, 'max_depth': 11, 'learning_rate': 0.007702125712224322, 'gamma': 3.036318153129362, 'alpha': 8.31840270919806, 'lambda': 18.288500286738564, 'min_child_weight': 4.489822029893639, 'max_delta_step': 24, 'subsample': 0.35267050833790137, 'sampling_method': 'uniform', 'tree_method': 'approx', 'grow_policy': 'depthwise', 'max_bin': 288}. Best is trial 22 with value: 0.7515021348996133.\n"
     ]
    },
    {
     "name": "stdout",
     "output_type": "stream",
     "text": [
      "Std: 0.048934\n"
     ]
    },
    {
     "name": "stderr",
     "output_type": "stream",
     "text": [
      "[I 2025-05-15 16:39:16,111] Trial 45 finished with value: 0.7209601277833853 and parameters: {'n_estimators': 79, 'max_depth': 13, 'learning_rate': 0.008960687378311715, 'gamma': 1.1767945674547566, 'alpha': 8.946072054637753, 'lambda': 8.705678113877429, 'min_child_weight': 7.7421111927472435, 'max_delta_step': 27, 'subsample': 0.1512038283731793, 'sampling_method': 'uniform', 'tree_method': 'approx', 'grow_policy': 'depthwise', 'max_bin': 320}. Best is trial 22 with value: 0.7515021348996133.\n"
     ]
    },
    {
     "name": "stdout",
     "output_type": "stream",
     "text": [
      "Std: 0.048441\n"
     ]
    },
    {
     "name": "stderr",
     "output_type": "stream",
     "text": [
      "[I 2025-05-15 16:39:32,427] Trial 46 finished with value: 0.7217017168990854 and parameters: {'n_estimators': 221, 'max_depth': 11, 'learning_rate': 0.009700148615643391, 'gamma': 2.799660659557616, 'alpha': 9.998493341939632, 'lambda': 13.190198588115175, 'min_child_weight': 0.5408133783493696, 'max_delta_step': 23, 'subsample': 0.3024108043021867, 'sampling_method': 'uniform', 'tree_method': 'approx', 'grow_policy': 'lossguide', 'max_bin': 368}. Best is trial 22 with value: 0.7515021348996133.\n"
     ]
    },
    {
     "name": "stdout",
     "output_type": "stream",
     "text": [
      "Std: 0.057025\n"
     ]
    },
    {
     "name": "stderr",
     "output_type": "stream",
     "text": [
      "[I 2025-05-15 16:39:40,149] Trial 47 finished with value: 0.7161113757181046 and parameters: {'n_estimators': 100, 'max_depth': 13, 'learning_rate': 0.008576470627452306, 'gamma': 8.528637767671366, 'alpha': 7.9824539447193885, 'lambda': 12.071612108758348, 'min_child_weight': 6.478024279330221, 'max_delta_step': 29, 'subsample': 0.2515710572331604, 'sampling_method': 'uniform', 'tree_method': 'approx', 'grow_policy': 'depthwise', 'max_bin': 325}. Best is trial 22 with value: 0.7515021348996133.\n"
     ]
    },
    {
     "name": "stdout",
     "output_type": "stream",
     "text": [
      "Std: 0.051211\n"
     ]
    },
    {
     "name": "stderr",
     "output_type": "stream",
     "text": [
      "[I 2025-05-15 16:39:43,140] Trial 48 finished with value: 0.7248327879767507 and parameters: {'n_estimators': 36, 'max_depth': 12, 'learning_rate': 0.00919914220314599, 'gamma': 6.6457581050725345, 'alpha': 7.505263717608965, 'lambda': 15.950234252940586, 'min_child_weight': 3.24517835031622, 'max_delta_step': 35, 'subsample': 0.13924882361492505, 'sampling_method': 'uniform', 'tree_method': 'approx', 'grow_policy': 'lossguide', 'max_bin': 346}. Best is trial 22 with value: 0.7515021348996133.\n"
     ]
    },
    {
     "name": "stdout",
     "output_type": "stream",
     "text": [
      "Std: 0.063225\n"
     ]
    },
    {
     "name": "stderr",
     "output_type": "stream",
     "text": [
      "[I 2025-05-15 16:39:44,702] Trial 49 finished with value: 0.6259679642948655 and parameters: {'n_estimators': 50, 'max_depth': 15, 'learning_rate': 0.009952287630888283, 'gamma': 4.216143530697717, 'alpha': 9.580124943294047, 'lambda': 15.16440644436896, 'min_child_weight': 4.478460856021016, 'max_delta_step': 31, 'subsample': 0.10475901584320493, 'sampling_method': 'uniform', 'tree_method': 'hist', 'grow_policy': 'depthwise', 'max_bin': 367}. Best is trial 22 with value: 0.7515021348996133.\n"
     ]
    },
    {
     "name": "stdout",
     "output_type": "stream",
     "text": [
      "Std: 0.123520\n"
     ]
    },
    {
     "name": "stderr",
     "output_type": "stream",
     "text": [
      "[I 2025-05-15 16:39:57,047] Trial 50 finished with value: 0.7280515149730213 and parameters: {'n_estimators': 159, 'max_depth': 11, 'learning_rate': 0.0071250118715636464, 'gamma': 5.489222207685089, 'alpha': 8.73813713539602, 'lambda': 10.937695751507441, 'min_child_weight': 4.963393622261865, 'max_delta_step': 42, 'subsample': 0.19265399923126408, 'sampling_method': 'uniform', 'tree_method': 'approx', 'grow_policy': 'lossguide', 'max_bin': 332}. Best is trial 22 with value: 0.7515021348996133.\n"
     ]
    },
    {
     "name": "stdout",
     "output_type": "stream",
     "text": [
      "Std: 0.062390\n"
     ]
    },
    {
     "name": "stderr",
     "output_type": "stream",
     "text": [
      "[I 2025-05-15 16:40:00,826] Trial 51 finished with value: 0.7322171212041789 and parameters: {'n_estimators': 43, 'max_depth': 14, 'learning_rate': 0.0097741427471165, 'gamma': 1.0020908112331437, 'alpha': 9.200228144146994, 'lambda': 13.79555882901528, 'min_child_weight': 3.587623034641982, 'max_delta_step': 25, 'subsample': 0.16597202458467966, 'sampling_method': 'uniform', 'tree_method': 'approx', 'grow_policy': 'depthwise', 'max_bin': 288}. Best is trial 22 with value: 0.7515021348996133.\n"
     ]
    },
    {
     "name": "stdout",
     "output_type": "stream",
     "text": [
      "Std: 0.047965\n"
     ]
    },
    {
     "name": "stderr",
     "output_type": "stream",
     "text": [
      "[I 2025-05-15 16:40:03,999] Trial 52 finished with value: 0.7278739196591438 and parameters: {'n_estimators': 32, 'max_depth': 13, 'learning_rate': 0.009600231477944175, 'gamma': 1.1186127056828128, 'alpha': 0.19054242841256475, 'lambda': 13.578263259354, 'min_child_weight': 3.501639905489568, 'max_delta_step': 27, 'subsample': 0.23299478078750657, 'sampling_method': 'uniform', 'tree_method': 'approx', 'grow_policy': 'depthwise', 'max_bin': 285}. Best is trial 22 with value: 0.7515021348996133.\n"
     ]
    },
    {
     "name": "stdout",
     "output_type": "stream",
     "text": [
      "Std: 0.058724\n"
     ]
    },
    {
     "name": "stderr",
     "output_type": "stream",
     "text": [
      "[I 2025-05-15 16:40:08,777] Trial 53 finished with value: 0.7140442336385542 and parameters: {'n_estimators': 56, 'max_depth': 14, 'learning_rate': 0.009259494329759001, 'gamma': 1.554267839256299, 'alpha': 9.178688679714002, 'lambda': 4.587815613293458, 'min_child_weight': 5.4242579887119655, 'max_delta_step': 23, 'subsample': 0.17185744543043024, 'sampling_method': 'uniform', 'tree_method': 'approx', 'grow_policy': 'depthwise', 'max_bin': 274}. Best is trial 22 with value: 0.7515021348996133.\n"
     ]
    },
    {
     "name": "stdout",
     "output_type": "stream",
     "text": [
      "Std: 0.061927\n"
     ]
    },
    {
     "name": "stderr",
     "output_type": "stream",
     "text": [
      "[I 2025-05-15 16:40:15,014] Trial 54 finished with value: 0.7253206351582412 and parameters: {'n_estimators': 73, 'max_depth': 15, 'learning_rate': 0.007783909746323981, 'gamma': 2.966198271075746, 'alpha': 8.400441334178215, 'lambda': 1.8571698091082167, 'min_child_weight': 1.9456569890444988, 'max_delta_step': 29, 'subsample': 0.2717982889423012, 'sampling_method': 'uniform', 'tree_method': 'approx', 'grow_policy': 'depthwise', 'max_bin': 318}. Best is trial 22 with value: 0.7515021348996133.\n"
     ]
    },
    {
     "name": "stdout",
     "output_type": "stream",
     "text": [
      "Std: 0.056194\n"
     ]
    },
    {
     "name": "stderr",
     "output_type": "stream",
     "text": [
      "[I 2025-05-15 16:40:18,757] Trial 55 finished with value: 0.6965954405831137 and parameters: {'n_estimators': 41, 'max_depth': 12, 'learning_rate': 0.0085363822314711, 'gamma': 12.20206767013482, 'alpha': 9.63729778853628, 'lambda': 15.292822883241275, 'min_child_weight': 3.005369507388873, 'max_delta_step': 47, 'subsample': 0.8182824560943079, 'sampling_method': 'uniform', 'tree_method': 'approx', 'grow_policy': 'depthwise', 'max_bin': 289}. Best is trial 22 with value: 0.7515021348996133.\n"
     ]
    },
    {
     "name": "stdout",
     "output_type": "stream",
     "text": [
      "Std: 0.053377\n"
     ]
    },
    {
     "name": "stderr",
     "output_type": "stream",
     "text": [
      "[I 2025-05-15 16:40:21,733] Trial 56 finished with value: 0.7100473318145732 and parameters: {'n_estimators': 31, 'max_depth': 13, 'learning_rate': 0.008927869883756462, 'gamma': 10.177886643997022, 'alpha': 9.04819209054825, 'lambda': 12.565666809667032, 'min_child_weight': 4.362384013007074, 'max_delta_step': 25, 'subsample': 0.3048185419437173, 'sampling_method': 'uniform', 'tree_method': 'approx', 'grow_policy': 'depthwise', 'max_bin': 497}. Best is trial 22 with value: 0.7515021348996133.\n"
     ]
    },
    {
     "name": "stdout",
     "output_type": "stream",
     "text": [
      "Std: 0.048862\n"
     ]
    },
    {
     "name": "stderr",
     "output_type": "stream",
     "text": [
      "[I 2025-05-15 16:40:29,065] Trial 57 finished with value: 0.7374449456546487 and parameters: {'n_estimators': 105, 'max_depth': 14, 'learning_rate': 0.009697924368553804, 'gamma': 0.5408269064654632, 'alpha': 8.646094132993255, 'lambda': 13.660455455919594, 'min_child_weight': 5.788821588409002, 'max_delta_step': 19, 'subsample': 0.13164577898521174, 'sampling_method': 'uniform', 'tree_method': 'approx', 'grow_policy': 'lossguide', 'max_bin': 347}. Best is trial 22 with value: 0.7515021348996133.\n"
     ]
    },
    {
     "name": "stdout",
     "output_type": "stream",
     "text": [
      "Std: 0.072051\n"
     ]
    },
    {
     "name": "stderr",
     "output_type": "stream",
     "text": [
      "[I 2025-05-15 16:40:40,783] Trial 58 finished with value: 0.7385737543601338 and parameters: {'n_estimators': 191, 'max_depth': 5, 'learning_rate': 0.009172674344942428, 'gamma': 4.336303379454071, 'alpha': 7.882203968091054, 'lambda': 17.152711312546685, 'min_child_weight': 6.116825472649339, 'max_delta_step': 12, 'subsample': 0.13348876405795473, 'sampling_method': 'uniform', 'tree_method': 'approx', 'grow_policy': 'lossguide', 'max_bin': 350}. Best is trial 22 with value: 0.7515021348996133.\n"
     ]
    },
    {
     "name": "stdout",
     "output_type": "stream",
     "text": [
      "Std: 0.089709\n"
     ]
    },
    {
     "name": "stderr",
     "output_type": "stream",
     "text": [
      "[I 2025-05-15 16:40:50,219] Trial 59 finished with value: 0.7294291866751097 and parameters: {'n_estimators': 159, 'max_depth': 5, 'learning_rate': 0.008445363443537794, 'gamma': 6.9653230810677735, 'alpha': 7.182141003504425, 'lambda': 6.8126419428900515, 'min_child_weight': 5.965088929365495, 'max_delta_step': 11, 'subsample': 0.12581296118200108, 'sampling_method': 'uniform', 'tree_method': 'approx', 'grow_policy': 'lossguide', 'max_bin': 376}. Best is trial 22 with value: 0.7515021348996133.\n"
     ]
    },
    {
     "name": "stdout",
     "output_type": "stream",
     "text": [
      "Std: 0.064097\n"
     ]
    },
    {
     "name": "stderr",
     "output_type": "stream",
     "text": [
      "[I 2025-05-15 16:41:05,040] Trial 60 finished with value: 0.7161113757181046 and parameters: {'n_estimators': 213, 'max_depth': 10, 'learning_rate': 0.005659624419628536, 'gamma': 8.06273960062381, 'alpha': 7.731514976067408, 'lambda': 17.584021508290512, 'min_child_weight': 7.174485847058548, 'max_delta_step': 13, 'subsample': 0.22866306641158196, 'sampling_method': 'uniform', 'tree_method': 'approx', 'grow_policy': 'lossguide', 'max_bin': 350}. Best is trial 22 with value: 0.7515021348996133.\n"
     ]
    },
    {
     "name": "stdout",
     "output_type": "stream",
     "text": [
      "Std: 0.051211\n"
     ]
    },
    {
     "name": "stderr",
     "output_type": "stream",
     "text": [
      "[I 2025-05-15 16:41:15,308] Trial 61 finished with value: 0.7340453697433473 and parameters: {'n_estimators': 170, 'max_depth': 5, 'learning_rate': 0.009090908201434747, 'gamma': 4.322682758773497, 'alpha': 8.685060821121475, 'lambda': 16.67946422134887, 'min_child_weight': 6.3473987325547165, 'max_delta_step': 19, 'subsample': 0.13504830609765778, 'sampling_method': 'uniform', 'tree_method': 'approx', 'grow_policy': 'lossguide', 'max_bin': 337}. Best is trial 22 with value: 0.7515021348996133.\n"
     ]
    },
    {
     "name": "stdout",
     "output_type": "stream",
     "text": [
      "Std: 0.077910\n"
     ]
    },
    {
     "name": "stderr",
     "output_type": "stream",
     "text": [
      "[I 2025-05-15 16:41:26,064] Trial 62 finished with value: 0.7408738778676217 and parameters: {'n_estimators': 185, 'max_depth': 5, 'learning_rate': 0.009077747311325487, 'gamma': 4.231075448744922, 'alpha': 8.668284182794146, 'lambda': 19.27113977225138, 'min_child_weight': 6.3634235003827415, 'max_delta_step': 19, 'subsample': 0.13527347926239464, 'sampling_method': 'uniform', 'tree_method': 'approx', 'grow_policy': 'lossguide', 'max_bin': 359}. Best is trial 22 with value: 0.7515021348996133.\n"
     ]
    },
    {
     "name": "stdout",
     "output_type": "stream",
     "text": [
      "Std: 0.083774\n"
     ]
    },
    {
     "name": "stderr",
     "output_type": "stream",
     "text": [
      "[I 2025-05-15 16:41:39,055] Trial 63 finished with value: 0.7247698634155076 and parameters: {'n_estimators': 188, 'max_depth': 6, 'learning_rate': 0.007411869454553643, 'gamma': 5.231306523108148, 'alpha': 7.940313883248741, 'lambda': 18.49924997496137, 'min_child_weight': 7.725561808204894, 'max_delta_step': 15, 'subsample': 0.19869758646184446, 'sampling_method': 'uniform', 'tree_method': 'approx', 'grow_policy': 'lossguide', 'max_bin': 363}. Best is trial 22 with value: 0.7515021348996133.\n"
     ]
    },
    {
     "name": "stdout",
     "output_type": "stream",
     "text": [
      "Std: 0.058611\n"
     ]
    },
    {
     "name": "stderr",
     "output_type": "stream",
     "text": [
      "[I 2025-05-15 16:41:48,848] Trial 64 finished with value: 0.7030060334265942 and parameters: {'n_estimators': 194, 'max_depth': 6, 'learning_rate': 0.007977174690228782, 'gamma': 3.1206381098230263, 'alpha': 8.1449708209413, 'lambda': 19.183177867749023, 'min_child_weight': 5.804310573571213, 'max_delta_step': 19, 'subsample': 0.10267028683885306, 'sampling_method': 'uniform', 'tree_method': 'approx', 'grow_policy': 'lossguide', 'max_bin': 378}. Best is trial 22 with value: 0.7515021348996133.\n"
     ]
    },
    {
     "name": "stdout",
     "output_type": "stream",
     "text": [
      "Std: 0.063273\n"
     ]
    },
    {
     "name": "stderr",
     "output_type": "stream",
     "text": [
      "[I 2025-05-15 16:42:03,620] Trial 65 finished with value: 0.7153412089996619 and parameters: {'n_estimators': 236, 'max_depth': 5, 'learning_rate': 0.009410515784476442, 'gamma': 9.343811297959117, 'alpha': 8.586577951886994, 'lambda': 17.26094458633009, 'min_child_weight': 6.667636499538806, 'max_delta_step': 10, 'subsample': 0.2193366433015515, 'sampling_method': 'uniform', 'tree_method': 'approx', 'grow_policy': 'lossguide', 'max_bin': 357}. Best is trial 22 with value: 0.7515021348996133.\n"
     ]
    },
    {
     "name": "stdout",
     "output_type": "stream",
     "text": [
      "Std: 0.050558\n"
     ]
    },
    {
     "name": "stderr",
     "output_type": "stream",
     "text": [
      "[I 2025-05-15 16:42:14,399] Trial 66 finished with value: 0.7032822819070945 and parameters: {'n_estimators': 149, 'max_depth': 8, 'learning_rate': 0.008718982721739795, 'gamma': 5.858247931739532, 'alpha': 8.882933302028603, 'lambda': 19.82198312290687, 'min_child_weight': 8.240560802529256, 'max_delta_step': 15, 'subsample': 0.3301025354562257, 'sampling_method': 'uniform', 'tree_method': 'approx', 'grow_policy': 'lossguide', 'max_bin': 413}. Best is trial 22 with value: 0.7515021348996133.\n"
     ]
    },
    {
     "name": "stdout",
     "output_type": "stream",
     "text": [
      "Std: 0.049723\n"
     ]
    },
    {
     "name": "stderr",
     "output_type": "stream",
     "text": [
      "[I 2025-05-15 16:42:18,467] Trial 67 finished with value: 0.7216312649916917 and parameters: {'n_estimators': 181, 'max_depth': 7, 'learning_rate': 0.009102193013596688, 'gamma': 2.2667410437956033, 'alpha': 2.1703392252990525, 'lambda': 15.896328660506171, 'min_child_weight': 6.219082518057006, 'max_delta_step': 22, 'subsample': 0.1817251134836581, 'sampling_method': 'uniform', 'tree_method': 'hist', 'grow_policy': 'lossguide', 'max_bin': 327}. Best is trial 22 with value: 0.7515021348996133.\n"
     ]
    },
    {
     "name": "stdout",
     "output_type": "stream",
     "text": [
      "Std: 0.060989\n"
     ]
    },
    {
     "name": "stderr",
     "output_type": "stream",
     "text": [
      "[I 2025-05-15 16:42:34,710] Trial 68 finished with value: 0.7054958703401464 and parameters: {'n_estimators': 199, 'max_depth': 4, 'learning_rate': 0.004130996684405202, 'gamma': 0.4360053291150301, 'alpha': 7.821538304539734, 'lambda': 8.816756597523518, 'min_child_weight': 0.022500092710067587, 'max_delta_step': 12, 'subsample': 0.6869106566872014, 'sampling_method': 'uniform', 'tree_method': 'approx', 'grow_policy': 'lossguide', 'max_bin': 348}. Best is trial 22 with value: 0.7515021348996133.\n"
     ]
    },
    {
     "name": "stdout",
     "output_type": "stream",
     "text": [
      "Std: 0.032695\n"
     ]
    },
    {
     "name": "stderr",
     "output_type": "stream",
     "text": [
      "[I 2025-05-15 16:42:44,489] Trial 69 finished with value: 0.6961154812343178 and parameters: {'n_estimators': 130, 'max_depth': 4, 'learning_rate': 0.006698826385303894, 'gamma': 4.49044081024115, 'alpha': 9.679764150884177, 'lambda': 18.841927289387122, 'min_child_weight': 5.748956462363216, 'max_delta_step': 17, 'subsample': 0.5260958413638752, 'sampling_method': 'uniform', 'tree_method': 'approx', 'grow_policy': 'lossguide', 'max_bin': 362}. Best is trial 22 with value: 0.7515021348996133.\n"
     ]
    },
    {
     "name": "stdout",
     "output_type": "stream",
     "text": [
      "Std: 0.048595\n"
     ]
    },
    {
     "name": "stderr",
     "output_type": "stream",
     "text": [
      "[I 2025-05-15 16:42:59,295] Trial 70 finished with value: 0.7124088480065532 and parameters: {'n_estimators': 211, 'max_depth': 9, 'learning_rate': 0.002400469851794998, 'gamma': 17.498684931581888, 'alpha': 7.222042213961605, 'lambda': 11.541996381488982, 'min_child_weight': 7.0549040266144365, 'max_delta_step': 20, 'subsample': 0.26113301400689265, 'sampling_method': 'uniform', 'tree_method': 'approx', 'grow_policy': 'lossguide', 'max_bin': 378}. Best is trial 22 with value: 0.7515021348996133.\n"
     ]
    },
    {
     "name": "stdout",
     "output_type": "stream",
     "text": [
      "Std: 0.048441\n"
     ]
    },
    {
     "name": "stderr",
     "output_type": "stream",
     "text": [
      "[I 2025-05-15 16:43:09,655] Trial 71 finished with value: 0.7340324912150215 and parameters: {'n_estimators': 169, 'max_depth': 6, 'learning_rate': 0.008993576159567116, 'gamma': 3.755658490186479, 'alpha': 8.58845244561558, 'lambda': 17.97357649225464, 'min_child_weight': 6.3238465548392195, 'max_delta_step': 18, 'subsample': 0.13238792316162973, 'sampling_method': 'uniform', 'tree_method': 'approx', 'grow_policy': 'lossguide', 'max_bin': 335}. Best is trial 22 with value: 0.7515021348996133.\n"
     ]
    },
    {
     "name": "stdout",
     "output_type": "stream",
     "text": [
      "Std: 0.076038\n"
     ]
    },
    {
     "name": "stderr",
     "output_type": "stream",
     "text": [
      "[I 2025-05-15 16:43:20,972] Trial 72 finished with value: 0.7126179799040182 and parameters: {'n_estimators': 176, 'max_depth': 5, 'learning_rate': 0.009460446614541115, 'gamma': 4.019425902197717, 'alpha': 8.760654704328898, 'lambda': 16.791314120852128, 'min_child_weight': 6.593997411185403, 'max_delta_step': 21, 'subsample': 0.14553828375030214, 'sampling_method': 'uniform', 'tree_method': 'approx', 'grow_policy': 'lossguide', 'max_bin': 341}. Best is trial 22 with value: 0.7515021348996133.\n"
     ]
    },
    {
     "name": "stdout",
     "output_type": "stream",
     "text": [
      "Std: 0.040489\n"
     ]
    },
    {
     "name": "stderr",
     "output_type": "stream",
     "text": [
      "[I 2025-05-15 16:43:31,329] Trial 73 finished with value: 0.7247702559389354 and parameters: {'n_estimators': 168, 'max_depth': 5, 'learning_rate': 0.008433031455269491, 'gamma': 5.376906947780274, 'alpha': 8.173365056659383, 'lambda': 16.479998144130676, 'min_child_weight': 4.770096265299909, 'max_delta_step': 14, 'subsample': 0.1365938790924643, 'sampling_method': 'uniform', 'tree_method': 'approx', 'grow_policy': 'lossguide', 'max_bin': 351}. Best is trial 22 with value: 0.7515021348996133.\n"
     ]
    },
    {
     "name": "stdout",
     "output_type": "stream",
     "text": [
      "Std: 0.047238\n"
     ]
    },
    {
     "name": "stderr",
     "output_type": "stream",
     "text": [
      "[I 2025-05-15 16:43:44,896] Trial 74 finished with value: 0.7305012065932737 and parameters: {'n_estimators': 190, 'max_depth': 5, 'learning_rate': 0.009765340073231338, 'gamma': 1.82604067807094, 'alpha': 3.4717205550021397, 'lambda': 14.660391820844518, 'min_child_weight': 6.084585852659101, 'max_delta_step': 19, 'subsample': 0.19568810988854965, 'sampling_method': 'uniform', 'tree_method': 'approx', 'grow_policy': 'lossguide', 'max_bin': 313}. Best is trial 22 with value: 0.7515021348996133.\n"
     ]
    },
    {
     "name": "stdout",
     "output_type": "stream",
     "text": [
      "Std: 0.058167\n"
     ]
    },
    {
     "name": "stderr",
     "output_type": "stream",
     "text": [
      "[I 2025-05-15 16:43:55,508] Trial 75 finished with value: 0.7399139282048093 and parameters: {'n_estimators': 152, 'max_depth': 4, 'learning_rate': 0.005154547923546071, 'gamma': 2.603459821830443, 'alpha': 8.539279022295188, 'lambda': 2.6699712882151823, 'min_child_weight': 5.410254082196631, 'max_delta_step': 21, 'subsample': 0.1294815473211553, 'sampling_method': 'uniform', 'tree_method': 'approx', 'grow_policy': 'lossguide', 'max_bin': 335}. Best is trial 22 with value: 0.7515021348996133.\n"
     ]
    },
    {
     "name": "stdout",
     "output_type": "stream",
     "text": [
      "Std: 0.071714\n"
     ]
    },
    {
     "name": "stderr",
     "output_type": "stream",
     "text": [
      "[I 2025-05-15 16:44:04,500] Trial 76 finished with value: 0.719590411943555 and parameters: {'n_estimators': 121, 'max_depth': 4, 'learning_rate': 0.004690954795214689, 'gamma': 10.863839305082088, 'alpha': 9.308491984500138, 'lambda': 2.2108796187792015, 'min_child_weight': 1.2642913164746319, 'max_delta_step': 49, 'subsample': 0.18210179903510162, 'sampling_method': 'uniform', 'tree_method': 'approx', 'grow_policy': 'lossguide', 'max_bin': 360}. Best is trial 22 with value: 0.7515021348996133.\n"
     ]
    },
    {
     "name": "stdout",
     "output_type": "stream",
     "text": [
      "Std: 0.060848\n"
     ]
    },
    {
     "name": "stderr",
     "output_type": "stream",
     "text": [
      "[I 2025-05-15 16:44:12,548] Trial 77 finished with value: 0.7112448798390367 and parameters: {'n_estimators': 104, 'max_depth': 4, 'learning_rate': 0.005117860797671172, 'gamma': 3.3860007430805465, 'alpha': 8.321158868340275, 'lambda': 1.6470847428778161, 'min_child_weight': 5.610095685151813, 'max_delta_step': 21, 'subsample': 0.2215708789984047, 'sampling_method': 'uniform', 'tree_method': 'approx', 'grow_policy': 'lossguide', 'max_bin': 371}. Best is trial 22 with value: 0.7515021348996133.\n"
     ]
    },
    {
     "name": "stdout",
     "output_type": "stream",
     "text": [
      "Std: 0.053407\n"
     ]
    },
    {
     "name": "stderr",
     "output_type": "stream",
     "text": [
      "[I 2025-05-15 16:44:17,042] Trial 78 finished with value: 0.7148614561766736 and parameters: {'n_estimators': 231, 'max_depth': 13, 'learning_rate': 0.005914536879941425, 'gamma': 2.605406572290222, 'alpha': 7.708480633541905, 'lambda': 3.0060051946945188, 'min_child_weight': 7.489710628325684, 'max_delta_step': 33, 'subsample': 0.11633316589494598, 'sampling_method': 'uniform', 'tree_method': 'hist', 'grow_policy': 'lossguide', 'max_bin': 387}. Best is trial 22 with value: 0.7515021348996133.\n"
     ]
    },
    {
     "name": "stdout",
     "output_type": "stream",
     "text": [
      "Std: 0.059441\n"
     ]
    },
    {
     "name": "stderr",
     "output_type": "stream",
     "text": [
      "[I 2025-05-15 16:44:28,883] Trial 79 finished with value: 0.6919558452969669 and parameters: {'n_estimators': 150, 'max_depth': 6, 'learning_rate': 0.0052358716702916525, 'gamma': 5.983526573992584, 'alpha': 8.888911454323793, 'lambda': 5.771804148240498, 'min_child_weight': 2.2097903815265343, 'max_delta_step': 23, 'subsample': 0.9236561457982635, 'sampling_method': 'uniform', 'tree_method': 'approx', 'grow_policy': 'lossguide', 'max_bin': 354}. Best is trial 22 with value: 0.7515021348996133.\n"
     ]
    },
    {
     "name": "stdout",
     "output_type": "stream",
     "text": [
      "Std: 0.030462\n"
     ]
    },
    {
     "name": "stderr",
     "output_type": "stream",
     "text": [
      "[I 2025-05-15 16:44:47,446] Trial 80 finished with value: 0.7215280776865306 and parameters: {'n_estimators': 256, 'max_depth': 15, 'learning_rate': 0.004373055490506757, 'gamma': 0.6275212835937776, 'alpha': 9.739338797353644, 'lambda': 10.316065819420292, 'min_child_weight': 4.172656119196846, 'max_delta_step': 45, 'subsample': 0.2503788115866237, 'sampling_method': 'uniform', 'tree_method': 'approx', 'grow_policy': 'lossguide', 'max_bin': 330}. Best is trial 22 with value: 0.7515021348996133.\n"
     ]
    },
    {
     "name": "stdout",
     "output_type": "stream",
     "text": [
      "Std: 0.056780\n"
     ]
    },
    {
     "name": "stderr",
     "output_type": "stream",
     "text": [
      "[I 2025-05-15 16:44:57,136] Trial 81 finished with value: 0.7448748597853061 and parameters: {'n_estimators': 134, 'max_depth': 5, 'learning_rate': 0.009218996692344142, 'gamma': 4.385252940839961, 'alpha': 8.490957282828226, 'lambda': 2.507205901581675, 'min_child_weight': 5.438927093072682, 'max_delta_step': 18, 'subsample': 0.1432952427033378, 'sampling_method': 'uniform', 'tree_method': 'approx', 'grow_policy': 'lossguide', 'max_bin': 338}. Best is trial 22 with value: 0.7515021348996133.\n"
     ]
    },
    {
     "name": "stdout",
     "output_type": "stream",
     "text": [
      "Std: 0.068306\n"
     ]
    },
    {
     "name": "stderr",
     "output_type": "stream",
     "text": [
      "[I 2025-05-15 16:45:05,746] Trial 82 finished with value: 0.7319575113888968 and parameters: {'n_estimators': 147, 'max_depth': 4, 'learning_rate': 0.009319777177387923, 'gamma': 4.9450814189207115, 'alpha': 8.482009871491295, 'lambda': 2.5359814858428122, 'min_child_weight': 5.3151691620465895, 'max_delta_step': 16, 'subsample': 0.1007825061823577, 'sampling_method': 'uniform', 'tree_method': 'approx', 'grow_policy': 'lossguide', 'max_bin': 343}. Best is trial 22 with value: 0.7515021348996133.\n"
     ]
    },
    {
     "name": "stdout",
     "output_type": "stream",
     "text": [
      "Std: 0.079494\n"
     ]
    },
    {
     "name": "stderr",
     "output_type": "stream",
     "text": [
      "[I 2025-05-15 16:45:14,402] Trial 83 finished with value: 0.7482617767894538 and parameters: {'n_estimators': 115, 'max_depth': 14, 'learning_rate': 0.008670596759115605, 'gamma': 2.254429847305018, 'alpha': 9.02360816083342, 'lambda': 3.520428656854253, 'min_child_weight': 4.950342636298586, 'max_delta_step': 18, 'subsample': 0.1592391182571641, 'sampling_method': 'uniform', 'tree_method': 'approx', 'grow_policy': 'lossguide', 'max_bin': 336}. Best is trial 22 with value: 0.7515021348996133.\n"
     ]
    },
    {
     "name": "stdout",
     "output_type": "stream",
     "text": [
      "Std: 0.062833\n"
     ]
    },
    {
     "name": "stderr",
     "output_type": "stream",
     "text": [
      "[I 2025-05-15 16:45:24,188] Trial 84 finished with value: 0.745787876448738 and parameters: {'n_estimators': 132, 'max_depth': 5, 'learning_rate': 0.008807077198391513, 'gamma': 3.2818183399565424, 'alpha': 9.350243313834355, 'lambda': 3.864129321486372, 'min_child_weight': 5.102193110604624, 'max_delta_step': 38, 'subsample': 0.16078201288683625, 'sampling_method': 'uniform', 'tree_method': 'approx', 'grow_policy': 'lossguide', 'max_bin': 338}. Best is trial 22 with value: 0.7515021348996133.\n"
     ]
    },
    {
     "name": "stdout",
     "output_type": "stream",
     "text": [
      "Std: 0.063193\n"
     ]
    },
    {
     "name": "stderr",
     "output_type": "stream",
     "text": [
      "[I 2025-05-15 16:45:33,990] Trial 85 finished with value: 0.7263525635830733 and parameters: {'n_estimators': 131, 'max_depth': 5, 'learning_rate': 0.0081727397260397, 'gamma': 3.361992219171677, 'alpha': 9.465509029541852, 'lambda': 3.6248642224870737, 'min_child_weight': 4.891513898288007, 'max_delta_step': 42, 'subsample': 0.18198672497303225, 'sampling_method': 'uniform', 'tree_method': 'approx', 'grow_policy': 'lossguide', 'max_bin': 324}. Best is trial 22 with value: 0.7515021348996133.\n"
     ]
    },
    {
     "name": "stdout",
     "output_type": "stream",
     "text": [
      "Std: 0.060267\n"
     ]
    },
    {
     "name": "stderr",
     "output_type": "stream",
     "text": [
      "[I 2025-05-15 16:45:42,803] Trial 86 finished with value: 0.7221284120671598 and parameters: {'n_estimators': 115, 'max_depth': 6, 'learning_rate': 0.008798455031435292, 'gamma': 2.4494358350790795, 'alpha': 9.77500067522307, 'lambda': 4.161680739074008, 'min_child_weight': 5.1197556575036485, 'max_delta_step': 37, 'subsample': 0.21229432062393833, 'sampling_method': 'uniform', 'tree_method': 'approx', 'grow_policy': 'lossguide', 'max_bin': 336}. Best is trial 22 with value: 0.7515021348996133.\n"
     ]
    },
    {
     "name": "stdout",
     "output_type": "stream",
     "text": [
      "Std: 0.056701\n"
     ]
    },
    {
     "name": "stderr",
     "output_type": "stream",
     "text": [
      "[I 2025-05-15 16:45:53,125] Trial 87 finished with value: 0.7397306296609522 and parameters: {'n_estimators': 139, 'max_depth': 4, 'learning_rate': 0.004987460552070002, 'gamma': 1.849220887332148, 'alpha': 8.056644766769935, 'lambda': 5.335501537277531, 'min_child_weight': 5.533280388773725, 'max_delta_step': 39, 'subsample': 0.1655643975940809, 'sampling_method': 'uniform', 'tree_method': 'approx', 'grow_policy': 'lossguide', 'max_bin': 310}. Best is trial 22 with value: 0.7515021348996133.\n"
     ]
    },
    {
     "name": "stdout",
     "output_type": "stream",
     "text": [
      "Std: 0.076201\n"
     ]
    },
    {
     "name": "stderr",
     "output_type": "stream",
     "text": [
      "[I 2025-05-15 16:46:03,904] Trial 88 finished with value: 0.7229619745080764 and parameters: {'n_estimators': 137, 'max_depth': 4, 'learning_rate': 0.005760041829100198, 'gamma': 2.213962577653764, 'alpha': 9.1101195731485, 'lambda': 4.96858361086182, 'min_child_weight': 5.489694597178888, 'max_delta_step': 38, 'subsample': 0.2805354915532008, 'sampling_method': 'uniform', 'tree_method': 'approx', 'grow_policy': 'lossguide', 'max_bin': 301}. Best is trial 22 with value: 0.7515021348996133.\n"
     ]
    },
    {
     "name": "stdout",
     "output_type": "stream",
     "text": [
      "Std: 0.056652\n"
     ]
    },
    {
     "name": "stderr",
     "output_type": "stream",
     "text": [
      "[I 2025-05-15 16:46:15,495] Trial 89 finished with value: 0.7338415348528565 and parameters: {'n_estimators': 154, 'max_depth': 4, 'learning_rate': 0.004992865680447591, 'gamma': 1.8017175715178855, 'alpha': 8.159491702644571, 'lambda': 2.8027771283967704, 'min_child_weight': 4.5694032130042626, 'max_delta_step': 40, 'subsample': 0.16833513146474288, 'sampling_method': 'uniform', 'tree_method': 'approx', 'grow_policy': 'lossguide', 'max_bin': 315}. Best is trial 22 with value: 0.7515021348996133.\n"
     ]
    },
    {
     "name": "stdout",
     "output_type": "stream",
     "text": [
      "Std: 0.067586\n"
     ]
    },
    {
     "name": "stderr",
     "output_type": "stream",
     "text": [
      "[I 2025-05-15 16:46:19,128] Trial 90 finished with value: 0.7255257121885978 and parameters: {'n_estimators': 133, 'max_depth': 4, 'learning_rate': 0.0037222664446648615, 'gamma': 2.7320868739803466, 'alpha': 9.387614133805815, 'lambda': 4.229708906061049, 'min_child_weight': 0.8104232870640704, 'max_delta_step': 45, 'subsample': 0.2381523123660498, 'sampling_method': 'uniform', 'tree_method': 'hist', 'grow_policy': 'lossguide', 'max_bin': 309}. Best is trial 22 with value: 0.7515021348996133.\n"
     ]
    },
    {
     "name": "stdout",
     "output_type": "stream",
     "text": [
      "Std: 0.051481\n"
     ]
    },
    {
     "name": "stderr",
     "output_type": "stream",
     "text": [
      "[I 2025-05-15 16:46:28,746] Trial 91 finished with value: 0.725535793396738 and parameters: {'n_estimators': 141, 'max_depth': 5, 'learning_rate': 0.005398526333701693, 'gamma': 3.8080410122917563, 'alpha': 7.958004518258909, 'lambda': 1.515204399771204, 'min_child_weight': 6.8246830467914625, 'max_delta_step': 36, 'subsample': 0.15146449512463, 'sampling_method': 'uniform', 'tree_method': 'approx', 'grow_policy': 'lossguide', 'max_bin': 466}. Best is trial 22 with value: 0.7515021348996133.\n"
     ]
    },
    {
     "name": "stdout",
     "output_type": "stream",
     "text": [
      "Std: 0.059546\n"
     ]
    },
    {
     "name": "stderr",
     "output_type": "stream",
     "text": [
      "[I 2025-05-15 16:46:37,473] Trial 92 finished with value: 0.7256828336980433 and parameters: {'n_estimators': 117, 'max_depth': 5, 'learning_rate': 0.008683587817517503, 'gamma': 3.2809947276624865, 'alpha': 7.560594023149507, 'lambda': 5.498996780032147, 'min_child_weight': 6.053038947918222, 'max_delta_step': 34, 'subsample': 0.1914704309795124, 'sampling_method': 'uniform', 'tree_method': 'approx', 'grow_policy': 'lossguide', 'max_bin': 325}. Best is trial 22 with value: 0.7515021348996133.\n"
     ]
    },
    {
     "name": "stdout",
     "output_type": "stream",
     "text": [
      "Std: 0.055389\n"
     ]
    },
    {
     "name": "stderr",
     "output_type": "stream",
     "text": [
      "[I 2025-05-15 16:46:48,133] Trial 93 finished with value: 0.7293805498191285 and parameters: {'n_estimators': 181, 'max_depth': 4, 'learning_rate': 0.0048729540248895545, 'gamma': 4.259337181085881, 'alpha': 9.99421607532042, 'lambda': 3.6441888933974704, 'min_child_weight': 5.168080079594929, 'max_delta_step': 41, 'subsample': 0.1248954168094189, 'sampling_method': 'uniform', 'tree_method': 'approx', 'grow_policy': 'lossguide', 'max_bin': 356}. Best is trial 22 with value: 0.7515021348996133.\n"
     ]
    },
    {
     "name": "stdout",
     "output_type": "stream",
     "text": [
      "Std: 0.076154\n"
     ]
    },
    {
     "name": "stderr",
     "output_type": "stream",
     "text": [
      "[I 2025-05-15 16:47:00,206] Trial 94 finished with value: 0.7480110068011163 and parameters: {'n_estimators': 165, 'max_depth': 5, 'learning_rate': 0.004520644812031613, 'gamma': 1.5409270948509368, 'alpha': 4.99471770752936, 'lambda': 2.426043090252263, 'min_child_weight': 1.5894777868283683, 'max_delta_step': 39, 'subsample': 0.15364221202550005, 'sampling_method': 'uniform', 'tree_method': 'approx', 'grow_policy': 'lossguide', 'max_bin': 338}. Best is trial 22 with value: 0.7515021348996133.\n"
     ]
    },
    {
     "name": "stdout",
     "output_type": "stream",
     "text": [
      "Std: 0.090548\n"
     ]
    },
    {
     "name": "stderr",
     "output_type": "stream",
     "text": [
      "[I 2025-05-15 16:47:09,805] Trial 95 finished with value: 0.7620323607792676 and parameters: {'n_estimators': 124, 'max_depth': 7, 'learning_rate': 0.003339207651158001, 'gamma': 1.6458936755157638, 'alpha': 4.85704056557763, 'lambda': 2.5184353943919406, 'min_child_weight': 0.3826429176896404, 'max_delta_step': 38, 'subsample': 0.1563403720918737, 'sampling_method': 'uniform', 'tree_method': 'approx', 'grow_policy': 'lossguide', 'max_bin': 339}. Best is trial 95 with value: 0.7620323607792676.\n"
     ]
    },
    {
     "name": "stdout",
     "output_type": "stream",
     "text": [
      "Std: 0.056510\n"
     ]
    },
    {
     "name": "stderr",
     "output_type": "stream",
     "text": [
      "[I 2025-05-15 16:47:19,406] Trial 96 finished with value: 0.750924248168906 and parameters: {'n_estimators': 123, 'max_depth': 7, 'learning_rate': 0.002725869391202674, 'gamma': 1.4727303770512683, 'alpha': 4.83321123247883, 'lambda': 1.0217487561481235, 'min_child_weight': 0.4815989578678629, 'max_delta_step': 39, 'subsample': 0.15569863761801925, 'sampling_method': 'uniform', 'tree_method': 'approx', 'grow_policy': 'lossguide', 'max_bin': 337}. Best is trial 95 with value: 0.7620323607792676.\n"
     ]
    },
    {
     "name": "stdout",
     "output_type": "stream",
     "text": [
      "Std: 0.066921\n"
     ]
    },
    {
     "name": "stderr",
     "output_type": "stream",
     "text": [
      "[I 2025-05-15 16:47:27,816] Trial 97 finished with value: 0.7591442428098851 and parameters: {'n_estimators': 108, 'max_depth': 7, 'learning_rate': 0.003143081239515299, 'gamma': 1.540347950785188, 'alpha': 4.6738409204226885, 'lambda': 1.0328473388115142, 'min_child_weight': 1.6202833364102827, 'max_delta_step': 39, 'subsample': 0.1491562355620326, 'sampling_method': 'uniform', 'tree_method': 'approx', 'grow_policy': 'lossguide', 'max_bin': 331}. Best is trial 95 with value: 0.7620323607792676.\n"
     ]
    },
    {
     "name": "stdout",
     "output_type": "stream",
     "text": [
      "Std: 0.075680\n"
     ]
    },
    {
     "name": "stderr",
     "output_type": "stream",
     "text": [
      "[I 2025-05-15 16:47:35,551] Trial 98 finished with value: 0.7433470424570656 and parameters: {'n_estimators': 94, 'max_depth': 7, 'learning_rate': 0.0029165177822569116, 'gamma': 1.471610164827915, 'alpha': 5.011031474278048, 'lambda': 1.1492362843500534, 'min_child_weight': 0.6070297262137805, 'max_delta_step': 38, 'subsample': 0.21157667370975589, 'sampling_method': 'uniform', 'tree_method': 'approx', 'grow_policy': 'lossguide', 'max_bin': 329}. Best is trial 95 with value: 0.7620323607792676.\n"
     ]
    },
    {
     "name": "stdout",
     "output_type": "stream",
     "text": [
      "Std: 0.038584\n"
     ]
    },
    {
     "name": "stderr",
     "output_type": "stream",
     "text": [
      "[I 2025-05-15 16:47:43,404] Trial 99 finished with value: 0.7470264875513963 and parameters: {'n_estimators': 96, 'max_depth': 7, 'learning_rate': 0.002862836475239107, 'gamma': 1.4698713152522132, 'alpha': 4.47334300212835, 'lambda': 1.3472011137747677, 'min_child_weight': 0.27635222748542065, 'max_delta_step': 39, 'subsample': 0.21185741792555263, 'sampling_method': 'uniform', 'tree_method': 'approx', 'grow_policy': 'lossguide', 'max_bin': 328}. Best is trial 95 with value: 0.7620323607792676.\n"
     ]
    },
    {
     "name": "stdout",
     "output_type": "stream",
     "text": [
      "Std: 0.041337\n",
      "Best trial: FrozenTrial(number=95, state=1, values=[0.7620323607792676], datetime_start=datetime.datetime(2025, 5, 15, 16, 47, 0, 207857), datetime_complete=datetime.datetime(2025, 5, 15, 16, 47, 9, 805490), params={'n_estimators': 124, 'max_depth': 7, 'learning_rate': 0.003339207651158001, 'gamma': 1.6458936755157638, 'alpha': 4.85704056557763, 'lambda': 2.5184353943919406, 'min_child_weight': 0.3826429176896404, 'max_delta_step': 38, 'subsample': 0.1563403720918737, 'sampling_method': 'uniform', 'tree_method': 'approx', 'grow_policy': 'lossguide', 'max_bin': 339}, user_attrs={}, system_attrs={}, intermediate_values={}, distributions={'n_estimators': IntDistribution(high=300, log=False, low=20, step=1), 'max_depth': IntDistribution(high=15, log=False, low=4, step=1), 'learning_rate': FloatDistribution(high=0.01, log=False, low=0.001, step=None), 'gamma': FloatDistribution(high=20.0, log=False, low=0.0, step=None), 'alpha': FloatDistribution(high=10.0, log=False, low=0.0, step=None), 'lambda': FloatDistribution(high=20.0, log=False, low=1.0, step=None), 'min_child_weight': FloatDistribution(high=10.0, log=False, low=0.0, step=None), 'max_delta_step': IntDistribution(high=50, log=False, low=10, step=1), 'subsample': FloatDistribution(high=1.0, log=False, low=0.1, step=None), 'sampling_method': CategoricalDistribution(choices=('uniform',)), 'tree_method': CategoricalDistribution(choices=('hist', 'approx')), 'grow_policy': CategoricalDistribution(choices=('depthwise', 'lossguide')), 'max_bin': IntDistribution(high=512, log=False, low=256, step=1)}, trial_id=95, value=None)\n",
      "Best value: 0.7620323607792676\n",
      "Best params: {'n_estimators': 124, 'max_depth': 7, 'learning_rate': 0.003339207651158001, 'gamma': 1.6458936755157638, 'alpha': 4.85704056557763, 'lambda': 2.5184353943919406, 'min_child_weight': 0.3826429176896404, 'max_delta_step': 38, 'subsample': 0.1563403720918737, 'sampling_method': 'uniform', 'tree_method': 'approx', 'grow_policy': 'lossguide', 'max_bin': 339}\n"
     ]
    }
   ],
   "source": [
    "study = optuna.create_study(direction='maximize')\n",
    "study.optimize(lambda trial:objective(trial, df), n_trials=100)\n",
    "print(f'Best trial: {study.best_trial}')\n",
    "print(f'Best value: {study.best_value}')\n",
    "print(f'Best params: {study.best_params}')"
   ]
  },
  {
   "cell_type": "code",
   "execution_count": null,
   "id": "4f35fe4b",
   "metadata": {},
   "outputs": [],
   "source": [
    "# [I 2025-05-15 16:47:09,805] Trial 95 finished with value: 0.7620323607792676 and parameters: {'n_estimators': 124, 'max_depth': 7, 'learning_rate': 0.003339207651158001, 'gamma': 1.6458936755157638, 'alpha': 4.85704056557763, 'lambda': 2.5184353943919406, 'min_child_weight': 0.3826429176896404, 'max_delta_step': 38, 'subsample': 0.1563403720918737, 'sampling_method': 'uniform', 'tree_method': 'approx', 'grow_policy': 'lossguide', 'max_bin': 339}. Best is trial 95 with value: 0.7620323607792676.\n",
    "# Std: 0.056510"
   ]
  }
 ],
 "metadata": {
  "kernelspec": {
   "display_name": "jhs_torch",
   "language": "python",
   "name": "python3"
  },
  "language_info": {
   "codemirror_mode": {
    "name": "ipython",
    "version": 3
   },
   "file_extension": ".py",
   "mimetype": "text/x-python",
   "name": "python",
   "nbconvert_exporter": "python",
   "pygments_lexer": "ipython3",
   "version": "3.11.9"
  }
 },
 "nbformat": 4,
 "nbformat_minor": 5
}
