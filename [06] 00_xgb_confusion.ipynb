{
 "cells": [
  {
   "cell_type": "code",
   "execution_count": 1,
   "id": "2c488620",
   "metadata": {},
   "outputs": [],
   "source": [
    "import warnings\n",
    "\n",
    "warnings.filterwarnings('ignore')\n",
    "\n",
    "import os\n",
    "import random\n",
    "import optuna\n",
    "import numpy as np\n",
    "import pandas as pd\n",
    "import scipy.stats as st\n",
    "from xgboost import XGBClassifier\n",
    "from sklearn.metrics import classification_report, f1_score\n",
    "from sklearn.model_selection import train_test_split, StratifiedKFold\n",
    "from sklearn.preprocessing import MinMaxScaler, OrdinalEncoder, StandardScaler, OneHotEncoder"
   ]
  },
  {
   "cell_type": "code",
   "execution_count": 2,
   "id": "1429dd70",
   "metadata": {},
   "outputs": [],
   "source": [
    "def seed_everything(seed: int = 42):\n",
    "    random.seed(seed)\n",
    "    np.random.seed(seed)\n",
    "    os.environ[\"PYTHONHASHSEED\"] = str(seed)\n",
    "\n",
    "seed_everything()"
   ]
  },
  {
   "cell_type": "code",
   "execution_count": 3,
   "id": "76d8d99d",
   "metadata": {},
   "outputs": [],
   "source": [
    "df = pd.read_csv('./impute_set/imp3.csv')\n",
    "\n",
    "\n",
    "def preprocessing(df, num, cat, numeric, category, train=True):\n",
    "    df_num, df_cat = df[num], df[cat]\n",
    "    if train:\n",
    "        df_num = pd.DataFrame(numeric.fit_transform(df_num), columns=df_num.columns)\n",
    "        df_cat = pd.DataFrame(category.fit_transform(df_cat), columns=df_cat.columns)\n",
    "    else:\n",
    "        df_num = pd.DataFrame(numeric.transform(df_num), columns=df_num.columns)\n",
    "        df_cat = pd.DataFrame(category.transform(df_cat), columns=df_cat.columns)\n",
    "    res = pd.concat([df_num, df_cat], axis=1)\n",
    "    return res\n",
    "\n",
    "\n",
    "def test_with_5fold(df, numeric='minmax', category='label', shuffle=True):\n",
    "    f1s = []\n",
    "    pppreds = []\n",
    "    tttrues = []\n",
    "\n",
    "    X = df.drop('BS3_1', axis=1)\n",
    "    y = df[['BS3_1']]\n",
    "    numeric_col = [\n",
    "        'FEV1', 'FEV1FVC', 'age', 'BS6_3', 'BS6_2_1', 'BD1',\n",
    "        '건강문해력', 'Total_slp_wk', 'EQ_5D', 'BE3_31', 'BE5_1', '질환유병기간'\n",
    "    ]\n",
    "    cat_col = []\n",
    "    for col in X.columns:\n",
    "        if col not in numeric_col:\n",
    "            cat_col.append(col)\n",
    "\n",
    "    df_num, df_cat = X[numeric_col], X[cat_col]\n",
    "    if numeric == 'minmax':\n",
    "        n_pre = MinMaxScaler()\n",
    "    else:\n",
    "        n_pre = StandardScaler()\n",
    "    df_num = pd.DataFrame(n_pre.fit_transform(df_num), columns=df_num.columns)\n",
    "\n",
    "    if category == 'label':\n",
    "        c_pre = OrdinalEncoder()\n",
    "        df_cat = pd.DataFrame(c_pre.fit_transform(df_cat), columns=df_cat.columns)\n",
    "    else:\n",
    "        c_pre = OneHotEncoder(sparse_output=False)\n",
    "        df_cat = pd.DataFrame(c_pre.fit_transform(df_cat))\n",
    "        # df_cat = df_cat.astype(float)\n",
    "\n",
    "    X = pd.concat([df_num, df_cat], axis=1)\n",
    "\n",
    "    if shuffle:\n",
    "        skf = StratifiedKFold(n_splits=5, shuffle=shuffle, random_state=42)\n",
    "    else:\n",
    "        skf = StratifiedKFold(n_splits=5, shuffle=shuffle)\n",
    "    # X.reset_index().drop('index', axis=1, inplace=True)\n",
    "    # y.reset_index().drop('index', axis=1, inplace=True)\n",
    "    for fold, (train_idx, test_idx) in enumerate(skf.split(X, y)):\n",
    "        # print(fold+1)\n",
    "        train_X, train_y = X.iloc[train_idx], y.iloc[train_idx]\n",
    "        test_X, test_y = X.iloc[test_idx], y.iloc[test_idx]\n",
    "        pos = train_y.value_counts()[0] / train_y.value_counts()[1]\n",
    "        print(pos)\n",
    "\n",
    "        # model = XGBClassifier(random_state=42, n_estimators=20, max_depth=4, scale_pos_weight=pos)\n",
    "        params = {'n_estimators': 124, 'max_depth': 7, 'learning_rate': 0.003339207651158001, 'gamma': 1.6458936755157638, 'alpha': 4.85704056557763, 'lambda': 2.5184353943919406, 'min_child_weight': 0.3826429176896404, 'max_delta_step': 38, 'subsample': 0.1563403720918737, 'sampling_method': 'uniform', 'tree_method': 'approx', 'grow_policy': 'lossguide', 'max_bin': 339}\n",
    "        model = XGBClassifier(objective='binary:logistic', device='cuda', random_state=42, scale_pos_weight=pos, **params)\n",
    "        model.fit(train_X, train_y, verbose=False, eval_set=[(train_X, train_y),(test_X, test_y)])\n",
    "        preds = model.predict(test_X)\n",
    "        f1_ = f1_score(test_y, preds, average='macro')\n",
    "        f1s.append(f1_)\n",
    "        pppreds += list(preds)\n",
    "        tttrues += list(test_y.values)\n",
    "    return f1s, pppreds ,tttrues\n",
    "\n",
    "\n",
    "def get_cv_results(f1s:list):\n",
    "    f1s = np.array(f1s)\n",
    "    mean_f1 = np.mean(f1s)\n",
    "    std_f1 = np.std(f1s)\n",
    "    ci95 = st.t.interval(.95, df=len(f1s)-1, loc=mean_f1, scale=std_f1/np.sqrt(len(f1s)))\n",
    "    return mean_f1, std_f1, ci95"
   ]
  },
  {
   "cell_type": "code",
   "execution_count": 4,
   "id": "69712040",
   "metadata": {},
   "outputs": [
    {
     "name": "stdout",
     "output_type": "stream",
     "text": [
      "5.829268292682927\n",
      "5.829268292682927\n",
      "5.829268292682927\n",
      "5.829268292682927\n",
      "6.0\n",
      "CV Results: Mean 0.74 | Std 0.08 | CI95% 0.65~0.84\n"
     ]
    }
   ],
   "source": [
    "f1s, ppreds, ttrues = test_with_5fold(df, numeric='standard')\n",
    "mean_f1, std_f1, ci95 = get_cv_results(f1s)\n",
    "# print(f1s)\n",
    "print(f'CV Results: Mean {mean_f1:.2f} | Std {std_f1:.2f} | CI95% {ci95[0]:.2f}~{ci95[1]:.2f}')\n"
   ]
  },
  {
   "cell_type": "code",
   "execution_count": 5,
   "id": "41ba22de",
   "metadata": {},
   "outputs": [],
   "source": [
    "flattened = [x[0] for x in ttrues]"
   ]
  },
  {
   "cell_type": "code",
   "execution_count": 6,
   "id": "453059bd",
   "metadata": {},
   "outputs": [
    {
     "data": {
      "image/png": "[encoded data removed]",
      "text/plain": [
       "<Figure size 640x480 with 2 Axes>"
      ]
     },
     "metadata": {},
     "output_type": "display_data"
    }
   ],
   "source": [
    "from sklearn.metrics import confusion_matrix\n",
    "import seaborn as sns\n",
    "import matplotlib.pyplot as plt\n",
    "\n",
    "plt.title('XGBoost')\n",
    "sns.heatmap(\n",
    "    confusion_matrix(flattened, ppreds), annot=True, fmt='.0f', \n",
    "    # xticklabels=['Smokers', 'Non-smokers'],\n",
    "    # yticklabels=['Smokers', 'Non-smokers'],\n",
    "    xticklabels=['Non-smokers', 'Smokers'],\n",
    "    yticklabels=['Non-smokers', 'Smokers'],\n",
    "    cmap='Greens'\n",
    ")\n",
    "plt.xlabel('Predicted')\n",
    "plt.ylabel('True')\n",
    "plt.show()"
   ]
  }
 ],
 "metadata": {
  "kernelspec": {
   "display_name": "jhs_torch",
   "language": "python",
   "name": "python3"
  },
  "language_info": {
   "codemirror_mode": {
    "name": "ipython",
    "version": 3
   },
   "file_extension": ".py",
   "mimetype": "text/x-python",
   "name": "python",
   "nbconvert_exporter": "python",
   "pygments_lexer": "ipython3",
   "version": "3.11.9"
  }
 },
 "nbformat": 4,
 "nbformat_minor": 5
}
