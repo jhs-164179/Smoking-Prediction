{
 "cells": [
  {
   "cell_type": "code",
   "execution_count": 1,
   "id": "bbbb2cee",
   "metadata": {},
   "outputs": [
    {
     "name": "stdout",
     "output_type": "stream",
     "text": [
      "Couldn't import dot_parser, loading of dot files will not be possible.\n"
     ]
    }
   ],
   "source": [
    "import warnings\n",
    "\n",
    "warnings.filterwarnings('ignore')\n",
    "\n",
    "import os\n",
    "import random\n",
    "import numpy as np\n",
    "import pandas as pd\n",
    "from ResNN import ClassificationModel2 as ResNN, FocalLoss\n",
    "import scipy.stats as st\n",
    "from imblearn.over_sampling import SMOTE\n",
    "from sklearn.metrics import f1_score, classification_report\n",
    "from sklearn.model_selection import train_test_split, StratifiedKFold\n",
    "from sklearn.preprocessing import MinMaxScaler, OrdinalEncoder, StandardScaler, OneHotEncoder\n",
    "import torch\n",
    "from torch import nn\n",
    "from torch.optim import Adam\n",
    "from torch.utils.data import Dataset, DataLoader"
   ]
  },
  {
   "cell_type": "code",
   "execution_count": 2,
   "id": "90163f60",
   "metadata": {},
   "outputs": [],
   "source": [
    "def seed_everything(seed: int = 42):\n",
    "    random.seed(seed)\n",
    "    np.random.seed(seed)\n",
    "    os.environ[\"PYTHONHASHSEED\"] = str(seed)\n",
    "    torch.manual_seed(seed)\n",
    "    torch.cuda.manual_seed(seed)  # type: ignore\n",
    "    torch.backends.cudnn.deterministic = True  # type: ignore\n",
    "    torch.backends.cudnn.benchmark = False  # type: ignore\n",
    "\n",
    "seed_everything()   "
   ]
  },
  {
   "cell_type": "code",
   "execution_count": 3,
   "id": "58f93ba2",
   "metadata": {},
   "outputs": [],
   "source": [
    "df = pd.read_csv('./impute_set/imp3.csv')"
   ]
  },
  {
   "cell_type": "code",
   "execution_count": 4,
   "id": "6d98148f",
   "metadata": {},
   "outputs": [],
   "source": [
    "class CustomDataset(Dataset):\n",
    "    def __init__(self, X, y):\n",
    "        super().__init__()\n",
    "        self.X = torch.from_numpy(X.values).float()\n",
    "        self.y = torch.from_numpy(y.values)\n",
    "\n",
    "    def __len__(self):\n",
    "        return len(self.X)\n",
    "    \n",
    "    def __getitem__(self, idx):\n",
    "        return self.X[idx], self.y[idx]\n",
    "    \n",
    "\n",
    "def preprocessing(df, numeric='minmax', category='label'):\n",
    "    X = df.drop('BS3_1', axis=1)\n",
    "    y = df['BS3_1']\n",
    "    numeric_col = [\n",
    "        'FEV1', 'FEV1FVC', 'age', 'BS6_3', 'BS6_2_1', 'BD1',\n",
    "        '건강문해력', 'Total_slp_wk', 'EQ_5D', 'BE3_31', 'BE5_1', '질환유병기간'\n",
    "    ]\n",
    "    cat_col = []\n",
    "    for col in X.columns:\n",
    "        if col not in numeric_col:\n",
    "            cat_col.append(col)\n",
    "\n",
    "    df_num, df_cat = X[numeric_col], X[cat_col]\n",
    "    if numeric == 'minmax':\n",
    "        n_pre = MinMaxScaler()\n",
    "    else:\n",
    "        n_pre = StandardScaler()\n",
    "    df_num = pd.DataFrame(n_pre.fit_transform(df_num), columns=df_num.columns)\n",
    "\n",
    "    if category == 'label':\n",
    "        c_pre = OrdinalEncoder()\n",
    "        df_cat = pd.DataFrame(c_pre.fit_transform(df_cat), columns=df_cat.columns)\n",
    "    else:\n",
    "        c_pre = OneHotEncoder(sparse_output=False)\n",
    "        df_cat = pd.DataFrame(c_pre.fit_transform(df_cat))\n",
    "\n",
    "    X = pd.concat([df_num, df_cat], axis=1)\n",
    "    # uniques = []\n",
    "    # for col in cat_col:\n",
    "    #     uniques.append(len(X[col].unique()))\n",
    "    return X, y\n",
    "\n",
    "\n",
    "def test_with_imputations(train_loader, test_loader, test_y, input_dim):\n",
    "    class_counts = torch.tensor([test_y.value_counts()[0], test_y.value_counts()[1]])\n",
    "    class_weights = 1.0 / class_counts\n",
    "    class_weights /= class_weights.sum()\n",
    "    print(class_weights)\n",
    "\n",
    "    device = torch.device('cuda')\n",
    "    model = ResNN(input_dim=input_dim, hidden_dim=64, num_classes=2)\n",
    "    model = model.to(device)\n",
    "    optim = Adam(model.parameters(), lr=.0001)\n",
    "    \n",
    "    criterion = FocalLoss(weight=class_weights.to(device))\n",
    "    best_f1 = 0.0\n",
    "    best_epoch = 0\n",
    "    epochs=500\n",
    "    for epoch in range(epochs):\n",
    "        model.train()\n",
    "        running_loss = 0.0\n",
    "        for xx, yy in train_loader:\n",
    "            xx, yy = xx.to(device), yy.to(device)\n",
    "            optim.zero_grad()\n",
    "            preds = model(xx)\n",
    "            loss = criterion(preds, yy)\n",
    "            loss.backward()\n",
    "            optim.step()\n",
    "            running_loss += loss.item()\n",
    "        # print(f'{epoch+1} Epoch | Loss: {running_loss/len(train_loader):.4f}')\n",
    "\n",
    "        model.eval()\n",
    "        val_loss = 0\n",
    "        correct = 0\n",
    "        val_preds = []\n",
    "        val_targets = []\n",
    "        with torch.no_grad():\n",
    "            for xx, yy in test_loader:\n",
    "                xx, yy = xx.to(device), yy.to(device)\n",
    "                preds = model(xx)\n",
    "                val_loss = criterion(preds, yy).item()\n",
    "                yy = yy.detach().cpu().numpy().squeeze()\n",
    "                preds = preds.detach().cpu().numpy().squeeze()\n",
    "                preds_labels = preds.argmax(axis=1)\n",
    "                correct += (preds_labels == yy).sum().item()\n",
    "                val_preds.extend(preds_labels.tolist())\n",
    "                val_targets.extend(yy.tolist())\n",
    "\n",
    "        val_loss /= len(test_loader)\n",
    "        val_f1 = f1_score(val_targets, val_preds, average='macro')\n",
    "        # print(f'{epoch+1} Epoch | TestLoss: {val_loss:.4f} | TestF1: {val_f1:.4f}')\n",
    "        if val_f1 > best_f1:\n",
    "            best_f1 = val_f1\n",
    "            best_epoch = epoch+1\n",
    "            torch.save(model.state_dict(), 'bestResNN.pth')\n",
    "\n",
    "    print(f'Best Epoch: {best_epoch} | Best F1 : {best_f1:.4f}')\n",
    "    return best_f1\n",
    "\n",
    "\n",
    "def test_with_5fold(df, numeric, category, shuffle=True):\n",
    "    f1s = []\n",
    "    X, y = preprocessing(df, numeric, category)\n",
    "    if shuffle:\n",
    "        skf = StratifiedKFold(n_splits=5, shuffle=shuffle, random_state=42)\n",
    "    else:\n",
    "        skf = StratifiedKFold(n_splits=5, shuffle=shuffle)\n",
    "    \n",
    "    for fold, (train_idx, test_idx) in enumerate(skf.split(X, y)):\n",
    "        train_X, train_y = X.iloc[train_idx], y.iloc[train_idx]\n",
    "        test_X, test_y = X.iloc[test_idx], y.iloc[test_idx]\n",
    "\n",
    "        train_set = CustomDataset(train_X, train_y)\n",
    "        test_set = CustomDataset(test_X, test_y)\n",
    "        train_loader = DataLoader(train_set, batch_size=64, shuffle=True, pin_memory=True)\n",
    "        test_loader = DataLoader(test_set, batch_size=64, shuffle=True, pin_memory=True)\n",
    "\n",
    "        f1_value = test_with_imputations(\n",
    "            train_loader, test_loader, test_y, input_dim=train_X.shape[-1]\n",
    "        )\n",
    "        f1s.append(f1_value)\n",
    "\n",
    "    return f1s\n",
    "\n",
    "\n",
    "def get_cv_results(f1s:list):\n",
    "    f1s = np.array(f1s)\n",
    "    mean_f1 = np.mean(f1s)\n",
    "    std_f1 = np.std(f1s)\n",
    "    ci95 = st.t.interval(.95, df=len(f1s)-1, loc=mean_f1, scale=std_f1/np.sqrt(len(f1s)))\n",
    "    return mean_f1, std_f1, ci95    "
   ]
  },
  {
   "cell_type": "code",
   "execution_count": 5,
   "id": "54187a22",
   "metadata": {},
   "outputs": [
    {
     "name": "stdout",
     "output_type": "stream",
     "text": [
      "tensor([0.1429, 0.8571])\n",
      "Best Epoch: 264 | Best F1 : 0.8833\n",
      "tensor([0.1429, 0.8571])\n",
      "Best Epoch: 172 | Best F1 : 0.7479\n",
      "tensor([0.1429, 0.8571])\n",
      "Best Epoch: 243 | Best F1 : 0.6825\n",
      "tensor([0.1429, 0.8571])\n",
      "Best Epoch: 12 | Best F1 : 0.6618\n",
      "tensor([0.1571, 0.8429])\n",
      "Best Epoch: 156 | Best F1 : 0.7989\n",
      "[0.8833333333333334, 0.7478991596638654, 0.6825396825396824, 0.6618357487922706, 0.7988505747126436]\n",
      "CV Results: Mean 0.75 | Std 0.08 | CI95% 0.65~0.85\n"
     ]
    }
   ],
   "source": [
    "# minmax | label\n",
    "f1s = test_with_5fold(df, numeric='minmax', category='label')\n",
    "mean_f1, std_f1, ci95 = get_cv_results(f1s)\n",
    "print(f1s)\n",
    "print(f'CV Results: Mean {mean_f1:.2f} | Std {std_f1:.2f} | CI95% {ci95[0]:.2f}~{ci95[1]:.2f}')"
   ]
  },
  {
   "cell_type": "code",
   "execution_count": 6,
   "id": "24e0dcf8",
   "metadata": {},
   "outputs": [
    {
     "name": "stdout",
     "output_type": "stream",
     "text": [
      "tensor([0.1429, 0.8571])\n",
      "Best Epoch: 157 | Best F1 : 0.7843\n",
      "tensor([0.1429, 0.8571])\n",
      "Best Epoch: 68 | Best F1 : 0.8039\n",
      "tensor([0.1429, 0.8571])\n",
      "Best Epoch: 242 | Best F1 : 0.7450\n",
      "tensor([0.1429, 0.8571])\n",
      "Best Epoch: 73 | Best F1 : 0.6694\n",
      "tensor([0.1571, 0.8429])\n",
      "Best Epoch: 103 | Best F1 : 0.7486\n",
      "[0.7842835130970724, 0.803921568627451, 0.7449908925318762, 0.6693657219973009, 0.7485632183908046]\n",
      "CV Results: Mean 0.75 | Std 0.05 | CI95% 0.69~0.81\n"
     ]
    }
   ],
   "source": [
    "# minmax | one-hot\n",
    "f1s = test_with_5fold(df, numeric='minmax', category='onehot')\n",
    "mean_f1, std_f1, ci95 = get_cv_results(f1s)\n",
    "print(f1s)\n",
    "print(f'CV Results: Mean {mean_f1:.2f} | Std {std_f1:.2f} | CI95% {ci95[0]:.2f}~{ci95[1]:.2f}')"
   ]
  },
  {
   "cell_type": "code",
   "execution_count": 7,
   "id": "a83da322",
   "metadata": {},
   "outputs": [
    {
     "name": "stdout",
     "output_type": "stream",
     "text": [
      "tensor([0.1429, 0.8571])\n",
      "Best Epoch: 79 | Best F1 : 0.8699\n",
      "tensor([0.1429, 0.8571])\n",
      "Best Epoch: 78 | Best F1 : 0.8833\n",
      "tensor([0.1429, 0.8571])\n",
      "Best Epoch: 296 | Best F1 : 0.8478\n",
      "tensor([0.1429, 0.8571])\n",
      "Best Epoch: 411 | Best F1 : 0.6359\n",
      "tensor([0.1571, 0.8429])\n",
      "Best Epoch: 137 | Best F1 : 0.7479\n",
      "[0.8699368264585655, 0.8833333333333334, 0.8477598956067856, 0.6358543417366948, 0.7478991596638654]\n",
      "CV Results: Mean 0.80 | Std 0.09 | CI95% 0.68~0.91\n"
     ]
    }
   ],
   "source": [
    "# standard | label\n",
    "f1s = test_with_5fold(df, numeric='standard', category='label')\n",
    "mean_f1, std_f1, ci95 = get_cv_results(f1s)\n",
    "print(f1s)\n",
    "print(f'CV Results: Mean {mean_f1:.2f} | Std {std_f1:.2f} | CI95% {ci95[0]:.2f}~{ci95[1]:.2f}')"
   ]
  },
  {
   "cell_type": "code",
   "execution_count": 8,
   "id": "3123a7af",
   "metadata": {},
   "outputs": [
    {
     "name": "stdout",
     "output_type": "stream",
     "text": [
      "tensor([0.1429, 0.8571])\n",
      "Best Epoch: 117 | Best F1 : 0.8921\n",
      "tensor([0.1429, 0.8571])\n",
      "Best Epoch: 238 | Best F1 : 0.7450\n",
      "tensor([0.1429, 0.8571])\n",
      "Best Epoch: 66 | Best F1 : 0.7768\n",
      "tensor([0.1429, 0.8571])\n",
      "Best Epoch: 28 | Best F1 : 0.6835\n",
      "tensor([0.1571, 0.8429])\n",
      "Best Epoch: 122 | Best F1 : 0.8039\n",
      "[0.8921417565485362, 0.7449908925318762, 0.7767857142857143, 0.6834782608695651, 0.803921568627451]\n",
      "CV Results: Mean 0.78 | Std 0.07 | CI95% 0.69~0.87\n"
     ]
    }
   ],
   "source": [
    "# standard | one-hot\n",
    "f1s = test_with_5fold(df, numeric='standard', category='onehot')\n",
    "mean_f1, std_f1, ci95 = get_cv_results(f1s)\n",
    "print(f1s)\n",
    "print(f'CV Results: Mean {mean_f1:.2f} | Std {std_f1:.2f} | CI95% {ci95[0]:.2f}~{ci95[1]:.2f}')"
   ]
  }
 ],
 "metadata": {
  "kernelspec": {
   "display_name": "jhs_torch",
   "language": "python",
   "name": "python3"
  },
  "language_info": {
   "codemirror_mode": {
    "name": "ipython",
    "version": 3
   },
   "file_extension": ".py",
   "mimetype": "text/x-python",
   "name": "python",
   "nbconvert_exporter": "python",
   "pygments_lexer": "ipython3",
   "version": "3.11.9"
  }
 },
 "nbformat": 4,
 "nbformat_minor": 5
}
